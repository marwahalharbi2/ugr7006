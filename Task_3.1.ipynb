{
 "cells": [
  {
   "cell_type": "markdown",
   "id": "7ea7173a",
   "metadata": {
    "id": "6di26oxKPTEr"
   },
   "source": [
    "__[PyABSA - Open Framework for Aspect-based Sentiment Analysis](https://github.com/yangheng95/PyABSA)__\n",
    "\n",
    "\n",
    "1. Install all required libraries \n",
    "1. (For checkpoit data sets only )Init a sentiment classifier from online checkpoint or local checkpoint\n",
    "1. Annoate your datasets via PyABSA! Using **auto-annotate** OR **use the annotating tool**\n",
    "    1. __[Need to Annotate Your Own Dataset?](https://github.com/yangheng95/ABSADatasets#need-to-annotate-your-own-dataset)__\n",
    "1. __[Train a model (Fast-LCF) for Aspect-based sentiment classification](https://github.com/yangheng95/PyABSA/blob/release/demos/aspect_polarity_classification/APC-USAGES.ipynb)__\n",
    "1. 1. Train, test, and evaluate 1 more models (As I will use the differfent models from this framework, I assume it is going to be ML: superviced)\n",
    " 1. Aspect Sentiment Inference (Batch Sentiment Inference) : infer the results from the training\n"
   ]
  },
  {
   "cell_type": "code",
   "execution_count": 1,
   "id": "f61a8580",
   "metadata": {
    "id": "i1kLzNbgaOdQ",
    "scrolled": true
   },
   "outputs": [
    {
     "name": "stdout",
     "output_type": "stream",
     "text": [
      "Requirement already satisfied: gradio in c:\\users\\mosha\\anaconda3\\lib\\site-packages (3.4.1)\n",
      "Requirement already satisfied: fastapi in c:\\users\\mosha\\anaconda3\\lib\\site-packages (from gradio) (0.85.0)\n",
      "Requirement already satisfied: requests in c:\\users\\mosha\\anaconda3\\lib\\site-packages (from gradio) (2.27.1)\n",
      "Requirement already satisfied: pycryptodome in c:\\users\\mosha\\anaconda3\\lib\\site-packages (from gradio) (3.15.0)\n",
      "Requirement already satisfied: pydub in c:\\users\\mosha\\anaconda3\\lib\\site-packages (from gradio) (0.25.1)\n",
      "Requirement already satisfied: numpy in c:\\users\\mosha\\anaconda3\\lib\\site-packages (from gradio) (1.22.4)\n",
      "Requirement already satisfied: pyyaml in c:\\users\\mosha\\anaconda3\\lib\\site-packages (from gradio) (6.0)\n",
      "Requirement already satisfied: httpx in c:\\users\\mosha\\anaconda3\\lib\\site-packages (from gradio) (0.23.0)\n",
      "Requirement already satisfied: fsspec in c:\\users\\mosha\\anaconda3\\lib\\site-packages (from gradio) (2022.2.0)\n",
      "Requirement already satisfied: h11<0.13,>=0.11 in c:\\users\\mosha\\anaconda3\\lib\\site-packages (from gradio) (0.12.0)\n",
      "Requirement already satisfied: markdown-it-py[linkify,plugins] in c:\\users\\mosha\\anaconda3\\lib\\site-packages (from gradio) (2.1.0)\n",
      "Requirement already satisfied: jinja2 in c:\\users\\mosha\\anaconda3\\lib\\site-packages (from gradio) (2.11.3)\n",
      "Requirement already satisfied: uvicorn in c:\\users\\mosha\\anaconda3\\lib\\site-packages (from gradio) (0.18.3)\n",
      "Requirement already satisfied: pydantic in c:\\users\\mosha\\anaconda3\\lib\\site-packages (from gradio) (1.9.2)\n",
      "Requirement already satisfied: pandas in c:\\users\\mosha\\anaconda3\\lib\\site-packages (from gradio) (1.4.2)\n",
      "Requirement already satisfied: ffmpy in c:\\users\\mosha\\anaconda3\\lib\\site-packages (from gradio) (0.3.0)\n",
      "Requirement already satisfied: websockets in c:\\users\\mosha\\anaconda3\\lib\\site-packages (from gradio) (10.3)\n",
      "Requirement already satisfied: aiohttp in c:\\users\\mosha\\anaconda3\\lib\\site-packages (from gradio) (3.8.1)\n",
      "Requirement already satisfied: pillow in c:\\users\\mosha\\anaconda3\\lib\\site-packages (from gradio) (9.0.1)\n",
      "Requirement already satisfied: paramiko in c:\\users\\mosha\\anaconda3\\lib\\site-packages (from gradio) (2.8.1)\n",
      "Requirement already satisfied: orjson in c:\\users\\mosha\\anaconda3\\lib\\site-packages (from gradio) (3.8.0)\n",
      "Requirement already satisfied: python-multipart in c:\\users\\mosha\\anaconda3\\lib\\site-packages (from gradio) (0.0.5)\n",
      "Requirement already satisfied: matplotlib in c:\\users\\mosha\\anaconda3\\lib\\site-packages (from gradio) (3.5.1)\n",
      "Requirement already satisfied: async-timeout<5.0,>=4.0.0a3 in c:\\users\\mosha\\anaconda3\\lib\\site-packages (from aiohttp->gradio) (4.0.1)\n",
      "Requirement already satisfied: yarl<2.0,>=1.0 in c:\\users\\mosha\\anaconda3\\lib\\site-packages (from aiohttp->gradio) (1.6.3)\n",
      "Requirement already satisfied: charset-normalizer<3.0,>=2.0 in c:\\users\\mosha\\anaconda3\\lib\\site-packages (from aiohttp->gradio) (2.0.4)\n",
      "Requirement already satisfied: frozenlist>=1.1.1 in c:\\users\\mosha\\anaconda3\\lib\\site-packages (from aiohttp->gradio) (1.2.0)\n",
      "Requirement already satisfied: attrs>=17.3.0 in c:\\users\\mosha\\anaconda3\\lib\\site-packages (from aiohttp->gradio) (21.4.0)\n",
      "Requirement already satisfied: multidict<7.0,>=4.5 in c:\\users\\mosha\\anaconda3\\lib\\site-packages (from aiohttp->gradio) (5.1.0)\n",
      "Requirement already satisfied: aiosignal>=1.1.2 in c:\\users\\mosha\\anaconda3\\lib\\site-packages (from aiohttp->gradio) (1.2.0)\n",
      "Requirement already satisfied: typing-extensions>=3.6.5 in c:\\users\\mosha\\anaconda3\\lib\\site-packages (from async-timeout<5.0,>=4.0.0a3->aiohttp->gradio) (4.1.1)\n",
      "Requirement already satisfied: idna>=2.0 in c:\\users\\mosha\\anaconda3\\lib\\site-packages (from yarl<2.0,>=1.0->aiohttp->gradio) (3.3)\n",
      "Requirement already satisfied: starlette==0.20.4 in c:\\users\\mosha\\anaconda3\\lib\\site-packages (from fastapi->gradio) (0.20.4)\n",
      "Requirement already satisfied: anyio<5,>=3.4.0 in c:\\users\\mosha\\anaconda3\\lib\\site-packages (from starlette==0.20.4->fastapi->gradio) (3.5.0)\n",
      "Requirement already satisfied: sniffio>=1.1 in c:\\users\\mosha\\anaconda3\\lib\\site-packages (from anyio<5,>=3.4.0->starlette==0.20.4->fastapi->gradio) (1.2.0)\n",
      "Requirement already satisfied: rfc3986[idna2008]<2,>=1.3 in c:\\users\\mosha\\anaconda3\\lib\\site-packages (from httpx->gradio) (1.5.0)\n",
      "Requirement already satisfied: httpcore<0.16.0,>=0.15.0 in c:\\users\\mosha\\anaconda3\\lib\\site-packages (from httpx->gradio) (0.15.0)\n",
      "Requirement already satisfied: certifi in c:\\users\\mosha\\anaconda3\\lib\\site-packages (from httpx->gradio) (2021.10.8)\n",
      "Requirement already satisfied: MarkupSafe>=0.23 in c:\\users\\mosha\\anaconda3\\lib\\site-packages (from jinja2->gradio) (2.0.1)\n",
      "Requirement already satisfied: mdurl~=0.1 in c:\\users\\mosha\\anaconda3\\lib\\site-packages (from markdown-it-py[linkify,plugins]->gradio) (0.1.2)\n",
      "Requirement already satisfied: mdit-py-plugins in c:\\users\\mosha\\anaconda3\\lib\\site-packages (from markdown-it-py[linkify,plugins]->gradio) (0.3.1)\n",
      "Requirement already satisfied: linkify-it-py~=1.0 in c:\\users\\mosha\\anaconda3\\lib\\site-packages (from markdown-it-py[linkify,plugins]->gradio) (1.0.3)\n",
      "Requirement already satisfied: uc-micro-py in c:\\users\\mosha\\anaconda3\\lib\\site-packages (from linkify-it-py~=1.0->markdown-it-py[linkify,plugins]->gradio) (1.0.1)\n",
      "Requirement already satisfied: fonttools>=4.22.0 in c:\\users\\mosha\\anaconda3\\lib\\site-packages (from matplotlib->gradio) (4.25.0)\n",
      "Requirement already satisfied: kiwisolver>=1.0.1 in c:\\users\\mosha\\anaconda3\\lib\\site-packages (from matplotlib->gradio) (1.3.2)\n",
      "Requirement already satisfied: packaging>=20.0 in c:\\users\\mosha\\anaconda3\\lib\\site-packages (from matplotlib->gradio) (21.3)\n",
      "Requirement already satisfied: cycler>=0.10 in c:\\users\\mosha\\anaconda3\\lib\\site-packages (from matplotlib->gradio) (0.11.0)\n",
      "Requirement already satisfied: pyparsing>=2.2.1 in c:\\users\\mosha\\anaconda3\\lib\\site-packages (from matplotlib->gradio) (3.0.4)\n",
      "Requirement already satisfied: python-dateutil>=2.7 in c:\\users\\mosha\\anaconda3\\lib\\site-packages (from matplotlib->gradio) (2.8.2)\n",
      "Requirement already satisfied: six>=1.5 in c:\\users\\mosha\\anaconda3\\lib\\site-packages (from python-dateutil>=2.7->matplotlib->gradio) (1.16.0)\n",
      "Requirement already satisfied: pytz>=2020.1 in c:\\users\\mosha\\anaconda3\\lib\\site-packages (from pandas->gradio) (2021.3)\n",
      "Requirement already satisfied: cryptography>=2.5 in c:\\users\\mosha\\anaconda3\\lib\\site-packages (from paramiko->gradio) (3.4.8)\n",
      "Requirement already satisfied: pynacl>=1.0.1 in c:\\users\\mosha\\anaconda3\\lib\\site-packages (from paramiko->gradio) (1.4.0)\n",
      "Requirement already satisfied: bcrypt>=3.1.3 in c:\\users\\mosha\\anaconda3\\lib\\site-packages (from paramiko->gradio) (3.2.0)\n",
      "Requirement already satisfied: cffi>=1.1 in c:\\users\\mosha\\anaconda3\\lib\\site-packages (from bcrypt>=3.1.3->paramiko->gradio) (1.15.0)\n",
      "Requirement already satisfied: pycparser in c:\\users\\mosha\\anaconda3\\lib\\site-packages (from cffi>=1.1->bcrypt>=3.1.3->paramiko->gradio) (2.21)\n",
      "Requirement already satisfied: urllib3<1.27,>=1.21.1 in c:\\users\\mosha\\anaconda3\\lib\\site-packages (from requests->gradio) (1.26.9)\n",
      "Requirement already satisfied: click>=7.0 in c:\\users\\mosha\\anaconda3\\lib\\site-packages (from uvicorn->gradio) (8.0.4)\n",
      "Requirement already satisfied: colorama in c:\\users\\mosha\\anaconda3\\lib\\site-packages (from click>=7.0->uvicorn->gradio) (0.4.4)\n",
      "Note: you may need to restart the kernel to use updated packages.\n"
     ]
    }
   ],
   "source": [
    "pip install gradio"
   ]
  },
  {
   "cell_type": "code",
   "execution_count": 2,
   "id": "1791c570",
   "metadata": {
    "id": "Rv2ynkN5PhAG"
   },
   "outputs": [
    {
     "name": "stdout",
     "output_type": "stream",
     "text": [
      "Requirement already satisfied: pyabsa in c:\\users\\mosha\\anaconda3\\lib\\site-packages (1.16.18)\n",
      "Requirement already satisfied: pytorch-warmup in c:\\users\\mosha\\anaconda3\\lib\\site-packages (from pyabsa) (0.1.0)\n",
      "Requirement already satisfied: termcolor in c:\\users\\mosha\\anaconda3\\lib\\site-packages (from pyabsa) (1.1.0)\n",
      "Requirement already satisfied: torch>1.0.0 in c:\\users\\mosha\\anaconda3\\lib\\site-packages (from pyabsa) (1.12.1)\n",
      "Requirement already satisfied: update-checker in c:\\users\\mosha\\anaconda3\\lib\\site-packages (from pyabsa) (0.18.0)\n",
      "Requirement already satisfied: sentencepiece in c:\\users\\mosha\\anaconda3\\lib\\site-packages (from pyabsa) (0.1.97)\n",
      "Requirement already satisfied: gitpython in c:\\users\\mosha\\anaconda3\\lib\\site-packages (from pyabsa) (3.1.27)\n",
      "Requirement already satisfied: metric-visualizer>=0.5.10 in c:\\users\\mosha\\anaconda3\\lib\\site-packages (from pyabsa) (0.5.10)\n",
      "Requirement already satisfied: gdown>=4.4.0 in c:\\users\\mosha\\anaconda3\\lib\\site-packages (from pyabsa) (4.5.1)\n",
      "Requirement already satisfied: transformers>4.20.0 in c:\\users\\mosha\\anaconda3\\lib\\site-packages (from pyabsa) (4.20.1)\n",
      "Requirement already satisfied: seqeval in c:\\users\\mosha\\anaconda3\\lib\\site-packages (from pyabsa) (1.2.2)\n",
      "Requirement already satisfied: networkx in c:\\users\\mosha\\anaconda3\\lib\\site-packages (from pyabsa) (2.7.1)\n",
      "Requirement already satisfied: typing-extensions in c:\\users\\mosha\\anaconda3\\lib\\site-packages (from pyabsa) (4.1.1)\n",
      "Requirement already satisfied: findfile>=1.7.9.8 in c:\\users\\mosha\\anaconda3\\lib\\site-packages (from pyabsa) (1.7.9.8)\n",
      "Requirement already satisfied: spacy in c:\\users\\mosha\\anaconda3\\lib\\site-packages (from pyabsa) (3.4.1)\n",
      "Requirement already satisfied: tqdm in c:\\users\\mosha\\anaconda3\\lib\\site-packages (from pyabsa) (4.64.0)\n",
      "Requirement already satisfied: boostaug>=2.2.3 in c:\\users\\mosha\\anaconda3\\lib\\site-packages (from pyabsa) (2.2.4)\n",
      "Requirement already satisfied: autocuda>=0.11 in c:\\users\\mosha\\anaconda3\\lib\\site-packages (from pyabsa) (0.11)\n",
      "Requirement already satisfied: requests[socks] in c:\\users\\mosha\\anaconda3\\lib\\site-packages (from gdown>=4.4.0->pyabsa) (2.27.1)\n",
      "Requirement already satisfied: six in c:\\users\\mosha\\anaconda3\\lib\\site-packages (from gdown>=4.4.0->pyabsa) (1.16.0)\n",
      "Requirement already satisfied: beautifulsoup4 in c:\\users\\mosha\\anaconda3\\lib\\site-packages (from gdown>=4.4.0->pyabsa) (4.11.1)\n",
      "Requirement already satisfied: filelock in c:\\users\\mosha\\anaconda3\\lib\\site-packages (from gdown>=4.4.0->pyabsa) (3.6.0)\n",
      "Requirement already satisfied: matplotlib in c:\\users\\mosha\\anaconda3\\lib\\site-packages (from metric-visualizer>=0.5.10->pyabsa) (3.5.1)\n",
      "Requirement already satisfied: natsort in c:\\users\\mosha\\anaconda3\\lib\\site-packages (from metric-visualizer>=0.5.10->pyabsa) (8.2.0)\n",
      "Requirement already satisfied: tabulate in c:\\users\\mosha\\anaconda3\\lib\\site-packages (from metric-visualizer>=0.5.10->pyabsa) (0.8.9)\n",
      "Requirement already satisfied: tikzplotlib in c:\\users\\mosha\\anaconda3\\lib\\site-packages (from metric-visualizer>=0.5.10->pyabsa) (0.10.1)\n",
      "Requirement already satisfied: scipy in c:\\users\\mosha\\anaconda3\\lib\\site-packages (from metric-visualizer>=0.5.10->pyabsa) (1.7.3)\n",
      "Requirement already satisfied: numpy in c:\\users\\mosha\\anaconda3\\lib\\site-packages (from metric-visualizer>=0.5.10->pyabsa) (1.22.4)\n",
      "Requirement already satisfied: huggingface-hub<1.0,>=0.1.0 in c:\\users\\mosha\\anaconda3\\lib\\site-packages (from transformers>4.20.0->pyabsa) (0.8.1)\n",
      "Requirement already satisfied: pyyaml>=5.1 in c:\\users\\mosha\\anaconda3\\lib\\site-packages (from transformers>4.20.0->pyabsa) (6.0)\n",
      "Requirement already satisfied: packaging>=20.0 in c:\\users\\mosha\\anaconda3\\lib\\site-packages (from transformers>4.20.0->pyabsa) (21.3)\n",
      "Requirement already satisfied: tokenizers!=0.11.3,<0.13,>=0.11.1 in c:\\users\\mosha\\anaconda3\\lib\\site-packages (from transformers>4.20.0->pyabsa) (0.12.1)\n",
      "Requirement already satisfied: regex!=2019.12.17 in c:\\users\\mosha\\anaconda3\\lib\\site-packages (from transformers>4.20.0->pyabsa) (2022.3.15)\n",
      "Requirement already satisfied: pyparsing!=3.0.5,>=2.0.2 in c:\\users\\mosha\\anaconda3\\lib\\site-packages (from packaging>=20.0->transformers>4.20.0->pyabsa) (3.0.4)\n",
      "Requirement already satisfied: colorama in c:\\users\\mosha\\anaconda3\\lib\\site-packages (from tqdm->pyabsa) (0.4.4)\n",
      "Requirement already satisfied: soupsieve>1.2 in c:\\users\\mosha\\anaconda3\\lib\\site-packages (from beautifulsoup4->gdown>=4.4.0->pyabsa) (2.3.1)\n",
      "Requirement already satisfied: gitdb<5,>=4.0.1 in c:\\users\\mosha\\anaconda3\\lib\\site-packages (from gitpython->pyabsa) (4.0.9)\n",
      "Requirement already satisfied: smmap<6,>=3.0.1 in c:\\users\\mosha\\anaconda3\\lib\\site-packages (from gitdb<5,>=4.0.1->gitpython->pyabsa) (5.0.0)\n",
      "Requirement already satisfied: pillow>=6.2.0 in c:\\users\\mosha\\anaconda3\\lib\\site-packages (from matplotlib->metric-visualizer>=0.5.10->pyabsa) (9.0.1)\n",
      "Requirement already satisfied: python-dateutil>=2.7 in c:\\users\\mosha\\anaconda3\\lib\\site-packages (from matplotlib->metric-visualizer>=0.5.10->pyabsa) (2.8.2)\n",
      "Requirement already satisfied: cycler>=0.10 in c:\\users\\mosha\\anaconda3\\lib\\site-packages (from matplotlib->metric-visualizer>=0.5.10->pyabsa) (0.11.0)\n",
      "Requirement already satisfied: fonttools>=4.22.0 in c:\\users\\mosha\\anaconda3\\lib\\site-packages (from matplotlib->metric-visualizer>=0.5.10->pyabsa) (4.25.0)\n",
      "Requirement already satisfied: kiwisolver>=1.0.1 in c:\\users\\mosha\\anaconda3\\lib\\site-packages (from matplotlib->metric-visualizer>=0.5.10->pyabsa) (1.3.2)\n",
      "Requirement already satisfied: urllib3<1.27,>=1.21.1 in c:\\users\\mosha\\anaconda3\\lib\\site-packages (from requests[socks]->gdown>=4.4.0->pyabsa) (1.26.9)\n",
      "Requirement already satisfied: charset-normalizer~=2.0.0 in c:\\users\\mosha\\anaconda3\\lib\\site-packages (from requests[socks]->gdown>=4.4.0->pyabsa) (2.0.4)\n",
      "Requirement already satisfied: certifi>=2017.4.17 in c:\\users\\mosha\\anaconda3\\lib\\site-packages (from requests[socks]->gdown>=4.4.0->pyabsa) (2021.10.8)\n",
      "Requirement already satisfied: idna<4,>=2.5 in c:\\users\\mosha\\anaconda3\\lib\\site-packages (from requests[socks]->gdown>=4.4.0->pyabsa) (3.3)\n",
      "Requirement already satisfied: PySocks!=1.5.7,>=1.5.6 in c:\\users\\mosha\\anaconda3\\lib\\site-packages (from requests[socks]->gdown>=4.4.0->pyabsa) (1.7.1)\n",
      "Requirement already satisfied: scikit-learn>=0.21.3 in c:\\users\\mosha\\anaconda3\\lib\\site-packages (from seqeval->pyabsa) (1.0.2)\n",
      "Requirement already satisfied: threadpoolctl>=2.0.0 in c:\\users\\mosha\\anaconda3\\lib\\site-packages (from scikit-learn>=0.21.3->seqeval->pyabsa) (2.2.0)\n",
      "Requirement already satisfied: joblib>=0.11 in c:\\users\\mosha\\anaconda3\\lib\\site-packages (from scikit-learn>=0.21.3->seqeval->pyabsa) (1.1.0)\n",
      "Requirement already satisfied: murmurhash<1.1.0,>=0.28.0 in c:\\users\\mosha\\anaconda3\\lib\\site-packages (from spacy->pyabsa) (1.0.8)\n",
      "Requirement already satisfied: jinja2 in c:\\users\\mosha\\anaconda3\\lib\\site-packages (from spacy->pyabsa) (2.11.3)\n",
      "Requirement already satisfied: langcodes<4.0.0,>=3.2.0 in c:\\users\\mosha\\anaconda3\\lib\\site-packages (from spacy->pyabsa) (3.3.0)\n",
      "Requirement already satisfied: cymem<2.1.0,>=2.0.2 in c:\\users\\mosha\\anaconda3\\lib\\site-packages (from spacy->pyabsa) (2.0.6)\n",
      "Requirement already satisfied: spacy-legacy<3.1.0,>=3.0.9 in c:\\users\\mosha\\anaconda3\\lib\\site-packages (from spacy->pyabsa) (3.0.10)\n",
      "Requirement already satisfied: pydantic!=1.8,!=1.8.1,<1.10.0,>=1.7.4 in c:\\users\\mosha\\anaconda3\\lib\\site-packages (from spacy->pyabsa) (1.9.2)\n",
      "Requirement already satisfied: preshed<3.1.0,>=3.0.2 in c:\\users\\mosha\\anaconda3\\lib\\site-packages (from spacy->pyabsa) (3.0.7)\n",
      "Requirement already satisfied: spacy-loggers<2.0.0,>=1.0.0 in c:\\users\\mosha\\anaconda3\\lib\\site-packages (from spacy->pyabsa) (1.0.3)\n",
      "Requirement already satisfied: catalogue<2.1.0,>=2.0.6 in c:\\users\\mosha\\anaconda3\\lib\\site-packages (from spacy->pyabsa) (2.0.8)\n",
      "Requirement already satisfied: thinc<8.2.0,>=8.1.0 in c:\\users\\mosha\\anaconda3\\lib\\site-packages (from spacy->pyabsa) (8.1.1)\n",
      "Requirement already satisfied: typer<0.5.0,>=0.3.0 in c:\\users\\mosha\\anaconda3\\lib\\site-packages (from spacy->pyabsa) (0.4.2)\n",
      "Requirement already satisfied: srsly<3.0.0,>=2.4.3 in c:\\users\\mosha\\anaconda3\\lib\\site-packages (from spacy->pyabsa) (2.4.4)\n",
      "Requirement already satisfied: wasabi<1.1.0,>=0.9.1 in c:\\users\\mosha\\anaconda3\\lib\\site-packages (from spacy->pyabsa) (0.10.1)\n",
      "Requirement already satisfied: pathy>=0.3.5 in c:\\users\\mosha\\anaconda3\\lib\\site-packages (from spacy->pyabsa) (0.6.2)\n",
      "Requirement already satisfied: setuptools in c:\\users\\mosha\\anaconda3\\lib\\site-packages (from spacy->pyabsa) (61.2.0)\n",
      "Requirement already satisfied: smart-open<6.0.0,>=5.2.1 in c:\\users\\mosha\\anaconda3\\lib\\site-packages (from pathy>=0.3.5->spacy->pyabsa) (5.2.1)\n",
      "Requirement already satisfied: confection<1.0.0,>=0.0.1 in c:\\users\\mosha\\anaconda3\\lib\\site-packages (from thinc<8.2.0,>=8.1.0->spacy->pyabsa) (0.0.1)\n",
      "Requirement already satisfied: blis<0.10.0,>=0.7.8 in c:\\users\\mosha\\anaconda3\\lib\\site-packages (from thinc<8.2.0,>=8.1.0->spacy->pyabsa) (0.9.1)\n",
      "Requirement already satisfied: click<9.0.0,>=7.1.1 in c:\\users\\mosha\\anaconda3\\lib\\site-packages (from typer<0.5.0,>=0.3.0->spacy->pyabsa) (8.0.4)\n",
      "Requirement already satisfied: MarkupSafe>=0.23 in c:\\users\\mosha\\anaconda3\\lib\\site-packages (from jinja2->spacy->pyabsa) (2.0.1)\n",
      "Requirement already satisfied: webcolors in c:\\users\\mosha\\anaconda3\\lib\\site-packages (from tikzplotlib->metric-visualizer>=0.5.10->pyabsa) (1.12)\n",
      "Note: you may need to restart the kernel to use updated packages.\n"
     ]
    }
   ],
   "source": [
    "pip install pyabsa"
   ]
  },
  {
   "cell_type": "code",
   "execution_count": 10,
   "id": "960b32f1",
   "metadata": {
    "id": "RvFigZL9PTFA"
   },
   "outputs": [],
   "source": [
    "#!pip install pyabsa\n",
    "import gradio as gr\n",
    "import pandas as pd\n",
    "import warnings\n",
    "from pyabsa import APCCheckpointManager, ABSADatasetList\n",
    "from pyabsa import make_ABSA_dataset \n",
    "from pyabsa.functional import APCConfigManager\n",
    "from pyabsa.functional import Trainer\n",
    "from pyabsa.functional import APCModelList\n",
    "from pyabsa.utils.file_utils import generate_inference_set_for_apc"
   ]
  },
  {
   "cell_type": "markdown",
   "id": "6c806e2a",
   "metadata": {
    "id": "YqptKNPlPTFH"
   },
   "source": [
    "# Init a sentiment classifier from online checkpoint or local checkpoint\n"
   ]
  },
  {
   "cell_type": "code",
   "execution_count": 13,
   "id": "32538356",
   "metadata": {
    "id": "yoxZNwDcPTFI",
    "outputId": "49ec85cc-6ccb-4c9f-8077-2c2da616c541"
   },
   "outputs": [],
   "source": [
    "#we don't necessary need step 2 because we will train the model on our dataset but you can use it if you have alreday trained a model and saved in checkpoint so you can use it without retrain the model\n",
    "\n",
    "#from pyabsa import APCCheckpointManager, ABSADatasetList\n",
    "# sent_classifier = APCCheckpointManager.get_sentiment_classifier(checkpoint='multilingual',\n",
    "#                                    auto_device=True,  # Use CUDA if available\n",
    "#                                    )"
   ]
  },
  {
   "cell_type": "markdown",
   "id": "1d86fd4b",
   "metadata": {
    "id": "u39KW_uTPTFJ"
   },
   "source": [
    "# Train Aspect based sentiment analysis \n",
    "https://github.com/yangheng95/PyABSA/blob/release/demos/aspect_polarity_classification/train_apc_english.py"
   ]
  },
  {
   "cell_type": "markdown",
   "id": "04be68bb",
   "metadata": {},
   "source": [
    "\n",
    "<div class=\"alert alert-block alert-success\">\n",
    "<b>Model: FAST_LSA_T_V2</b>\n",
    "\n",
    "***\n",
    "</div>"
   ]
  },
  {
   "cell_type": "markdown",
   "id": "d1d2ed3f",
   "metadata": {
    "id": "6gBJjHF02ysL"
   },
   "source": [
    "<div class=\"alert alert-block alert-warning\">\n",
    "<b> Note:</b> before training you must create folder apc_datasets/100.CustomDataset and put the corrected files cutom.train.text and custom.test.text\n",
    "   \n",
    "</div>"
   ]
  },
  {
   "cell_type": "code",
   "execution_count": 12,
   "id": "fb12cc51",
   "metadata": {
    "colab": {
     "base_uri": "https://localhost:8080/"
    },
    "id": "v58YNfebPTFJ",
    "outputId": "6db3e6c9-65d3-4f86-a472-68240f87dbac"
   },
   "outputs": [
    {
     "name": "stdout",
     "output_type": "stream",
     "text": [
      "Remote ABSADataset version: 2022.09.20 Local ABSADatasets version: None\n",
      "Unknown local version for ABSADatasets, please check the latest version of ABSADatasets at https://github.com/yangheng95/ABSADatasets\n",
      "Try to load ['./apc_datasets/100.CustomDataset'] dataset from local\n"
     ]
    },
    {
     "data": {
      "application/vnd.jupyter.widget-view+json": {
       "model_id": "70f50321da1f4a469ffa59b9bcc8b605",
       "version_major": 2,
       "version_minor": 0
      },
      "text/plain": [
       "Downloading:   0%|          | 0.00/52.0 [00:00<?, ?B/s]"
      ]
     },
     "metadata": {},
     "output_type": "display_data"
    },
    {
     "data": {
      "application/vnd.jupyter.widget-view+json": {
       "model_id": "27023128969b48ac93f4878ddc08ff97",
       "version_major": 2,
       "version_minor": 0
      },
      "text/plain": [
       "Downloading:   0%|          | 0.00/2.35M [00:00<?, ?B/s]"
      ]
     },
     "metadata": {},
     "output_type": "display_data"
    },
    {
     "name": "stderr",
     "output_type": "stream",
     "text": [
      "Special tokens have been added in the vocabulary, make sure the associated word embeddings are fine-tuned or trained.\n",
      "C:\\Users\\mosha\\anaconda3\\lib\\site-packages\\transformers\\convert_slow_tokenizer.py:434: UserWarning: The sentencepiece tokenizer that you are converting to a fast tokenizer uses the byte fallback option which is not implemented in the fast tokenizers. In practice this means that the fast version of the tokenizer can produce unknown tokens whereas the sentencepiece version would have converted these unknown tokens into a sequence of byte tokens matching the original piece of text.\n",
      "  warnings.warn(\n",
      "Special tokens have been added in the vocabulary, make sure the associated word embeddings are fine-tuned or trained.\n"
     ]
    },
    {
     "data": {
      "application/vnd.jupyter.widget-view+json": {
       "model_id": "78478358636d4e33a47314b5cb412a41",
       "version_major": 2,
       "version_minor": 0
      },
      "text/plain": [
       "Downloading:   0%|          | 0.00/354M [00:00<?, ?B/s]"
      ]
     },
     "metadata": {},
     "output_type": "display_data"
    },
    {
     "name": "stderr",
     "output_type": "stream",
     "text": [
      "Some weights of the model checkpoint at microsoft/deberta-v3-base were not used when initializing DebertaV2Model: ['mask_predictions.LayerNorm.bias', 'lm_predictions.lm_head.bias', 'mask_predictions.dense.bias', 'lm_predictions.lm_head.dense.bias', 'mask_predictions.LayerNorm.weight', 'mask_predictions.classifier.weight', 'mask_predictions.classifier.bias', 'lm_predictions.lm_head.LayerNorm.bias', 'lm_predictions.lm_head.LayerNorm.weight', 'lm_predictions.lm_head.dense.weight', 'mask_predictions.dense.weight']\n",
      "- This IS expected if you are initializing DebertaV2Model from the checkpoint of a model trained on another task or with another architecture (e.g. initializing a BertForSequenceClassification model from a BertForPreTraining model).\n",
      "- This IS NOT expected if you are initializing DebertaV2Model from the checkpoint of a model that you expect to be exactly identical (initializing a BertForSequenceClassification model from a BertForSequenceClassification model).\n"
     ]
    },
    {
     "name": "stdout",
     "output_type": "stream",
     "text": [
      "loading: ./apc_datasets/100.CustomDataset\\custom.train.txt\n"
     ]
    },
    {
     "name": "stderr",
     "output_type": "stream",
     "text": [
      "100%|██████████| 200/200 [00:00<00:00, 612.94it/s, preparing dataloader...]\n"
     ]
    },
    {
     "name": "stdout",
     "output_type": "stream",
     "text": [
      "Dataset Label Details: {'Positive': 71, 'Negative': 126, 'Neutral': 3, 'Sum': 200}\n",
      "loading: ./apc_datasets/100.CustomDataset\\custom.test.txt\n"
     ]
    },
    {
     "name": "stderr",
     "output_type": "stream",
     "text": [
      "100%|██████████| 77/77 [00:00<00:00, 919.05it/s, preparing dataloader...]"
     ]
    },
    {
     "name": "stdout",
     "output_type": "stream",
     "text": [
      "Dataset Label Details: {'Positive': 50, 'Negative': 26, 'Neutral': 1, 'Sum': 77}\n",
      "2022-10-07 10:49:28,255 INFO: ABSADatasetsVersion:None\t-->\tCalling Count:0\n"
     ]
    },
    {
     "name": "stderr",
     "output_type": "stream",
     "text": [
      "\n"
     ]
    },
    {
     "name": "stdout",
     "output_type": "stream",
     "text": [
      "2022-10-07 10:49:28,257 INFO: MV:<metric_visualizer.metric_visualizer.MetricVisualizer object at 0x0000027C45F77C70>\t-->\tCalling Count:0\n",
      "2022-10-07 10:49:28,258 INFO: PyABSAVersion:1.16.18\t-->\tCalling Count:0\n",
      "2022-10-07 10:49:28,259 INFO: SRD:3\t-->\tCalling Count:554\n",
      "2022-10-07 10:49:28,260 INFO: TorchVersion:1.12.1+cpu+cudaNone\t-->\tCalling Count:0\n",
      "2022-10-07 10:49:28,261 INFO: TransformersVersion:4.20.1\t-->\tCalling Count:0\n",
      "2022-10-07 10:49:28,263 INFO: auto_device:True\t-->\tCalling Count:1\n",
      "2022-10-07 10:49:28,263 INFO: batch_size:16\t-->\tCalling Count:2\n",
      "2022-10-07 10:49:28,265 INFO: cache_dataset:False\t-->\tCalling Count:1\n",
      "2022-10-07 10:49:28,266 INFO: cross_validate_fold:-1\t-->\tCalling Count:1\n",
      "2022-10-07 10:49:28,267 INFO: dataset_file:{'train': ['./apc_datasets/100.CustomDataset\\\\custom.train.txt'], 'test': ['./apc_datasets/100.CustomDataset\\\\custom.test.txt'], 'valid': []}\t-->\tCalling Count:4\n",
      "2022-10-07 10:49:28,268 INFO: dataset_name:custom_dataset\t-->\tCalling Count:3\n",
      "2022-10-07 10:49:28,270 INFO: dca_layer:3\t-->\tCalling Count:0\n",
      "2022-10-07 10:49:28,272 INFO: dca_p:1\t-->\tCalling Count:0\n",
      "2022-10-07 10:49:28,273 INFO: deep_ensemble:False\t-->\tCalling Count:0\n",
      "2022-10-07 10:49:28,274 INFO: device:cpu\t-->\tCalling Count:5\n",
      "2022-10-07 10:49:28,275 INFO: device_name:\t-->\tCalling Count:0\n",
      "2022-10-07 10:49:28,278 INFO: dlcf_a:2\t-->\tCalling Count:0\n",
      "2022-10-07 10:49:28,279 INFO: dropout:0.5\t-->\tCalling Count:1\n",
      "2022-10-07 10:49:28,280 INFO: dynamic_truncate:True\t-->\tCalling Count:554\n",
      "2022-10-07 10:49:28,281 INFO: embed_dim:768\t-->\tCalling Count:7\n",
      "2022-10-07 10:49:28,282 INFO: eta:-1\t-->\tCalling Count:2\n",
      "2022-10-07 10:49:28,282 INFO: eta_lr:0.01\t-->\tCalling Count:0\n",
      "2022-10-07 10:49:28,284 INFO: evaluate_begin:2\t-->\tCalling Count:0\n",
      "2022-10-07 10:49:28,285 INFO: hidden_dim:768\t-->\tCalling Count:0\n",
      "2022-10-07 10:49:28,286 INFO: index_to_label:{0: 'Negative', 1: 'Neutral', 2: 'Positive'}\t-->\tCalling Count:2\n",
      "2022-10-07 10:49:28,287 INFO: initializer:xavier_uniform_\t-->\tCalling Count:1\n",
      "2022-10-07 10:49:28,288 INFO: inputs_cols:['lcf_cdm_vec', 'lcf_cdw_vec', 'left_lcf_cdm_vec', 'left_lcf_cdw_vec', 'right_lcf_cdm_vec', 'right_lcf_cdw_vec', 'spc_mask_vec', 'text_bert_indices']\t-->\tCalling Count:4160\n",
      "2022-10-07 10:49:28,290 INFO: l2reg:1e-08\t-->\tCalling Count:1\n",
      "2022-10-07 10:49:28,292 INFO: label_to_index:{'Negative': 0, 'Neutral': 1, 'Positive': 2}\t-->\tCalling Count:0\n",
      "2022-10-07 10:49:28,294 INFO: lcf:cdw\t-->\tCalling Count:3\n",
      "2022-10-07 10:49:28,295 INFO: learning_rate:2e-05\t-->\tCalling Count:1\n",
      "2022-10-07 10:49:28,298 INFO: log_step:-1\t-->\tCalling Count:0\n",
      "2022-10-07 10:49:28,300 INFO: lsa:False\t-->\tCalling Count:0\n",
      "2022-10-07 10:49:28,301 INFO: max_seq_len:80\t-->\tCalling Count:3324\n",
      "2022-10-07 10:49:28,302 INFO: model:<class 'pyabsa.core.apc.models.fast_lsa_t_v2.FAST_LSA_T_V2'>\t-->\tCalling Count:6\n",
      "2022-10-07 10:49:28,304 INFO: model_name:fast_lsa_t_v2\t-->\tCalling Count:556\n",
      "2022-10-07 10:49:28,307 INFO: model_path_to_save:checkpoints\t-->\tCalling Count:0\n",
      "2022-10-07 10:49:28,309 INFO: num_epoch:5\t-->\tCalling Count:0\n",
      "2022-10-07 10:49:28,310 INFO: optimizer:adamw\t-->\tCalling Count:1\n",
      "2022-10-07 10:49:28,312 INFO: patience:99999\t-->\tCalling Count:0\n",
      "2022-10-07 10:49:28,314 INFO: polarities_dim:3\t-->\tCalling Count:3\n",
      "2022-10-07 10:49:28,316 INFO: pretrained_bert:microsoft/deberta-v3-base\t-->\tCalling Count:4\n",
      "2022-10-07 10:49:28,317 INFO: save_mode:1\t-->\tCalling Count:0\n",
      "2022-10-07 10:49:28,318 INFO: seed:2672\t-->\tCalling Count:7\n",
      "2022-10-07 10:49:28,319 INFO: sigma:0.3\t-->\tCalling Count:0\n",
      "2022-10-07 10:49:28,320 INFO: similarity_threshold:1\t-->\tCalling Count:2\n",
      "2022-10-07 10:49:28,322 INFO: spacy_model:en_core_web_sm\t-->\tCalling Count:3\n",
      "2022-10-07 10:49:28,325 INFO: srd_alignment:True\t-->\tCalling Count:0\n",
      "2022-10-07 10:49:28,326 INFO: use_amp:False\t-->\tCalling Count:1\n",
      "2022-10-07 10:49:28,328 INFO: use_bert_spc:True\t-->\tCalling Count:0\n",
      "2022-10-07 10:49:28,330 INFO: use_syntax_based_SRD:False\t-->\tCalling Count:0\n",
      "2022-10-07 10:49:28,331 INFO: warmup_step:-1\t-->\tCalling Count:0\n",
      "2022-10-07 10:49:28,334 INFO: window:lr\t-->\tCalling Count:0\n",
      "2022-10-07 10:49:28,343 INFO: ***** Running training for Aspect Polarity Classification *****\n",
      "2022-10-07 10:49:28,346 INFO: Training set examples = 200\n",
      "2022-10-07 10:49:28,357 INFO: Test set examples = 77\n",
      "2022-10-07 10:49:28,358 INFO: Total params = 197414417, Trainable params = 197414417, Non-trainable params = 0\n",
      "2022-10-07 10:49:28,359 INFO: Batch size = 16\n",
      "2022-10-07 10:49:28,361 INFO: Num steps = 0\n"
     ]
    },
    {
     "name": "stderr",
     "output_type": "stream",
     "text": [
      "  0%|          | 0/13 [00:00<?, ?it/s, Epoch:0]C:\\Users\\mosha\\anaconda3\\lib\\site-packages\\torch\\amp\\autocast_mode.py:198: UserWarning: User provided device_type of 'cuda', but CUDA is not available. Disabling\n",
      "  warnings.warn('User provided device_type of \\'cuda\\', but CUDA is not available. Disabling')\n",
      "C:\\Users\\mosha\\anaconda3\\lib\\site-packages\\transformers\\models\\deberta_v2\\modeling_deberta_v2.py:539: DeprecationWarning: `np.int` is a deprecated alias for the builtin `int`. To silence this warning, use `int` by itself. Doing this will not modify any behavior and is safe. When replacing `np.int`, you may wish to use e.g. `np.int64` or `np.int32` to specify the precision. If you wish to review your current use, check the release note link for additional information.\n",
      "Deprecated in NumPy 1.20; for more details and guidance: https://numpy.org/devdocs/release/1.20.0-notes.html#deprecations\n",
      "  bucket_pos = np.where(abs_pos <= mid, relative_pos, log_pos * sign).astype(np.int)\n",
      "100%|██████████| 13/13 [02:25<00:00, 11.18s/it, Epoch:0 | Loss: 0.58956176 | No evaluation until epoch:2]\n",
      "100%|██████████| 13/13 [02:36<00:00, 12.01s/it, Epoch:1 | Loss: 0.14464834 | No evaluation until epoch:2]\n",
      "100%|██████████| 13/13 [02:54<00:00, 13.40s/it, Epoch:2 | Loss:0.5992 | Acc:90.91(max:90.91) | F1:60.58(max:60.58)]\n",
      "  0%|          | 0/13 [00:00<?, ?it/s, Epoch:3]C:\\Users\\mosha\\anaconda3\\lib\\site-packages\\torch\\amp\\autocast_mode.py:198: UserWarning: User provided device_type of 'cuda', but CUDA is not available. Disabling\n",
      "  warnings.warn('User provided device_type of \\'cuda\\', but CUDA is not available. Disabling')\n",
      "C:\\Users\\mosha\\anaconda3\\lib\\site-packages\\transformers\\models\\deberta_v2\\modeling_deberta_v2.py:539: DeprecationWarning: `np.int` is a deprecated alias for the builtin `int`. To silence this warning, use `int` by itself. Doing this will not modify any behavior and is safe. When replacing `np.int`, you may wish to use e.g. `np.int64` or `np.int32` to specify the precision. If you wish to review your current use, check the release note link for additional information.\n",
      "Deprecated in NumPy 1.20; for more details and guidance: https://numpy.org/devdocs/release/1.20.0-notes.html#deprecations\n",
      "  bucket_pos = np.where(abs_pos <= mid, relative_pos, log_pos * sign).astype(np.int)\n",
      "100%|██████████| 13/13 [03:04<00:00, 14.22s/it, Epoch:3 | Loss:0.3547 | Acc:90.91(max:90.91) | F1:60.58(max:60.58)]\n",
      "  0%|          | 0/13 [00:00<?, ?it/s, Epoch:4]C:\\Users\\mosha\\anaconda3\\lib\\site-packages\\torch\\amp\\autocast_mode.py:198: UserWarning: User provided device_type of 'cuda', but CUDA is not available. Disabling\n",
      "  warnings.warn('User provided device_type of \\'cuda\\', but CUDA is not available. Disabling')\n",
      "C:\\Users\\mosha\\anaconda3\\lib\\site-packages\\transformers\\models\\deberta_v2\\modeling_deberta_v2.py:539: DeprecationWarning: `np.int` is a deprecated alias for the builtin `int`. To silence this warning, use `int` by itself. Doing this will not modify any behavior and is safe. When replacing `np.int`, you may wish to use e.g. `np.int64` or `np.int32` to specify the precision. If you wish to review your current use, check the release note link for additional information.\n",
      "Deprecated in NumPy 1.20; for more details and guidance: https://numpy.org/devdocs/release/1.20.0-notes.html#deprecations\n",
      "  bucket_pos = np.where(abs_pos <= mid, relative_pos, log_pos * sign).astype(np.int)\n",
      "100%|██████████| 13/13 [02:48<00:00, 12.98s/it, Epoch:4 | Loss:0.0584 | Acc:80.52(max:90.91) | F1:53.78(max:60.58)]"
     ]
    },
    {
     "name": "stdout",
     "output_type": "stream",
     "text": [
      "2022-10-07 11:03:17,721 INFO:  ------------------------------------- Metric Visualizer ------------------------------------- \n",
      "╒════════════════════════════╤══════════════════════════════╤════════════════════════════╤═════════════════════════════════════════════════════════════════════════╕\n",
      "│ Metric                     │ Model & Dataset              │ Values (First 10 values)   │ Summary                                                                 │\n",
      "╞════════════════════════════╪══════════════════════════════╪════════════════════════════╪═════════════════════════════════════════════════════════════════════════╡\n",
      "│ Max-Test-Acc w/o Valid Set │ FAST_LSA_T_V2-custom_dataset │ [90.91]                    │ ['Avg:90.91, Median: 90.91, IQR: 0.0, STD:0.0, Max: 90.91, Min: 90.91'] │\n",
      "├────────────────────────────┼──────────────────────────────┼────────────────────────────┼─────────────────────────────────────────────────────────────────────────┤\n",
      "│ Max-Test-F1 w/o Valid Set  │ FAST_LSA_T_V2-custom_dataset │ [60.58]                    │ ['Avg:60.58, Median: 60.58, IQR: 0.0, STD:0.0, Max: 60.58, Min: 60.58'] │\n",
      "╘════════════════════════════╧══════════════════════════════╧════════════════════════════╧═════════════════════════════════════════════════════════════════════════╛\n",
      " -------------------- https://github.com/yangheng95/metric_visualizer --------------------\n",
      "\n",
      "OrderedDict([('Max-Test-Acc w/o Valid Set', {'trial0': [90.9090909090909]}), ('Max-Test-F1 w/o Valid Set', {'trial0': [60.58420483231157]})])\n",
      "\n"
     ]
    },
    {
     "name": "stderr",
     "output_type": "stream",
     "text": [
      "\n",
      "C:\\Users\\mosha\\anaconda3\\lib\\site-packages\\scipy\\stats\\stats.py:2857: DeprecationWarning: the `interpolation=` argument to percentile was renamed to `method=`, which has additional options.\n",
      "Users of the modes 'nearest', 'lower', 'higher', or 'midpoint' are encouraged to review the method they. (Deprecated NumPy 1.22)\n",
      "  pct = percentile_func(x, rng, axis=axis, interpolation=interpolation,\n",
      "C:\\Users\\mosha\\anaconda3\\lib\\site-packages\\metric_visualizer\\metric_visualizer.py:1625: ResourceWarning: unclosed file <_io.BufferedWriter name='FAST_LSA_T_V2-custom_dataset_2022-10-07-11-03-17_id0.mv'>\n",
      "  pickle.dump(self, open(self.dump_pointer, mode='wb'))\n",
      "ResourceWarning: Enable tracemalloc to get the object allocation traceback\n"
     ]
    },
    {
     "name": "stdout",
     "output_type": "stream",
     "text": [
      "Training finished, we hope you can share your checkpoint with community, please see: https://github.com/yangheng95/PyABSA/blob/release/demos/documents/share-checkpoint.md\n",
      "ABSADatasetsVersion:None\t-->\tCalling Count:0\n",
      "MV:<metric_visualizer.metric_visualizer.MetricVisualizer object at 0x0000027C45F77C70>\t-->\tCalling Count:3\n",
      "PyABSAVersion:1.16.18\t-->\tCalling Count:0\n",
      "SRD:3\t-->\tCalling Count:554\n",
      "TorchVersion:1.12.1+cpu+cudaNone\t-->\tCalling Count:0\n",
      "TransformersVersion:4.20.1\t-->\tCalling Count:0\n",
      "auto_device:True\t-->\tCalling Count:66\n",
      "batch_size:16\t-->\tCalling Count:5\n",
      "cache_dataset:False\t-->\tCalling Count:1\n",
      "cross_validate_fold:-1\t-->\tCalling Count:2\n",
      "dataset_file:{'train': ['./apc_datasets/100.CustomDataset\\\\custom.train.txt'], 'test': ['./apc_datasets/100.CustomDataset\\\\custom.test.txt'], 'valid': []}\t-->\tCalling Count:9\n",
      "dataset_name:custom_dataset\t-->\tCalling Count:5\n",
      "dca_layer:3\t-->\tCalling Count:0\n",
      "dca_p:1\t-->\tCalling Count:0\n",
      "deep_ensemble:False\t-->\tCalling Count:0\n",
      "device:cpu\t-->\tCalling Count:726\n",
      "device_name:\t-->\tCalling Count:0\n",
      "dlcf_a:2\t-->\tCalling Count:0\n",
      "dropout:0.5\t-->\tCalling Count:1\n",
      "dynamic_truncate:True\t-->\tCalling Count:554\n",
      "embed_dim:768\t-->\tCalling Count:7\n",
      "ensemble_mode:cat\t-->\tCalling Count:0\n",
      "eta:-1\t-->\tCalling Count:242\n",
      "eta_lr:0.01\t-->\tCalling Count:0\n",
      "evaluate_begin:2\t-->\tCalling Count:10\n",
      "hidden_dim:768\t-->\tCalling Count:0\n",
      "index_to_label:{0: 'Negative', 1: 'Neutral', 2: 'Positive'}\t-->\tCalling Count:2\n",
      "initializer:xavier_uniform_\t-->\tCalling Count:1\n",
      "inputs_cols:['lcf_cdm_vec', 'lcf_cdw_vec', 'left_lcf_cdm_vec', 'left_lcf_cdw_vec', 'right_lcf_cdm_vec', 'right_lcf_cdw_vec', 'spc_mask_vec', 'text_bert_indices']\t-->\tCalling Count:4240\n",
      "l2reg:1e-08\t-->\tCalling Count:1\n",
      "label_to_index:{'Negative': 0, 'Neutral': 1, 'Positive': 2}\t-->\tCalling Count:0\n",
      "lcf:cdw\t-->\tCalling Count:83\n",
      "learning_rate:2e-05\t-->\tCalling Count:1\n",
      "log_step:13\t-->\tCalling Count:67\n",
      "loss:0.19389906525611877\t-->\tCalling Count:0\n",
      "lsa:False\t-->\tCalling Count:0\n",
      "max_seq_len:80\t-->\tCalling Count:3644\n",
      "max_test_metrics:{'max_apc_test_acc': 0.9090909090909091, 'max_apc_test_f1': 0.6058420483231157}\t-->\tCalling Count:4\n",
      "metrics_of_this_checkpoint:{'acc': 0.8051948051948052, 'f1': 0.5377762351035519}\t-->\tCalling Count:6\n",
      "model:<class 'pyabsa.core.apc.models.fast_lsa_t_v2.FAST_LSA_T_V2'>\t-->\tCalling Count:6\n",
      "model_name:fast_lsa_t_v2\t-->\tCalling Count:562\n",
      "model_path_to_save:checkpoints\t-->\tCalling Count:5\n",
      "num_epoch:5\t-->\tCalling Count:2\n",
      "optimizer:adamw\t-->\tCalling Count:1\n",
      "patience:99999\t-->\tCalling Count:3\n",
      "polarities_dim:3\t-->\tCalling Count:6\n",
      "pretrained_bert:microsoft/deberta-v3-base\t-->\tCalling Count:4\n",
      "save_mode:1\t-->\tCalling Count:4\n",
      "seed:2672\t-->\tCalling Count:7\n",
      "sigma:0.3\t-->\tCalling Count:0\n",
      "similarity_threshold:1\t-->\tCalling Count:2\n",
      "spacy_model:en_core_web_sm\t-->\tCalling Count:3\n",
      "srd_alignment:True\t-->\tCalling Count:0\n",
      "use_amp:False\t-->\tCalling Count:1\n",
      "use_bert_spc:True\t-->\tCalling Count:0\n",
      "use_syntax_based_SRD:False\t-->\tCalling Count:0\n",
      "warmup_step:-1\t-->\tCalling Count:66\n",
      "window:lr\t-->\tCalling Count:80\n"
     ]
    },
    {
     "name": "stderr",
     "output_type": "stream",
     "text": [
      "C:\\Users\\mosha\\anaconda3\\lib\\site-packages\\pyabsa\\functional\\trainer\\trainer.py:173: ResourceWarning: unclosed file <_io.TextIOWrapper name='C:\\\\Users\\\\mosha\\\\Task 3\\\\logs\\\\fast_lsa_t_v2_20221007 103849\\\\training.log' mode='a' encoding='utf8'>\n",
      "  self.logger.removeHandler(self.logger.handlers[0])\n",
      "ResourceWarning: Enable tracemalloc to get the object allocation traceback\n"
     ]
    },
    {
     "name": "stdout",
     "output_type": "stream",
     "text": [
      "Load sentiment classifier from checkpoints/fast_lsa_t_v2_custom_dataset_acc_90.91_f1_60.58/\n",
      "config: checkpoints/fast_lsa_t_v2_custom_dataset_acc_90.91_f1_60.58/fast_lsa_t_v2.config\n",
      "state_dict: checkpoints/fast_lsa_t_v2_custom_dataset_acc_90.91_f1_60.58/fast_lsa_t_v2.state_dict\n",
      "model: None\n",
      "tokenizer: checkpoints/fast_lsa_t_v2_custom_dataset_acc_90.91_f1_60.58/fast_lsa_t_v2.tokenizer\n"
     ]
    },
    {
     "name": "stderr",
     "output_type": "stream",
     "text": [
      "Special tokens have been added in the vocabulary, make sure the associated word embeddings are fine-tuned or trained.\n",
      "C:\\Users\\mosha\\anaconda3\\lib\\site-packages\\transformers\\convert_slow_tokenizer.py:434: UserWarning: The sentencepiece tokenizer that you are converting to a fast tokenizer uses the byte fallback option which is not implemented in the fast tokenizers. In practice this means that the fast version of the tokenizer can produce unknown tokens whereas the sentencepiece version would have converted these unknown tokens into a sequence of byte tokens matching the original piece of text.\n",
      "  warnings.warn(\n",
      "Special tokens have been added in the vocabulary, make sure the associated word embeddings are fine-tuned or trained.\n",
      "Some weights of the model checkpoint at microsoft/deberta-v3-base were not used when initializing DebertaV2Model: ['mask_predictions.LayerNorm.bias', 'lm_predictions.lm_head.bias', 'mask_predictions.dense.bias', 'lm_predictions.lm_head.dense.bias', 'mask_predictions.LayerNorm.weight', 'mask_predictions.classifier.weight', 'mask_predictions.classifier.bias', 'lm_predictions.lm_head.LayerNorm.bias', 'lm_predictions.lm_head.LayerNorm.weight', 'lm_predictions.lm_head.dense.weight', 'mask_predictions.dense.weight']\n",
      "- This IS expected if you are initializing DebertaV2Model from the checkpoint of a model trained on another task or with another architecture (e.g. initializing a BertForSequenceClassification model from a BertForPreTraining model).\n",
      "- This IS NOT expected if you are initializing DebertaV2Model from the checkpoint of a model that you expect to be exactly identical (initializing a BertForSequenceClassification model from a BertForSequenceClassification model).\n",
      "Special tokens have been added in the vocabulary, make sure the associated word embeddings are fine-tuned or trained.\n",
      "Special tokens have been added in the vocabulary, make sure the associated word embeddings are fine-tuned or trained.\n"
     ]
    }
   ],
   "source": [
    "apc_config_english = APCConfigManager.get_apc_config_english()\n",
    "apc_config_english.model = APCModelList.FAST_LSA_T_V2\n",
    "apc_config_english.num_epoch = 5   # i decresed the number of epochs because it takes me much time\n",
    "apc_config_english.evaluate_begin = 2\n",
    "apc_config_english.pretrained_bert = 'microsoft/deberta-v3-base'\n",
    "apc_config_english.similarity_threshold = 1\n",
    "apc_config_english.max_seq_len = 80\n",
    "apc_config_english.dropout = 0.5\n",
    "apc_config_english.seed = 2672\n",
    "apc_config_english.log_step = -1\n",
    "apc_config_english.l2reg = 1e-8\n",
    "apc_config_english.cache_dataset = False\n",
    "apc_config_english.dynamic_truncate = True\n",
    "apc_config_english.srd_alignment = True\n",
    "\n",
    "#Dataset = './integrated_datasets/apc_datasets/100.CustomDataset'\n",
    "Dataset = './apc_datasets/100.CustomDataset'\n",
    "sent_classifier = Trainer(config=apc_config_english,\n",
    "                          dataset=Dataset,\n",
    "                          checkpoint_save_mode=1,\n",
    "                          auto_device=True,\n",
    "                          # load_aug=True \n",
    "                          ).load_trained_model()"
   ]
  },
  {
   "cell_type": "markdown",
   "id": "06f1471a",
   "metadata": {
    "id": "SmYjEEBtglU5"
   },
   "source": [
    "<div class=\"alert alert-block alert-warning\">\n",
    "<b>Note:</b>divided the 277 samples in the custom.train.text into two file custom.train.text with 200 samples and custom.test.text with 77 samples.\n",
    "</div>"
   ]
  },
  {
   "cell_type": "markdown",
   "id": "bbb0b611",
   "metadata": {
    "id": "lIpSSUg_PTFL"
   },
   "source": [
    "# Batch Sentiment Inference\n",
    "__[Important: Rename your dataset filename before use it in PyABSA](https://github.com/yangheng95/PyABSA/blob/release/demos/aspect_polarity_classification/APC-USAGES.ipynb)__\n",
    "- Before inference. database should be formated into infer dataset format\n",
    "<br>\n",
    "Inference is the predection step where we predect the labels or polarity of test data in custom.test.txt.inference file and comapre it withe the actual ploarity in the custom.test.text to evaluate the accuracy or the performance of our model\n"
   ]
  },
  {
   "cell_type": "markdown",
   "id": "ec63d6f1",
   "metadata": {
    "id": "T80ZIeazPTFN"
   },
   "source": [
    "### Generate inference set"
   ]
  },
  {
   "cell_type": "markdown",
   "id": "bca608b9",
   "metadata": {
    "id": "PwRXsxFHxWmk"
   },
   "source": [
    "<div class=\"alert alert-block alert-warning\">\n",
    "    The inference or prediction is only on test data so we give the function generate_inference_set_for_apc() the location where the custom.test.text exists and it will generate the file custom.test.txt.inference which will be used in the batch_infer() function as below  \n",
    "</div>"
   ]
  },
  {
   "cell_type": "code",
   "execution_count": 14,
   "id": "59db59ae",
   "metadata": {
    "colab": {
     "base_uri": "https://localhost:8080/"
    },
    "id": "eUJYgMDsPTFO",
    "outputId": "e07b3e35-19f0-4e27-cd64-f1d0eb426e7c"
   },
   "outputs": [
    {
     "name": "stdout",
     "output_type": "stream",
     "text": [
      "To ensure your generation is successful, make sure the dataset name contain \"apc\" and \"dataset\" string \n",
      "save in: apc_datasets\\100.CustomDataset\\custom.train.txt.inference\n",
      "save in: apc_datasets\\100.CustomDataset\\custom.test.txt.inference\n",
      "Inference set generation finished\n"
     ]
    }
   ],
   "source": [
    "# This code will geneerate custom.test.txt.inference file for my dataset\n",
    "#Dataset = './integrated_datasets/apc_datasets/100.CustomDataset'\n",
    "Dataset = './apc_datasets/100.CustomDataset'\n",
    "generate_inference_set_for_apc('Dataset')"
   ]
  },
  {
   "cell_type": "code",
   "execution_count": 15,
   "id": "4a6ee3af",
   "metadata": {
    "colab": {
     "base_uri": "https://localhost:8080/"
    },
    "id": "CLp3gv2dhvnx",
    "outputId": "25e737eb-fb89-4780-f6e6-fa9735849320"
   },
   "outputs": [
    {
     "name": "stderr",
     "output_type": "stream",
     "text": [
      "C:\\Users\\mosha\\anaconda3\\lib\\site-packages\\transformers\\models\\deberta_v2\\modeling_deberta_v2.py:539: DeprecationWarning: `np.int` is a deprecated alias for the builtin `int`. To silence this warning, use `int` by itself. Doing this will not modify any behavior and is safe. When replacing `np.int`, you may wish to use e.g. `np.int64` or `np.int32` to specify the precision. If you wish to review your current use, check the release note link for additional information.\n",
      "Deprecated in NumPy 1.20; for more details and guidance: https://numpy.org/devdocs/release/1.20.0-notes.html#deprecations\n",
      "  bucket_pos = np.where(abs_pos <= mid, relative_pos, log_pos * sign).astype(np.int)\n"
     ]
    },
    {
     "name": "stdout",
     "output_type": "stream",
     "text": [
      "Example 0:  the response of the \u001b[32m<staff:Positive(confidence:0.96, ref:Positive)>\u001b[0m when someone hit and run my car on the road they helped us by checking cameras the shuttle service was excellent the breakfast was okay the room was also very clean \n",
      "Example 0:  the response of the staff when someone hit and run my car on the road they helped us by checking cameras the \u001b[32m<shuttle service:Positive(confidence:0.963, ref:Positive)>\u001b[0m was excellent the breakfast was okay the room was also very clean \n",
      "Example 0:  the response of the staff when someone hit and run my car on the road they helped us by checking cameras the shuttle service was excellent the \u001b[32m<breakfast:Positive(confidence:0.963, ref:Positive)>\u001b[0m was okay the room was also very clean \n",
      "Example 0:  the response of the staff when someone hit and run my car on the road they helped us by checking cameras the shuttle service was excellent the breakfast was okay the \u001b[32m<room:Positive(confidence:0.961, ref:Positive)>\u001b[0m was also very clean \n",
      "Example 0:  the \u001b[32m<toilets:Negative(confidence:0.957, ref:Negative)>\u001b[0m seemed old and rundown, the bath tub was too small \n",
      "Example 0:  the toilets seemed old and rundown, the \u001b[32m<bath tub:Negative(confidence:0.96, ref:Negative)>\u001b[0m was too small \n"
     ]
    }
   ],
   "source": [
    "# test on some samples from the generated custom.test.txt.inference file before tesing the whole test data set \n",
    "examples = [\n",
    "    'the response of the [ASP]staff[ASP] when someone hit and run my car on the road they helped us by checking cameras the shuttle service was excellent the breakfast was okay the room was also very clean !sent! Positive',\n",
    "    'the response of the staff when someone hit and run my car on the road they helped us by checking cameras the [ASP]shuttle service[ASP] was excellent the breakfast was okay the room was also very clean !sent! Positive',\n",
    "    'the response of the staff when someone hit and run my car on the road they helped us by checking cameras the shuttle service was excellent the [ASP]breakfast[ASP] was okay the room was also very clean !sent! Positive',\n",
    "    'the response of the staff when someone hit and run my car on the road they helped us by checking cameras the shuttle service was excellent the breakfast was okay the [ASP]room[ASP] was also very clean !sent! Positive',\n",
    "    'the [ASP]toilets[ASP] seemed old and rundown, the bath tub was too small !sent! Negative',\n",
    "    'the toilets seemed old and rundown, the [ASP]bath tub[ASP] was too small !sent! Negative'\n",
    "]\n",
    "for ex in examples:\n",
    "     result = sent_classifier.infer(ex, print_result=True)"
   ]
  },
  {
   "cell_type": "code",
   "execution_count": 16,
   "id": "49ace25e",
   "metadata": {
    "colab": {
     "base_uri": "https://localhost:8080/"
    },
    "id": "q7PfC8gZPTFP",
    "outputId": "59dd033c-8fb5-4613-cc37-ca10546fb5cd"
   },
   "outputs": [
    {
     "name": "stdout",
     "output_type": "stream",
     "text": [
      "loading: ./apc_datasets/100.CustomDataset\\custom.test.txt.inference\n",
      "Example 0:  the response of the \u001b[32m<staff:Positive(confidence:0.961, ref:Positive)>\u001b[0m when someone hit and run my car on the road they helped us by checking cameras the \u001b[32m<shuttle service:Positive(confidence:0.962, ref:Positive)>\u001b[0m was excellent the \u001b[32m<breakfast:Positive(confidence:0.962, ref:Positive)>\u001b[0m was okay the \u001b[32m<room:Positive(confidence:0.962, ref:Positive)>\u001b[0m was also very clean \n",
      "Example 1:  the \u001b[32m<toilets:Negative(confidence:0.958, ref:Negative)>\u001b[0m seemed old and rundown, the \u001b[32m<bath tub:Negative(confidence:0.959, ref:Negative)>\u001b[0m was too small \n",
      "Example 2:  the \u001b[32m<shower:Negative(confidence:0.97, ref:Negative)>\u001b[0m is over the \u001b[32m<bathtub:Negative(confidence:0.971, ref:Negative)>\u001b[0m and the \u001b[32m<hotel:Negative(confidence:0.972, ref:Negative)>\u001b[0m do not provide a mat for the tub there was also an issue with the \u001b[32m<aircond:Negative(confidence:0.972, ref:Negative)>\u001b[0m control were we could not bring up the temperature \n",
      "Example 3:  poor \u001b[32m<housekeeping:Negative(confidence:0.951, ref:Negative)>\u001b[0m \u001b[32m<services:Negative(confidence:0.952, ref:Negative)>\u001b[0m and i found some bags in the \u001b[32m<room:Negative(confidence:0.95, ref:Negative)>\u001b[0m \n",
      "Example 4:  only one person at the \u001b[32m<reception:Negative(confidence:0.959, ref:Negative)>\u001b[0m had to wait for long time to \u001b[32m<check in:Negative(confidence:0.96, ref:Negative)>\u001b[0m after a long flight \n",
      "Example 5:  well the \u001b[32m<parking:Negative(confidence:0.96, ref:Negative)>\u001b[0m was ample but light was really low and it was not very easy to park my car in the space provided \n",
      "Example 6:  extremely welcoming \u001b[32m<staff:Positive(confidence:0.972, ref:Positive)>\u001b[0m very helpful reception desk and porter i felt like i was the only guest with the effort the put in to us very good value for money and the location was perfect for links to theairport, mall of arabia \n",
      "Example 7:  extremely welcomingstaff, very helpful \u001b[32m<reception:Positive(confidence:0.972, ref:Positive)>\u001b[0m desk and porter i felt like i was the only guest with the effort the put in to us very good \u001b[32m<value:Positive(confidence:0.973, ref:Positive)>\u001b[0m for money and the \u001b[32m<location:Positive(confidence:0.972, ref:Positive)>\u001b[0m was perfect for links to theairport, mall of arabia \n",
      "Example 8:  the \u001b[32m<location:Positive(confidence:0.971, ref:Positive)>\u001b[0m opposite of the mall the welcoming of its \u001b[32m<staff:Positive(confidence:0.972, ref:Positive)>\u001b[0m and gesture the \u001b[32m<breakfast:Positive(confidence:0.972, ref:Positive)>\u001b[0m was good as well \n",
      "Example 9:  ��thanks to the professional \u001b[32m<staff:Positive(confidence:0.974, ref:Positive)>\u001b[0m and a special thanks to missshorouk, a beautiful girl who beautified the place and theaccomodation, excellentlocation, very clean rooms and a quiet hotel \n",
      "Example 10:  ��thanks to the professionalstaff, and a special thanks to missshorouk, a beautiful girl who beautified the place and theaccomodation, excellent \u001b[32m<location:Positive(confidence:0.975, ref:Positive)>\u001b[0m very clean rooms and a quiet hotel \n",
      "Example 11:  ��thanks to the professionalstaff, and a special thanks to missshorouk, a beautiful girl who beautified the place and theaccomodation, excellentlocation, very clean \u001b[32m<rooms:Positive(confidence:0.973, ref:Positive)>\u001b[0m and a quiet \u001b[32m<hotel:Positive(confidence:0.973, ref:Positive)>\u001b[0m \n",
      "Example 12:  \u001b[32m<breakfast:Negative(confidence:0.975, ref:Negative)>\u001b[0m was a joke cheating me really first day two croissants plus one overfilled \u001b[32m<coffee:Negative(confidence:0.976, ref:Negative)>\u001b[0m with powder milk the next day suntop juice for one riyal with omlette two riyals no \u001b[32m<coffee:Negative(confidence:0.976, ref:Negative)>\u001b[0m you have to choose juice or \u001b[32m<coffee:Negative(confidence:0.976, ref:Negative)>\u001b[0m i need please my money back immediately \n",
      "Example 13:  \u001b[32m<staff:Positive(confidence:0.973, ref:Positive)>\u001b[0m attended all my requests and provided solutions to all problems thanks to ibrahim very clean and well decorated the \u001b[32m<breakfast:Positive(confidence:0.973, ref:Positive)>\u001b[0m was excellent the \u001b[32m<location:Positive(confidence:0.973, ref:Positive)>\u001b[0m is good \n",
      "Example 14:  the \u001b[32m<location:Positive(confidence:0.599, ref:Positive)>\u001b[0m is just in front of haram also jabal omar towers have a two level mall that have\u001b[32m<coffee shops,:Positive(confidence:0.851, ref:Positive)>\u001b[0m \u001b[31m<supermarket:Negative(confidence:0.572, ref:Positive)>\u001b[0m and one extra level for \u001b[31m<food court:Negative(confidence:0.768, ref:Positive)>\u001b[0m \n",
      "Example 15:  at \u001b[32m<checkout:Negative(confidence:0.957, ref:Negative)>\u001b[0m they let you wait to check theroom, which is fair but should be done in more professional way and made clear to the customer at checkin and in similar way \n",
      "Example 16:  \u001b[32m<breakfast:Negative(confidence:0.96, ref:Negative)>\u001b[0m was scattered around the large hall with noreason, it can be gathered in one place instead of confusing guests looking for items allover the \u001b[32m<breakfast:Negative(confidence:0.96, ref:Negative)>\u001b[0m hall \n",
      "Example 17:  room \u001b[32m<floor:Negative(confidence:0.973, ref:Negative)>\u001b[0m was not even \u001b[32m<bed:Negative(confidence:0.974, ref:Negative)>\u001b[0m \u001b[32m<floor:Negative(confidence:0.973, ref:Negative)>\u001b[0m was higher than room \u001b[32m<floor:Negative(confidence:0.973, ref:Negative)>\u001b[0m which can lead to fall especially when wake up there was leakage of \u001b[32m<washroom:Negative(confidence:0.975, ref:Negative)>\u001b[0m room and commode seat and cover were absent \n",
      "Example 18:  no \u001b[32m<towels:Negative(confidence:0.964, ref:Negative)>\u001b[0m , complementary \u001b[31m<tea:Negative(confidence:0.966, ref:Positive)>\u001b[0m items were provided cleaning/ service \u001b[32m<staff:Negative(confidence:0.967, ref:Negative)>\u001b[0m was least concerned about whatever i asked for \n",
      "Example 19:  \u001b[31m<reception:Negative(confidence:0.969, ref:Positive)>\u001b[0m people were very nice and active but the people responsible for changinglight, bringing bath robe were lazy anddidn't do their job we kept waiting and then left \n",
      "Example 20:  i got a vip \u001b[31m<room:Negative(confidence:0.964, ref:Positive)>\u001b[0m even though ididn't book for that so i feel the confirm level was good \n",
      "Example 21:  the \u001b[32m<breakfast:Negative(confidence:0.957, ref:Negative)>\u001b[0m was not as expected seems like it was prepared too early and served cold \n",
      "Example 22:  very nice \u001b[32m<hotel:Positive(confidence:0.974, ref:Positive)>\u001b[0m big comfortable rooms staff are all fantastic and very accommodating the location is great without beingtoo, breakfast is fresh and has a live station for eggs and pack \n",
      "Example 23:  very nicehotel, big comfortable \u001b[32m<rooms:Positive(confidence:0.975, ref:Positive)>\u001b[0m \u001b[32m<staff:Positive(confidence:0.975, ref:Positive)>\u001b[0m are all fantastic and very accommodating the \u001b[32m<location:Positive(confidence:0.976, ref:Positive)>\u001b[0m is great without beingtoo, \u001b[32m<breakfast:Positive(confidence:0.976, ref:Positive)>\u001b[0m is fresh and has a live station for eggs and pack \n",
      "Example 24:  the girls at the \u001b[32m<reception:Negative(confidence:0.954, ref:Negative)>\u001b[0m were notwelcoming, barelysmiled, barely spokeenglish, seemedrattled, obviously lacked \u001b[32m<training:Negative(confidence:0.956, ref:Negative)>\u001b[0m in hospitality \n",
      "Example 25:  so, i like the \u001b[32m<location:Positive(confidence:0.974, ref:Positive)>\u001b[0m it's near from the seaandthere's a lot of restaurants and coffees near ofit, i and i think the \u001b[32m<price:Positive(confidence:0.976, ref:Positive)>\u001b[0m of renting was good for the dayalso, the \u001b[32m<size:Positive(confidence:0.975, ref:Positive)>\u001b[0m of \u001b[32m<room:Positive(confidence:0.975, ref:Positive)>\u001b[0m was verygood, and the \u001b[32m<internet:Positive(confidence:0.974, ref:Positive)>\u001b[0m was perfect \n",
      "Example 26:  dthree to 4 times i went down to ask \u001b[32m<towel:Negative(confidence:0.974, ref:Negative)>\u001b[0m every time say after 1 hour poor serviceeven ididn't stay one day only paid money and let half day \n",
      "Example 27:  the \u001b[32m<lobby:Positive(confidence:0.973, ref:Positive)>\u001b[0m smells good the \u001b[32m<rooms:Positive(confidence:0.973, ref:Positive)>\u001b[0m areclean, and good \u001b[32m<value:Positive(confidence:0.974, ref:Positive)>\u001b[0m for the price the \u001b[32m<staff:Positive(confidence:0.974, ref:Positive)>\u001b[0m were very helpful andaccommodating, \n",
      "Example 28:  \u001b[32m<facilities:Positive(confidence:0.968, ref:Positive)>\u001b[0m quite complete \u001b[32m<breakfast:Positive(confidence:0.969, ref:Positive)>\u001b[0m is various and delicious \n",
      "Example 29:  the professional \u001b[32m<service:Positive(confidence:0.971, ref:Positive)>\u001b[0m and the clean of all \u001b[32m<rooms:Positive(confidence:0.973, ref:Positive)>\u001b[0m, hilton is my favorite \u001b[32m<hotel:Positive(confidence:0.973, ref:Positive)>\u001b[0m in riyadh thank you for everything \n",
      "Example 30:  great great awesome \u001b[32m<location:Positive(confidence:0.973, ref:Positive)>\u001b[0m near to gate no 21so, its closer to the female praying area that makes it all the more convenient and family friendly helpful \u001b[32m<receptionist:Positive(confidence:0.973, ref:Positive)>\u001b[0m who was quite fluent in conversing in english \n",
      "Example 31:  the \u001b[32m<shower:Negative(confidence:0.971, ref:Negative)>\u001b[0m area in room 121 had a wrongslope, so water would collect on the floor the \u001b[31m<breakfast:Negative(confidence:0.971, ref:Positive)>\u001b[0m isok, with not much choice there are no choices for \u001b[31m<dinner:Negative(confidence:0.971, ref:Neutral)>\u001b[0m except sandwiches \n",
      "Example 32:  \u001b[32m<location:Positive(confidence:0.971, ref:Positive)>\u001b[0m was excellent and \u001b[32m<staff:Positive(confidence:0.971, ref:Positive)>\u001b[0m was very nice and humble, above all \u001b[32m<breakfast:Positive(confidence:0.971, ref:Positive)>\u001b[0m was excellent \n",
      "inference result saved in: C:\\Users\\mosha\\Task 3\\apc_inference.result.json\n",
      "Total samples:77\n",
      "Labeled samples:77\n",
      "Prediction Accuracy:90.9090909090909%\n"
     ]
    }
   ],
   "source": [
    "# As we are using our own data set, don't use inference from checkpoint just use sent_classifier object from the model trained above\n",
    "#sent_classifier = APCCheckpointManager.get_sentiment_classifier(checkpoint='english',\n",
    "#                                                                auto_device=True,  # Use CUDA if available\n",
    "#                                                                offline=False,\n",
    "#                                                                cal_perplexity=True,\n",
    "#                                                                )\n",
    "#config = APCConfigManager.get_apc_config_english()  # APC task\n",
    "#dataset = './integrated_datasets/apc_datasets/100.CustomDataset'\n",
    "\n",
    "dataset = './apc_datasets/100.CustomDataset'\n",
    "\n",
    "inference_sets = dataset\n",
    "results = sent_classifier.batch_infer(target_file=inference_sets,\n",
    "                     print_result=True,\n",
    "                     save_result=True,\n",
    "                     ignore_error=False,\n",
    "                     )"
   ]
  },
  {
   "cell_type": "markdown",
   "id": "f09357af",
   "metadata": {},
   "source": [
    "# Models\n",
    "\n"
   ]
  },
  {
   "cell_type": "markdown",
   "id": "0bbb274b",
   "metadata": {},
   "source": [
    "\n",
    "<div class=\"alert alert-block alert-success\">\n",
    "<b>Model: FAST_LSA_S_V2</b>\n",
    "\n",
    "***\n",
    "</div>"
   ]
  },
  {
   "cell_type": "code",
   "execution_count": 3,
   "id": "970b095f",
   "metadata": {
    "id": "sj0bfTLwf4MH"
   },
   "outputs": [
    {
     "name": "stdout",
     "output_type": "stream",
     "text": [
      "Remote ABSADataset version: 2022.09.20 Local ABSADatasets version: None\n",
      "Unknown local version for ABSADatasets, please check the latest version of ABSADatasets at https://github.com/yangheng95/ABSADatasets\n",
      "Try to load ['./apc_datasets/100.CustomDataset1'] dataset from local\n"
     ]
    },
    {
     "name": "stderr",
     "output_type": "stream",
     "text": [
      "Special tokens have been added in the vocabulary, make sure the associated word embeddings are fine-tuned or trained.\n",
      "C:\\Users\\mosha\\anaconda3\\lib\\site-packages\\transformers\\convert_slow_tokenizer.py:434: UserWarning: The sentencepiece tokenizer that you are converting to a fast tokenizer uses the byte fallback option which is not implemented in the fast tokenizers. In practice this means that the fast version of the tokenizer can produce unknown tokens whereas the sentencepiece version would have converted these unknown tokens into a sequence of byte tokens matching the original piece of text.\n",
      "  warnings.warn(\n",
      "Special tokens have been added in the vocabulary, make sure the associated word embeddings are fine-tuned or trained.\n",
      "Some weights of the model checkpoint at microsoft/deberta-v3-base were not used when initializing DebertaV2Model: ['lm_predictions.lm_head.LayerNorm.weight', 'lm_predictions.lm_head.dense.bias', 'lm_predictions.lm_head.LayerNorm.bias', 'mask_predictions.dense.bias', 'mask_predictions.dense.weight', 'mask_predictions.LayerNorm.bias', 'mask_predictions.classifier.weight', 'lm_predictions.lm_head.bias', 'mask_predictions.classifier.bias', 'lm_predictions.lm_head.dense.weight', 'mask_predictions.LayerNorm.weight']\n",
      "- This IS expected if you are initializing DebertaV2Model from the checkpoint of a model trained on another task or with another architecture (e.g. initializing a BertForSequenceClassification model from a BertForPreTraining model).\n",
      "- This IS NOT expected if you are initializing DebertaV2Model from the checkpoint of a model that you expect to be exactly identical (initializing a BertForSequenceClassification model from a BertForSequenceClassification model).\n"
     ]
    },
    {
     "name": "stdout",
     "output_type": "stream",
     "text": [
      "loading: ./apc_datasets/100.CustomDataset1\\custom.train.txt\n"
     ]
    },
    {
     "name": "stderr",
     "output_type": "stream",
     "text": [
      "100%|██████████| 200/200 [00:06<00:00, 31.35it/s, preparing dataloader...]\n"
     ]
    },
    {
     "name": "stdout",
     "output_type": "stream",
     "text": [
      "Dataset Label Details: {'Positive': 71, 'Negative': 126, 'Neutral': 3, 'Sum': 200}\n",
      "loading: ./apc_datasets/100.CustomDataset1\\custom.test.txt\n"
     ]
    },
    {
     "name": "stderr",
     "output_type": "stream",
     "text": [
      "100%|██████████| 77/77 [00:02<00:00, 32.82it/s, preparing dataloader...]\n"
     ]
    },
    {
     "name": "stdout",
     "output_type": "stream",
     "text": [
      "Dataset Label Details: {'Positive': 50, 'Negative': 26, 'Neutral': 1, 'Sum': 77}\n",
      "2022-10-07 12:20:07,751 INFO: ABSADatasetsVersion:None\t-->\tCalling Count:0\n",
      "2022-10-07 12:20:07,753 INFO: MV:<metric_visualizer.metric_visualizer.MetricVisualizer object at 0x0000022ABC270460>\t-->\tCalling Count:0\n",
      "2022-10-07 12:20:07,754 INFO: PyABSAVersion:1.16.18\t-->\tCalling Count:0\n",
      "2022-10-07 12:20:07,755 INFO: SRD:3\t-->\tCalling Count:554\n",
      "2022-10-07 12:20:07,757 INFO: TorchVersion:1.12.1+cpu+cudaNone\t-->\tCalling Count:0\n",
      "2022-10-07 12:20:07,758 INFO: TransformersVersion:4.20.1\t-->\tCalling Count:0\n",
      "2022-10-07 12:20:07,759 INFO: auto_device:True\t-->\tCalling Count:1\n",
      "2022-10-07 12:20:07,760 INFO: batch_size:16\t-->\tCalling Count:2\n",
      "2022-10-07 12:20:07,761 INFO: cache_dataset:False\t-->\tCalling Count:1\n",
      "2022-10-07 12:20:07,762 INFO: cross_validate_fold:-1\t-->\tCalling Count:1\n",
      "2022-10-07 12:20:07,763 INFO: dataset_file:{'train': ['./apc_datasets/100.CustomDataset1\\\\custom.train.txt'], 'test': ['./apc_datasets/100.CustomDataset1\\\\custom.test.txt'], 'valid': []}\t-->\tCalling Count:4\n",
      "2022-10-07 12:20:07,766 INFO: dataset_name:custom_dataset\t-->\tCalling Count:3\n",
      "2022-10-07 12:20:07,770 INFO: dca_layer:3\t-->\tCalling Count:0\n",
      "2022-10-07 12:20:07,772 INFO: dca_p:1\t-->\tCalling Count:0\n",
      "2022-10-07 12:20:07,773 INFO: deep_ensemble:False\t-->\tCalling Count:0\n",
      "2022-10-07 12:20:07,774 INFO: device:cpu\t-->\tCalling Count:5\n",
      "2022-10-07 12:20:07,776 INFO: device_name:\t-->\tCalling Count:0\n",
      "2022-10-07 12:20:07,778 INFO: dlcf_a:2\t-->\tCalling Count:0\n",
      "2022-10-07 12:20:07,781 INFO: dropout:0.5\t-->\tCalling Count:1\n",
      "2022-10-07 12:20:07,784 INFO: dynamic_truncate:True\t-->\tCalling Count:554\n",
      "2022-10-07 12:20:07,785 INFO: embed_dim:768\t-->\tCalling Count:7\n",
      "2022-10-07 12:20:07,786 INFO: eta:-1\t-->\tCalling Count:2\n",
      "2022-10-07 12:20:07,787 INFO: eta_lr:0.01\t-->\tCalling Count:0\n",
      "2022-10-07 12:20:07,789 INFO: evaluate_begin:2\t-->\tCalling Count:0\n",
      "2022-10-07 12:20:07,791 INFO: hidden_dim:768\t-->\tCalling Count:0\n",
      "2022-10-07 12:20:07,794 INFO: index_to_label:{0: 'Negative', 1: 'Neutral', 2: 'Positive'}\t-->\tCalling Count:2\n",
      "2022-10-07 12:20:07,795 INFO: initializer:xavier_uniform_\t-->\tCalling Count:1\n",
      "2022-10-07 12:20:07,796 INFO: inputs_cols:['lcfs_cdm_vec', 'lcfs_cdw_vec', 'left_lcfs_cdm_vec', 'left_lcfs_cdw_vec', 'right_lcfs_cdm_vec', 'right_lcfs_cdw_vec', 'spc_mask_vec', 'text_bert_indices']\t-->\tCalling Count:4160\n",
      "2022-10-07 12:20:07,798 INFO: l2reg:1e-08\t-->\tCalling Count:1\n",
      "2022-10-07 12:20:07,801 INFO: label_to_index:{'Negative': 0, 'Neutral': 1, 'Positive': 2}\t-->\tCalling Count:0\n",
      "2022-10-07 12:20:07,804 INFO: lcf:cdw\t-->\tCalling Count:3\n",
      "2022-10-07 12:20:07,806 INFO: learning_rate:2e-05\t-->\tCalling Count:1\n",
      "2022-10-07 12:20:07,809 INFO: log_step:-1\t-->\tCalling Count:0\n",
      "2022-10-07 12:20:07,810 INFO: lsa:False\t-->\tCalling Count:0\n",
      "2022-10-07 12:20:07,811 INFO: max_seq_len:80\t-->\tCalling Count:3324\n",
      "2022-10-07 12:20:07,814 INFO: model:<class 'pyabsa.core.apc.models.fast_lsa_s_v2.FAST_LSA_S_V2'>\t-->\tCalling Count:6\n",
      "2022-10-07 12:20:07,815 INFO: model_name:fast_lsa_s_v2\t-->\tCalling Count:1110\n",
      "2022-10-07 12:20:07,820 INFO: model_path_to_save:checkpoints\t-->\tCalling Count:0\n",
      "2022-10-07 12:20:07,822 INFO: num_epoch:5\t-->\tCalling Count:0\n",
      "2022-10-07 12:20:07,824 INFO: optimizer:adamw\t-->\tCalling Count:1\n",
      "2022-10-07 12:20:07,825 INFO: patience:99999\t-->\tCalling Count:0\n",
      "2022-10-07 12:20:07,827 INFO: polarities_dim:3\t-->\tCalling Count:3\n",
      "2022-10-07 12:20:07,828 INFO: pretrained_bert:microsoft/deberta-v3-base\t-->\tCalling Count:4\n",
      "2022-10-07 12:20:07,830 INFO: save_mode:1\t-->\tCalling Count:0\n",
      "2022-10-07 12:20:07,831 INFO: seed:2672\t-->\tCalling Count:7\n",
      "2022-10-07 12:20:07,834 INFO: sigma:0.3\t-->\tCalling Count:0\n",
      "2022-10-07 12:20:07,835 INFO: similarity_threshold:1\t-->\tCalling Count:2\n",
      "2022-10-07 12:20:07,837 INFO: spacy_model:en_core_web_sm\t-->\tCalling Count:3\n",
      "2022-10-07 12:20:07,839 INFO: srd_alignment:True\t-->\tCalling Count:554\n",
      "2022-10-07 12:20:07,840 INFO: use_amp:False\t-->\tCalling Count:1\n",
      "2022-10-07 12:20:07,841 INFO: use_bert_spc:True\t-->\tCalling Count:0\n",
      "2022-10-07 12:20:07,843 INFO: use_syntax_based_SRD:False\t-->\tCalling Count:0\n",
      "2022-10-07 12:20:07,844 INFO: warmup_step:-1\t-->\tCalling Count:0\n",
      "2022-10-07 12:20:07,849 INFO: window:lr\t-->\tCalling Count:0\n",
      "2022-10-07 12:20:07,862 INFO: ***** Running training for Aspect Polarity Classification *****\n",
      "2022-10-07 12:20:07,864 INFO: Training set examples = 200\n",
      "2022-10-07 12:20:07,869 INFO: Test set examples = 77\n",
      "2022-10-07 12:20:07,871 INFO: Total params = 197414417, Trainable params = 197414417, Non-trainable params = 0\n",
      "2022-10-07 12:20:07,873 INFO: Batch size = 16\n",
      "2022-10-07 12:20:07,874 INFO: Num steps = 0\n"
     ]
    },
    {
     "name": "stderr",
     "output_type": "stream",
     "text": [
      "  0%|          | 0/13 [00:00<?, ?it/s, Epoch:0]C:\\Users\\mosha\\anaconda3\\lib\\site-packages\\torch\\amp\\autocast_mode.py:198: UserWarning: User provided device_type of 'cuda', but CUDA is not available. Disabling\n",
      "  warnings.warn('User provided device_type of \\'cuda\\', but CUDA is not available. Disabling')\n",
      "C:\\Users\\mosha\\anaconda3\\lib\\site-packages\\transformers\\models\\deberta_v2\\modeling_deberta_v2.py:539: DeprecationWarning: `np.int` is a deprecated alias for the builtin `int`. To silence this warning, use `int` by itself. Doing this will not modify any behavior and is safe. When replacing `np.int`, you may wish to use e.g. `np.int64` or `np.int32` to specify the precision. If you wish to review your current use, check the release note link for additional information.\n",
      "Deprecated in NumPy 1.20; for more details and guidance: https://numpy.org/devdocs/release/1.20.0-notes.html#deprecations\n",
      "  bucket_pos = np.where(abs_pos <= mid, relative_pos, log_pos * sign).astype(np.int)\n",
      "100%|██████████| 13/13 [03:05<00:00, 14.30s/it, Epoch:0 | Loss: 0.62694734 | No evaluation until epoch:2]\n",
      "100%|██████████| 13/13 [03:08<00:00, 14.48s/it, Epoch:1 | Loss: 0.19460961 | No evaluation until epoch:2]\n",
      "100%|██████████| 13/13 [03:32<00:00, 16.31s/it, Epoch:2 | Loss:0.5257 | Acc:88.31(max:88.31) | F1:58.85(max:58.85)]\n",
      "  0%|          | 0/13 [00:00<?, ?it/s, Epoch:3]C:\\Users\\mosha\\anaconda3\\lib\\site-packages\\torch\\amp\\autocast_mode.py:198: UserWarning: User provided device_type of 'cuda', but CUDA is not available. Disabling\n",
      "  warnings.warn('User provided device_type of \\'cuda\\', but CUDA is not available. Disabling')\n",
      "C:\\Users\\mosha\\anaconda3\\lib\\site-packages\\transformers\\models\\deberta_v2\\modeling_deberta_v2.py:539: DeprecationWarning: `np.int` is a deprecated alias for the builtin `int`. To silence this warning, use `int` by itself. Doing this will not modify any behavior and is safe. When replacing `np.int`, you may wish to use e.g. `np.int64` or `np.int32` to specify the precision. If you wish to review your current use, check the release note link for additional information.\n",
      "Deprecated in NumPy 1.20; for more details and guidance: https://numpy.org/devdocs/release/1.20.0-notes.html#deprecations\n",
      "  bucket_pos = np.where(abs_pos <= mid, relative_pos, log_pos * sign).astype(np.int)\n",
      "100%|██████████| 13/13 [03:29<00:00, 16.13s/it, Epoch:3 | Loss:0.3940 | Acc:88.31(max:88.31) | F1:58.85(max:58.85)]\n",
      "  0%|          | 0/13 [00:00<?, ?it/s, Epoch:4]C:\\Users\\mosha\\anaconda3\\lib\\site-packages\\torch\\amp\\autocast_mode.py:198: UserWarning: User provided device_type of 'cuda', but CUDA is not available. Disabling\n",
      "  warnings.warn('User provided device_type of \\'cuda\\', but CUDA is not available. Disabling')\n",
      "C:\\Users\\mosha\\anaconda3\\lib\\site-packages\\transformers\\models\\deberta_v2\\modeling_deberta_v2.py:539: DeprecationWarning: `np.int` is a deprecated alias for the builtin `int`. To silence this warning, use `int` by itself. Doing this will not modify any behavior and is safe. When replacing `np.int`, you may wish to use e.g. `np.int64` or `np.int32` to specify the precision. If you wish to review your current use, check the release note link for additional information.\n",
      "Deprecated in NumPy 1.20; for more details and guidance: https://numpy.org/devdocs/release/1.20.0-notes.html#deprecations\n",
      "  bucket_pos = np.where(abs_pos <= mid, relative_pos, log_pos * sign).astype(np.int)\n",
      "100%|██████████| 13/13 [03:28<00:00, 16.02s/it, Epoch:4 | Loss:0.0349 | Acc:88.31(max:88.31) | F1:58.85(max:58.85)]"
     ]
    },
    {
     "name": "stdout",
     "output_type": "stream",
     "text": [
      "2022-10-07 12:36:52,152 INFO:  ------------------------------------- Metric Visualizer ------------------------------------- \n",
      "╒════════════════════════════╤══════════════════════════════╤════════════════════════════╤═════════════════════════════════════════════════════════════════════════╕\n",
      "│ Metric                     │ Model & Dataset              │ Values (First 10 values)   │ Summary                                                                 │\n",
      "╞════════════════════════════╪══════════════════════════════╪════════════════════════════╪═════════════════════════════════════════════════════════════════════════╡\n",
      "│ Max-Test-Acc w/o Valid Set │ FAST_LSA_S_V2-custom_dataset │ [88.31]                    │ ['Avg:88.31, Median: 88.31, IQR: 0.0, STD:0.0, Max: 88.31, Min: 88.31'] │\n",
      "├────────────────────────────┼──────────────────────────────┼────────────────────────────┼─────────────────────────────────────────────────────────────────────────┤\n",
      "│ Max-Test-F1 w/o Valid Set  │ FAST_LSA_S_V2-custom_dataset │ [58.85]                    │ ['Avg:58.85, Median: 58.85, IQR: 0.0, STD:0.0, Max: 58.85, Min: 58.85'] │\n",
      "╘════════════════════════════╧══════════════════════════════╧════════════════════════════╧═════════════════════════════════════════════════════════════════════════╛\n",
      " -------------------- https://github.com/yangheng95/metric_visualizer --------------------\n",
      "\n",
      "OrderedDict([('Max-Test-Acc w/o Valid Set', {'trial0': [88.31168831168831]}), ('Max-Test-F1 w/o Valid Set', {'trial0': [58.85008315514374]})])\n",
      "\n"
     ]
    },
    {
     "name": "stderr",
     "output_type": "stream",
     "text": [
      "\n",
      "C:\\Users\\mosha\\anaconda3\\lib\\site-packages\\scipy\\stats\\stats.py:2857: DeprecationWarning: the `interpolation=` argument to percentile was renamed to `method=`, which has additional options.\n",
      "Users of the modes 'nearest', 'lower', 'higher', or 'midpoint' are encouraged to review the method they. (Deprecated NumPy 1.22)\n",
      "  pct = percentile_func(x, rng, axis=axis, interpolation=interpolation,\n",
      "C:\\Users\\mosha\\anaconda3\\lib\\site-packages\\metric_visualizer\\metric_visualizer.py:1625: ResourceWarning: unclosed file <_io.BufferedWriter name='FAST_LSA_S_V2-custom_dataset_2022-10-07-12-36-52_id0.mv'>\n",
      "  pickle.dump(self, open(self.dump_pointer, mode='wb'))\n",
      "ResourceWarning: Enable tracemalloc to get the object allocation traceback\n"
     ]
    },
    {
     "name": "stdout",
     "output_type": "stream",
     "text": [
      "Training finished, we hope you can share your checkpoint with community, please see: https://github.com/yangheng95/PyABSA/blob/release/demos/documents/share-checkpoint.md\n",
      "ABSADatasetsVersion:None\t-->\tCalling Count:0\n",
      "MV:<metric_visualizer.metric_visualizer.MetricVisualizer object at 0x0000022ABC270460>\t-->\tCalling Count:3\n",
      "PyABSAVersion:1.16.18\t-->\tCalling Count:0\n",
      "SRD:3\t-->\tCalling Count:554\n",
      "TorchVersion:1.12.1+cpu+cudaNone\t-->\tCalling Count:0\n",
      "TransformersVersion:4.20.1\t-->\tCalling Count:0\n",
      "auto_device:True\t-->\tCalling Count:66\n",
      "batch_size:16\t-->\tCalling Count:5\n",
      "cache_dataset:False\t-->\tCalling Count:1\n",
      "cross_validate_fold:-1\t-->\tCalling Count:2\n",
      "dataset_file:{'train': ['./apc_datasets/100.CustomDataset1\\\\custom.train.txt'], 'test': ['./apc_datasets/100.CustomDataset1\\\\custom.test.txt'], 'valid': []}\t-->\tCalling Count:9\n",
      "dataset_name:custom_dataset\t-->\tCalling Count:5\n",
      "dca_layer:3\t-->\tCalling Count:0\n",
      "dca_p:1\t-->\tCalling Count:0\n",
      "deep_ensemble:False\t-->\tCalling Count:0\n",
      "device:cpu\t-->\tCalling Count:726\n",
      "device_name:\t-->\tCalling Count:0\n",
      "dlcf_a:2\t-->\tCalling Count:0\n",
      "dropout:0.5\t-->\tCalling Count:1\n",
      "dynamic_truncate:True\t-->\tCalling Count:554\n",
      "embed_dim:768\t-->\tCalling Count:7\n",
      "ensemble_mode:cat\t-->\tCalling Count:0\n",
      "eta:-1\t-->\tCalling Count:242\n",
      "eta_lr:0.01\t-->\tCalling Count:0\n",
      "evaluate_begin:2\t-->\tCalling Count:10\n",
      "hidden_dim:768\t-->\tCalling Count:0\n",
      "index_to_label:{0: 'Negative', 1: 'Neutral', 2: 'Positive'}\t-->\tCalling Count:2\n",
      "initializer:xavier_uniform_\t-->\tCalling Count:1\n",
      "inputs_cols:['lcfs_cdm_vec', 'lcfs_cdw_vec', 'left_lcfs_cdm_vec', 'left_lcfs_cdw_vec', 'right_lcfs_cdm_vec', 'right_lcfs_cdw_vec', 'spc_mask_vec', 'text_bert_indices']\t-->\tCalling Count:4240\n",
      "l2reg:1e-08\t-->\tCalling Count:1\n",
      "label_to_index:{'Negative': 0, 'Neutral': 1, 'Positive': 2}\t-->\tCalling Count:0\n",
      "lcf:cdw\t-->\tCalling Count:83\n",
      "learning_rate:2e-05\t-->\tCalling Count:1\n",
      "log_step:13\t-->\tCalling Count:67\n",
      "loss:0.1653837077319622\t-->\tCalling Count:0\n",
      "lsa:False\t-->\tCalling Count:0\n",
      "max_seq_len:80\t-->\tCalling Count:3644\n",
      "max_test_metrics:{'max_apc_test_acc': 0.8831168831168831, 'max_apc_test_f1': 0.5885008315514374}\t-->\tCalling Count:4\n",
      "metrics_of_this_checkpoint:{'acc': 0.8831168831168831, 'f1': 0.5885008315514374}\t-->\tCalling Count:6\n",
      "model:<class 'pyabsa.core.apc.models.fast_lsa_s_v2.FAST_LSA_S_V2'>\t-->\tCalling Count:6\n",
      "model_name:fast_lsa_s_v2\t-->\tCalling Count:1116\n",
      "model_path_to_save:checkpoints\t-->\tCalling Count:4\n",
      "num_epoch:5\t-->\tCalling Count:2\n",
      "optimizer:adamw\t-->\tCalling Count:1\n",
      "patience:99999\t-->\tCalling Count:3\n",
      "polarities_dim:3\t-->\tCalling Count:6\n",
      "pretrained_bert:microsoft/deberta-v3-base\t-->\tCalling Count:4\n",
      "save_mode:1\t-->\tCalling Count:4\n",
      "seed:2672\t-->\tCalling Count:7\n",
      "sigma:0.3\t-->\tCalling Count:0\n",
      "similarity_threshold:1\t-->\tCalling Count:2\n",
      "spacy_model:en_core_web_sm\t-->\tCalling Count:3\n",
      "srd_alignment:True\t-->\tCalling Count:554\n",
      "use_amp:False\t-->\tCalling Count:1\n",
      "use_bert_spc:True\t-->\tCalling Count:0\n",
      "use_syntax_based_SRD:False\t-->\tCalling Count:0\n",
      "warmup_step:-1\t-->\tCalling Count:66\n",
      "window:lr\t-->\tCalling Count:80\n"
     ]
    },
    {
     "name": "stderr",
     "output_type": "stream",
     "text": [
      "C:\\Users\\mosha\\anaconda3\\lib\\site-packages\\pyabsa\\functional\\trainer\\trainer.py:173: ResourceWarning: unclosed file <_io.TextIOWrapper name='C:\\\\Users\\\\mosha\\\\Task 3\\\\logs\\\\fast_lsa_s_v2_20221007 121936\\\\training.log' mode='a' encoding='utf8'>\n",
      "  self.logger.removeHandler(self.logger.handlers[0])\n",
      "ResourceWarning: Enable tracemalloc to get the object allocation traceback\n"
     ]
    },
    {
     "name": "stdout",
     "output_type": "stream",
     "text": [
      "Load sentiment classifier from checkpoints/fast_lsa_s_v2_custom_dataset_acc_88.31_f1_58.85/\n",
      "config: checkpoints/fast_lsa_s_v2_custom_dataset_acc_88.31_f1_58.85/fast_lsa_s_v2.config\n",
      "state_dict: checkpoints/fast_lsa_s_v2_custom_dataset_acc_88.31_f1_58.85/fast_lsa_s_v2.state_dict\n",
      "model: None\n",
      "tokenizer: checkpoints/fast_lsa_s_v2_custom_dataset_acc_88.31_f1_58.85/fast_lsa_s_v2.tokenizer\n"
     ]
    },
    {
     "name": "stderr",
     "output_type": "stream",
     "text": [
      "Special tokens have been added in the vocabulary, make sure the associated word embeddings are fine-tuned or trained.\n",
      "C:\\Users\\mosha\\anaconda3\\lib\\site-packages\\transformers\\convert_slow_tokenizer.py:434: UserWarning: The sentencepiece tokenizer that you are converting to a fast tokenizer uses the byte fallback option which is not implemented in the fast tokenizers. In practice this means that the fast version of the tokenizer can produce unknown tokens whereas the sentencepiece version would have converted these unknown tokens into a sequence of byte tokens matching the original piece of text.\n",
      "  warnings.warn(\n",
      "Special tokens have been added in the vocabulary, make sure the associated word embeddings are fine-tuned or trained.\n",
      "Some weights of the model checkpoint at microsoft/deberta-v3-base were not used when initializing DebertaV2Model: ['lm_predictions.lm_head.LayerNorm.weight', 'lm_predictions.lm_head.dense.bias', 'lm_predictions.lm_head.LayerNorm.bias', 'mask_predictions.dense.bias', 'mask_predictions.dense.weight', 'mask_predictions.LayerNorm.bias', 'mask_predictions.classifier.weight', 'lm_predictions.lm_head.bias', 'mask_predictions.classifier.bias', 'lm_predictions.lm_head.dense.weight', 'mask_predictions.LayerNorm.weight']\n",
      "- This IS expected if you are initializing DebertaV2Model from the checkpoint of a model trained on another task or with another architecture (e.g. initializing a BertForSequenceClassification model from a BertForPreTraining model).\n",
      "- This IS NOT expected if you are initializing DebertaV2Model from the checkpoint of a model that you expect to be exactly identical (initializing a BertForSequenceClassification model from a BertForSequenceClassification model).\n",
      "Special tokens have been added in the vocabulary, make sure the associated word embeddings are fine-tuned or trained.\n",
      "Special tokens have been added in the vocabulary, make sure the associated word embeddings are fine-tuned or trained.\n"
     ]
    }
   ],
   "source": [
    "apc_config_english = APCConfigManager.get_apc_config_english()\n",
    "apc_config_english.model = APCModelList.FAST_LSA_S_V2\n",
    "apc_config_english.num_epoch = 5   # i decresed the number of epochs because it takes me much time\n",
    "apc_config_english.evaluate_begin = 2\n",
    "apc_config_english.pretrained_bert = 'microsoft/deberta-v3-base'\n",
    "apc_config_english.similarity_threshold = 1\n",
    "apc_config_english.max_seq_len = 80\n",
    "apc_config_english.dropout = 0.5\n",
    "apc_config_english.seed = 2672\n",
    "apc_config_english.log_step = -1\n",
    "apc_config_english.l2reg = 1e-8\n",
    "apc_config_english.cache_dataset = False\n",
    "apc_config_english.dynamic_truncate = True\n",
    "apc_config_english.srd_alignment = True\n",
    "\n",
    "#Dataset = './integrated_datasets/apc_datasets/100.CustomDataset'\n",
    "Dataset = './apc_datasets/100.CustomDataset1'\n",
    "sent_classifier = Trainer(config=apc_config_english,\n",
    "                          dataset=Dataset,\n",
    "                          checkpoint_save_mode=1,\n",
    "                          auto_device=True,\n",
    "                          # load_aug=True \n",
    "                          ).load_trained_model()"
   ]
  },
  {
   "cell_type": "code",
   "execution_count": 4,
   "id": "c0738754",
   "metadata": {},
   "outputs": [
    {
     "name": "stdout",
     "output_type": "stream",
     "text": [
      "To ensure your generation is successful, make sure the dataset name contain \"apc\" and \"dataset\" string \n",
      "save in: apc_datasets\\100.CustomDataset\\custom.train.txt.inference\n",
      "save in: apc_datasets\\100.CustomDataset1\\custom.train.txt.inference\n",
      "save in: apc_datasets\\100.CustomDataset\\custom.test.txt.inference\n",
      "save in: apc_datasets\\100.CustomDataset1\\custom.test.txt.inference\n",
      "Inference set generation finished\n",
      "loading: ./apc_datasets/100.CustomDataset1\\custom.test.txt.inference\n"
     ]
    },
    {
     "name": "stderr",
     "output_type": "stream",
     "text": [
      "C:\\Users\\mosha\\anaconda3\\lib\\site-packages\\transformers\\models\\deberta_v2\\modeling_deberta_v2.py:539: DeprecationWarning: `np.int` is a deprecated alias for the builtin `int`. To silence this warning, use `int` by itself. Doing this will not modify any behavior and is safe. When replacing `np.int`, you may wish to use e.g. `np.int64` or `np.int32` to specify the precision. If you wish to review your current use, check the release note link for additional information.\n",
      "Deprecated in NumPy 1.20; for more details and guidance: https://numpy.org/devdocs/release/1.20.0-notes.html#deprecations\n",
      "  bucket_pos = np.where(abs_pos <= mid, relative_pos, log_pos * sign).astype(np.int)\n"
     ]
    },
    {
     "name": "stdout",
     "output_type": "stream",
     "text": [
      "Example 0:  the response of the \u001b[32m<staff:Positive(confidence:0.95, ref:Positive)>\u001b[0m when someone hit and run my car on the road they helped us by checking cameras the \u001b[32m<shuttle service:Positive(confidence:0.948, ref:Positive)>\u001b[0m was excellent the \u001b[32m<breakfast:Positive(confidence:0.948, ref:Positive)>\u001b[0m was okay the \u001b[32m<room:Positive(confidence:0.948, ref:Positive)>\u001b[0m was also very clean \n",
      "Example 1:  the \u001b[32m<toilets:Negative(confidence:0.96, ref:Negative)>\u001b[0m seemed old and rundown, the \u001b[32m<bath tub:Negative(confidence:0.96, ref:Negative)>\u001b[0m was too small \n",
      "Example 2:  the \u001b[32m<shower:Negative(confidence:0.959, ref:Negative)>\u001b[0m is over the \u001b[32m<bathtub:Negative(confidence:0.959, ref:Negative)>\u001b[0m and the \u001b[32m<hotel:Negative(confidence:0.96, ref:Negative)>\u001b[0m do not provide a mat for the tub there was also an issue with the \u001b[32m<aircond:Negative(confidence:0.959, ref:Negative)>\u001b[0m control were we could not bring up the temperature \n",
      "Example 3:  poor \u001b[32m<housekeeping:Negative(confidence:0.96, ref:Negative)>\u001b[0m \u001b[32m<services:Negative(confidence:0.96, ref:Negative)>\u001b[0m and i found some bags in the \u001b[32m<room:Negative(confidence:0.959, ref:Negative)>\u001b[0m \n",
      "Example 4:  only one person at the \u001b[32m<reception:Negative(confidence:0.96, ref:Negative)>\u001b[0m had to wait for long time to \u001b[32m<check in:Negative(confidence:0.961, ref:Negative)>\u001b[0m after a long flight \n",
      "Example 5:  well the \u001b[32m<parking:Negative(confidence:0.96, ref:Negative)>\u001b[0m was ample but light was really low and it was not very easy to park my car in the space provided \n",
      "Example 6:  extremely welcoming \u001b[32m<staff:Positive(confidence:0.954, ref:Positive)>\u001b[0m very helpful reception desk and porter i felt like i was the only guest with the effort the put in to us very good value for money and the location was perfect for links to theairport, mall of arabia \n",
      "Example 7:  extremely welcomingstaff, very helpful \u001b[32m<reception:Positive(confidence:0.953, ref:Positive)>\u001b[0m desk and porter i felt like i was the only guest with the effort the put in to us very good \u001b[32m<value:Positive(confidence:0.954, ref:Positive)>\u001b[0m for money and the \u001b[32m<location:Positive(confidence:0.952, ref:Positive)>\u001b[0m was perfect for links to theairport, mall of arabia \n",
      "Example 8:  the \u001b[32m<location:Positive(confidence:0.966, ref:Positive)>\u001b[0m opposite of the mall the welcoming of its \u001b[32m<staff:Positive(confidence:0.966, ref:Positive)>\u001b[0m and gesture the \u001b[32m<breakfast:Positive(confidence:0.966, ref:Positive)>\u001b[0m was good as well \n",
      "Example 9:  ��thanks to the professional \u001b[32m<staff:Positive(confidence:0.957, ref:Positive)>\u001b[0m and a special thanks to missshorouk, a beautiful girl who beautified the place and theaccomodation, excellentlocation, very clean rooms and a quiet hotel \n",
      "Example 10:  ��thanks to the professionalstaff, and a special thanks to missshorouk, a beautiful girl who beautified the place and theaccomodation, excellent \u001b[32m<location:Positive(confidence:0.952, ref:Positive)>\u001b[0m very clean rooms and a quiet hotel \n",
      "Example 11:  ��thanks to the professionalstaff, and a special thanks to missshorouk, a beautiful girl who beautified the place and theaccomodation, excellentlocation, very clean \u001b[32m<rooms:Positive(confidence:0.951, ref:Positive)>\u001b[0m and a quiet \u001b[32m<hotel:Positive(confidence:0.952, ref:Positive)>\u001b[0m \n",
      "Example 12:  \u001b[32m<breakfast:Negative(confidence:0.961, ref:Negative)>\u001b[0m was a joke cheating me really first day two croissants plus one overfilled \u001b[32m<coffee:Negative(confidence:0.961, ref:Negative)>\u001b[0m with powder milk the next day suntop juice for one riyal with omlette two riyals no \u001b[32m<coffee:Negative(confidence:0.961, ref:Negative)>\u001b[0m you have to choose juice or \u001b[32m<coffee:Negative(confidence:0.961, ref:Negative)>\u001b[0m i need please my money back immediately \n",
      "Example 13:  \u001b[32m<staff:Positive(confidence:0.966, ref:Positive)>\u001b[0m attended all my requests and provided solutions to all problems thanks to ibrahim very clean and well decorated the \u001b[32m<breakfast:Positive(confidence:0.966, ref:Positive)>\u001b[0m was excellent the \u001b[32m<location:Positive(confidence:0.966, ref:Positive)>\u001b[0m is good \n",
      "Example 14:  the \u001b[31m<location:Negative(confidence:0.957, ref:Positive)>\u001b[0m is just in front of haram also jabal omar towers have a two level mall that have\u001b[31m<coffee shops,:Negative(confidence:0.956, ref:Positive)>\u001b[0m \u001b[31m<supermarket:Negative(confidence:0.957, ref:Positive)>\u001b[0m and one extra level for \u001b[31m<food court:Negative(confidence:0.956, ref:Positive)>\u001b[0m \n",
      "Example 15:  at \u001b[32m<checkout:Negative(confidence:0.925, ref:Negative)>\u001b[0m they let you wait to check theroom, which is fair but should be done in more professional way and made clear to the customer at checkin and in similar way \n",
      "Example 16:  \u001b[32m<breakfast:Negative(confidence:0.951, ref:Negative)>\u001b[0m was scattered around the large hall with noreason, it can be gathered in one place instead of confusing guests looking for items allover the \u001b[32m<breakfast:Negative(confidence:0.951, ref:Negative)>\u001b[0m hall \n",
      "Example 17:  room \u001b[32m<floor:Negative(confidence:0.965, ref:Negative)>\u001b[0m was not even \u001b[32m<bed:Negative(confidence:0.965, ref:Negative)>\u001b[0m \u001b[32m<floor:Negative(confidence:0.965, ref:Negative)>\u001b[0m was higher than room \u001b[32m<floor:Negative(confidence:0.965, ref:Negative)>\u001b[0m which can lead to fall especially when wake up there was leakage of \u001b[32m<washroom:Negative(confidence:0.965, ref:Negative)>\u001b[0m room and commode seat and cover were absent \n",
      "Example 18:  no \u001b[32m<towels:Negative(confidence:0.965, ref:Negative)>\u001b[0m , complementary \u001b[31m<tea:Negative(confidence:0.965, ref:Positive)>\u001b[0m items were provided cleaning/ service \u001b[32m<staff:Negative(confidence:0.965, ref:Negative)>\u001b[0m was least concerned about whatever i asked for \n",
      "Example 19:  \u001b[31m<reception:Negative(confidence:0.963, ref:Positive)>\u001b[0m people were very nice and active but the people responsible for changinglight, bringing bath robe were lazy anddidn't do their job we kept waiting and then left \n",
      "Example 20:  i got a vip \u001b[31m<room:Negative(confidence:0.964, ref:Positive)>\u001b[0m even though ididn't book for that so i feel the confirm level was good \n",
      "Example 21:  the \u001b[32m<breakfast:Negative(confidence:0.962, ref:Negative)>\u001b[0m was not as expected seems like it was prepared too early and served cold \n",
      "Example 22:  very nice \u001b[32m<hotel:Positive(confidence:0.965, ref:Positive)>\u001b[0m big comfortable rooms staff are all fantastic and very accommodating the location is great without beingtoo, breakfast is fresh and has a live station for eggs and pack \n",
      "Example 23:  very nicehotel, big comfortable \u001b[32m<rooms:Positive(confidence:0.964, ref:Positive)>\u001b[0m \u001b[32m<staff:Positive(confidence:0.964, ref:Positive)>\u001b[0m are all fantastic and very accommodating the \u001b[32m<location:Positive(confidence:0.964, ref:Positive)>\u001b[0m is great without beingtoo, \u001b[32m<breakfast:Positive(confidence:0.964, ref:Positive)>\u001b[0m is fresh and has a live station for eggs and pack \n",
      "Example 24:  the girls at the \u001b[32m<reception:Negative(confidence:0.939, ref:Negative)>\u001b[0m were notwelcoming, barelysmiled, barely spokeenglish, seemedrattled, obviously lacked \u001b[32m<training:Negative(confidence:0.941, ref:Negative)>\u001b[0m in hospitality \n",
      "Example 25:  so, i like the \u001b[32m<location:Positive(confidence:0.944, ref:Positive)>\u001b[0m it's near from the seaandthere's a lot of restaurants and coffees near ofit, i and i think the \u001b[32m<price:Positive(confidence:0.94, ref:Positive)>\u001b[0m of renting was good for the dayalso, the \u001b[32m<size:Positive(confidence:0.941, ref:Positive)>\u001b[0m of \u001b[32m<room:Positive(confidence:0.941, ref:Positive)>\u001b[0m was verygood, and the \u001b[32m<internet:Positive(confidence:0.94, ref:Positive)>\u001b[0m was perfect \n",
      "Example 26:  dthree to 4 times i went down to ask \u001b[32m<towel:Negative(confidence:0.964, ref:Negative)>\u001b[0m every time say after 1 hour poor serviceeven ididn't stay one day only paid money and let half day \n",
      "Example 27:  the \u001b[32m<lobby:Positive(confidence:0.963, ref:Positive)>\u001b[0m smells good the \u001b[32m<rooms:Positive(confidence:0.963, ref:Positive)>\u001b[0m areclean, and good \u001b[32m<value:Positive(confidence:0.963, ref:Positive)>\u001b[0m for the price the \u001b[32m<staff:Positive(confidence:0.963, ref:Positive)>\u001b[0m were very helpful andaccommodating, \n",
      "Example 28:  \u001b[32m<facilities:Positive(confidence:0.97, ref:Positive)>\u001b[0m quite complete \u001b[32m<breakfast:Positive(confidence:0.97, ref:Positive)>\u001b[0m is various and delicious \n",
      "Example 29:  the professional \u001b[32m<service:Positive(confidence:0.965, ref:Positive)>\u001b[0m and the clean of all \u001b[32m<rooms:Positive(confidence:0.967, ref:Positive)>\u001b[0m, hilton is my favorite \u001b[32m<hotel:Positive(confidence:0.966, ref:Positive)>\u001b[0m in riyadh thank you for everything \n",
      "Example 30:  great great awesome \u001b[32m<location:Positive(confidence:0.945, ref:Positive)>\u001b[0m near to gate no 21so, its closer to the female praying area that makes it all the more convenient and family friendly helpful \u001b[32m<receptionist:Positive(confidence:0.944, ref:Positive)>\u001b[0m who was quite fluent in conversing in english \n",
      "Example 31:  the \u001b[32m<shower:Negative(confidence:0.962, ref:Negative)>\u001b[0m area in room 121 had a wrongslope, so water would collect on the floor the \u001b[31m<breakfast:Negative(confidence:0.962, ref:Positive)>\u001b[0m isok, with not much choice there are no choices for \u001b[31m<dinner:Negative(confidence:0.962, ref:Neutral)>\u001b[0m except sandwiches \n",
      "Example 32:  \u001b[32m<location:Positive(confidence:0.969, ref:Positive)>\u001b[0m was excellent and \u001b[32m<staff:Positive(confidence:0.969, ref:Positive)>\u001b[0m was very nice and humble, above all \u001b[32m<breakfast:Positive(confidence:0.968, ref:Positive)>\u001b[0m was excellent \n",
      "inference result saved in: C:\\Users\\mosha\\Task 3\\apc_inference.result.json\n",
      "Total samples:77\n",
      "Labeled samples:77\n",
      "Prediction Accuracy:88.31168831168831%\n"
     ]
    }
   ],
   "source": [
    "Dataset = './apc_datasets/100.CustomDataset1'\n",
    "generate_inference_set_for_apc('Dataset')\n",
    "\n",
    "dataset = './apc_datasets/100.CustomDataset1'\n",
    "\n",
    "inference_sets = dataset\n",
    "results = sent_classifier.batch_infer(target_file=inference_sets,\n",
    "                     print_result=True,\n",
    "                     save_result=True,\n",
    "                     ignore_error=False,\n",
    "                     )"
   ]
  },
  {
   "cell_type": "markdown",
   "id": "c9fe2a02",
   "metadata": {},
   "source": [
    "\n",
    "<div class=\"alert alert-block alert-success\">\n",
    "<b>Model: Dlcfs_dca_bert</b>\n",
    "\n",
    "***\n",
    "</div>"
   ]
  },
  {
   "cell_type": "code",
   "execution_count": 6,
   "id": "5698e0e9",
   "metadata": {
    "scrolled": false
   },
   "outputs": [
    {
     "name": "stdout",
     "output_type": "stream",
     "text": [
      "Remote ABSADataset version: 2022.09.20 Local ABSADatasets version: None\n",
      "Unknown local version for ABSADatasets, please check the latest version of ABSADatasets at https://github.com/yangheng95/ABSADatasets\n",
      "Try to load ['./apc_datasets/100.CustomDataset3'] dataset from local\n"
     ]
    },
    {
     "name": "stderr",
     "output_type": "stream",
     "text": [
      "Special tokens have been added in the vocabulary, make sure the associated word embeddings are fine-tuned or trained.\n",
      "Special tokens have been added in the vocabulary, make sure the associated word embeddings are fine-tuned or trained.\n",
      "Some weights of the model checkpoint at microsoft/deberta-v3-base were not used when initializing DebertaV2Model: ['mask_predictions.LayerNorm.bias', 'mask_predictions.classifier.bias', 'lm_predictions.lm_head.dense.bias', 'mask_predictions.dense.bias', 'lm_predictions.lm_head.LayerNorm.weight', 'lm_predictions.lm_head.dense.weight', 'mask_predictions.dense.weight', 'lm_predictions.lm_head.LayerNorm.bias', 'mask_predictions.classifier.weight', 'mask_predictions.LayerNorm.weight', 'lm_predictions.lm_head.bias']\n",
      "- This IS expected if you are initializing DebertaV2Model from the checkpoint of a model trained on another task or with another architecture (e.g. initializing a BertForSequenceClassification model from a BertForPreTraining model).\n",
      "- This IS NOT expected if you are initializing DebertaV2Model from the checkpoint of a model that you expect to be exactly identical (initializing a BertForSequenceClassification model from a BertForSequenceClassification model).\n"
     ]
    },
    {
     "name": "stdout",
     "output_type": "stream",
     "text": [
      "loading: ./apc_datasets/100.CustomDataset3\\custom.train.txt\n"
     ]
    },
    {
     "name": "stderr",
     "output_type": "stream",
     "text": [
      "100%|██████████| 200/200 [02:19<00:00,  1.44it/s, preparing dataloader...]\n"
     ]
    },
    {
     "name": "stdout",
     "output_type": "stream",
     "text": [
      "Dataset Label Details: {'Negative': 126, 'Positive': 71, 'Neutral': 3, 'Sum': 200}\n",
      "loading: ./apc_datasets/100.CustomDataset3\\custom.test.txt\n"
     ]
    },
    {
     "name": "stderr",
     "output_type": "stream",
     "text": [
      "100%|██████████| 77/77 [00:52<00:00,  1.47it/s, preparing dataloader...]"
     ]
    },
    {
     "name": "stdout",
     "output_type": "stream",
     "text": [
      "Dataset Label Details: {'Negative': 26, 'Positive': 50, 'Neutral': 1, 'Sum': 77}\n",
      "2022-10-07 13:42:01,943 INFO: ABSADatasetsVersion:None\t-->\tCalling Count:0\n",
      "2022-10-07 13:42:01,943 INFO: MV:<metric_visualizer.metric_visualizer.MetricVisualizer object at 0x0000023BDC786E20>\t-->\tCalling Count:0\n",
      "2022-10-07 13:42:01,943 INFO: PyABSAVersion:1.16.18\t-->\tCalling Count:0\n",
      "2022-10-07 13:42:01,943 INFO: SRD:3\t-->\tCalling Count:0\n",
      "2022-10-07 13:42:01,947 INFO: TorchVersion:1.12.1+cpu+cudaNone\t-->\tCalling Count:0\n",
      "2022-10-07 13:42:01,949 INFO: TransformersVersion:4.20.1\t-->\tCalling Count:0\n",
      "2022-10-07 13:42:01,950 INFO: auto_device:True\t-->\tCalling Count:1\n",
      "2022-10-07 13:42:01,950 INFO: batch_size:16\t-->\tCalling Count:2\n",
      "2022-10-07 13:42:01,952 INFO: bert_dim:768\t-->\tCalling Count:9\n",
      "2022-10-07 13:42:01,953 INFO: cache_dataset:False\t-->\tCalling Count:1\n",
      "2022-10-07 13:42:01,955 INFO: cross_validate_fold:-1\t-->\tCalling Count:1\n",
      "2022-10-07 13:42:01,957 INFO: dataset_file:{'train': ['./apc_datasets/100.CustomDataset3\\\\custom.train.txt'], 'test': ['./apc_datasets/100.CustomDataset3\\\\custom.test.txt'], 'valid': []}\t-->\tCalling Count:4\n",
      "2022-10-07 13:42:01,959 INFO: dataset_name:custom_dataset\t-->\tCalling Count:3\n",
      "2022-10-07 13:42:01,961 INFO: dca_layer:3\t-->\tCalling Count:1\n",
      "2022-10-07 13:42:01,962 INFO: dca_p:1\t-->\tCalling Count:0\n",
      "2022-10-07 13:42:01,963 INFO: deep_ensemble:False\t-->\tCalling Count:0\n",
      "2022-10-07 13:42:01,966 INFO: device:cpu\t-->\tCalling Count:5\n",
      "2022-10-07 13:42:01,967 INFO: device_name:\t-->\tCalling Count:0\n",
      "2022-10-07 13:42:01,969 INFO: dlcf_a:2\t-->\tCalling Count:1108\n",
      "2022-10-07 13:42:01,970 INFO: dropout:0.5\t-->\tCalling Count:1\n",
      "2022-10-07 13:42:01,972 INFO: dynamic_truncate:True\t-->\tCalling Count:1108\n",
      "2022-10-07 13:42:01,975 INFO: embed_dim:768\t-->\tCalling Count:2\n",
      "2022-10-07 13:42:01,978 INFO: eta:-1\t-->\tCalling Count:0\n",
      "2022-10-07 13:42:01,979 INFO: eta_lr:0.01\t-->\tCalling Count:0\n",
      "2022-10-07 13:42:01,981 INFO: evaluate_begin:2\t-->\tCalling Count:0\n",
      "2022-10-07 13:42:01,984 INFO: hidden_dim:768\t-->\tCalling Count:0\n",
      "2022-10-07 13:42:01,985 INFO: index_to_label:{0: 'Negative', 1: 'Neutral', 2: 'Positive'}\t-->\tCalling Count:2\n",
      "2022-10-07 13:42:01,985 INFO: initializer:xavier_uniform_\t-->\tCalling Count:1\n",
      "2022-10-07 13:42:01,985 INFO: inputs_cols:['depend_vec', 'depended_vec', 'dlcfs_vec', 'text_bert_indices', 'text_raw_bert_indices']\t-->\tCalling Count:4160\n",
      "2022-10-07 13:42:01,993 INFO: l2reg:1e-08\t-->\tCalling Count:1\n",
      "2022-10-07 13:42:01,993 INFO: label_to_index:{'Negative': 0, 'Neutral': 1, 'Positive': 2}\t-->\tCalling Count:0\n",
      "2022-10-07 13:42:01,993 INFO: lcf:cdw\t-->\tCalling Count:554\n"
     ]
    },
    {
     "name": "stderr",
     "output_type": "stream",
     "text": [
      "\n"
     ]
    },
    {
     "name": "stdout",
     "output_type": "stream",
     "text": [
      "2022-10-07 13:42:02,001 INFO: learning_rate:2e-05\t-->\tCalling Count:1\n",
      "2022-10-07 13:42:02,005 INFO: log_step:-1\t-->\tCalling Count:0\n",
      "2022-10-07 13:42:02,007 INFO: lsa:False\t-->\tCalling Count:0\n",
      "2022-10-07 13:42:02,009 INFO: max_seq_len:80\t-->\tCalling Count:13338\n",
      "2022-10-07 13:42:02,010 INFO: model:<class 'pyabsa.core.apc.models.dlcfs_dca_bert.DLCFS_DCA_BERT'>\t-->\tCalling Count:6\n",
      "2022-10-07 13:42:02,012 INFO: model_name:dlcfs_dca_bert\t-->\tCalling Count:833\n",
      "2022-10-07 13:42:02,017 INFO: model_path_to_save:checkpoints\t-->\tCalling Count:0\n",
      "2022-10-07 13:42:02,018 INFO: num_epoch:5\t-->\tCalling Count:0\n",
      "2022-10-07 13:42:02,018 INFO: optimizer:adamw\t-->\tCalling Count:1\n",
      "2022-10-07 13:42:02,022 INFO: patience:99999\t-->\tCalling Count:0\n",
      "2022-10-07 13:42:02,023 INFO: polarities_dim:3\t-->\tCalling Count:3\n",
      "2022-10-07 13:42:02,023 INFO: pretrained_bert:microsoft/deberta-v3-base\t-->\tCalling Count:4\n",
      "2022-10-07 13:42:02,023 INFO: save_mode:1\t-->\tCalling Count:0\n",
      "2022-10-07 13:42:02,023 INFO: seed:2672\t-->\tCalling Count:7\n",
      "2022-10-07 13:42:02,032 INFO: sigma:0.3\t-->\tCalling Count:0\n",
      "2022-10-07 13:42:02,036 INFO: similarity_threshold:1\t-->\tCalling Count:2\n",
      "2022-10-07 13:42:02,038 INFO: spacy_model:en_core_web_sm\t-->\tCalling Count:557\n",
      "2022-10-07 13:42:02,040 INFO: srd_alignment:True\t-->\tCalling Count:277\n",
      "2022-10-07 13:42:02,042 INFO: use_amp:False\t-->\tCalling Count:1\n",
      "2022-10-07 13:42:02,045 INFO: use_bert_spc:True\t-->\tCalling Count:0\n",
      "2022-10-07 13:42:02,046 INFO: use_syntax_based_SRD:False\t-->\tCalling Count:0\n",
      "2022-10-07 13:42:02,051 INFO: warmup_step:-1\t-->\tCalling Count:0\n",
      "2022-10-07 13:42:02,053 INFO: window:lr\t-->\tCalling Count:0\n",
      "2022-10-07 13:42:02,064 INFO: ***** Running training for Aspect Polarity Classification *****\n",
      "2022-10-07 13:42:02,067 INFO: Training set examples = 200\n",
      "2022-10-07 13:42:02,073 INFO: Test set examples = 77\n",
      "2022-10-07 13:42:02,076 INFO: Total params = 198602514, Trainable params = 198602514, Non-trainable params = 0\n",
      "2022-10-07 13:42:02,078 INFO: Batch size = 16\n",
      "2022-10-07 13:42:02,079 INFO: Num steps = 0\n"
     ]
    },
    {
     "name": "stderr",
     "output_type": "stream",
     "text": [
      "  0%|          | 0/13 [00:00<?, ?it/s, Epoch:0]C:\\Users\\mosha\\anaconda3\\lib\\site-packages\\torch\\amp\\autocast_mode.py:198: UserWarning: User provided device_type of 'cuda', but CUDA is not available. Disabling\n",
      "  warnings.warn('User provided device_type of \\'cuda\\', but CUDA is not available. Disabling')\n",
      "100%|██████████| 13/13 [04:47<00:00, 22.09s/it, Epoch:0 | Loss: 1.11261332 | No evaluation until epoch:2]\n",
      "100%|██████████| 13/13 [04:47<00:00, 22.10s/it, Epoch:1 | Loss: 0.57316399 | No evaluation until epoch:2]\n",
      "100%|██████████| 13/13 [04:56<00:00, 22.79s/it, Epoch:2 | Loss:0.6440 | Acc:38.96(max:38.96) | F1:22.45(max:22.45)]\n",
      "  0%|          | 0/13 [00:00<?, ?it/s, Epoch:3]C:\\Users\\mosha\\anaconda3\\lib\\site-packages\\torch\\amp\\autocast_mode.py:198: UserWarning: User provided device_type of 'cuda', but CUDA is not available. Disabling\n",
      "  warnings.warn('User provided device_type of \\'cuda\\', but CUDA is not available. Disabling')\n",
      "C:\\Users\\mosha\\anaconda3\\lib\\site-packages\\transformers\\models\\deberta_v2\\modeling_deberta_v2.py:539: DeprecationWarning: `np.int` is a deprecated alias for the builtin `int`. To silence this warning, use `int` by itself. Doing this will not modify any behavior and is safe. When replacing `np.int`, you may wish to use e.g. `np.int64` or `np.int32` to specify the precision. If you wish to review your current use, check the release note link for additional information.\n",
      "Deprecated in NumPy 1.20; for more details and guidance: https://numpy.org/devdocs/release/1.20.0-notes.html#deprecations\n",
      "  bucket_pos = np.where(abs_pos <= mid, relative_pos, log_pos * sign).astype(np.int)\n",
      "100%|██████████| 13/13 [05:06<00:00, 23.60s/it, Epoch:3 | Loss:0.8968 | Acc:80.52(max:80.52) | F1:53.67(max:53.67)]\n",
      "  0%|          | 0/13 [00:00<?, ?it/s, Epoch:4]C:\\Users\\mosha\\anaconda3\\lib\\site-packages\\torch\\amp\\autocast_mode.py:198: UserWarning: User provided device_type of 'cuda', but CUDA is not available. Disabling\n",
      "  warnings.warn('User provided device_type of \\'cuda\\', but CUDA is not available. Disabling')\n",
      "C:\\Users\\mosha\\anaconda3\\lib\\site-packages\\transformers\\models\\deberta_v2\\modeling_deberta_v2.py:539: DeprecationWarning: `np.int` is a deprecated alias for the builtin `int`. To silence this warning, use `int` by itself. Doing this will not modify any behavior and is safe. When replacing `np.int`, you may wish to use e.g. `np.int64` or `np.int32` to specify the precision. If you wish to review your current use, check the release note link for additional information.\n",
      "Deprecated in NumPy 1.20; for more details and guidance: https://numpy.org/devdocs/release/1.20.0-notes.html#deprecations\n",
      "  bucket_pos = np.where(abs_pos <= mid, relative_pos, log_pos * sign).astype(np.int)\n",
      "100%|██████████| 13/13 [05:36<00:00, 25.90s/it, Epoch:4 | Loss:0.7868 | Acc:81.82(max:81.82) | F1:51.65(max:53.67)]\n",
      "C:\\Users\\mosha\\anaconda3\\lib\\site-packages\\scipy\\stats\\stats.py:2857: DeprecationWarning: the `interpolation=` argument to percentile was renamed to `method=`, which has additional options.\n",
      "Users of the modes 'nearest', 'lower', 'higher', or 'midpoint' are encouraged to review the method they. (Deprecated NumPy 1.22)\n",
      "  pct = percentile_func(x, rng, axis=axis, interpolation=interpolation,\n"
     ]
    },
    {
     "name": "stdout",
     "output_type": "stream",
     "text": [
      "2022-10-07 14:07:16,687 INFO:  ------------------------------------- Metric Visualizer ------------------------------------- \n",
      "╒════════════════════════════╤═══════════════════════════════╤════════════════════════════╤═════════════════════════════════════════════════════════════════════════╕\n",
      "│ Metric                     │ Model & Dataset               │ Values (First 10 values)   │ Summary                                                                 │\n",
      "╞════════════════════════════╪═══════════════════════════════╪════════════════════════════╪═════════════════════════════════════════════════════════════════════════╡\n",
      "│ Max-Test-Acc w/o Valid Set │ DLCFS_DCA_BERT-custom_dataset │ [81.82]                    │ ['Avg:81.82, Median: 81.82, IQR: 0.0, STD:0.0, Max: 81.82, Min: 81.82'] │\n",
      "├────────────────────────────┼───────────────────────────────┼────────────────────────────┼─────────────────────────────────────────────────────────────────────────┤\n",
      "│ Max-Test-F1 w/o Valid Set  │ DLCFS_DCA_BERT-custom_dataset │ [53.67]                    │ ['Avg:53.67, Median: 53.67, IQR: 0.0, STD:0.0, Max: 53.67, Min: 53.67'] │\n",
      "╘════════════════════════════╧═══════════════════════════════╧════════════════════════════╧═════════════════════════════════════════════════════════════════════════╛\n",
      " -------------------- https://github.com/yangheng95/metric_visualizer --------------------\n",
      "\n",
      "OrderedDict([('Max-Test-Acc w/o Valid Set', {'trial0': [81.81818181818183]}), ('Max-Test-F1 w/o Valid Set', {'trial0': [53.67132867132868]})])\n",
      "\n"
     ]
    },
    {
     "name": "stderr",
     "output_type": "stream",
     "text": [
      "C:\\Users\\mosha\\anaconda3\\lib\\site-packages\\metric_visualizer\\metric_visualizer.py:1625: ResourceWarning: unclosed file <_io.BufferedWriter name='DLCFS_DCA_BERT-custom_dataset_2022-10-07-14-07-16_id0.mv'>\n",
      "  pickle.dump(self, open(self.dump_pointer, mode='wb'))\n",
      "ResourceWarning: Enable tracemalloc to get the object allocation traceback\n"
     ]
    },
    {
     "name": "stdout",
     "output_type": "stream",
     "text": [
      "Training finished, we hope you can share your checkpoint with community, please see: https://github.com/yangheng95/PyABSA/blob/release/demos/documents/share-checkpoint.md\n",
      "ABSADatasetsVersion:None\t-->\tCalling Count:0\n",
      "MV:<metric_visualizer.metric_visualizer.MetricVisualizer object at 0x0000023BDC786E20>\t-->\tCalling Count:3\n",
      "PyABSAVersion:1.16.18\t-->\tCalling Count:0\n",
      "SRD:3\t-->\tCalling Count:0\n",
      "TorchVersion:1.12.1+cpu+cudaNone\t-->\tCalling Count:0\n",
      "TransformersVersion:4.20.1\t-->\tCalling Count:0\n",
      "auto_device:True\t-->\tCalling Count:66\n",
      "batch_size:16\t-->\tCalling Count:5\n",
      "bert_dim:768\t-->\tCalling Count:9\n",
      "cache_dataset:False\t-->\tCalling Count:1\n",
      "cross_validate_fold:-1\t-->\tCalling Count:2\n",
      "dataset_file:{'train': ['./apc_datasets/100.CustomDataset3\\\\custom.train.txt'], 'test': ['./apc_datasets/100.CustomDataset3\\\\custom.test.txt'], 'valid': []}\t-->\tCalling Count:9\n",
      "dataset_name:custom_dataset\t-->\tCalling Count:7\n",
      "dca_layer:3\t-->\tCalling Count:81\n",
      "dca_p:1\t-->\tCalling Count:5402\n",
      "deep_ensemble:False\t-->\tCalling Count:0\n",
      "device:cpu\t-->\tCalling Count:488\n",
      "device_name:\t-->\tCalling Count:0\n",
      "dlcf_a:2\t-->\tCalling Count:1108\n",
      "dropout:0.5\t-->\tCalling Count:1\n",
      "dynamic_truncate:True\t-->\tCalling Count:1108\n",
      "embed_dim:768\t-->\tCalling Count:2\n",
      "ensemble_mode:cat\t-->\tCalling Count:0\n",
      "eta:-1\t-->\tCalling Count:0\n",
      "eta_lr:0.01\t-->\tCalling Count:0\n",
      "evaluate_begin:2\t-->\tCalling Count:10\n",
      "hidden_dim:768\t-->\tCalling Count:0\n",
      "index_to_label:{0: 'Negative', 1: 'Neutral', 2: 'Positive'}\t-->\tCalling Count:2\n",
      "initializer:xavier_uniform_\t-->\tCalling Count:1\n",
      "inputs_cols:['depend_vec', 'depended_vec', 'dlcfs_vec', 'text_bert_indices', 'text_raw_bert_indices']\t-->\tCalling Count:4240\n",
      "l2reg:1e-08\t-->\tCalling Count:1\n",
      "label_to_index:{'Negative': 0, 'Neutral': 1, 'Positive': 2}\t-->\tCalling Count:0\n",
      "lcf:cdw\t-->\tCalling Count:554\n",
      "learning_rate:2e-05\t-->\tCalling Count:1\n",
      "log_step:13\t-->\tCalling Count:67\n",
      "loss:0.476279091835022\t-->\tCalling Count:0\n",
      "lsa:False\t-->\tCalling Count:0\n",
      "max_seq_len:80\t-->\tCalling Count:13898\n",
      "max_test_metrics:{'max_apc_test_acc': 0.8181818181818182, 'max_apc_test_f1': 0.5367132867132868}\t-->\tCalling Count:11\n",
      "metrics_of_this_checkpoint:{'acc': 0.8181818181818182, 'f1': 0.5165165165165165}\t-->\tCalling Count:6\n",
      "model:<class 'pyabsa.core.apc.models.dlcfs_dca_bert.DLCFS_DCA_BERT'>\t-->\tCalling Count:6\n",
      "model_name:dlcfs_dca_bert\t-->\tCalling Count:849\n",
      "model_path_to_save:checkpoints\t-->\tCalling Count:10\n",
      "num_epoch:5\t-->\tCalling Count:2\n",
      "optimizer:adamw\t-->\tCalling Count:1\n",
      "patience:99999\t-->\tCalling Count:6\n",
      "polarities_dim:3\t-->\tCalling Count:6\n",
      "pretrained_bert:microsoft/deberta-v3-base\t-->\tCalling Count:4\n",
      "save_mode:1\t-->\tCalling Count:8\n",
      "seed:2672\t-->\tCalling Count:7\n",
      "sigma:0.3\t-->\tCalling Count:0\n",
      "similarity_threshold:1\t-->\tCalling Count:2\n",
      "spacy_model:en_core_web_sm\t-->\tCalling Count:557\n",
      "srd_alignment:True\t-->\tCalling Count:277\n",
      "use_amp:False\t-->\tCalling Count:1\n",
      "use_bert_spc:True\t-->\tCalling Count:80\n",
      "use_syntax_based_SRD:False\t-->\tCalling Count:0\n",
      "warmup_step:-1\t-->\tCalling Count:66\n",
      "window:lr\t-->\tCalling Count:0\n"
     ]
    },
    {
     "name": "stderr",
     "output_type": "stream",
     "text": [
      "C:\\Users\\mosha\\anaconda3\\lib\\site-packages\\pyabsa\\functional\\trainer\\trainer.py:173: ResourceWarning: unclosed file <_io.TextIOWrapper name='C:\\\\Users\\\\mosha\\\\Task 3\\\\logs\\\\dlcfs_dca_bert_20221007 125734\\\\training.log' mode='a' encoding='utf8'>\n",
      "  self.logger.removeHandler(self.logger.handlers[0])\n",
      "ResourceWarning: Enable tracemalloc to get the object allocation traceback\n"
     ]
    },
    {
     "name": "stdout",
     "output_type": "stream",
     "text": [
      "Load sentiment classifier from checkpoints/dlcfs_dca_bert_custom_dataset_acc_81.82_f1_51.65/\n",
      "config: checkpoints/dlcfs_dca_bert_custom_dataset_acc_81.82_f1_51.65/dlcfs_dca_bert.config\n",
      "state_dict: checkpoints/dlcfs_dca_bert_custom_dataset_acc_81.82_f1_51.65/dlcfs_dca_bert.state_dict\n",
      "model: None\n",
      "tokenizer: checkpoints/dlcfs_dca_bert_custom_dataset_acc_81.82_f1_51.65/dlcfs_dca_bert.tokenizer\n"
     ]
    },
    {
     "name": "stderr",
     "output_type": "stream",
     "text": [
      "Special tokens have been added in the vocabulary, make sure the associated word embeddings are fine-tuned or trained.\n",
      "C:\\Users\\mosha\\anaconda3\\lib\\site-packages\\transformers\\convert_slow_tokenizer.py:434: UserWarning: The sentencepiece tokenizer that you are converting to a fast tokenizer uses the byte fallback option which is not implemented in the fast tokenizers. In practice this means that the fast version of the tokenizer can produce unknown tokens whereas the sentencepiece version would have converted these unknown tokens into a sequence of byte tokens matching the original piece of text.\n",
      "  warnings.warn(\n",
      "Special tokens have been added in the vocabulary, make sure the associated word embeddings are fine-tuned or trained.\n",
      "Some weights of the model checkpoint at microsoft/deberta-v3-base were not used when initializing DebertaV2Model: ['mask_predictions.LayerNorm.bias', 'mask_predictions.classifier.bias', 'lm_predictions.lm_head.dense.bias', 'mask_predictions.dense.bias', 'lm_predictions.lm_head.LayerNorm.weight', 'lm_predictions.lm_head.dense.weight', 'mask_predictions.dense.weight', 'lm_predictions.lm_head.LayerNorm.bias', 'mask_predictions.classifier.weight', 'mask_predictions.LayerNorm.weight', 'lm_predictions.lm_head.bias']\n",
      "- This IS expected if you are initializing DebertaV2Model from the checkpoint of a model trained on another task or with another architecture (e.g. initializing a BertForSequenceClassification model from a BertForPreTraining model).\n",
      "- This IS NOT expected if you are initializing DebertaV2Model from the checkpoint of a model that you expect to be exactly identical (initializing a BertForSequenceClassification model from a BertForSequenceClassification model).\n",
      "Special tokens have been added in the vocabulary, make sure the associated word embeddings are fine-tuned or trained.\n",
      "Special tokens have been added in the vocabulary, make sure the associated word embeddings are fine-tuned or trained.\n"
     ]
    }
   ],
   "source": [
    "apc_config_english = APCConfigManager.get_apc_config_english()\n",
    "apc_config_english.model = APCModelList.DLCFS_DCA_BERT\n",
    "apc_config_english.num_epoch = 5   # i decresed the number of epochs because it takes me much time\n",
    "apc_config_english.evaluate_begin = 2\n",
    "apc_config_english.pretrained_bert = 'microsoft/deberta-v3-base'\n",
    "apc_config_english.similarity_threshold = 1\n",
    "apc_config_english.max_seq_len = 80\n",
    "apc_config_english.dropout = 0.5\n",
    "apc_config_english.seed = 2672\n",
    "apc_config_english.log_step = -1\n",
    "apc_config_english.l2reg = 1e-8\n",
    "apc_config_english.cache_dataset = False\n",
    "apc_config_english.dynamic_truncate = True\n",
    "apc_config_english.srd_alignment = True\n",
    "\n",
    "#Dataset = './integrated_datasets/apc_datasets/100.CustomDataset'\n",
    "Dataset = './apc_datasets/100.CustomDataset3'\n",
    "sent_classifier = Trainer(config=apc_config_english,\n",
    "                          dataset=Dataset,\n",
    "                          checkpoint_save_mode=1,\n",
    "                          auto_device=True,\n",
    "                          # load_aug=True \n",
    "                          ).load_trained_model()"
   ]
  },
  {
   "cell_type": "code",
   "execution_count": 7,
   "id": "96229af5",
   "metadata": {},
   "outputs": [
    {
     "name": "stdout",
     "output_type": "stream",
     "text": [
      "To ensure your generation is successful, make sure the dataset name contain \"apc\" and \"dataset\" string \n",
      "save in: apc_datasets\\100.CustomDataset\\custom.train.txt.inference\n",
      "save in: apc_datasets\\100.CustomDataset1\\custom.train.txt.inference\n",
      "save in: apc_datasets\\100.CustomDataset2\\custom.train.txt.inference\n",
      "save in: apc_datasets\\100.CustomDataset3\\custom.train.txt.inference\n",
      "save in: apc_datasets\\100.CustomDataset\\custom.test.txt.inference\n",
      "save in: apc_datasets\\100.CustomDataset1\\custom.test.txt.inference\n",
      "save in: apc_datasets\\100.CustomDataset2\\custom.test.txt.inference\n",
      "save in: apc_datasets\\100.CustomDataset3\\custom.test.txt.inference\n",
      "Inference set generation finished\n",
      "loading: ./apc_datasets/100.CustomDataset3\\custom.test.txt.inference\n"
     ]
    },
    {
     "name": "stderr",
     "output_type": "stream",
     "text": [
      "C:\\Users\\mosha\\anaconda3\\lib\\site-packages\\transformers\\models\\deberta_v2\\modeling_deberta_v2.py:539: DeprecationWarning: `np.int` is a deprecated alias for the builtin `int`. To silence this warning, use `int` by itself. Doing this will not modify any behavior and is safe. When replacing `np.int`, you may wish to use e.g. `np.int64` or `np.int32` to specify the precision. If you wish to review your current use, check the release note link for additional information.\n",
      "Deprecated in NumPy 1.20; for more details and guidance: https://numpy.org/devdocs/release/1.20.0-notes.html#deprecations\n",
      "  bucket_pos = np.where(abs_pos <= mid, relative_pos, log_pos * sign).astype(np.int)\n"
     ]
    },
    {
     "name": "stdout",
     "output_type": "stream",
     "text": [
      "Example 0:  the response of the \u001b[32m<staff:Positive(confidence:0.814, ref:Positive)>\u001b[0m when someone hit and run my car on the road they helped us by checking cameras the \u001b[32m<shuttle service:Positive(confidence:0.783, ref:Positive)>\u001b[0m was excellent the \u001b[32m<breakfast:Positive(confidence:0.831, ref:Positive)>\u001b[0m was okay the \u001b[32m<room:Positive(confidence:0.859, ref:Positive)>\u001b[0m was also very clean \n",
      "Example 1:  the \u001b[31m<toilets:Positive(confidence:0.936, ref:Negative)>\u001b[0m seemed old and rundown, the \u001b[31m<bath tub:Positive(confidence:0.867, ref:Negative)>\u001b[0m was too small \n",
      "Example 2:  the \u001b[32m<shower:Negative(confidence:0.96, ref:Negative)>\u001b[0m is over the \u001b[32m<bathtub:Negative(confidence:0.951, ref:Negative)>\u001b[0m and the \u001b[32m<hotel:Negative(confidence:0.951, ref:Negative)>\u001b[0m do not provide a mat for the tub there was also an issue with the \u001b[32m<aircond:Negative(confidence:0.936, ref:Negative)>\u001b[0m control were we could not bring up the temperature \n",
      "Example 3:  poor \u001b[32m<housekeeping:Negative(confidence:0.753, ref:Negative)>\u001b[0m \u001b[31m<services:Positive(confidence:0.704, ref:Negative)>\u001b[0m and i found some bags in the \u001b[31m<room:Positive(confidence:0.735, ref:Negative)>\u001b[0m \n",
      "Example 4:  only one person at the \u001b[32m<reception:Negative(confidence:0.904, ref:Negative)>\u001b[0m had to wait for long time to \u001b[32m<check in:Negative(confidence:0.906, ref:Negative)>\u001b[0m after a long flight \n",
      "Example 5:  well the \u001b[31m<parking:Positive(confidence:0.935, ref:Negative)>\u001b[0m was ample but light was really low and it was not very easy to park my car in the space provided \n",
      "Example 6:  extremely welcoming \u001b[32m<staff:Positive(confidence:0.882, ref:Positive)>\u001b[0m very helpful reception desk and porter i felt like i was the only guest with the effort the put in to us very good value for money and the location was perfect for links to theairport, mall of arabia \n",
      "Example 7:  extremely welcomingstaff, very helpful \u001b[32m<reception:Positive(confidence:0.874, ref:Positive)>\u001b[0m desk and porter i felt like i was the only guest with the effort the put in to us very good \u001b[32m<value:Positive(confidence:0.783, ref:Positive)>\u001b[0m for money and the \u001b[32m<location:Positive(confidence:0.896, ref:Positive)>\u001b[0m was perfect for links to theairport, mall of arabia \n",
      "Example 8:  the \u001b[32m<location:Positive(confidence:0.97, ref:Positive)>\u001b[0m opposite of the mall the welcoming of its \u001b[32m<staff:Positive(confidence:0.877, ref:Positive)>\u001b[0m and gesture the \u001b[32m<breakfast:Positive(confidence:0.863, ref:Positive)>\u001b[0m was good as well \n",
      "Example 9:  ��thanks to the professional \u001b[32m<staff:Positive(confidence:0.733, ref:Positive)>\u001b[0m and a special thanks to missshorouk, a beautiful girl who beautified the place and theaccomodation, excellentlocation, very clean rooms and a quiet hotel \n",
      "Example 10:  ��thanks to the professionalstaff, and a special thanks to missshorouk, a beautiful girl who beautified the place and theaccomodation, excellent \u001b[32m<location:Positive(confidence:0.531, ref:Positive)>\u001b[0m very clean rooms and a quiet hotel \n",
      "Example 11:  ��thanks to the professionalstaff, and a special thanks to missshorouk, a beautiful girl who beautified the place and theaccomodation, excellentlocation, very clean \u001b[32m<rooms:Positive(confidence:0.829, ref:Positive)>\u001b[0m and a quiet \u001b[32m<hotel:Positive(confidence:0.643, ref:Positive)>\u001b[0m \n",
      "Example 12:  \u001b[32m<breakfast:Negative(confidence:0.942, ref:Negative)>\u001b[0m was a joke cheating me really first day two croissants plus one overfilled \u001b[32m<coffee:Negative(confidence:0.95, ref:Negative)>\u001b[0m with powder milk the next day suntop juice for one riyal with omlette two riyals no \u001b[32m<coffee:Negative(confidence:0.95, ref:Negative)>\u001b[0m you have to choose juice or \u001b[32m<coffee:Negative(confidence:0.95, ref:Negative)>\u001b[0m i need please my money back immediately \n",
      "Example 13:  \u001b[32m<staff:Positive(confidence:0.901, ref:Positive)>\u001b[0m attended all my requests and provided solutions to all problems thanks to ibrahim very clean and well decorated the \u001b[32m<breakfast:Positive(confidence:0.956, ref:Positive)>\u001b[0m was excellent the \u001b[32m<location:Positive(confidence:0.966, ref:Positive)>\u001b[0m is good \n",
      "Example 14:  the \u001b[32m<location:Positive(confidence:0.773, ref:Positive)>\u001b[0m is just in front of haram also jabal omar towers have a two level mall that have\u001b[32m<coffee shops,:Positive(confidence:0.47, ref:Positive)>\u001b[0m \u001b[32m<supermarket:Positive(confidence:0.863, ref:Positive)>\u001b[0m and one extra level for \u001b[32m<food court:Positive(confidence:0.731, ref:Positive)>\u001b[0m \n",
      "Example 15:  at \u001b[31m<checkout:Positive(confidence:0.692, ref:Negative)>\u001b[0m they let you wait to check theroom, which is fair but should be done in more professional way and made clear to the customer at checkin and in similar way \n",
      "Example 16:  \u001b[32m<breakfast:Negative(confidence:0.495, ref:Negative)>\u001b[0m was scattered around the large hall with noreason, it can be gathered in one place instead of confusing guests looking for items allover the \u001b[32m<breakfast:Negative(confidence:0.495, ref:Negative)>\u001b[0m hall \n",
      "Example 17:  room \u001b[32m<floor:Negative(confidence:0.884, ref:Negative)>\u001b[0m was not even \u001b[32m<bed:Negative(confidence:0.886, ref:Negative)>\u001b[0m \u001b[32m<floor:Negative(confidence:0.884, ref:Negative)>\u001b[0m was higher than room \u001b[32m<floor:Negative(confidence:0.884, ref:Negative)>\u001b[0m which can lead to fall especially when wake up there was leakage of \u001b[32m<washroom:Negative(confidence:0.868, ref:Negative)>\u001b[0m room and commode seat and cover were absent \n",
      "Example 18:  no \u001b[31m<towels:Positive(confidence:0.84, ref:Negative)>\u001b[0m , complementary \u001b[32m<tea:Positive(confidence:0.75, ref:Positive)>\u001b[0m items were provided cleaning/ service \u001b[31m<staff:Positive(confidence:0.821, ref:Negative)>\u001b[0m was least concerned about whatever i asked for \n",
      "Example 19:  \u001b[32m<reception:Positive(confidence:0.908, ref:Positive)>\u001b[0m people were very nice and active but the people responsible for changinglight, bringing bath robe were lazy anddidn't do their job we kept waiting and then left \n",
      "Example 20:  i got a vip \u001b[32m<room:Positive(confidence:0.602, ref:Positive)>\u001b[0m even though ididn't book for that so i feel the confirm level was good \n",
      "Example 21:  the \u001b[31m<breakfast:Positive(confidence:0.874, ref:Negative)>\u001b[0m was not as expected seems like it was prepared too early and served cold \n",
      "Example 22:  very nice \u001b[32m<hotel:Positive(confidence:0.959, ref:Positive)>\u001b[0m big comfortable rooms staff are all fantastic and very accommodating the location is great without beingtoo, breakfast is fresh and has a live station for eggs and pack \n",
      "Example 23:  very nicehotel, big comfortable \u001b[32m<rooms:Positive(confidence:0.954, ref:Positive)>\u001b[0m \u001b[32m<staff:Positive(confidence:0.965, ref:Positive)>\u001b[0m are all fantastic and very accommodating the \u001b[32m<location:Positive(confidence:0.954, ref:Positive)>\u001b[0m is great without beingtoo, \u001b[32m<breakfast:Positive(confidence:0.965, ref:Positive)>\u001b[0m is fresh and has a live station for eggs and pack \n",
      "Example 24:  the girls at the \u001b[31m<reception:Positive(confidence:0.547, ref:Negative)>\u001b[0m were notwelcoming, barelysmiled, barely spokeenglish, seemedrattled, obviously lacked \u001b[31m<training:Positive(confidence:0.805, ref:Negative)>\u001b[0m in hospitality \n",
      "Example 25:  so, i like the \u001b[32m<location:Positive(confidence:0.723, ref:Positive)>\u001b[0m it's near from the seaandthere's a lot of restaurants and coffees near ofit, i and i think the \u001b[32m<price:Positive(confidence:0.758, ref:Positive)>\u001b[0m of renting was good for the dayalso, the \u001b[32m<size:Positive(confidence:0.738, ref:Positive)>\u001b[0m of \u001b[32m<room:Positive(confidence:0.7, ref:Positive)>\u001b[0m was verygood, and the \u001b[32m<internet:Positive(confidence:0.788, ref:Positive)>\u001b[0m was perfect \n",
      "Example 26:  dthree to 4 times i went down to ask \u001b[32m<towel:Negative(confidence:0.865, ref:Negative)>\u001b[0m every time say after 1 hour poor serviceeven ididn't stay one day only paid money and let half day \n",
      "Example 27:  the \u001b[32m<lobby:Positive(confidence:0.563, ref:Positive)>\u001b[0m smells good the \u001b[32m<rooms:Positive(confidence:0.557, ref:Positive)>\u001b[0m areclean, and good \u001b[32m<value:Positive(confidence:0.546, ref:Positive)>\u001b[0m for the price the \u001b[32m<staff:Positive(confidence:0.55, ref:Positive)>\u001b[0m were very helpful andaccommodating, \n",
      "Example 28:  \u001b[32m<facilities:Positive(confidence:0.944, ref:Positive)>\u001b[0m quite complete \u001b[32m<breakfast:Positive(confidence:0.949, ref:Positive)>\u001b[0m is various and delicious \n",
      "Example 29:  the professional \u001b[32m<service:Positive(confidence:0.949, ref:Positive)>\u001b[0m and the clean of all \u001b[32m<rooms:Positive(confidence:0.972, ref:Positive)>\u001b[0m, hilton is my favorite \u001b[32m<hotel:Positive(confidence:0.957, ref:Positive)>\u001b[0m in riyadh thank you for everything \n",
      "Example 30:  great great awesome \u001b[32m<location:Positive(confidence:0.844, ref:Positive)>\u001b[0m near to gate no 21so, its closer to the female praying area that makes it all the more convenient and family friendly helpful \u001b[32m<receptionist:Positive(confidence:0.879, ref:Positive)>\u001b[0m who was quite fluent in conversing in english \n",
      "Example 31:  the \u001b[32m<shower:Negative(confidence:0.932, ref:Negative)>\u001b[0m area in room 121 had a wrongslope, so water would collect on the floor the \u001b[31m<breakfast:Negative(confidence:0.948, ref:Positive)>\u001b[0m isok, with not much choice there are no choices for \u001b[31m<dinner:Negative(confidence:0.94, ref:Neutral)>\u001b[0m except sandwiches \n",
      "Example 32:  \u001b[32m<location:Positive(confidence:0.905, ref:Positive)>\u001b[0m was excellent and \u001b[32m<staff:Positive(confidence:0.939, ref:Positive)>\u001b[0m was very nice and humble, above all \u001b[32m<breakfast:Positive(confidence:0.946, ref:Positive)>\u001b[0m was excellent \n",
      "inference result saved in: C:\\Users\\mosha\\Task 3\\apc_inference.result.json\n",
      "Total samples:77\n",
      "Labeled samples:77\n",
      "Prediction Accuracy:83.11688311688312%\n"
     ]
    }
   ],
   "source": [
    "Dataset = './apc_datasets/100.CustomDataset3'\n",
    "generate_inference_set_for_apc('Dataset')\n",
    "\n",
    "dataset = './apc_datasets/100.CustomDataset3'\n",
    "\n",
    "inference_sets = dataset\n",
    "results = sent_classifier.batch_infer(target_file=inference_sets,\n",
    "                     print_result=True,\n",
    "                     save_result=True,\n",
    "                     ignore_error=False,\n",
    "                     )"
   ]
  },
  {
   "cell_type": "code",
   "execution_count": 23,
   "id": "4b084045",
   "metadata": {},
   "outputs": [
    {
     "name": "stderr",
     "output_type": "stream",
     "text": [
      "C:\\Users\\mosha\\anaconda3\\lib\\site-packages\\transformers\\models\\deberta_v2\\modeling_deberta_v2.py:539: DeprecationWarning: `np.int` is a deprecated alias for the builtin `int`. To silence this warning, use `int` by itself. Doing this will not modify any behavior and is safe. When replacing `np.int`, you may wish to use e.g. `np.int64` or `np.int32` to specify the precision. If you wish to review your current use, check the release note link for additional information.\n",
      "Deprecated in NumPy 1.20; for more details and guidance: https://numpy.org/devdocs/release/1.20.0-notes.html#deprecations\n",
      "  bucket_pos = np.where(abs_pos <= mid, relative_pos, log_pos * sign).astype(np.int)\n"
     ]
    },
    {
     "name": "stdout",
     "output_type": "stream",
     "text": [
      "Example 0:  the response of the \u001b[32m<staff:Positive(confidence:0.814, ref:Positive)>\u001b[0m when someone hit and run my car on the road they helped us by checking cameras the shuttle service was excellent the breakfast was okay the room was also very clean \n"
     ]
    },
    {
     "name": "stderr",
     "output_type": "stream",
     "text": [
      "C:\\Users\\mosha\\anaconda3\\lib\\site-packages\\transformers\\models\\deberta_v2\\modeling_deberta_v2.py:539: DeprecationWarning: `np.int` is a deprecated alias for the builtin `int`. To silence this warning, use `int` by itself. Doing this will not modify any behavior and is safe. When replacing `np.int`, you may wish to use e.g. `np.int64` or `np.int32` to specify the precision. If you wish to review your current use, check the release note link for additional information.\n",
      "Deprecated in NumPy 1.20; for more details and guidance: https://numpy.org/devdocs/release/1.20.0-notes.html#deprecations\n",
      "  bucket_pos = np.where(abs_pos <= mid, relative_pos, log_pos * sign).astype(np.int)\n"
     ]
    },
    {
     "name": "stdout",
     "output_type": "stream",
     "text": [
      "Example 0:  the response of the staff when someone hit and run my car on the road they helped us by checking cameras the \u001b[32m<shuttle service:Positive(confidence:0.783, ref:Positive)>\u001b[0m was excellent the breakfast was okay the room was also very clean \n"
     ]
    },
    {
     "name": "stderr",
     "output_type": "stream",
     "text": [
      "C:\\Users\\mosha\\anaconda3\\lib\\site-packages\\transformers\\models\\deberta_v2\\modeling_deberta_v2.py:539: DeprecationWarning: `np.int` is a deprecated alias for the builtin `int`. To silence this warning, use `int` by itself. Doing this will not modify any behavior and is safe. When replacing `np.int`, you may wish to use e.g. `np.int64` or `np.int32` to specify the precision. If you wish to review your current use, check the release note link for additional information.\n",
      "Deprecated in NumPy 1.20; for more details and guidance: https://numpy.org/devdocs/release/1.20.0-notes.html#deprecations\n",
      "  bucket_pos = np.where(abs_pos <= mid, relative_pos, log_pos * sign).astype(np.int)\n"
     ]
    },
    {
     "name": "stdout",
     "output_type": "stream",
     "text": [
      "Example 0:  the response of the staff when someone hit and run my car on the road they helped us by checking cameras the shuttle service was excellent the \u001b[32m<breakfast:Positive(confidence:0.831, ref:Positive)>\u001b[0m was okay the room was also very clean \n"
     ]
    },
    {
     "name": "stderr",
     "output_type": "stream",
     "text": [
      "C:\\Users\\mosha\\anaconda3\\lib\\site-packages\\transformers\\models\\deberta_v2\\modeling_deberta_v2.py:539: DeprecationWarning: `np.int` is a deprecated alias for the builtin `int`. To silence this warning, use `int` by itself. Doing this will not modify any behavior and is safe. When replacing `np.int`, you may wish to use e.g. `np.int64` or `np.int32` to specify the precision. If you wish to review your current use, check the release note link for additional information.\n",
      "Deprecated in NumPy 1.20; for more details and guidance: https://numpy.org/devdocs/release/1.20.0-notes.html#deprecations\n",
      "  bucket_pos = np.where(abs_pos <= mid, relative_pos, log_pos * sign).astype(np.int)\n"
     ]
    },
    {
     "name": "stdout",
     "output_type": "stream",
     "text": [
      "Example 0:  the response of the staff when someone hit and run my car on the road they helped us by checking cameras the shuttle service was excellent the breakfast was okay the \u001b[32m<room:Positive(confidence:0.859, ref:Positive)>\u001b[0m was also very clean \n"
     ]
    },
    {
     "name": "stderr",
     "output_type": "stream",
     "text": [
      "C:\\Users\\mosha\\anaconda3\\lib\\site-packages\\transformers\\models\\deberta_v2\\modeling_deberta_v2.py:539: DeprecationWarning: `np.int` is a deprecated alias for the builtin `int`. To silence this warning, use `int` by itself. Doing this will not modify any behavior and is safe. When replacing `np.int`, you may wish to use e.g. `np.int64` or `np.int32` to specify the precision. If you wish to review your current use, check the release note link for additional information.\n",
      "Deprecated in NumPy 1.20; for more details and guidance: https://numpy.org/devdocs/release/1.20.0-notes.html#deprecations\n",
      "  bucket_pos = np.where(abs_pos <= mid, relative_pos, log_pos * sign).astype(np.int)\n"
     ]
    },
    {
     "name": "stdout",
     "output_type": "stream",
     "text": [
      "Example 0:  the \u001b[31m<toilets:Positive(confidence:0.936, ref:Negative)>\u001b[0m seemed old and rundown, the bath tub was too small \n"
     ]
    },
    {
     "name": "stderr",
     "output_type": "stream",
     "text": [
      "C:\\Users\\mosha\\anaconda3\\lib\\site-packages\\transformers\\models\\deberta_v2\\modeling_deberta_v2.py:539: DeprecationWarning: `np.int` is a deprecated alias for the builtin `int`. To silence this warning, use `int` by itself. Doing this will not modify any behavior and is safe. When replacing `np.int`, you may wish to use e.g. `np.int64` or `np.int32` to specify the precision. If you wish to review your current use, check the release note link for additional information.\n",
      "Deprecated in NumPy 1.20; for more details and guidance: https://numpy.org/devdocs/release/1.20.0-notes.html#deprecations\n",
      "  bucket_pos = np.where(abs_pos <= mid, relative_pos, log_pos * sign).astype(np.int)\n"
     ]
    },
    {
     "name": "stdout",
     "output_type": "stream",
     "text": [
      "Example 0:  the toilets seemed old and rundown, the \u001b[31m<bath tub:Positive(confidence:0.867, ref:Negative)>\u001b[0m was too small \n"
     ]
    },
    {
     "name": "stderr",
     "output_type": "stream",
     "text": [
      "C:\\Users\\mosha\\anaconda3\\lib\\site-packages\\transformers\\models\\deberta_v2\\modeling_deberta_v2.py:539: DeprecationWarning: `np.int` is a deprecated alias for the builtin `int`. To silence this warning, use `int` by itself. Doing this will not modify any behavior and is safe. When replacing `np.int`, you may wish to use e.g. `np.int64` or `np.int32` to specify the precision. If you wish to review your current use, check the release note link for additional information.\n",
      "Deprecated in NumPy 1.20; for more details and guidance: https://numpy.org/devdocs/release/1.20.0-notes.html#deprecations\n",
      "  bucket_pos = np.where(abs_pos <= mid, relative_pos, log_pos * sign).astype(np.int)\n"
     ]
    },
    {
     "name": "stdout",
     "output_type": "stream",
     "text": [
      "Example 0:  the \u001b[32m<shower:Negative(confidence:0.96, ref:Negative)>\u001b[0m is over the bathtub and the hotel do not provide a mat for the tub there was also an issue with the aircond control were we could not bring up the temperature \n"
     ]
    },
    {
     "name": "stderr",
     "output_type": "stream",
     "text": [
      "C:\\Users\\mosha\\anaconda3\\lib\\site-packages\\transformers\\models\\deberta_v2\\modeling_deberta_v2.py:539: DeprecationWarning: `np.int` is a deprecated alias for the builtin `int`. To silence this warning, use `int` by itself. Doing this will not modify any behavior and is safe. When replacing `np.int`, you may wish to use e.g. `np.int64` or `np.int32` to specify the precision. If you wish to review your current use, check the release note link for additional information.\n",
      "Deprecated in NumPy 1.20; for more details and guidance: https://numpy.org/devdocs/release/1.20.0-notes.html#deprecations\n",
      "  bucket_pos = np.where(abs_pos <= mid, relative_pos, log_pos * sign).astype(np.int)\n"
     ]
    },
    {
     "name": "stdout",
     "output_type": "stream",
     "text": [
      "Example 0:  the shower is over the \u001b[32m<bathtub:Negative(confidence:0.951, ref:Negative)>\u001b[0m and the hotel do not provide a mat for the tub there was also an issue with the aircond control were we could not bring up the temperature \n"
     ]
    },
    {
     "name": "stderr",
     "output_type": "stream",
     "text": [
      "C:\\Users\\mosha\\anaconda3\\lib\\site-packages\\transformers\\models\\deberta_v2\\modeling_deberta_v2.py:539: DeprecationWarning: `np.int` is a deprecated alias for the builtin `int`. To silence this warning, use `int` by itself. Doing this will not modify any behavior and is safe. When replacing `np.int`, you may wish to use e.g. `np.int64` or `np.int32` to specify the precision. If you wish to review your current use, check the release note link for additional information.\n",
      "Deprecated in NumPy 1.20; for more details and guidance: https://numpy.org/devdocs/release/1.20.0-notes.html#deprecations\n",
      "  bucket_pos = np.where(abs_pos <= mid, relative_pos, log_pos * sign).astype(np.int)\n"
     ]
    },
    {
     "name": "stdout",
     "output_type": "stream",
     "text": [
      "Example 0:  the shower is over the bathtub and the \u001b[32m<hotel:Negative(confidence:0.951, ref:Negative)>\u001b[0m do not provide a mat for the tub there was also an issue with the aircond control were we could not bring up the temperature \n"
     ]
    },
    {
     "name": "stderr",
     "output_type": "stream",
     "text": [
      "C:\\Users\\mosha\\anaconda3\\lib\\site-packages\\transformers\\models\\deberta_v2\\modeling_deberta_v2.py:539: DeprecationWarning: `np.int` is a deprecated alias for the builtin `int`. To silence this warning, use `int` by itself. Doing this will not modify any behavior and is safe. When replacing `np.int`, you may wish to use e.g. `np.int64` or `np.int32` to specify the precision. If you wish to review your current use, check the release note link for additional information.\n",
      "Deprecated in NumPy 1.20; for more details and guidance: https://numpy.org/devdocs/release/1.20.0-notes.html#deprecations\n",
      "  bucket_pos = np.where(abs_pos <= mid, relative_pos, log_pos * sign).astype(np.int)\n"
     ]
    },
    {
     "name": "stdout",
     "output_type": "stream",
     "text": [
      "Example 0:  the shower is over the bathtub and the hotel do not provide a mat for the tub there was also an issue with the \u001b[32m<aircond:Negative(confidence:0.936, ref:Negative)>\u001b[0m control were we could not bring up the temperature \n"
     ]
    },
    {
     "name": "stderr",
     "output_type": "stream",
     "text": [
      "C:\\Users\\mosha\\anaconda3\\lib\\site-packages\\transformers\\models\\deberta_v2\\modeling_deberta_v2.py:539: DeprecationWarning: `np.int` is a deprecated alias for the builtin `int`. To silence this warning, use `int` by itself. Doing this will not modify any behavior and is safe. When replacing `np.int`, you may wish to use e.g. `np.int64` or `np.int32` to specify the precision. If you wish to review your current use, check the release note link for additional information.\n",
      "Deprecated in NumPy 1.20; for more details and guidance: https://numpy.org/devdocs/release/1.20.0-notes.html#deprecations\n",
      "  bucket_pos = np.where(abs_pos <= mid, relative_pos, log_pos * sign).astype(np.int)\n"
     ]
    },
    {
     "name": "stdout",
     "output_type": "stream",
     "text": [
      "Example 0:  poor \u001b[32m<housekeeping:Negative(confidence:0.753, ref:Negative)>\u001b[0m services and i found some bags in the room \n"
     ]
    },
    {
     "name": "stderr",
     "output_type": "stream",
     "text": [
      "C:\\Users\\mosha\\anaconda3\\lib\\site-packages\\transformers\\models\\deberta_v2\\modeling_deberta_v2.py:539: DeprecationWarning: `np.int` is a deprecated alias for the builtin `int`. To silence this warning, use `int` by itself. Doing this will not modify any behavior and is safe. When replacing `np.int`, you may wish to use e.g. `np.int64` or `np.int32` to specify the precision. If you wish to review your current use, check the release note link for additional information.\n",
      "Deprecated in NumPy 1.20; for more details and guidance: https://numpy.org/devdocs/release/1.20.0-notes.html#deprecations\n",
      "  bucket_pos = np.where(abs_pos <= mid, relative_pos, log_pos * sign).astype(np.int)\n"
     ]
    },
    {
     "name": "stdout",
     "output_type": "stream",
     "text": [
      "Example 0:  poor housekeeping \u001b[31m<services:Positive(confidence:0.704, ref:Negative)>\u001b[0m and i found some bags in the room \n"
     ]
    },
    {
     "name": "stderr",
     "output_type": "stream",
     "text": [
      "C:\\Users\\mosha\\anaconda3\\lib\\site-packages\\transformers\\models\\deberta_v2\\modeling_deberta_v2.py:539: DeprecationWarning: `np.int` is a deprecated alias for the builtin `int`. To silence this warning, use `int` by itself. Doing this will not modify any behavior and is safe. When replacing `np.int`, you may wish to use e.g. `np.int64` or `np.int32` to specify the precision. If you wish to review your current use, check the release note link for additional information.\n",
      "Deprecated in NumPy 1.20; for more details and guidance: https://numpy.org/devdocs/release/1.20.0-notes.html#deprecations\n",
      "  bucket_pos = np.where(abs_pos <= mid, relative_pos, log_pos * sign).astype(np.int)\n"
     ]
    },
    {
     "name": "stdout",
     "output_type": "stream",
     "text": [
      "Example 0:  poor housekeeping services and i found some bags in the \u001b[31m<room:Positive(confidence:0.735, ref:Negative)>\u001b[0m  \n"
     ]
    },
    {
     "name": "stderr",
     "output_type": "stream",
     "text": [
      "C:\\Users\\mosha\\anaconda3\\lib\\site-packages\\transformers\\models\\deberta_v2\\modeling_deberta_v2.py:539: DeprecationWarning: `np.int` is a deprecated alias for the builtin `int`. To silence this warning, use `int` by itself. Doing this will not modify any behavior and is safe. When replacing `np.int`, you may wish to use e.g. `np.int64` or `np.int32` to specify the precision. If you wish to review your current use, check the release note link for additional information.\n",
      "Deprecated in NumPy 1.20; for more details and guidance: https://numpy.org/devdocs/release/1.20.0-notes.html#deprecations\n",
      "  bucket_pos = np.where(abs_pos <= mid, relative_pos, log_pos * sign).astype(np.int)\n"
     ]
    },
    {
     "name": "stdout",
     "output_type": "stream",
     "text": [
      "Example 0:  only one person at the \u001b[32m<reception:Negative(confidence:0.904, ref:Negative)>\u001b[0m had to wait for long time to check in after a long flight \n"
     ]
    },
    {
     "name": "stderr",
     "output_type": "stream",
     "text": [
      "C:\\Users\\mosha\\anaconda3\\lib\\site-packages\\transformers\\models\\deberta_v2\\modeling_deberta_v2.py:539: DeprecationWarning: `np.int` is a deprecated alias for the builtin `int`. To silence this warning, use `int` by itself. Doing this will not modify any behavior and is safe. When replacing `np.int`, you may wish to use e.g. `np.int64` or `np.int32` to specify the precision. If you wish to review your current use, check the release note link for additional information.\n",
      "Deprecated in NumPy 1.20; for more details and guidance: https://numpy.org/devdocs/release/1.20.0-notes.html#deprecations\n",
      "  bucket_pos = np.where(abs_pos <= mid, relative_pos, log_pos * sign).astype(np.int)\n"
     ]
    },
    {
     "name": "stdout",
     "output_type": "stream",
     "text": [
      "Example 0:  only one person at the reception had to wait for long time to \u001b[32m<check in:Negative(confidence:0.906, ref:Negative)>\u001b[0m after a long flight \n"
     ]
    },
    {
     "name": "stderr",
     "output_type": "stream",
     "text": [
      "C:\\Users\\mosha\\anaconda3\\lib\\site-packages\\transformers\\models\\deberta_v2\\modeling_deberta_v2.py:539: DeprecationWarning: `np.int` is a deprecated alias for the builtin `int`. To silence this warning, use `int` by itself. Doing this will not modify any behavior and is safe. When replacing `np.int`, you may wish to use e.g. `np.int64` or `np.int32` to specify the precision. If you wish to review your current use, check the release note link for additional information.\n",
      "Deprecated in NumPy 1.20; for more details and guidance: https://numpy.org/devdocs/release/1.20.0-notes.html#deprecations\n",
      "  bucket_pos = np.where(abs_pos <= mid, relative_pos, log_pos * sign).astype(np.int)\n"
     ]
    },
    {
     "name": "stdout",
     "output_type": "stream",
     "text": [
      "Example 0:  well the \u001b[31m<parking:Positive(confidence:0.935, ref:Negative)>\u001b[0m was ample but light was really low and it was not very easy to park my car in the space provided \n"
     ]
    },
    {
     "name": "stderr",
     "output_type": "stream",
     "text": [
      "C:\\Users\\mosha\\anaconda3\\lib\\site-packages\\transformers\\models\\deberta_v2\\modeling_deberta_v2.py:539: DeprecationWarning: `np.int` is a deprecated alias for the builtin `int`. To silence this warning, use `int` by itself. Doing this will not modify any behavior and is safe. When replacing `np.int`, you may wish to use e.g. `np.int64` or `np.int32` to specify the precision. If you wish to review your current use, check the release note link for additional information.\n",
      "Deprecated in NumPy 1.20; for more details and guidance: https://numpy.org/devdocs/release/1.20.0-notes.html#deprecations\n",
      "  bucket_pos = np.where(abs_pos <= mid, relative_pos, log_pos * sign).astype(np.int)\n"
     ]
    },
    {
     "name": "stdout",
     "output_type": "stream",
     "text": [
      "Example 0:  extremely welcoming \u001b[32m<staff:Positive(confidence:0.882, ref:Positive)>\u001b[0m very helpful reception desk and porter i felt like i was the only guest with the effort the put in to us very good value for money and the location was perfect for links to theairport, mall of arabia \n"
     ]
    },
    {
     "name": "stderr",
     "output_type": "stream",
     "text": [
      "C:\\Users\\mosha\\anaconda3\\lib\\site-packages\\transformers\\models\\deberta_v2\\modeling_deberta_v2.py:539: DeprecationWarning: `np.int` is a deprecated alias for the builtin `int`. To silence this warning, use `int` by itself. Doing this will not modify any behavior and is safe. When replacing `np.int`, you may wish to use e.g. `np.int64` or `np.int32` to specify the precision. If you wish to review your current use, check the release note link for additional information.\n",
      "Deprecated in NumPy 1.20; for more details and guidance: https://numpy.org/devdocs/release/1.20.0-notes.html#deprecations\n",
      "  bucket_pos = np.where(abs_pos <= mid, relative_pos, log_pos * sign).astype(np.int)\n"
     ]
    },
    {
     "name": "stdout",
     "output_type": "stream",
     "text": [
      "Example 0:  extremely welcomingstaff, very helpful \u001b[32m<reception:Positive(confidence:0.874, ref:Positive)>\u001b[0m desk and porter i felt like i was the only guest with the effort the put in to us very good value for money and the location was perfect for links to theairport, mall of arabia \n"
     ]
    },
    {
     "name": "stderr",
     "output_type": "stream",
     "text": [
      "C:\\Users\\mosha\\anaconda3\\lib\\site-packages\\transformers\\models\\deberta_v2\\modeling_deberta_v2.py:539: DeprecationWarning: `np.int` is a deprecated alias for the builtin `int`. To silence this warning, use `int` by itself. Doing this will not modify any behavior and is safe. When replacing `np.int`, you may wish to use e.g. `np.int64` or `np.int32` to specify the precision. If you wish to review your current use, check the release note link for additional information.\n",
      "Deprecated in NumPy 1.20; for more details and guidance: https://numpy.org/devdocs/release/1.20.0-notes.html#deprecations\n",
      "  bucket_pos = np.where(abs_pos <= mid, relative_pos, log_pos * sign).astype(np.int)\n"
     ]
    },
    {
     "name": "stdout",
     "output_type": "stream",
     "text": [
      "Example 0:  extremely welcomingstaff, very helpful reception desk and porter i felt like i was the only guest with the effort the put in to us very good \u001b[32m<value:Positive(confidence:0.783, ref:Positive)>\u001b[0m for money and the location was perfect for links to theairport, mall of arabia \n"
     ]
    },
    {
     "name": "stderr",
     "output_type": "stream",
     "text": [
      "C:\\Users\\mosha\\anaconda3\\lib\\site-packages\\transformers\\models\\deberta_v2\\modeling_deberta_v2.py:539: DeprecationWarning: `np.int` is a deprecated alias for the builtin `int`. To silence this warning, use `int` by itself. Doing this will not modify any behavior and is safe. When replacing `np.int`, you may wish to use e.g. `np.int64` or `np.int32` to specify the precision. If you wish to review your current use, check the release note link for additional information.\n",
      "Deprecated in NumPy 1.20; for more details and guidance: https://numpy.org/devdocs/release/1.20.0-notes.html#deprecations\n",
      "  bucket_pos = np.where(abs_pos <= mid, relative_pos, log_pos * sign).astype(np.int)\n"
     ]
    },
    {
     "name": "stdout",
     "output_type": "stream",
     "text": [
      "Example 0:  extremely welcomingstaff, very helpful reception desk and porter i felt like i was the only guest with the effort the put in to us very good value for money and the \u001b[32m<location:Positive(confidence:0.896, ref:Positive)>\u001b[0m was perfect for links to theairport, mall of arabia \n"
     ]
    },
    {
     "name": "stderr",
     "output_type": "stream",
     "text": [
      "C:\\Users\\mosha\\anaconda3\\lib\\site-packages\\transformers\\models\\deberta_v2\\modeling_deberta_v2.py:539: DeprecationWarning: `np.int` is a deprecated alias for the builtin `int`. To silence this warning, use `int` by itself. Doing this will not modify any behavior and is safe. When replacing `np.int`, you may wish to use e.g. `np.int64` or `np.int32` to specify the precision. If you wish to review your current use, check the release note link for additional information.\n",
      "Deprecated in NumPy 1.20; for more details and guidance: https://numpy.org/devdocs/release/1.20.0-notes.html#deprecations\n",
      "  bucket_pos = np.where(abs_pos <= mid, relative_pos, log_pos * sign).astype(np.int)\n"
     ]
    },
    {
     "name": "stdout",
     "output_type": "stream",
     "text": [
      "Example 0:  the \u001b[32m<location:Positive(confidence:0.97, ref:Positive)>\u001b[0m opposite of the mall the welcoming of its staff and gesture the breakfast was good as well \n"
     ]
    },
    {
     "name": "stderr",
     "output_type": "stream",
     "text": [
      "C:\\Users\\mosha\\anaconda3\\lib\\site-packages\\transformers\\models\\deberta_v2\\modeling_deberta_v2.py:539: DeprecationWarning: `np.int` is a deprecated alias for the builtin `int`. To silence this warning, use `int` by itself. Doing this will not modify any behavior and is safe. When replacing `np.int`, you may wish to use e.g. `np.int64` or `np.int32` to specify the precision. If you wish to review your current use, check the release note link for additional information.\n",
      "Deprecated in NumPy 1.20; for more details and guidance: https://numpy.org/devdocs/release/1.20.0-notes.html#deprecations\n",
      "  bucket_pos = np.where(abs_pos <= mid, relative_pos, log_pos * sign).astype(np.int)\n"
     ]
    },
    {
     "name": "stdout",
     "output_type": "stream",
     "text": [
      "Example 0:  the location opposite of the mall the welcoming of its \u001b[32m<staff:Positive(confidence:0.877, ref:Positive)>\u001b[0m and gesture the breakfast was good as well \n"
     ]
    },
    {
     "name": "stderr",
     "output_type": "stream",
     "text": [
      "C:\\Users\\mosha\\anaconda3\\lib\\site-packages\\transformers\\models\\deberta_v2\\modeling_deberta_v2.py:539: DeprecationWarning: `np.int` is a deprecated alias for the builtin `int`. To silence this warning, use `int` by itself. Doing this will not modify any behavior and is safe. When replacing `np.int`, you may wish to use e.g. `np.int64` or `np.int32` to specify the precision. If you wish to review your current use, check the release note link for additional information.\n",
      "Deprecated in NumPy 1.20; for more details and guidance: https://numpy.org/devdocs/release/1.20.0-notes.html#deprecations\n",
      "  bucket_pos = np.where(abs_pos <= mid, relative_pos, log_pos * sign).astype(np.int)\n"
     ]
    },
    {
     "name": "stdout",
     "output_type": "stream",
     "text": [
      "Example 0:  the location opposite of the mall the welcoming of its staff and gesture the \u001b[32m<breakfast:Positive(confidence:0.863, ref:Positive)>\u001b[0m was good as well \n"
     ]
    },
    {
     "name": "stderr",
     "output_type": "stream",
     "text": [
      "C:\\Users\\mosha\\anaconda3\\lib\\site-packages\\transformers\\models\\deberta_v2\\modeling_deberta_v2.py:539: DeprecationWarning: `np.int` is a deprecated alias for the builtin `int`. To silence this warning, use `int` by itself. Doing this will not modify any behavior and is safe. When replacing `np.int`, you may wish to use e.g. `np.int64` or `np.int32` to specify the precision. If you wish to review your current use, check the release note link for additional information.\n",
      "Deprecated in NumPy 1.20; for more details and guidance: https://numpy.org/devdocs/release/1.20.0-notes.html#deprecations\n",
      "  bucket_pos = np.where(abs_pos <= mid, relative_pos, log_pos * sign).astype(np.int)\n"
     ]
    },
    {
     "name": "stdout",
     "output_type": "stream",
     "text": [
      "Example 0:  ï¿½ï¿½thanks to the professional \u001b[32m<staff:Positive(confidence:0.527, ref:Positive)>\u001b[0m and a special thanks to missshorouk, a beautiful girl who beautified the place and theaccomodation, excellentlocation, very clean rooms and a quiet hotel \n"
     ]
    },
    {
     "name": "stderr",
     "output_type": "stream",
     "text": [
      "C:\\Users\\mosha\\anaconda3\\lib\\site-packages\\transformers\\models\\deberta_v2\\modeling_deberta_v2.py:539: DeprecationWarning: `np.int` is a deprecated alias for the builtin `int`. To silence this warning, use `int` by itself. Doing this will not modify any behavior and is safe. When replacing `np.int`, you may wish to use e.g. `np.int64` or `np.int32` to specify the precision. If you wish to review your current use, check the release note link for additional information.\n",
      "Deprecated in NumPy 1.20; for more details and guidance: https://numpy.org/devdocs/release/1.20.0-notes.html#deprecations\n",
      "  bucket_pos = np.where(abs_pos <= mid, relative_pos, log_pos * sign).astype(np.int)\n"
     ]
    },
    {
     "name": "stdout",
     "output_type": "stream",
     "text": [
      "Example 0:  ï¿½ï¿½thanks to the professionalstaff, and a special thanks to missshorouk, a beautiful girl who beautified the place and theaccomodation, excellent \u001b[32m<location:Positive(confidence:0.532, ref:Positive)>\u001b[0m very clean rooms and a quiet hotel \n"
     ]
    },
    {
     "name": "stderr",
     "output_type": "stream",
     "text": [
      "C:\\Users\\mosha\\anaconda3\\lib\\site-packages\\transformers\\models\\deberta_v2\\modeling_deberta_v2.py:539: DeprecationWarning: `np.int` is a deprecated alias for the builtin `int`. To silence this warning, use `int` by itself. Doing this will not modify any behavior and is safe. When replacing `np.int`, you may wish to use e.g. `np.int64` or `np.int32` to specify the precision. If you wish to review your current use, check the release note link for additional information.\n",
      "Deprecated in NumPy 1.20; for more details and guidance: https://numpy.org/devdocs/release/1.20.0-notes.html#deprecations\n",
      "  bucket_pos = np.where(abs_pos <= mid, relative_pos, log_pos * sign).astype(np.int)\n"
     ]
    },
    {
     "name": "stdout",
     "output_type": "stream",
     "text": [
      "Example 0:  ï¿½ï¿½thanks to the professionalstaff, and a special thanks to missshorouk, a beautiful girl who beautified the place and theaccomodation, excellentlocation, very clean \u001b[32m<rooms:Positive(confidence:0.509, ref:Positive)>\u001b[0m and a quiet hotel \n"
     ]
    },
    {
     "name": "stderr",
     "output_type": "stream",
     "text": [
      "C:\\Users\\mosha\\anaconda3\\lib\\site-packages\\transformers\\models\\deberta_v2\\modeling_deberta_v2.py:539: DeprecationWarning: `np.int` is a deprecated alias for the builtin `int`. To silence this warning, use `int` by itself. Doing this will not modify any behavior and is safe. When replacing `np.int`, you may wish to use e.g. `np.int64` or `np.int32` to specify the precision. If you wish to review your current use, check the release note link for additional information.\n",
      "Deprecated in NumPy 1.20; for more details and guidance: https://numpy.org/devdocs/release/1.20.0-notes.html#deprecations\n",
      "  bucket_pos = np.where(abs_pos <= mid, relative_pos, log_pos * sign).astype(np.int)\n"
     ]
    },
    {
     "name": "stdout",
     "output_type": "stream",
     "text": [
      "Example 0:  ï¿½ï¿½thanks to the professionalstaff, and a special thanks to missshorouk, a beautiful girl who beautified the place and theaccomodation, excellentlocation, very clean rooms and a quiet \u001b[32m<hotel:Positive(confidence:0.529, ref:Positive)>\u001b[0m  \n"
     ]
    },
    {
     "name": "stderr",
     "output_type": "stream",
     "text": [
      "C:\\Users\\mosha\\anaconda3\\lib\\site-packages\\transformers\\models\\deberta_v2\\modeling_deberta_v2.py:539: DeprecationWarning: `np.int` is a deprecated alias for the builtin `int`. To silence this warning, use `int` by itself. Doing this will not modify any behavior and is safe. When replacing `np.int`, you may wish to use e.g. `np.int64` or `np.int32` to specify the precision. If you wish to review your current use, check the release note link for additional information.\n",
      "Deprecated in NumPy 1.20; for more details and guidance: https://numpy.org/devdocs/release/1.20.0-notes.html#deprecations\n",
      "  bucket_pos = np.where(abs_pos <= mid, relative_pos, log_pos * sign).astype(np.int)\n"
     ]
    },
    {
     "name": "stdout",
     "output_type": "stream",
     "text": [
      "Example 0:  \u001b[32m<breakfast:Negative(confidence:0.942, ref:Negative)>\u001b[0m was a joke cheating me really first day two croissants plus one overfilled coffee with powder milk the next day suntop juice for one riyal with omlette two riyals no coffee you have to choose juice or coffee i need please my money back immediately \n"
     ]
    },
    {
     "name": "stderr",
     "output_type": "stream",
     "text": [
      "C:\\Users\\mosha\\anaconda3\\lib\\site-packages\\transformers\\models\\deberta_v2\\modeling_deberta_v2.py:539: DeprecationWarning: `np.int` is a deprecated alias for the builtin `int`. To silence this warning, use `int` by itself. Doing this will not modify any behavior and is safe. When replacing `np.int`, you may wish to use e.g. `np.int64` or `np.int32` to specify the precision. If you wish to review your current use, check the release note link for additional information.\n",
      "Deprecated in NumPy 1.20; for more details and guidance: https://numpy.org/devdocs/release/1.20.0-notes.html#deprecations\n",
      "  bucket_pos = np.where(abs_pos <= mid, relative_pos, log_pos * sign).astype(np.int)\n"
     ]
    },
    {
     "name": "stdout",
     "output_type": "stream",
     "text": [
      "Example 0:  breakfast was a joke cheating me really first day two croissants plus one overfilled \u001b[32m<coffee:Negative(confidence:0.95, ref:Negative)>\u001b[0m with powder milk the next day suntop juice for one riyal with omlette two riyals no \u001b[32m<coffee:Negative(confidence:0.95, ref:Negative)>\u001b[0m you have to choose juice or \u001b[32m<coffee:Negative(confidence:0.95, ref:Negative)>\u001b[0m i need please my money back immediately \n"
     ]
    },
    {
     "name": "stderr",
     "output_type": "stream",
     "text": [
      "C:\\Users\\mosha\\anaconda3\\lib\\site-packages\\transformers\\models\\deberta_v2\\modeling_deberta_v2.py:539: DeprecationWarning: `np.int` is a deprecated alias for the builtin `int`. To silence this warning, use `int` by itself. Doing this will not modify any behavior and is safe. When replacing `np.int`, you may wish to use e.g. `np.int64` or `np.int32` to specify the precision. If you wish to review your current use, check the release note link for additional information.\n",
      "Deprecated in NumPy 1.20; for more details and guidance: https://numpy.org/devdocs/release/1.20.0-notes.html#deprecations\n",
      "  bucket_pos = np.where(abs_pos <= mid, relative_pos, log_pos * sign).astype(np.int)\n"
     ]
    },
    {
     "name": "stdout",
     "output_type": "stream",
     "text": [
      "Example 0:  \u001b[32m<staff:Positive(confidence:0.901, ref:Positive)>\u001b[0m attended all my requests and provided solutions to all problems thanks to ibrahim very clean and well decorated the breakfast was excellent the location is good \n"
     ]
    },
    {
     "name": "stderr",
     "output_type": "stream",
     "text": [
      "C:\\Users\\mosha\\anaconda3\\lib\\site-packages\\transformers\\models\\deberta_v2\\modeling_deberta_v2.py:539: DeprecationWarning: `np.int` is a deprecated alias for the builtin `int`. To silence this warning, use `int` by itself. Doing this will not modify any behavior and is safe. When replacing `np.int`, you may wish to use e.g. `np.int64` or `np.int32` to specify the precision. If you wish to review your current use, check the release note link for additional information.\n",
      "Deprecated in NumPy 1.20; for more details and guidance: https://numpy.org/devdocs/release/1.20.0-notes.html#deprecations\n",
      "  bucket_pos = np.where(abs_pos <= mid, relative_pos, log_pos * sign).astype(np.int)\n"
     ]
    },
    {
     "name": "stdout",
     "output_type": "stream",
     "text": [
      "Example 0:  staff attended all my requests and provided solutions to all problems thanks to ibrahim very clean and well decorated the \u001b[32m<breakfast:Positive(confidence:0.956, ref:Positive)>\u001b[0m was excellent the location is good \n"
     ]
    },
    {
     "name": "stderr",
     "output_type": "stream",
     "text": [
      "C:\\Users\\mosha\\anaconda3\\lib\\site-packages\\transformers\\models\\deberta_v2\\modeling_deberta_v2.py:539: DeprecationWarning: `np.int` is a deprecated alias for the builtin `int`. To silence this warning, use `int` by itself. Doing this will not modify any behavior and is safe. When replacing `np.int`, you may wish to use e.g. `np.int64` or `np.int32` to specify the precision. If you wish to review your current use, check the release note link for additional information.\n",
      "Deprecated in NumPy 1.20; for more details and guidance: https://numpy.org/devdocs/release/1.20.0-notes.html#deprecations\n",
      "  bucket_pos = np.where(abs_pos <= mid, relative_pos, log_pos * sign).astype(np.int)\n"
     ]
    },
    {
     "name": "stdout",
     "output_type": "stream",
     "text": [
      "Example 0:  staff attended all my requests and provided solutions to all problems thanks to ibrahim very clean and well decorated the breakfast was excellent the \u001b[32m<location:Positive(confidence:0.966, ref:Positive)>\u001b[0m is good \n"
     ]
    },
    {
     "name": "stderr",
     "output_type": "stream",
     "text": [
      "C:\\Users\\mosha\\anaconda3\\lib\\site-packages\\transformers\\models\\deberta_v2\\modeling_deberta_v2.py:539: DeprecationWarning: `np.int` is a deprecated alias for the builtin `int`. To silence this warning, use `int` by itself. Doing this will not modify any behavior and is safe. When replacing `np.int`, you may wish to use e.g. `np.int64` or `np.int32` to specify the precision. If you wish to review your current use, check the release note link for additional information.\n",
      "Deprecated in NumPy 1.20; for more details and guidance: https://numpy.org/devdocs/release/1.20.0-notes.html#deprecations\n",
      "  bucket_pos = np.where(abs_pos <= mid, relative_pos, log_pos * sign).astype(np.int)\n"
     ]
    },
    {
     "name": "stdout",
     "output_type": "stream",
     "text": [
      "Example 0:  the \u001b[32m<location:Positive(confidence:0.773, ref:Positive)>\u001b[0m is just in front of haram also jabal omar towers have a two level mall that havecoffee shops, supermarket and one extra level for food court \n"
     ]
    },
    {
     "name": "stderr",
     "output_type": "stream",
     "text": [
      "C:\\Users\\mosha\\anaconda3\\lib\\site-packages\\transformers\\models\\deberta_v2\\modeling_deberta_v2.py:539: DeprecationWarning: `np.int` is a deprecated alias for the builtin `int`. To silence this warning, use `int` by itself. Doing this will not modify any behavior and is safe. When replacing `np.int`, you may wish to use e.g. `np.int64` or `np.int32` to specify the precision. If you wish to review your current use, check the release note link for additional information.\n",
      "Deprecated in NumPy 1.20; for more details and guidance: https://numpy.org/devdocs/release/1.20.0-notes.html#deprecations\n",
      "  bucket_pos = np.where(abs_pos <= mid, relative_pos, log_pos * sign).astype(np.int)\n"
     ]
    },
    {
     "name": "stdout",
     "output_type": "stream",
     "text": [
      "Example 0:  the location is just in front of haram also jabal omar towers have a two level mall that have \u001b[32m<coffee shops,:Positive(confidence:0.47, ref:Positive)>\u001b[0m supermarket and one extra level for food court \n"
     ]
    },
    {
     "name": "stderr",
     "output_type": "stream",
     "text": [
      "C:\\Users\\mosha\\anaconda3\\lib\\site-packages\\transformers\\models\\deberta_v2\\modeling_deberta_v2.py:539: DeprecationWarning: `np.int` is a deprecated alias for the builtin `int`. To silence this warning, use `int` by itself. Doing this will not modify any behavior and is safe. When replacing `np.int`, you may wish to use e.g. `np.int64` or `np.int32` to specify the precision. If you wish to review your current use, check the release note link for additional information.\n",
      "Deprecated in NumPy 1.20; for more details and guidance: https://numpy.org/devdocs/release/1.20.0-notes.html#deprecations\n",
      "  bucket_pos = np.where(abs_pos <= mid, relative_pos, log_pos * sign).astype(np.int)\n"
     ]
    },
    {
     "name": "stdout",
     "output_type": "stream",
     "text": [
      "Example 0:  the location is just in front of haram also jabal omar towers have a two level mall that havecoffee shops, \u001b[32m<supermarket:Positive(confidence:0.863, ref:Positive)>\u001b[0m and one extra level for food court \n"
     ]
    },
    {
     "name": "stderr",
     "output_type": "stream",
     "text": [
      "C:\\Users\\mosha\\anaconda3\\lib\\site-packages\\transformers\\models\\deberta_v2\\modeling_deberta_v2.py:539: DeprecationWarning: `np.int` is a deprecated alias for the builtin `int`. To silence this warning, use `int` by itself. Doing this will not modify any behavior and is safe. When replacing `np.int`, you may wish to use e.g. `np.int64` or `np.int32` to specify the precision. If you wish to review your current use, check the release note link for additional information.\n",
      "Deprecated in NumPy 1.20; for more details and guidance: https://numpy.org/devdocs/release/1.20.0-notes.html#deprecations\n",
      "  bucket_pos = np.where(abs_pos <= mid, relative_pos, log_pos * sign).astype(np.int)\n"
     ]
    },
    {
     "name": "stdout",
     "output_type": "stream",
     "text": [
      "Example 0:  the location is just in front of haram also jabal omar towers have a two level mall that havecoffee shops, supermarket and one extra level for \u001b[32m<food court:Positive(confidence:0.731, ref:Positive)>\u001b[0m  \n"
     ]
    },
    {
     "name": "stderr",
     "output_type": "stream",
     "text": [
      "C:\\Users\\mosha\\anaconda3\\lib\\site-packages\\transformers\\models\\deberta_v2\\modeling_deberta_v2.py:539: DeprecationWarning: `np.int` is a deprecated alias for the builtin `int`. To silence this warning, use `int` by itself. Doing this will not modify any behavior and is safe. When replacing `np.int`, you may wish to use e.g. `np.int64` or `np.int32` to specify the precision. If you wish to review your current use, check the release note link for additional information.\n",
      "Deprecated in NumPy 1.20; for more details and guidance: https://numpy.org/devdocs/release/1.20.0-notes.html#deprecations\n",
      "  bucket_pos = np.where(abs_pos <= mid, relative_pos, log_pos * sign).astype(np.int)\n"
     ]
    },
    {
     "name": "stdout",
     "output_type": "stream",
     "text": [
      "Example 0:  at \u001b[31m<checkout:Positive(confidence:0.692, ref:Negative)>\u001b[0m they let you wait to check theroom, which is fair but should be done in more professional way and made clear to the customer at checkin and in similar way \n"
     ]
    },
    {
     "name": "stderr",
     "output_type": "stream",
     "text": [
      "C:\\Users\\mosha\\anaconda3\\lib\\site-packages\\transformers\\models\\deberta_v2\\modeling_deberta_v2.py:539: DeprecationWarning: `np.int` is a deprecated alias for the builtin `int`. To silence this warning, use `int` by itself. Doing this will not modify any behavior and is safe. When replacing `np.int`, you may wish to use e.g. `np.int64` or `np.int32` to specify the precision. If you wish to review your current use, check the release note link for additional information.\n",
      "Deprecated in NumPy 1.20; for more details and guidance: https://numpy.org/devdocs/release/1.20.0-notes.html#deprecations\n",
      "  bucket_pos = np.where(abs_pos <= mid, relative_pos, log_pos * sign).astype(np.int)\n"
     ]
    },
    {
     "name": "stdout",
     "output_type": "stream",
     "text": [
      "Example 0:  \u001b[32m<breakfast:Negative(confidence:0.495, ref:Negative)>\u001b[0m was scattered around the large hall with noreason, it can be gathered in one place instead of confusing guests looking for items allover the \u001b[32m<breakfast:Negative(confidence:0.495, ref:Negative)>\u001b[0m hall \n"
     ]
    },
    {
     "name": "stderr",
     "output_type": "stream",
     "text": [
      "C:\\Users\\mosha\\anaconda3\\lib\\site-packages\\transformers\\models\\deberta_v2\\modeling_deberta_v2.py:539: DeprecationWarning: `np.int` is a deprecated alias for the builtin `int`. To silence this warning, use `int` by itself. Doing this will not modify any behavior and is safe. When replacing `np.int`, you may wish to use e.g. `np.int64` or `np.int32` to specify the precision. If you wish to review your current use, check the release note link for additional information.\n",
      "Deprecated in NumPy 1.20; for more details and guidance: https://numpy.org/devdocs/release/1.20.0-notes.html#deprecations\n",
      "  bucket_pos = np.where(abs_pos <= mid, relative_pos, log_pos * sign).astype(np.int)\n"
     ]
    },
    {
     "name": "stdout",
     "output_type": "stream",
     "text": [
      "Example 0:  room \u001b[32m<floor:Negative(confidence:0.884, ref:Negative)>\u001b[0m was not even bed \u001b[32m<floor:Negative(confidence:0.884, ref:Negative)>\u001b[0m was higher than room \u001b[32m<floor:Negative(confidence:0.884, ref:Negative)>\u001b[0m which can lead to fall especially when wake up there was leakage of washroom room and commode seat and cover were absent \n"
     ]
    },
    {
     "name": "stderr",
     "output_type": "stream",
     "text": [
      "C:\\Users\\mosha\\anaconda3\\lib\\site-packages\\transformers\\models\\deberta_v2\\modeling_deberta_v2.py:539: DeprecationWarning: `np.int` is a deprecated alias for the builtin `int`. To silence this warning, use `int` by itself. Doing this will not modify any behavior and is safe. When replacing `np.int`, you may wish to use e.g. `np.int64` or `np.int32` to specify the precision. If you wish to review your current use, check the release note link for additional information.\n",
      "Deprecated in NumPy 1.20; for more details and guidance: https://numpy.org/devdocs/release/1.20.0-notes.html#deprecations\n",
      "  bucket_pos = np.where(abs_pos <= mid, relative_pos, log_pos * sign).astype(np.int)\n"
     ]
    },
    {
     "name": "stdout",
     "output_type": "stream",
     "text": [
      "Example 0:  room floor was not even \u001b[32m<bed:Negative(confidence:0.886, ref:Negative)>\u001b[0m floor was higher than room floor which can lead to fall especially when wake up there was leakage of washroom room and commode seat and cover were absent \n"
     ]
    },
    {
     "name": "stderr",
     "output_type": "stream",
     "text": [
      "C:\\Users\\mosha\\anaconda3\\lib\\site-packages\\transformers\\models\\deberta_v2\\modeling_deberta_v2.py:539: DeprecationWarning: `np.int` is a deprecated alias for the builtin `int`. To silence this warning, use `int` by itself. Doing this will not modify any behavior and is safe. When replacing `np.int`, you may wish to use e.g. `np.int64` or `np.int32` to specify the precision. If you wish to review your current use, check the release note link for additional information.\n",
      "Deprecated in NumPy 1.20; for more details and guidance: https://numpy.org/devdocs/release/1.20.0-notes.html#deprecations\n",
      "  bucket_pos = np.where(abs_pos <= mid, relative_pos, log_pos * sign).astype(np.int)\n"
     ]
    },
    {
     "name": "stdout",
     "output_type": "stream",
     "text": [
      "Example 0:  room floor was not even bed floor was higher than room floor which can lead to fall especially when wake up there was leakage of \u001b[32m<washroom:Negative(confidence:0.868, ref:Negative)>\u001b[0m room and commode seat and cover were absent \n"
     ]
    },
    {
     "name": "stderr",
     "output_type": "stream",
     "text": [
      "C:\\Users\\mosha\\anaconda3\\lib\\site-packages\\transformers\\models\\deberta_v2\\modeling_deberta_v2.py:539: DeprecationWarning: `np.int` is a deprecated alias for the builtin `int`. To silence this warning, use `int` by itself. Doing this will not modify any behavior and is safe. When replacing `np.int`, you may wish to use e.g. `np.int64` or `np.int32` to specify the precision. If you wish to review your current use, check the release note link for additional information.\n",
      "Deprecated in NumPy 1.20; for more details and guidance: https://numpy.org/devdocs/release/1.20.0-notes.html#deprecations\n",
      "  bucket_pos = np.where(abs_pos <= mid, relative_pos, log_pos * sign).astype(np.int)\n"
     ]
    },
    {
     "name": "stdout",
     "output_type": "stream",
     "text": [
      "Example 0:  no \u001b[31m<towels:Positive(confidence:0.84, ref:Negative)>\u001b[0m , complementary tea items were provided cleaning/ service staff was least concerned about whatever i asked for \n"
     ]
    },
    {
     "name": "stderr",
     "output_type": "stream",
     "text": [
      "C:\\Users\\mosha\\anaconda3\\lib\\site-packages\\transformers\\models\\deberta_v2\\modeling_deberta_v2.py:539: DeprecationWarning: `np.int` is a deprecated alias for the builtin `int`. To silence this warning, use `int` by itself. Doing this will not modify any behavior and is safe. When replacing `np.int`, you may wish to use e.g. `np.int64` or `np.int32` to specify the precision. If you wish to review your current use, check the release note link for additional information.\n",
      "Deprecated in NumPy 1.20; for more details and guidance: https://numpy.org/devdocs/release/1.20.0-notes.html#deprecations\n",
      "  bucket_pos = np.where(abs_pos <= mid, relative_pos, log_pos * sign).astype(np.int)\n"
     ]
    },
    {
     "name": "stdout",
     "output_type": "stream",
     "text": [
      "Example 0:  no towels, complementary \u001b[32m<tea:Positive(confidence:0.75, ref:Positive)>\u001b[0m items were provided cleaning/ service staff was least concerned about whatever i asked for \n"
     ]
    },
    {
     "name": "stderr",
     "output_type": "stream",
     "text": [
      "C:\\Users\\mosha\\anaconda3\\lib\\site-packages\\transformers\\models\\deberta_v2\\modeling_deberta_v2.py:539: DeprecationWarning: `np.int` is a deprecated alias for the builtin `int`. To silence this warning, use `int` by itself. Doing this will not modify any behavior and is safe. When replacing `np.int`, you may wish to use e.g. `np.int64` or `np.int32` to specify the precision. If you wish to review your current use, check the release note link for additional information.\n",
      "Deprecated in NumPy 1.20; for more details and guidance: https://numpy.org/devdocs/release/1.20.0-notes.html#deprecations\n",
      "  bucket_pos = np.where(abs_pos <= mid, relative_pos, log_pos * sign).astype(np.int)\n"
     ]
    },
    {
     "name": "stdout",
     "output_type": "stream",
     "text": [
      "Example 0:  no towels, complementary tea items were provided cleaning/ service \u001b[31m<staff:Positive(confidence:0.821, ref:Negative)>\u001b[0m was least concerned about whatever i asked for \n"
     ]
    },
    {
     "name": "stderr",
     "output_type": "stream",
     "text": [
      "C:\\Users\\mosha\\anaconda3\\lib\\site-packages\\transformers\\models\\deberta_v2\\modeling_deberta_v2.py:539: DeprecationWarning: `np.int` is a deprecated alias for the builtin `int`. To silence this warning, use `int` by itself. Doing this will not modify any behavior and is safe. When replacing `np.int`, you may wish to use e.g. `np.int64` or `np.int32` to specify the precision. If you wish to review your current use, check the release note link for additional information.\n",
      "Deprecated in NumPy 1.20; for more details and guidance: https://numpy.org/devdocs/release/1.20.0-notes.html#deprecations\n",
      "  bucket_pos = np.where(abs_pos <= mid, relative_pos, log_pos * sign).astype(np.int)\n"
     ]
    },
    {
     "name": "stdout",
     "output_type": "stream",
     "text": [
      "Example 0:  \u001b[32m<reception:Positive(confidence:0.908, ref:Positive)>\u001b[0m people were very nice and active but the people responsible for changinglight, bringing bath robe were lazy anddidn't do their job we kept waiting and then left \n"
     ]
    },
    {
     "name": "stderr",
     "output_type": "stream",
     "text": [
      "C:\\Users\\mosha\\anaconda3\\lib\\site-packages\\transformers\\models\\deberta_v2\\modeling_deberta_v2.py:539: DeprecationWarning: `np.int` is a deprecated alias for the builtin `int`. To silence this warning, use `int` by itself. Doing this will not modify any behavior and is safe. When replacing `np.int`, you may wish to use e.g. `np.int64` or `np.int32` to specify the precision. If you wish to review your current use, check the release note link for additional information.\n",
      "Deprecated in NumPy 1.20; for more details and guidance: https://numpy.org/devdocs/release/1.20.0-notes.html#deprecations\n",
      "  bucket_pos = np.where(abs_pos <= mid, relative_pos, log_pos * sign).astype(np.int)\n"
     ]
    },
    {
     "name": "stdout",
     "output_type": "stream",
     "text": [
      "Example 0:  i got a vip \u001b[32m<room:Positive(confidence:0.602, ref:Positive)>\u001b[0m even though ididn't book for that so i feel the confirm level was good \n"
     ]
    },
    {
     "name": "stderr",
     "output_type": "stream",
     "text": [
      "C:\\Users\\mosha\\anaconda3\\lib\\site-packages\\transformers\\models\\deberta_v2\\modeling_deberta_v2.py:539: DeprecationWarning: `np.int` is a deprecated alias for the builtin `int`. To silence this warning, use `int` by itself. Doing this will not modify any behavior and is safe. When replacing `np.int`, you may wish to use e.g. `np.int64` or `np.int32` to specify the precision. If you wish to review your current use, check the release note link for additional information.\n",
      "Deprecated in NumPy 1.20; for more details and guidance: https://numpy.org/devdocs/release/1.20.0-notes.html#deprecations\n",
      "  bucket_pos = np.where(abs_pos <= mid, relative_pos, log_pos * sign).astype(np.int)\n"
     ]
    },
    {
     "name": "stdout",
     "output_type": "stream",
     "text": [
      "Example 0:  the \u001b[31m<breakfast:Positive(confidence:0.874, ref:Negative)>\u001b[0m was not as expected seems like it was prepared too early and served cold \n"
     ]
    },
    {
     "name": "stderr",
     "output_type": "stream",
     "text": [
      "C:\\Users\\mosha\\anaconda3\\lib\\site-packages\\transformers\\models\\deberta_v2\\modeling_deberta_v2.py:539: DeprecationWarning: `np.int` is a deprecated alias for the builtin `int`. To silence this warning, use `int` by itself. Doing this will not modify any behavior and is safe. When replacing `np.int`, you may wish to use e.g. `np.int64` or `np.int32` to specify the precision. If you wish to review your current use, check the release note link for additional information.\n",
      "Deprecated in NumPy 1.20; for more details and guidance: https://numpy.org/devdocs/release/1.20.0-notes.html#deprecations\n",
      "  bucket_pos = np.where(abs_pos <= mid, relative_pos, log_pos * sign).astype(np.int)\n"
     ]
    },
    {
     "name": "stdout",
     "output_type": "stream",
     "text": [
      "Example 0:  very nice \u001b[32m<hotel:Positive(confidence:0.959, ref:Positive)>\u001b[0m big comfortable rooms staff are all fantastic and very accommodating the location is great without beingtoo, breakfast is fresh and has a live station for eggs and pack \n"
     ]
    },
    {
     "name": "stderr",
     "output_type": "stream",
     "text": [
      "C:\\Users\\mosha\\anaconda3\\lib\\site-packages\\transformers\\models\\deberta_v2\\modeling_deberta_v2.py:539: DeprecationWarning: `np.int` is a deprecated alias for the builtin `int`. To silence this warning, use `int` by itself. Doing this will not modify any behavior and is safe. When replacing `np.int`, you may wish to use e.g. `np.int64` or `np.int32` to specify the precision. If you wish to review your current use, check the release note link for additional information.\n",
      "Deprecated in NumPy 1.20; for more details and guidance: https://numpy.org/devdocs/release/1.20.0-notes.html#deprecations\n",
      "  bucket_pos = np.where(abs_pos <= mid, relative_pos, log_pos * sign).astype(np.int)\n"
     ]
    },
    {
     "name": "stdout",
     "output_type": "stream",
     "text": [
      "Example 0:  very nicehotel, big comfortable \u001b[32m<rooms:Positive(confidence:0.954, ref:Positive)>\u001b[0m staff are all fantastic and very accommodating the location is great without beingtoo, breakfast is fresh and has a live station for eggs and pack \n"
     ]
    },
    {
     "name": "stderr",
     "output_type": "stream",
     "text": [
      "C:\\Users\\mosha\\anaconda3\\lib\\site-packages\\transformers\\models\\deberta_v2\\modeling_deberta_v2.py:539: DeprecationWarning: `np.int` is a deprecated alias for the builtin `int`. To silence this warning, use `int` by itself. Doing this will not modify any behavior and is safe. When replacing `np.int`, you may wish to use e.g. `np.int64` or `np.int32` to specify the precision. If you wish to review your current use, check the release note link for additional information.\n",
      "Deprecated in NumPy 1.20; for more details and guidance: https://numpy.org/devdocs/release/1.20.0-notes.html#deprecations\n",
      "  bucket_pos = np.where(abs_pos <= mid, relative_pos, log_pos * sign).astype(np.int)\n"
     ]
    },
    {
     "name": "stdout",
     "output_type": "stream",
     "text": [
      "Example 0:  very nicehotel, big comfortable rooms \u001b[32m<staff:Positive(confidence:0.965, ref:Positive)>\u001b[0m are all fantastic and very accommodating the location is great without beingtoo, breakfast is fresh and has a live station for eggs and pack \n"
     ]
    },
    {
     "name": "stderr",
     "output_type": "stream",
     "text": [
      "C:\\Users\\mosha\\anaconda3\\lib\\site-packages\\transformers\\models\\deberta_v2\\modeling_deberta_v2.py:539: DeprecationWarning: `np.int` is a deprecated alias for the builtin `int`. To silence this warning, use `int` by itself. Doing this will not modify any behavior and is safe. When replacing `np.int`, you may wish to use e.g. `np.int64` or `np.int32` to specify the precision. If you wish to review your current use, check the release note link for additional information.\n",
      "Deprecated in NumPy 1.20; for more details and guidance: https://numpy.org/devdocs/release/1.20.0-notes.html#deprecations\n",
      "  bucket_pos = np.where(abs_pos <= mid, relative_pos, log_pos * sign).astype(np.int)\n"
     ]
    },
    {
     "name": "stdout",
     "output_type": "stream",
     "text": [
      "Example 0:  very nicehotel, big comfortable rooms staff are all fantastic and very accommodating the \u001b[32m<location:Positive(confidence:0.954, ref:Positive)>\u001b[0m is great without beingtoo, breakfast is fresh and has a live station for eggs and pack \n"
     ]
    },
    {
     "name": "stderr",
     "output_type": "stream",
     "text": [
      "C:\\Users\\mosha\\anaconda3\\lib\\site-packages\\transformers\\models\\deberta_v2\\modeling_deberta_v2.py:539: DeprecationWarning: `np.int` is a deprecated alias for the builtin `int`. To silence this warning, use `int` by itself. Doing this will not modify any behavior and is safe. When replacing `np.int`, you may wish to use e.g. `np.int64` or `np.int32` to specify the precision. If you wish to review your current use, check the release note link for additional information.\n",
      "Deprecated in NumPy 1.20; for more details and guidance: https://numpy.org/devdocs/release/1.20.0-notes.html#deprecations\n",
      "  bucket_pos = np.where(abs_pos <= mid, relative_pos, log_pos * sign).astype(np.int)\n"
     ]
    },
    {
     "name": "stdout",
     "output_type": "stream",
     "text": [
      "Example 0:  very nicehotel, big comfortable rooms staff are all fantastic and very accommodating the location is great without beingtoo, \u001b[32m<breakfast:Positive(confidence:0.965, ref:Positive)>\u001b[0m is fresh and has a live station for eggs and pack \n"
     ]
    },
    {
     "name": "stderr",
     "output_type": "stream",
     "text": [
      "C:\\Users\\mosha\\anaconda3\\lib\\site-packages\\transformers\\models\\deberta_v2\\modeling_deberta_v2.py:539: DeprecationWarning: `np.int` is a deprecated alias for the builtin `int`. To silence this warning, use `int` by itself. Doing this will not modify any behavior and is safe. When replacing `np.int`, you may wish to use e.g. `np.int64` or `np.int32` to specify the precision. If you wish to review your current use, check the release note link for additional information.\n",
      "Deprecated in NumPy 1.20; for more details and guidance: https://numpy.org/devdocs/release/1.20.0-notes.html#deprecations\n",
      "  bucket_pos = np.where(abs_pos <= mid, relative_pos, log_pos * sign).astype(np.int)\n"
     ]
    },
    {
     "name": "stdout",
     "output_type": "stream",
     "text": [
      "Example 0:  the girls at the \u001b[31m<reception:Positive(confidence:0.547, ref:Negative)>\u001b[0m were notwelcoming, barelysmiled, barely spokeenglish, seemedrattled, obviously lacked training in hospitality \n"
     ]
    },
    {
     "name": "stderr",
     "output_type": "stream",
     "text": [
      "C:\\Users\\mosha\\anaconda3\\lib\\site-packages\\transformers\\models\\deberta_v2\\modeling_deberta_v2.py:539: DeprecationWarning: `np.int` is a deprecated alias for the builtin `int`. To silence this warning, use `int` by itself. Doing this will not modify any behavior and is safe. When replacing `np.int`, you may wish to use e.g. `np.int64` or `np.int32` to specify the precision. If you wish to review your current use, check the release note link for additional information.\n",
      "Deprecated in NumPy 1.20; for more details and guidance: https://numpy.org/devdocs/release/1.20.0-notes.html#deprecations\n",
      "  bucket_pos = np.where(abs_pos <= mid, relative_pos, log_pos * sign).astype(np.int)\n"
     ]
    },
    {
     "name": "stdout",
     "output_type": "stream",
     "text": [
      "Example 0:  the girls at the reception were notwelcoming, barelysmiled, barely spokeenglish, seemedrattled, obviously lacked \u001b[31m<training:Positive(confidence:0.805, ref:Negative)>\u001b[0m in hospitality \n"
     ]
    },
    {
     "name": "stderr",
     "output_type": "stream",
     "text": [
      "C:\\Users\\mosha\\anaconda3\\lib\\site-packages\\transformers\\models\\deberta_v2\\modeling_deberta_v2.py:539: DeprecationWarning: `np.int` is a deprecated alias for the builtin `int`. To silence this warning, use `int` by itself. Doing this will not modify any behavior and is safe. When replacing `np.int`, you may wish to use e.g. `np.int64` or `np.int32` to specify the precision. If you wish to review your current use, check the release note link for additional information.\n",
      "Deprecated in NumPy 1.20; for more details and guidance: https://numpy.org/devdocs/release/1.20.0-notes.html#deprecations\n",
      "  bucket_pos = np.where(abs_pos <= mid, relative_pos, log_pos * sign).astype(np.int)\n"
     ]
    },
    {
     "name": "stdout",
     "output_type": "stream",
     "text": [
      "Example 0:  so, i like the \u001b[32m<location:Positive(confidence:0.723, ref:Positive)>\u001b[0m it's near from the seaandthere's a lot of restaurants and coffees near ofit, i and i think the price of renting was good for the dayalso, the size of room was verygood, and the internet was perfect \n"
     ]
    },
    {
     "name": "stderr",
     "output_type": "stream",
     "text": [
      "C:\\Users\\mosha\\anaconda3\\lib\\site-packages\\transformers\\models\\deberta_v2\\modeling_deberta_v2.py:539: DeprecationWarning: `np.int` is a deprecated alias for the builtin `int`. To silence this warning, use `int` by itself. Doing this will not modify any behavior and is safe. When replacing `np.int`, you may wish to use e.g. `np.int64` or `np.int32` to specify the precision. If you wish to review your current use, check the release note link for additional information.\n",
      "Deprecated in NumPy 1.20; for more details and guidance: https://numpy.org/devdocs/release/1.20.0-notes.html#deprecations\n",
      "  bucket_pos = np.where(abs_pos <= mid, relative_pos, log_pos * sign).astype(np.int)\n"
     ]
    },
    {
     "name": "stdout",
     "output_type": "stream",
     "text": [
      "Example 0:  so, i like the locationit's near from the seaandthere's a lot of restaurants and coffees near ofit, i and i think the \u001b[32m<price:Positive(confidence:0.758, ref:Positive)>\u001b[0m of renting was good for the dayalso, the size of room was verygood, and the internet was perfect \n"
     ]
    },
    {
     "name": "stderr",
     "output_type": "stream",
     "text": [
      "C:\\Users\\mosha\\anaconda3\\lib\\site-packages\\transformers\\models\\deberta_v2\\modeling_deberta_v2.py:539: DeprecationWarning: `np.int` is a deprecated alias for the builtin `int`. To silence this warning, use `int` by itself. Doing this will not modify any behavior and is safe. When replacing `np.int`, you may wish to use e.g. `np.int64` or `np.int32` to specify the precision. If you wish to review your current use, check the release note link for additional information.\n",
      "Deprecated in NumPy 1.20; for more details and guidance: https://numpy.org/devdocs/release/1.20.0-notes.html#deprecations\n",
      "  bucket_pos = np.where(abs_pos <= mid, relative_pos, log_pos * sign).astype(np.int)\n"
     ]
    },
    {
     "name": "stdout",
     "output_type": "stream",
     "text": [
      "Example 0:  so, i like the locationit's near from the seaandthere's a lot of restaurants and coffees near ofit, i and i think the price of renting was good for the dayalso, the \u001b[32m<size:Positive(confidence:0.738, ref:Positive)>\u001b[0m of room was verygood, and the internet was perfect \n"
     ]
    },
    {
     "name": "stderr",
     "output_type": "stream",
     "text": [
      "C:\\Users\\mosha\\anaconda3\\lib\\site-packages\\transformers\\models\\deberta_v2\\modeling_deberta_v2.py:539: DeprecationWarning: `np.int` is a deprecated alias for the builtin `int`. To silence this warning, use `int` by itself. Doing this will not modify any behavior and is safe. When replacing `np.int`, you may wish to use e.g. `np.int64` or `np.int32` to specify the precision. If you wish to review your current use, check the release note link for additional information.\n",
      "Deprecated in NumPy 1.20; for more details and guidance: https://numpy.org/devdocs/release/1.20.0-notes.html#deprecations\n",
      "  bucket_pos = np.where(abs_pos <= mid, relative_pos, log_pos * sign).astype(np.int)\n"
     ]
    },
    {
     "name": "stdout",
     "output_type": "stream",
     "text": [
      "Example 0:  so, i like the locationit's near from the seaandthere's a lot of restaurants and coffees near ofit, i and i think the price of renting was good for the dayalso, the size of \u001b[32m<room:Positive(confidence:0.7, ref:Positive)>\u001b[0m was verygood, and the internet was perfect \n"
     ]
    },
    {
     "name": "stderr",
     "output_type": "stream",
     "text": [
      "C:\\Users\\mosha\\anaconda3\\lib\\site-packages\\transformers\\models\\deberta_v2\\modeling_deberta_v2.py:539: DeprecationWarning: `np.int` is a deprecated alias for the builtin `int`. To silence this warning, use `int` by itself. Doing this will not modify any behavior and is safe. When replacing `np.int`, you may wish to use e.g. `np.int64` or `np.int32` to specify the precision. If you wish to review your current use, check the release note link for additional information.\n",
      "Deprecated in NumPy 1.20; for more details and guidance: https://numpy.org/devdocs/release/1.20.0-notes.html#deprecations\n",
      "  bucket_pos = np.where(abs_pos <= mid, relative_pos, log_pos * sign).astype(np.int)\n"
     ]
    },
    {
     "name": "stdout",
     "output_type": "stream",
     "text": [
      "Example 0:  so, i like the locationit's near from the seaandthere's a lot of restaurants and coffees near ofit, i and i think the price of renting was good for the dayalso, the size of room was verygood, and the \u001b[32m<internet:Positive(confidence:0.788, ref:Positive)>\u001b[0m was perfect \n"
     ]
    },
    {
     "name": "stderr",
     "output_type": "stream",
     "text": [
      "C:\\Users\\mosha\\anaconda3\\lib\\site-packages\\transformers\\models\\deberta_v2\\modeling_deberta_v2.py:539: DeprecationWarning: `np.int` is a deprecated alias for the builtin `int`. To silence this warning, use `int` by itself. Doing this will not modify any behavior and is safe. When replacing `np.int`, you may wish to use e.g. `np.int64` or `np.int32` to specify the precision. If you wish to review your current use, check the release note link for additional information.\n",
      "Deprecated in NumPy 1.20; for more details and guidance: https://numpy.org/devdocs/release/1.20.0-notes.html#deprecations\n",
      "  bucket_pos = np.where(abs_pos <= mid, relative_pos, log_pos * sign).astype(np.int)\n"
     ]
    },
    {
     "name": "stdout",
     "output_type": "stream",
     "text": [
      "Example 0:  dthree to 4 times i went down to ask \u001b[32m<towel:Negative(confidence:0.865, ref:Negative)>\u001b[0m every time say after 1 hour poor serviceeven ididn't stay one day only paid money and let half day \n"
     ]
    },
    {
     "name": "stderr",
     "output_type": "stream",
     "text": [
      "C:\\Users\\mosha\\anaconda3\\lib\\site-packages\\transformers\\models\\deberta_v2\\modeling_deberta_v2.py:539: DeprecationWarning: `np.int` is a deprecated alias for the builtin `int`. To silence this warning, use `int` by itself. Doing this will not modify any behavior and is safe. When replacing `np.int`, you may wish to use e.g. `np.int64` or `np.int32` to specify the precision. If you wish to review your current use, check the release note link for additional information.\n",
      "Deprecated in NumPy 1.20; for more details and guidance: https://numpy.org/devdocs/release/1.20.0-notes.html#deprecations\n",
      "  bucket_pos = np.where(abs_pos <= mid, relative_pos, log_pos * sign).astype(np.int)\n"
     ]
    },
    {
     "name": "stdout",
     "output_type": "stream",
     "text": [
      "Example 0:  the \u001b[32m<lobby:Positive(confidence:0.563, ref:Positive)>\u001b[0m smells good the rooms areclean, and good value for the price the staff were very helpful andaccommodating, \n"
     ]
    },
    {
     "name": "stderr",
     "output_type": "stream",
     "text": [
      "C:\\Users\\mosha\\anaconda3\\lib\\site-packages\\transformers\\models\\deberta_v2\\modeling_deberta_v2.py:539: DeprecationWarning: `np.int` is a deprecated alias for the builtin `int`. To silence this warning, use `int` by itself. Doing this will not modify any behavior and is safe. When replacing `np.int`, you may wish to use e.g. `np.int64` or `np.int32` to specify the precision. If you wish to review your current use, check the release note link for additional information.\n",
      "Deprecated in NumPy 1.20; for more details and guidance: https://numpy.org/devdocs/release/1.20.0-notes.html#deprecations\n",
      "  bucket_pos = np.where(abs_pos <= mid, relative_pos, log_pos * sign).astype(np.int)\n"
     ]
    },
    {
     "name": "stdout",
     "output_type": "stream",
     "text": [
      "Example 0:  the lobby smells good the \u001b[32m<rooms:Positive(confidence:0.557, ref:Positive)>\u001b[0m areclean, and good value for the price the staff were very helpful andaccommodating, \n"
     ]
    },
    {
     "name": "stderr",
     "output_type": "stream",
     "text": [
      "C:\\Users\\mosha\\anaconda3\\lib\\site-packages\\transformers\\models\\deberta_v2\\modeling_deberta_v2.py:539: DeprecationWarning: `np.int` is a deprecated alias for the builtin `int`. To silence this warning, use `int` by itself. Doing this will not modify any behavior and is safe. When replacing `np.int`, you may wish to use e.g. `np.int64` or `np.int32` to specify the precision. If you wish to review your current use, check the release note link for additional information.\n",
      "Deprecated in NumPy 1.20; for more details and guidance: https://numpy.org/devdocs/release/1.20.0-notes.html#deprecations\n",
      "  bucket_pos = np.where(abs_pos <= mid, relative_pos, log_pos * sign).astype(np.int)\n"
     ]
    },
    {
     "name": "stdout",
     "output_type": "stream",
     "text": [
      "Example 0:  the lobby smells good the rooms areclean, and good \u001b[32m<value:Positive(confidence:0.546, ref:Positive)>\u001b[0m for the price the staff were very helpful andaccommodating, \n"
     ]
    },
    {
     "name": "stderr",
     "output_type": "stream",
     "text": [
      "C:\\Users\\mosha\\anaconda3\\lib\\site-packages\\transformers\\models\\deberta_v2\\modeling_deberta_v2.py:539: DeprecationWarning: `np.int` is a deprecated alias for the builtin `int`. To silence this warning, use `int` by itself. Doing this will not modify any behavior and is safe. When replacing `np.int`, you may wish to use e.g. `np.int64` or `np.int32` to specify the precision. If you wish to review your current use, check the release note link for additional information.\n",
      "Deprecated in NumPy 1.20; for more details and guidance: https://numpy.org/devdocs/release/1.20.0-notes.html#deprecations\n",
      "  bucket_pos = np.where(abs_pos <= mid, relative_pos, log_pos * sign).astype(np.int)\n"
     ]
    },
    {
     "name": "stdout",
     "output_type": "stream",
     "text": [
      "Example 0:  the lobby smells good the rooms areclean, and good value for the price the \u001b[32m<staff:Positive(confidence:0.55, ref:Positive)>\u001b[0m were very helpful andaccommodating, \n"
     ]
    },
    {
     "name": "stderr",
     "output_type": "stream",
     "text": [
      "C:\\Users\\mosha\\anaconda3\\lib\\site-packages\\transformers\\models\\deberta_v2\\modeling_deberta_v2.py:539: DeprecationWarning: `np.int` is a deprecated alias for the builtin `int`. To silence this warning, use `int` by itself. Doing this will not modify any behavior and is safe. When replacing `np.int`, you may wish to use e.g. `np.int64` or `np.int32` to specify the precision. If you wish to review your current use, check the release note link for additional information.\n",
      "Deprecated in NumPy 1.20; for more details and guidance: https://numpy.org/devdocs/release/1.20.0-notes.html#deprecations\n",
      "  bucket_pos = np.where(abs_pos <= mid, relative_pos, log_pos * sign).astype(np.int)\n"
     ]
    },
    {
     "name": "stdout",
     "output_type": "stream",
     "text": [
      "Example 0:  \u001b[32m<facilities:Positive(confidence:0.944, ref:Positive)>\u001b[0m quite complete breakfast is various and delicious \n"
     ]
    },
    {
     "name": "stderr",
     "output_type": "stream",
     "text": [
      "C:\\Users\\mosha\\anaconda3\\lib\\site-packages\\transformers\\models\\deberta_v2\\modeling_deberta_v2.py:539: DeprecationWarning: `np.int` is a deprecated alias for the builtin `int`. To silence this warning, use `int` by itself. Doing this will not modify any behavior and is safe. When replacing `np.int`, you may wish to use e.g. `np.int64` or `np.int32` to specify the precision. If you wish to review your current use, check the release note link for additional information.\n",
      "Deprecated in NumPy 1.20; for more details and guidance: https://numpy.org/devdocs/release/1.20.0-notes.html#deprecations\n",
      "  bucket_pos = np.where(abs_pos <= mid, relative_pos, log_pos * sign).astype(np.int)\n"
     ]
    },
    {
     "name": "stdout",
     "output_type": "stream",
     "text": [
      "Example 0:  facilities quite complete \u001b[32m<breakfast:Positive(confidence:0.949, ref:Positive)>\u001b[0m is various and delicious \n"
     ]
    },
    {
     "name": "stderr",
     "output_type": "stream",
     "text": [
      "C:\\Users\\mosha\\anaconda3\\lib\\site-packages\\transformers\\models\\deberta_v2\\modeling_deberta_v2.py:539: DeprecationWarning: `np.int` is a deprecated alias for the builtin `int`. To silence this warning, use `int` by itself. Doing this will not modify any behavior and is safe. When replacing `np.int`, you may wish to use e.g. `np.int64` or `np.int32` to specify the precision. If you wish to review your current use, check the release note link for additional information.\n",
      "Deprecated in NumPy 1.20; for more details and guidance: https://numpy.org/devdocs/release/1.20.0-notes.html#deprecations\n",
      "  bucket_pos = np.where(abs_pos <= mid, relative_pos, log_pos * sign).astype(np.int)\n"
     ]
    },
    {
     "name": "stdout",
     "output_type": "stream",
     "text": [
      "Example 0:  the professional \u001b[32m<service:Positive(confidence:0.949, ref:Positive)>\u001b[0m and the clean of all rooms, hilton is my favorite hotel in riyadh thank you for everything \n"
     ]
    },
    {
     "name": "stderr",
     "output_type": "stream",
     "text": [
      "C:\\Users\\mosha\\anaconda3\\lib\\site-packages\\transformers\\models\\deberta_v2\\modeling_deberta_v2.py:539: DeprecationWarning: `np.int` is a deprecated alias for the builtin `int`. To silence this warning, use `int` by itself. Doing this will not modify any behavior and is safe. When replacing `np.int`, you may wish to use e.g. `np.int64` or `np.int32` to specify the precision. If you wish to review your current use, check the release note link for additional information.\n",
      "Deprecated in NumPy 1.20; for more details and guidance: https://numpy.org/devdocs/release/1.20.0-notes.html#deprecations\n",
      "  bucket_pos = np.where(abs_pos <= mid, relative_pos, log_pos * sign).astype(np.int)\n"
     ]
    },
    {
     "name": "stdout",
     "output_type": "stream",
     "text": [
      "Example 0:  the professional service and the clean of all \u001b[32m<rooms:Positive(confidence:0.972, ref:Positive)>\u001b[0m , hilton is my favorite hotel in riyadh thank you for everything \n"
     ]
    },
    {
     "name": "stderr",
     "output_type": "stream",
     "text": [
      "C:\\Users\\mosha\\anaconda3\\lib\\site-packages\\transformers\\models\\deberta_v2\\modeling_deberta_v2.py:539: DeprecationWarning: `np.int` is a deprecated alias for the builtin `int`. To silence this warning, use `int` by itself. Doing this will not modify any behavior and is safe. When replacing `np.int`, you may wish to use e.g. `np.int64` or `np.int32` to specify the precision. If you wish to review your current use, check the release note link for additional information.\n",
      "Deprecated in NumPy 1.20; for more details and guidance: https://numpy.org/devdocs/release/1.20.0-notes.html#deprecations\n",
      "  bucket_pos = np.where(abs_pos <= mid, relative_pos, log_pos * sign).astype(np.int)\n"
     ]
    },
    {
     "name": "stdout",
     "output_type": "stream",
     "text": [
      "Example 0:  the professional service and the clean of all rooms, hilton is my favorite \u001b[32m<hotel:Positive(confidence:0.957, ref:Positive)>\u001b[0m in riyadh thank you for everything \n"
     ]
    },
    {
     "name": "stderr",
     "output_type": "stream",
     "text": [
      "C:\\Users\\mosha\\anaconda3\\lib\\site-packages\\transformers\\models\\deberta_v2\\modeling_deberta_v2.py:539: DeprecationWarning: `np.int` is a deprecated alias for the builtin `int`. To silence this warning, use `int` by itself. Doing this will not modify any behavior and is safe. When replacing `np.int`, you may wish to use e.g. `np.int64` or `np.int32` to specify the precision. If you wish to review your current use, check the release note link for additional information.\n",
      "Deprecated in NumPy 1.20; for more details and guidance: https://numpy.org/devdocs/release/1.20.0-notes.html#deprecations\n",
      "  bucket_pos = np.where(abs_pos <= mid, relative_pos, log_pos * sign).astype(np.int)\n"
     ]
    },
    {
     "name": "stdout",
     "output_type": "stream",
     "text": [
      "Example 0:  great great awesome \u001b[32m<location:Positive(confidence:0.844, ref:Positive)>\u001b[0m near to gate no 21so, its closer to the female praying area that makes it all the more convenient and family friendly helpful receptionist who was quite fluent in conversing in english \n"
     ]
    },
    {
     "name": "stderr",
     "output_type": "stream",
     "text": [
      "C:\\Users\\mosha\\anaconda3\\lib\\site-packages\\transformers\\models\\deberta_v2\\modeling_deberta_v2.py:539: DeprecationWarning: `np.int` is a deprecated alias for the builtin `int`. To silence this warning, use `int` by itself. Doing this will not modify any behavior and is safe. When replacing `np.int`, you may wish to use e.g. `np.int64` or `np.int32` to specify the precision. If you wish to review your current use, check the release note link for additional information.\n",
      "Deprecated in NumPy 1.20; for more details and guidance: https://numpy.org/devdocs/release/1.20.0-notes.html#deprecations\n",
      "  bucket_pos = np.where(abs_pos <= mid, relative_pos, log_pos * sign).astype(np.int)\n"
     ]
    },
    {
     "name": "stdout",
     "output_type": "stream",
     "text": [
      "Example 0:  great great awesome location near to gate no 21so, its closer to the female praying area that makes it all the more convenient and family friendly helpful \u001b[32m<receptionist:Positive(confidence:0.879, ref:Positive)>\u001b[0m who was quite fluent in conversing in english \n"
     ]
    },
    {
     "name": "stderr",
     "output_type": "stream",
     "text": [
      "C:\\Users\\mosha\\anaconda3\\lib\\site-packages\\transformers\\models\\deberta_v2\\modeling_deberta_v2.py:539: DeprecationWarning: `np.int` is a deprecated alias for the builtin `int`. To silence this warning, use `int` by itself. Doing this will not modify any behavior and is safe. When replacing `np.int`, you may wish to use e.g. `np.int64` or `np.int32` to specify the precision. If you wish to review your current use, check the release note link for additional information.\n",
      "Deprecated in NumPy 1.20; for more details and guidance: https://numpy.org/devdocs/release/1.20.0-notes.html#deprecations\n",
      "  bucket_pos = np.where(abs_pos <= mid, relative_pos, log_pos * sign).astype(np.int)\n"
     ]
    },
    {
     "name": "stdout",
     "output_type": "stream",
     "text": [
      "Example 0:  the \u001b[32m<shower:Negative(confidence:0.932, ref:Negative)>\u001b[0m area in room 121 had a wrongslope, so water would collect on the floor the breakfast isok, with not much choice there are no choices for dinner except sandwiches \n"
     ]
    },
    {
     "name": "stderr",
     "output_type": "stream",
     "text": [
      "C:\\Users\\mosha\\anaconda3\\lib\\site-packages\\transformers\\models\\deberta_v2\\modeling_deberta_v2.py:539: DeprecationWarning: `np.int` is a deprecated alias for the builtin `int`. To silence this warning, use `int` by itself. Doing this will not modify any behavior and is safe. When replacing `np.int`, you may wish to use e.g. `np.int64` or `np.int32` to specify the precision. If you wish to review your current use, check the release note link for additional information.\n",
      "Deprecated in NumPy 1.20; for more details and guidance: https://numpy.org/devdocs/release/1.20.0-notes.html#deprecations\n",
      "  bucket_pos = np.where(abs_pos <= mid, relative_pos, log_pos * sign).astype(np.int)\n"
     ]
    },
    {
     "name": "stdout",
     "output_type": "stream",
     "text": [
      "Example 0:  the shower area in room 121 had a wrongslope, so water would collect on the floor the \u001b[31m<breakfast:Negative(confidence:0.948, ref:Positive)>\u001b[0m isok, with not much choice there are no choices for dinner except sandwiches \n"
     ]
    },
    {
     "name": "stderr",
     "output_type": "stream",
     "text": [
      "C:\\Users\\mosha\\anaconda3\\lib\\site-packages\\transformers\\models\\deberta_v2\\modeling_deberta_v2.py:539: DeprecationWarning: `np.int` is a deprecated alias for the builtin `int`. To silence this warning, use `int` by itself. Doing this will not modify any behavior and is safe. When replacing `np.int`, you may wish to use e.g. `np.int64` or `np.int32` to specify the precision. If you wish to review your current use, check the release note link for additional information.\n",
      "Deprecated in NumPy 1.20; for more details and guidance: https://numpy.org/devdocs/release/1.20.0-notes.html#deprecations\n",
      "  bucket_pos = np.where(abs_pos <= mid, relative_pos, log_pos * sign).astype(np.int)\n"
     ]
    },
    {
     "name": "stdout",
     "output_type": "stream",
     "text": [
      "Example 0:  the shower area in room 121 had a wrongslope, so water would collect on the floor the breakfast isok, with not much choice there are no choices for \u001b[31m<dinner:Negative(confidence:0.94, ref:Neutral)>\u001b[0m except sandwiches \n"
     ]
    },
    {
     "name": "stderr",
     "output_type": "stream",
     "text": [
      "C:\\Users\\mosha\\anaconda3\\lib\\site-packages\\transformers\\models\\deberta_v2\\modeling_deberta_v2.py:539: DeprecationWarning: `np.int` is a deprecated alias for the builtin `int`. To silence this warning, use `int` by itself. Doing this will not modify any behavior and is safe. When replacing `np.int`, you may wish to use e.g. `np.int64` or `np.int32` to specify the precision. If you wish to review your current use, check the release note link for additional information.\n",
      "Deprecated in NumPy 1.20; for more details and guidance: https://numpy.org/devdocs/release/1.20.0-notes.html#deprecations\n",
      "  bucket_pos = np.where(abs_pos <= mid, relative_pos, log_pos * sign).astype(np.int)\n"
     ]
    },
    {
     "name": "stdout",
     "output_type": "stream",
     "text": [
      "Example 0:  \u001b[32m<location:Positive(confidence:0.905, ref:Positive)>\u001b[0m was excellent and staff was very nice and humble, above all breakfast was excellent \n"
     ]
    },
    {
     "name": "stderr",
     "output_type": "stream",
     "text": [
      "C:\\Users\\mosha\\anaconda3\\lib\\site-packages\\transformers\\models\\deberta_v2\\modeling_deberta_v2.py:539: DeprecationWarning: `np.int` is a deprecated alias for the builtin `int`. To silence this warning, use `int` by itself. Doing this will not modify any behavior and is safe. When replacing `np.int`, you may wish to use e.g. `np.int64` or `np.int32` to specify the precision. If you wish to review your current use, check the release note link for additional information.\n",
      "Deprecated in NumPy 1.20; for more details and guidance: https://numpy.org/devdocs/release/1.20.0-notes.html#deprecations\n",
      "  bucket_pos = np.where(abs_pos <= mid, relative_pos, log_pos * sign).astype(np.int)\n"
     ]
    },
    {
     "name": "stdout",
     "output_type": "stream",
     "text": [
      "Example 0:  location was excellent and \u001b[32m<staff:Positive(confidence:0.939, ref:Positive)>\u001b[0m was very nice and humble, above all breakfast was excellent \n"
     ]
    },
    {
     "name": "stderr",
     "output_type": "stream",
     "text": [
      "C:\\Users\\mosha\\anaconda3\\lib\\site-packages\\transformers\\models\\deberta_v2\\modeling_deberta_v2.py:539: DeprecationWarning: `np.int` is a deprecated alias for the builtin `int`. To silence this warning, use `int` by itself. Doing this will not modify any behavior and is safe. When replacing `np.int`, you may wish to use e.g. `np.int64` or `np.int32` to specify the precision. If you wish to review your current use, check the release note link for additional information.\n",
      "Deprecated in NumPy 1.20; for more details and guidance: https://numpy.org/devdocs/release/1.20.0-notes.html#deprecations\n",
      "  bucket_pos = np.where(abs_pos <= mid, relative_pos, log_pos * sign).astype(np.int)\n"
     ]
    },
    {
     "name": "stdout",
     "output_type": "stream",
     "text": [
      "Example 0:  location was excellent and staff was very nice and humble, above all \u001b[32m<breakfast:Positive(confidence:0.946, ref:Positive)>\u001b[0m was excellent \n"
     ]
    }
   ],
   "source": [
    "all_result = pd.DataFrame()\n",
    "i=0\n",
    "\n",
    "with open('./apc_datasets/100.CustomDataset/custom.test.txt.inference', 'r') as f:\n",
    "    while True:\n",
    "        ex = f.readline()\n",
    "        if not ex:\n",
    "            break\n",
    "        result = sent_classifier.infer(ex, print_result = True)\n",
    "        all_result.at[i, 'aspect'] = result['aspect']\n",
    "        all_result.at[i, 'sentiment'] = result['sentiment']\n",
    "        all_result.at[i, 'ref_sentiment'] = ['' if ref == '-999' else ref for ref in result['ref_sentiment']]\n",
    "        all_result.at[i, 'is_correct'] = result['ref_check']\n",
    "        i+=1\n"
   ]
  },
  {
   "cell_type": "code",
   "execution_count": 25,
   "id": "ba292b75",
   "metadata": {},
   "outputs": [
    {
     "name": "stderr",
     "output_type": "stream",
     "text": [
      "C:\\Users\\mosha\\anaconda3\\lib\\site-packages\\transformers\\models\\deberta_v2\\modeling_deberta_v2.py:539: DeprecationWarning: `np.int` is a deprecated alias for the builtin `int`. To silence this warning, use `int` by itself. Doing this will not modify any behavior and is safe. When replacing `np.int`, you may wish to use e.g. `np.int64` or `np.int32` to specify the precision. If you wish to review your current use, check the release note link for additional information.\n",
      "Deprecated in NumPy 1.20; for more details and guidance: https://numpy.org/devdocs/release/1.20.0-notes.html#deprecations\n",
      "  bucket_pos = np.where(abs_pos <= mid, relative_pos, log_pos * sign).astype(np.int)\n"
     ]
    },
    {
     "name": "stdout",
     "output_type": "stream",
     "text": [
      "Example 0:  \u001b[31m<location:Positive(confidence:0.931, ref:Negative)>\u001b[0m is far away from attractions and market this will enforce you to have a car for transportation minibar needs to have something in it cost is high comparing with the benefit you gain \n"
     ]
    },
    {
     "name": "stderr",
     "output_type": "stream",
     "text": [
      "C:\\Users\\mosha\\anaconda3\\lib\\site-packages\\transformers\\models\\deberta_v2\\modeling_deberta_v2.py:539: DeprecationWarning: `np.int` is a deprecated alias for the builtin `int`. To silence this warning, use `int` by itself. Doing this will not modify any behavior and is safe. When replacing `np.int`, you may wish to use e.g. `np.int64` or `np.int32` to specify the precision. If you wish to review your current use, check the release note link for additional information.\n",
      "Deprecated in NumPy 1.20; for more details and guidance: https://numpy.org/devdocs/release/1.20.0-notes.html#deprecations\n",
      "  bucket_pos = np.where(abs_pos <= mid, relative_pos, log_pos * sign).astype(np.int)\n"
     ]
    },
    {
     "name": "stdout",
     "output_type": "stream",
     "text": [
      "Example 0:  location is far away from attractions and market this will enforce you to have a car for transportation \u001b[31m<minibar:Positive(confidence:0.819, ref:Negative)>\u001b[0m needs to have something in it cost is high comparing with the benefit you gain \n"
     ]
    },
    {
     "name": "stderr",
     "output_type": "stream",
     "text": [
      "C:\\Users\\mosha\\anaconda3\\lib\\site-packages\\transformers\\models\\deberta_v2\\modeling_deberta_v2.py:539: DeprecationWarning: `np.int` is a deprecated alias for the builtin `int`. To silence this warning, use `int` by itself. Doing this will not modify any behavior and is safe. When replacing `np.int`, you may wish to use e.g. `np.int64` or `np.int32` to specify the precision. If you wish to review your current use, check the release note link for additional information.\n",
      "Deprecated in NumPy 1.20; for more details and guidance: https://numpy.org/devdocs/release/1.20.0-notes.html#deprecations\n",
      "  bucket_pos = np.where(abs_pos <= mid, relative_pos, log_pos * sign).astype(np.int)\n"
     ]
    },
    {
     "name": "stdout",
     "output_type": "stream",
     "text": [
      "Example 0:  horrible \u001b[32m<rooms:Negative(confidence:0.958, ref:Negative)>\u001b[0m and services poorly designed and nonfunctional washroom staff and management was absolutely not accommodating they gave us the wrongroom, over charged for it and did not fix their mistake corridors stinking with acute smoking smell \n"
     ]
    },
    {
     "name": "stderr",
     "output_type": "stream",
     "text": [
      "C:\\Users\\mosha\\anaconda3\\lib\\site-packages\\transformers\\models\\deberta_v2\\modeling_deberta_v2.py:539: DeprecationWarning: `np.int` is a deprecated alias for the builtin `int`. To silence this warning, use `int` by itself. Doing this will not modify any behavior and is safe. When replacing `np.int`, you may wish to use e.g. `np.int64` or `np.int32` to specify the precision. If you wish to review your current use, check the release note link for additional information.\n",
      "Deprecated in NumPy 1.20; for more details and guidance: https://numpy.org/devdocs/release/1.20.0-notes.html#deprecations\n",
      "  bucket_pos = np.where(abs_pos <= mid, relative_pos, log_pos * sign).astype(np.int)\n"
     ]
    },
    {
     "name": "stdout",
     "output_type": "stream",
     "text": [
      "Example 0:  horrible rooms and \u001b[32m<services:Negative(confidence:0.952, ref:Negative)>\u001b[0m poorly designed and nonfunctional washroom staff and management was absolutely not accommodating they gave us the wrongroom, over charged for it and did not fix their mistake corridors stinking with acute smoking smell \n"
     ]
    },
    {
     "name": "stderr",
     "output_type": "stream",
     "text": [
      "C:\\Users\\mosha\\anaconda3\\lib\\site-packages\\transformers\\models\\deberta_v2\\modeling_deberta_v2.py:539: DeprecationWarning: `np.int` is a deprecated alias for the builtin `int`. To silence this warning, use `int` by itself. Doing this will not modify any behavior and is safe. When replacing `np.int`, you may wish to use e.g. `np.int64` or `np.int32` to specify the precision. If you wish to review your current use, check the release note link for additional information.\n",
      "Deprecated in NumPy 1.20; for more details and guidance: https://numpy.org/devdocs/release/1.20.0-notes.html#deprecations\n",
      "  bucket_pos = np.where(abs_pos <= mid, relative_pos, log_pos * sign).astype(np.int)\n"
     ]
    },
    {
     "name": "stdout",
     "output_type": "stream",
     "text": [
      "Example 0:  horrible rooms and services poorly designed and nonfunctional \u001b[32m<washroom:Negative(confidence:0.944, ref:Negative)>\u001b[0m staff and management was absolutely not accommodating they gave us the wrongroom, over charged for it and did not fix their mistake corridors stinking with acute smoking smell \n"
     ]
    },
    {
     "name": "stderr",
     "output_type": "stream",
     "text": [
      "C:\\Users\\mosha\\anaconda3\\lib\\site-packages\\transformers\\models\\deberta_v2\\modeling_deberta_v2.py:539: DeprecationWarning: `np.int` is a deprecated alias for the builtin `int`. To silence this warning, use `int` by itself. Doing this will not modify any behavior and is safe. When replacing `np.int`, you may wish to use e.g. `np.int64` or `np.int32` to specify the precision. If you wish to review your current use, check the release note link for additional information.\n",
      "Deprecated in NumPy 1.20; for more details and guidance: https://numpy.org/devdocs/release/1.20.0-notes.html#deprecations\n",
      "  bucket_pos = np.where(abs_pos <= mid, relative_pos, log_pos * sign).astype(np.int)\n"
     ]
    },
    {
     "name": "stdout",
     "output_type": "stream",
     "text": [
      "Example 0:  horrible rooms and services poorly designed and nonfunctional washroom \u001b[32m<staff:Negative(confidence:0.95, ref:Negative)>\u001b[0m and management was absolutely not accommodating they gave us the wrongroom, over charged for it and did not fix their mistake corridors stinking with acute smoking smell \n"
     ]
    },
    {
     "name": "stderr",
     "output_type": "stream",
     "text": [
      "C:\\Users\\mosha\\anaconda3\\lib\\site-packages\\transformers\\models\\deberta_v2\\modeling_deberta_v2.py:539: DeprecationWarning: `np.int` is a deprecated alias for the builtin `int`. To silence this warning, use `int` by itself. Doing this will not modify any behavior and is safe. When replacing `np.int`, you may wish to use e.g. `np.int64` or `np.int32` to specify the precision. If you wish to review your current use, check the release note link for additional information.\n",
      "Deprecated in NumPy 1.20; for more details and guidance: https://numpy.org/devdocs/release/1.20.0-notes.html#deprecations\n",
      "  bucket_pos = np.where(abs_pos <= mid, relative_pos, log_pos * sign).astype(np.int)\n"
     ]
    },
    {
     "name": "stdout",
     "output_type": "stream",
     "text": [
      "Example 0:  horrible rooms and services poorly designed and nonfunctional washroom staff and \u001b[32m<management:Negative(confidence:0.945, ref:Negative)>\u001b[0m was absolutely not accommodating they gave us the wrongroom, over charged for it and did not fix their mistake corridors stinking with acute smoking smell \n"
     ]
    },
    {
     "name": "stderr",
     "output_type": "stream",
     "text": [
      "C:\\Users\\mosha\\anaconda3\\lib\\site-packages\\transformers\\models\\deberta_v2\\modeling_deberta_v2.py:539: DeprecationWarning: `np.int` is a deprecated alias for the builtin `int`. To silence this warning, use `int` by itself. Doing this will not modify any behavior and is safe. When replacing `np.int`, you may wish to use e.g. `np.int64` or `np.int32` to specify the precision. If you wish to review your current use, check the release note link for additional information.\n",
      "Deprecated in NumPy 1.20; for more details and guidance: https://numpy.org/devdocs/release/1.20.0-notes.html#deprecations\n",
      "  bucket_pos = np.where(abs_pos <= mid, relative_pos, log_pos * sign).astype(np.int)\n"
     ]
    },
    {
     "name": "stdout",
     "output_type": "stream",
     "text": [
      "Example 0:  horrible rooms and services poorly designed and nonfunctional washroom staff and management was absolutely not accommodating they gave us the wrongroom, over charged for it and did not fix their mistake \u001b[32m<corridors:Negative(confidence:0.96, ref:Negative)>\u001b[0m stinking with acute smoking smell \n"
     ]
    },
    {
     "name": "stderr",
     "output_type": "stream",
     "text": [
      "C:\\Users\\mosha\\anaconda3\\lib\\site-packages\\transformers\\models\\deberta_v2\\modeling_deberta_v2.py:539: DeprecationWarning: `np.int` is a deprecated alias for the builtin `int`. To silence this warning, use `int` by itself. Doing this will not modify any behavior and is safe. When replacing `np.int`, you may wish to use e.g. `np.int64` or `np.int32` to specify the precision. If you wish to review your current use, check the release note link for additional information.\n",
      "Deprecated in NumPy 1.20; for more details and guidance: https://numpy.org/devdocs/release/1.20.0-notes.html#deprecations\n",
      "  bucket_pos = np.where(abs_pos <= mid, relative_pos, log_pos * sign).astype(np.int)\n"
     ]
    },
    {
     "name": "stdout",
     "output_type": "stream",
     "text": [
      "Example 0:  deposite of 500sr was not refunded for more than 3 weeks so far no \u001b[32m<house keeping:Negative(confidence:0.952, ref:Negative)>\u001b[0m services had to pay for a contract company to do the cleaning this was not mentioned when i made the booking no available stuff at the reception \n"
     ]
    },
    {
     "name": "stderr",
     "output_type": "stream",
     "text": [
      "C:\\Users\\mosha\\anaconda3\\lib\\site-packages\\transformers\\models\\deberta_v2\\modeling_deberta_v2.py:539: DeprecationWarning: `np.int` is a deprecated alias for the builtin `int`. To silence this warning, use `int` by itself. Doing this will not modify any behavior and is safe. When replacing `np.int`, you may wish to use e.g. `np.int64` or `np.int32` to specify the precision. If you wish to review your current use, check the release note link for additional information.\n",
      "Deprecated in NumPy 1.20; for more details and guidance: https://numpy.org/devdocs/release/1.20.0-notes.html#deprecations\n",
      "  bucket_pos = np.where(abs_pos <= mid, relative_pos, log_pos * sign).astype(np.int)\n"
     ]
    },
    {
     "name": "stdout",
     "output_type": "stream",
     "text": [
      "Example 0:  deposite of 500sr was not refunded for more than 3 weeks so far no house keeping services had to pay for a contract company to do the cleaning this was not mentioned when i made the booking no available stuff at the \u001b[32m<reception:Negative(confidence:0.937, ref:Negative)>\u001b[0m  \n"
     ]
    },
    {
     "name": "stderr",
     "output_type": "stream",
     "text": [
      "C:\\Users\\mosha\\anaconda3\\lib\\site-packages\\transformers\\models\\deberta_v2\\modeling_deberta_v2.py:539: DeprecationWarning: `np.int` is a deprecated alias for the builtin `int`. To silence this warning, use `int` by itself. Doing this will not modify any behavior and is safe. When replacing `np.int`, you may wish to use e.g. `np.int64` or `np.int32` to specify the precision. If you wish to review your current use, check the release note link for additional information.\n",
      "Deprecated in NumPy 1.20; for more details and guidance: https://numpy.org/devdocs/release/1.20.0-notes.html#deprecations\n",
      "  bucket_pos = np.where(abs_pos <= mid, relative_pos, log_pos * sign).astype(np.int)\n"
     ]
    },
    {
     "name": "stdout",
     "output_type": "stream",
     "text": [
      "Example 0:  good quality and \u001b[32m<service:Positive(confidence:0.936, ref:Positive)>\u001b[0m and reception was helpful i think his name salah or saleh restaurant was good room was nice i will visit next time \n"
     ]
    },
    {
     "name": "stderr",
     "output_type": "stream",
     "text": [
      "C:\\Users\\mosha\\anaconda3\\lib\\site-packages\\transformers\\models\\deberta_v2\\modeling_deberta_v2.py:539: DeprecationWarning: `np.int` is a deprecated alias for the builtin `int`. To silence this warning, use `int` by itself. Doing this will not modify any behavior and is safe. When replacing `np.int`, you may wish to use e.g. `np.int64` or `np.int32` to specify the precision. If you wish to review your current use, check the release note link for additional information.\n",
      "Deprecated in NumPy 1.20; for more details and guidance: https://numpy.org/devdocs/release/1.20.0-notes.html#deprecations\n",
      "  bucket_pos = np.where(abs_pos <= mid, relative_pos, log_pos * sign).astype(np.int)\n"
     ]
    },
    {
     "name": "stdout",
     "output_type": "stream",
     "text": [
      "Example 0:  good quality and service and \u001b[32m<reception:Positive(confidence:0.91, ref:Positive)>\u001b[0m was helpful i think his name salah or saleh restaurant was good room was nice i will visit next time \n"
     ]
    },
    {
     "name": "stderr",
     "output_type": "stream",
     "text": [
      "C:\\Users\\mosha\\anaconda3\\lib\\site-packages\\transformers\\models\\deberta_v2\\modeling_deberta_v2.py:539: DeprecationWarning: `np.int` is a deprecated alias for the builtin `int`. To silence this warning, use `int` by itself. Doing this will not modify any behavior and is safe. When replacing `np.int`, you may wish to use e.g. `np.int64` or `np.int32` to specify the precision. If you wish to review your current use, check the release note link for additional information.\n",
      "Deprecated in NumPy 1.20; for more details and guidance: https://numpy.org/devdocs/release/1.20.0-notes.html#deprecations\n",
      "  bucket_pos = np.where(abs_pos <= mid, relative_pos, log_pos * sign).astype(np.int)\n"
     ]
    },
    {
     "name": "stdout",
     "output_type": "stream",
     "text": [
      "Example 0:  good quality and service and reception was helpful i think his name salah or saleh \u001b[32m<restaurant:Positive(confidence:0.938, ref:Positive)>\u001b[0m was good room was nice i will visit next time \n"
     ]
    },
    {
     "name": "stderr",
     "output_type": "stream",
     "text": [
      "C:\\Users\\mosha\\anaconda3\\lib\\site-packages\\transformers\\models\\deberta_v2\\modeling_deberta_v2.py:539: DeprecationWarning: `np.int` is a deprecated alias for the builtin `int`. To silence this warning, use `int` by itself. Doing this will not modify any behavior and is safe. When replacing `np.int`, you may wish to use e.g. `np.int64` or `np.int32` to specify the precision. If you wish to review your current use, check the release note link for additional information.\n",
      "Deprecated in NumPy 1.20; for more details and guidance: https://numpy.org/devdocs/release/1.20.0-notes.html#deprecations\n",
      "  bucket_pos = np.where(abs_pos <= mid, relative_pos, log_pos * sign).astype(np.int)\n"
     ]
    },
    {
     "name": "stdout",
     "output_type": "stream",
     "text": [
      "Example 0:  good quality and service and reception was helpful i think his name salah or saleh restaurant was good \u001b[32m<room:Positive(confidence:0.957, ref:Positive)>\u001b[0m was nice i will visit next time \n"
     ]
    },
    {
     "name": "stderr",
     "output_type": "stream",
     "text": [
      "C:\\Users\\mosha\\anaconda3\\lib\\site-packages\\transformers\\models\\deberta_v2\\modeling_deberta_v2.py:539: DeprecationWarning: `np.int` is a deprecated alias for the builtin `int`. To silence this warning, use `int` by itself. Doing this will not modify any behavior and is safe. When replacing `np.int`, you may wish to use e.g. `np.int64` or `np.int32` to specify the precision. If you wish to review your current use, check the release note link for additional information.\n",
      "Deprecated in NumPy 1.20; for more details and guidance: https://numpy.org/devdocs/release/1.20.0-notes.html#deprecations\n",
      "  bucket_pos = np.where(abs_pos <= mid, relative_pos, log_pos * sign).astype(np.int)\n"
     ]
    },
    {
     "name": "stdout",
     "output_type": "stream",
     "text": [
      "Example 0:  limited \u001b[31m<breakfast:Positive(confidence:0.95, ref:Negative)>\u001b[0m if you add some items every thing will be great the taste of american coffee is not good \n"
     ]
    },
    {
     "name": "stderr",
     "output_type": "stream",
     "text": [
      "C:\\Users\\mosha\\anaconda3\\lib\\site-packages\\transformers\\models\\deberta_v2\\modeling_deberta_v2.py:539: DeprecationWarning: `np.int` is a deprecated alias for the builtin `int`. To silence this warning, use `int` by itself. Doing this will not modify any behavior and is safe. When replacing `np.int`, you may wish to use e.g. `np.int64` or `np.int32` to specify the precision. If you wish to review your current use, check the release note link for additional information.\n",
      "Deprecated in NumPy 1.20; for more details and guidance: https://numpy.org/devdocs/release/1.20.0-notes.html#deprecations\n",
      "  bucket_pos = np.where(abs_pos <= mid, relative_pos, log_pos * sign).astype(np.int)\n"
     ]
    },
    {
     "name": "stdout",
     "output_type": "stream",
     "text": [
      "Example 0:  limited breakfast if you add some items every thing will be great the taste of \u001b[31m<american coffee:Positive(confidence:0.855, ref:Negative)>\u001b[0m is not good \n"
     ]
    },
    {
     "name": "stderr",
     "output_type": "stream",
     "text": [
      "C:\\Users\\mosha\\anaconda3\\lib\\site-packages\\transformers\\models\\deberta_v2\\modeling_deberta_v2.py:539: DeprecationWarning: `np.int` is a deprecated alias for the builtin `int`. To silence this warning, use `int` by itself. Doing this will not modify any behavior and is safe. When replacing `np.int`, you may wish to use e.g. `np.int64` or `np.int32` to specify the precision. If you wish to review your current use, check the release note link for additional information.\n",
      "Deprecated in NumPy 1.20; for more details and guidance: https://numpy.org/devdocs/release/1.20.0-notes.html#deprecations\n",
      "  bucket_pos = np.where(abs_pos <= mid, relative_pos, log_pos * sign).astype(np.int)\n"
     ]
    },
    {
     "name": "stdout",
     "output_type": "stream",
     "text": [
      "Example 0:  \u001b[32m<breakfast:Positive(confidence:0.684, ref:Positive)>\u001b[0m wasgood, but room is very small andtiny, bathroom extremelysmall, not healthy staying there are no window in theroom, telephone is not working \n"
     ]
    },
    {
     "name": "stderr",
     "output_type": "stream",
     "text": [
      "C:\\Users\\mosha\\anaconda3\\lib\\site-packages\\transformers\\models\\deberta_v2\\modeling_deberta_v2.py:539: DeprecationWarning: `np.int` is a deprecated alias for the builtin `int`. To silence this warning, use `int` by itself. Doing this will not modify any behavior and is safe. When replacing `np.int`, you may wish to use e.g. `np.int64` or `np.int32` to specify the precision. If you wish to review your current use, check the release note link for additional information.\n",
      "Deprecated in NumPy 1.20; for more details and guidance: https://numpy.org/devdocs/release/1.20.0-notes.html#deprecations\n",
      "  bucket_pos = np.where(abs_pos <= mid, relative_pos, log_pos * sign).astype(np.int)\n"
     ]
    },
    {
     "name": "stdout",
     "output_type": "stream",
     "text": [
      "Example 0:  breakfast wasgood, but \u001b[31m<room:Positive(confidence:0.6, ref:Negative)>\u001b[0m is very small andtiny, bath\u001b[31m<room:Positive(confidence:0.6, ref:Negative)>\u001b[0m extremelysmall, not healthy staying there are no window in the\u001b[31m<room:Positive(confidence:0.6, ref:Negative)>\u001b[0m, telephone is not working \n"
     ]
    },
    {
     "name": "stderr",
     "output_type": "stream",
     "text": [
      "C:\\Users\\mosha\\anaconda3\\lib\\site-packages\\transformers\\models\\deberta_v2\\modeling_deberta_v2.py:539: DeprecationWarning: `np.int` is a deprecated alias for the builtin `int`. To silence this warning, use `int` by itself. Doing this will not modify any behavior and is safe. When replacing `np.int`, you may wish to use e.g. `np.int64` or `np.int32` to specify the precision. If you wish to review your current use, check the release note link for additional information.\n",
      "Deprecated in NumPy 1.20; for more details and guidance: https://numpy.org/devdocs/release/1.20.0-notes.html#deprecations\n",
      "  bucket_pos = np.where(abs_pos <= mid, relative_pos, log_pos * sign).astype(np.int)\n"
     ]
    },
    {
     "name": "stdout",
     "output_type": "stream",
     "text": [
      "Example 0:  breakfast wasgood, but room is very small andtiny, \u001b[31m<bathroom:Positive(confidence:0.549, ref:Negative)>\u001b[0m extremelysmall, not healthy staying there are no window in theroom, telephone is not working \n"
     ]
    },
    {
     "name": "stderr",
     "output_type": "stream",
     "text": [
      "C:\\Users\\mosha\\anaconda3\\lib\\site-packages\\transformers\\models\\deberta_v2\\modeling_deberta_v2.py:539: DeprecationWarning: `np.int` is a deprecated alias for the builtin `int`. To silence this warning, use `int` by itself. Doing this will not modify any behavior and is safe. When replacing `np.int`, you may wish to use e.g. `np.int64` or `np.int32` to specify the precision. If you wish to review your current use, check the release note link for additional information.\n",
      "Deprecated in NumPy 1.20; for more details and guidance: https://numpy.org/devdocs/release/1.20.0-notes.html#deprecations\n",
      "  bucket_pos = np.where(abs_pos <= mid, relative_pos, log_pos * sign).astype(np.int)\n"
     ]
    },
    {
     "name": "stdout",
     "output_type": "stream",
     "text": [
      "Example 0:  breakfast wasgood, but room is very small andtiny, bathroom extremelysmall, not healthy staying there are no \u001b[31m<window:Positive(confidence:0.576, ref:Negative)>\u001b[0m in theroom, telephone is not working \n"
     ]
    },
    {
     "name": "stderr",
     "output_type": "stream",
     "text": [
      "C:\\Users\\mosha\\anaconda3\\lib\\site-packages\\transformers\\models\\deberta_v2\\modeling_deberta_v2.py:539: DeprecationWarning: `np.int` is a deprecated alias for the builtin `int`. To silence this warning, use `int` by itself. Doing this will not modify any behavior and is safe. When replacing `np.int`, you may wish to use e.g. `np.int64` or `np.int32` to specify the precision. If you wish to review your current use, check the release note link for additional information.\n",
      "Deprecated in NumPy 1.20; for more details and guidance: https://numpy.org/devdocs/release/1.20.0-notes.html#deprecations\n",
      "  bucket_pos = np.where(abs_pos <= mid, relative_pos, log_pos * sign).astype(np.int)\n"
     ]
    },
    {
     "name": "stdout",
     "output_type": "stream",
     "text": [
      "Example 0:  breakfast wasgood, but room is very small andtiny, bathroom extremelysmall, not healthy staying there are no window in theroom, \u001b[31m<telephone:Positive(confidence:0.598, ref:Negative)>\u001b[0m is not working \n"
     ]
    },
    {
     "name": "stderr",
     "output_type": "stream",
     "text": [
      "C:\\Users\\mosha\\anaconda3\\lib\\site-packages\\transformers\\models\\deberta_v2\\modeling_deberta_v2.py:539: DeprecationWarning: `np.int` is a deprecated alias for the builtin `int`. To silence this warning, use `int` by itself. Doing this will not modify any behavior and is safe. When replacing `np.int`, you may wish to use e.g. `np.int64` or `np.int32` to specify the precision. If you wish to review your current use, check the release note link for additional information.\n",
      "Deprecated in NumPy 1.20; for more details and guidance: https://numpy.org/devdocs/release/1.20.0-notes.html#deprecations\n",
      "  bucket_pos = np.where(abs_pos <= mid, relative_pos, log_pos * sign).astype(np.int)\n"
     ]
    },
    {
     "name": "stdout",
     "output_type": "stream",
     "text": [
      "Example 0:  the staff tell me if you want to renew just tell us tomorrow and the \u001b[32m<price:Negative(confidence:0.954, ref:Negative)>\u001b[0m will be same but when i did renew they cost me more thanbefore, bad customer service \n"
     ]
    },
    {
     "name": "stderr",
     "output_type": "stream",
     "text": [
      "C:\\Users\\mosha\\anaconda3\\lib\\site-packages\\transformers\\models\\deberta_v2\\modeling_deberta_v2.py:539: DeprecationWarning: `np.int` is a deprecated alias for the builtin `int`. To silence this warning, use `int` by itself. Doing this will not modify any behavior and is safe. When replacing `np.int`, you may wish to use e.g. `np.int64` or `np.int32` to specify the precision. If you wish to review your current use, check the release note link for additional information.\n",
      "Deprecated in NumPy 1.20; for more details and guidance: https://numpy.org/devdocs/release/1.20.0-notes.html#deprecations\n",
      "  bucket_pos = np.where(abs_pos <= mid, relative_pos, log_pos * sign).astype(np.int)\n"
     ]
    },
    {
     "name": "stdout",
     "output_type": "stream",
     "text": [
      "Example 0:  the staff tell me if you want to renew just tell us tomorrow and the price will be same but when i did renew they cost me more thanbefore, bad \u001b[32m<customer service:Negative(confidence:0.948, ref:Negative)>\u001b[0m  \n"
     ]
    },
    {
     "name": "stderr",
     "output_type": "stream",
     "text": [
      "C:\\Users\\mosha\\anaconda3\\lib\\site-packages\\transformers\\models\\deberta_v2\\modeling_deberta_v2.py:539: DeprecationWarning: `np.int` is a deprecated alias for the builtin `int`. To silence this warning, use `int` by itself. Doing this will not modify any behavior and is safe. When replacing `np.int`, you may wish to use e.g. `np.int64` or `np.int32` to specify the precision. If you wish to review your current use, check the release note link for additional information.\n",
      "Deprecated in NumPy 1.20; for more details and guidance: https://numpy.org/devdocs/release/1.20.0-notes.html#deprecations\n",
      "  bucket_pos = np.where(abs_pos <= mid, relative_pos, log_pos * sign).astype(np.int)\n"
     ]
    },
    {
     "name": "stdout",
     "output_type": "stream",
     "text": [
      "Example 0:  \u001b[32m<room service:Negative(confidence:0.927, ref:Negative)>\u001b[0m is below average and some dishes were not edible cleaning service was also below average this was our 2nd stay and most probably the last as there is a major drop in services between the two \n"
     ]
    },
    {
     "name": "stderr",
     "output_type": "stream",
     "text": [
      "C:\\Users\\mosha\\anaconda3\\lib\\site-packages\\transformers\\models\\deberta_v2\\modeling_deberta_v2.py:539: DeprecationWarning: `np.int` is a deprecated alias for the builtin `int`. To silence this warning, use `int` by itself. Doing this will not modify any behavior and is safe. When replacing `np.int`, you may wish to use e.g. `np.int64` or `np.int32` to specify the precision. If you wish to review your current use, check the release note link for additional information.\n",
      "Deprecated in NumPy 1.20; for more details and guidance: https://numpy.org/devdocs/release/1.20.0-notes.html#deprecations\n",
      "  bucket_pos = np.where(abs_pos <= mid, relative_pos, log_pos * sign).astype(np.int)\n"
     ]
    },
    {
     "name": "stdout",
     "output_type": "stream",
     "text": [
      "Example 0:  room service is below average and some \u001b[32m<dishes:Negative(confidence:0.942, ref:Negative)>\u001b[0m were not edible cleaning service was also below average this was our 2nd stay and most probably the last as there is a major drop in services between the two \n"
     ]
    },
    {
     "name": "stderr",
     "output_type": "stream",
     "text": [
      "C:\\Users\\mosha\\anaconda3\\lib\\site-packages\\transformers\\models\\deberta_v2\\modeling_deberta_v2.py:539: DeprecationWarning: `np.int` is a deprecated alias for the builtin `int`. To silence this warning, use `int` by itself. Doing this will not modify any behavior and is safe. When replacing `np.int`, you may wish to use e.g. `np.int64` or `np.int32` to specify the precision. If you wish to review your current use, check the release note link for additional information.\n",
      "Deprecated in NumPy 1.20; for more details and guidance: https://numpy.org/devdocs/release/1.20.0-notes.html#deprecations\n",
      "  bucket_pos = np.where(abs_pos <= mid, relative_pos, log_pos * sign).astype(np.int)\n"
     ]
    },
    {
     "name": "stdout",
     "output_type": "stream",
     "text": [
      "Example 0:  room service is below average and some dishes were not edible \u001b[32m<cleaning service:Negative(confidence:0.924, ref:Negative)>\u001b[0m was also below average this was our 2nd stay and most probably the last as there is a major drop in services between the two \n"
     ]
    },
    {
     "name": "stderr",
     "output_type": "stream",
     "text": [
      "C:\\Users\\mosha\\anaconda3\\lib\\site-packages\\transformers\\models\\deberta_v2\\modeling_deberta_v2.py:539: DeprecationWarning: `np.int` is a deprecated alias for the builtin `int`. To silence this warning, use `int` by itself. Doing this will not modify any behavior and is safe. When replacing `np.int`, you may wish to use e.g. `np.int64` or `np.int32` to specify the precision. If you wish to review your current use, check the release note link for additional information.\n",
      "Deprecated in NumPy 1.20; for more details and guidance: https://numpy.org/devdocs/release/1.20.0-notes.html#deprecations\n",
      "  bucket_pos = np.where(abs_pos <= mid, relative_pos, log_pos * sign).astype(np.int)\n"
     ]
    },
    {
     "name": "stdout",
     "output_type": "stream",
     "text": [
      "Example 0:  room service is below average and some dishes were not edible cleaning service was also below average this was our 2nd stay and most probably the last as there is a major drop in \u001b[32m<services:Negative(confidence:0.947, ref:Negative)>\u001b[0m between the two \n"
     ]
    },
    {
     "name": "stderr",
     "output_type": "stream",
     "text": [
      "C:\\Users\\mosha\\anaconda3\\lib\\site-packages\\transformers\\models\\deberta_v2\\modeling_deberta_v2.py:539: DeprecationWarning: `np.int` is a deprecated alias for the builtin `int`. To silence this warning, use `int` by itself. Doing this will not modify any behavior and is safe. When replacing `np.int`, you may wish to use e.g. `np.int64` or `np.int32` to specify the precision. If you wish to review your current use, check the release note link for additional information.\n",
      "Deprecated in NumPy 1.20; for more details and guidance: https://numpy.org/devdocs/release/1.20.0-notes.html#deprecations\n",
      "  bucket_pos = np.where(abs_pos <= mid, relative_pos, log_pos * sign).astype(np.int)\n"
     ]
    },
    {
     "name": "stdout",
     "output_type": "stream",
     "text": [
      "Example 0:  \u001b[32m<room:Negative(confidence:0.884, ref:Negative)>\u001b[0m wasn't ready when we check in cockroach in the bath\u001b[32m<room:Negative(confidence:0.884, ref:Negative)>\u001b[0m hair for other claint in the bath\u001b[32m<room:Negative(confidence:0.884, ref:Negative)>\u001b[0m \n"
     ]
    },
    {
     "name": "stderr",
     "output_type": "stream",
     "text": [
      "C:\\Users\\mosha\\anaconda3\\lib\\site-packages\\transformers\\models\\deberta_v2\\modeling_deberta_v2.py:539: DeprecationWarning: `np.int` is a deprecated alias for the builtin `int`. To silence this warning, use `int` by itself. Doing this will not modify any behavior and is safe. When replacing `np.int`, you may wish to use e.g. `np.int64` or `np.int32` to specify the precision. If you wish to review your current use, check the release note link for additional information.\n",
      "Deprecated in NumPy 1.20; for more details and guidance: https://numpy.org/devdocs/release/1.20.0-notes.html#deprecations\n",
      "  bucket_pos = np.where(abs_pos <= mid, relative_pos, log_pos * sign).astype(np.int)\n"
     ]
    },
    {
     "name": "stdout",
     "output_type": "stream",
     "text": [
      "Example 0:  roomwasn't ready when we check in cockroach in the \u001b[32m<bathroom:Negative(confidence:0.901, ref:Negative)>\u001b[0m hair for other claint in the \u001b[32m<bathroom:Negative(confidence:0.901, ref:Negative)>\u001b[0m \n"
     ]
    },
    {
     "name": "stderr",
     "output_type": "stream",
     "text": [
      "C:\\Users\\mosha\\anaconda3\\lib\\site-packages\\transformers\\models\\deberta_v2\\modeling_deberta_v2.py:539: DeprecationWarning: `np.int` is a deprecated alias for the builtin `int`. To silence this warning, use `int` by itself. Doing this will not modify any behavior and is safe. When replacing `np.int`, you may wish to use e.g. `np.int64` or `np.int32` to specify the precision. If you wish to review your current use, check the release note link for additional information.\n",
      "Deprecated in NumPy 1.20; for more details and guidance: https://numpy.org/devdocs/release/1.20.0-notes.html#deprecations\n",
      "  bucket_pos = np.where(abs_pos <= mid, relative_pos, log_pos * sign).astype(np.int)\n"
     ]
    },
    {
     "name": "stdout",
     "output_type": "stream",
     "text": [
      "Example 0:  1no \u001b[32m<room service:Negative(confidence:0.939, ref:Negative)>\u001b[0m at all 2no one come to clean the room even i ask 3stay more than 45 minutes to check in 4main wc is very dirty \n"
     ]
    },
    {
     "name": "stderr",
     "output_type": "stream",
     "text": [
      "C:\\Users\\mosha\\anaconda3\\lib\\site-packages\\transformers\\models\\deberta_v2\\modeling_deberta_v2.py:539: DeprecationWarning: `np.int` is a deprecated alias for the builtin `int`. To silence this warning, use `int` by itself. Doing this will not modify any behavior and is safe. When replacing `np.int`, you may wish to use e.g. `np.int64` or `np.int32` to specify the precision. If you wish to review your current use, check the release note link for additional information.\n",
      "Deprecated in NumPy 1.20; for more details and guidance: https://numpy.org/devdocs/release/1.20.0-notes.html#deprecations\n",
      "  bucket_pos = np.where(abs_pos <= mid, relative_pos, log_pos * sign).astype(np.int)\n"
     ]
    },
    {
     "name": "stdout",
     "output_type": "stream",
     "text": [
      "Example 0:  1no room service at all 2no one come to \u001b[32m<clean:Negative(confidence:0.944, ref:Negative)>\u001b[0m the room even i ask 3stay more than 45 minutes to check in 4main wc is very dirty \n"
     ]
    },
    {
     "name": "stderr",
     "output_type": "stream",
     "text": [
      "C:\\Users\\mosha\\anaconda3\\lib\\site-packages\\transformers\\models\\deberta_v2\\modeling_deberta_v2.py:539: DeprecationWarning: `np.int` is a deprecated alias for the builtin `int`. To silence this warning, use `int` by itself. Doing this will not modify any behavior and is safe. When replacing `np.int`, you may wish to use e.g. `np.int64` or `np.int32` to specify the precision. If you wish to review your current use, check the release note link for additional information.\n",
      "Deprecated in NumPy 1.20; for more details and guidance: https://numpy.org/devdocs/release/1.20.0-notes.html#deprecations\n",
      "  bucket_pos = np.where(abs_pos <= mid, relative_pos, log_pos * sign).astype(np.int)\n"
     ]
    },
    {
     "name": "stdout",
     "output_type": "stream",
     "text": [
      "Example 0:  1no room service at all 2no one come to clean the room even i ask 3stay more than 45 minutes to \u001b[32m<check in:Negative(confidence:0.938, ref:Negative)>\u001b[0m 4main wc is very dirty \n"
     ]
    },
    {
     "name": "stderr",
     "output_type": "stream",
     "text": [
      "C:\\Users\\mosha\\anaconda3\\lib\\site-packages\\transformers\\models\\deberta_v2\\modeling_deberta_v2.py:539: DeprecationWarning: `np.int` is a deprecated alias for the builtin `int`. To silence this warning, use `int` by itself. Doing this will not modify any behavior and is safe. When replacing `np.int`, you may wish to use e.g. `np.int64` or `np.int32` to specify the precision. If you wish to review your current use, check the release note link for additional information.\n",
      "Deprecated in NumPy 1.20; for more details and guidance: https://numpy.org/devdocs/release/1.20.0-notes.html#deprecations\n",
      "  bucket_pos = np.where(abs_pos <= mid, relative_pos, log_pos * sign).astype(np.int)\n"
     ]
    },
    {
     "name": "stdout",
     "output_type": "stream",
     "text": [
      "Example 0:  1no room service at all 2no one come to clean the room even i ask 3stay more than 45 minutes to check in 4main \u001b[32m<wc:Negative(confidence:0.932, ref:Negative)>\u001b[0m is very dirty \n"
     ]
    },
    {
     "name": "stderr",
     "output_type": "stream",
     "text": [
      "C:\\Users\\mosha\\anaconda3\\lib\\site-packages\\transformers\\models\\deberta_v2\\modeling_deberta_v2.py:539: DeprecationWarning: `np.int` is a deprecated alias for the builtin `int`. To silence this warning, use `int` by itself. Doing this will not modify any behavior and is safe. When replacing `np.int`, you may wish to use e.g. `np.int64` or `np.int32` to specify the precision. If you wish to review your current use, check the release note link for additional information.\n",
      "Deprecated in NumPy 1.20; for more details and guidance: https://numpy.org/devdocs/release/1.20.0-notes.html#deprecations\n",
      "  bucket_pos = np.where(abs_pos <= mid, relative_pos, log_pos * sign).astype(np.int)\n"
     ]
    },
    {
     "name": "stdout",
     "output_type": "stream",
     "text": [
      "Example 0:  good place comfortable \u001b[32m<room:Positive(confidence:0.979, ref:Positive)>\u001b[0m and practical and fast check in and out \n"
     ]
    },
    {
     "name": "stderr",
     "output_type": "stream",
     "text": [
      "C:\\Users\\mosha\\anaconda3\\lib\\site-packages\\transformers\\models\\deberta_v2\\modeling_deberta_v2.py:539: DeprecationWarning: `np.int` is a deprecated alias for the builtin `int`. To silence this warning, use `int` by itself. Doing this will not modify any behavior and is safe. When replacing `np.int`, you may wish to use e.g. `np.int64` or `np.int32` to specify the precision. If you wish to review your current use, check the release note link for additional information.\n",
      "Deprecated in NumPy 1.20; for more details and guidance: https://numpy.org/devdocs/release/1.20.0-notes.html#deprecations\n",
      "  bucket_pos = np.where(abs_pos <= mid, relative_pos, log_pos * sign).astype(np.int)\n"
     ]
    },
    {
     "name": "stdout",
     "output_type": "stream",
     "text": [
      "Example 0:  good place comfortable room and practical and fast \u001b[32m<check in:Positive(confidence:0.933, ref:Positive)>\u001b[0m and out \n"
     ]
    },
    {
     "name": "stderr",
     "output_type": "stream",
     "text": [
      "C:\\Users\\mosha\\anaconda3\\lib\\site-packages\\transformers\\models\\deberta_v2\\modeling_deberta_v2.py:539: DeprecationWarning: `np.int` is a deprecated alias for the builtin `int`. To silence this warning, use `int` by itself. Doing this will not modify any behavior and is safe. When replacing `np.int`, you may wish to use e.g. `np.int64` or `np.int32` to specify the precision. If you wish to review your current use, check the release note link for additional information.\n",
      "Deprecated in NumPy 1.20; for more details and guidance: https://numpy.org/devdocs/release/1.20.0-notes.html#deprecations\n",
      "  bucket_pos = np.where(abs_pos <= mid, relative_pos, log_pos * sign).astype(np.int)\n"
     ]
    },
    {
     "name": "stdout",
     "output_type": "stream",
     "text": [
      "Example 0:  not enough complimentary \u001b[31m<coffee:Positive(confidence:0.869, ref:Negative)>\u001b[0m capsules provided this is minor stuff! the staff were eager to help anyway \n"
     ]
    },
    {
     "name": "stderr",
     "output_type": "stream",
     "text": [
      "C:\\Users\\mosha\\anaconda3\\lib\\site-packages\\transformers\\models\\deberta_v2\\modeling_deberta_v2.py:539: DeprecationWarning: `np.int` is a deprecated alias for the builtin `int`. To silence this warning, use `int` by itself. Doing this will not modify any behavior and is safe. When replacing `np.int`, you may wish to use e.g. `np.int64` or `np.int32` to specify the precision. If you wish to review your current use, check the release note link for additional information.\n",
      "Deprecated in NumPy 1.20; for more details and guidance: https://numpy.org/devdocs/release/1.20.0-notes.html#deprecations\n",
      "  bucket_pos = np.where(abs_pos <= mid, relative_pos, log_pos * sign).astype(np.int)\n"
     ]
    },
    {
     "name": "stdout",
     "output_type": "stream",
     "text": [
      "Example 0:  not enough complimentary coffee capsules provided this is minor stuff! the \u001b[32m<staff:Positive(confidence:0.926, ref:Positive)>\u001b[0m were eager to help anyway \n"
     ]
    },
    {
     "name": "stderr",
     "output_type": "stream",
     "text": [
      "C:\\Users\\mosha\\anaconda3\\lib\\site-packages\\transformers\\models\\deberta_v2\\modeling_deberta_v2.py:539: DeprecationWarning: `np.int` is a deprecated alias for the builtin `int`. To silence this warning, use `int` by itself. Doing this will not modify any behavior and is safe. When replacing `np.int`, you may wish to use e.g. `np.int64` or `np.int32` to specify the precision. If you wish to review your current use, check the release note link for additional information.\n",
      "Deprecated in NumPy 1.20; for more details and guidance: https://numpy.org/devdocs/release/1.20.0-notes.html#deprecations\n",
      "  bucket_pos = np.where(abs_pos <= mid, relative_pos, log_pos * sign).astype(np.int)\n"
     ]
    },
    {
     "name": "stdout",
     "output_type": "stream",
     "text": [
      "Example 0:  it was good \u001b[32m<location:Positive(confidence:0.716, ref:Positive)>\u001b[0m staff are good maner help full clean the room everyday mr kareem andhe's staff mohamed koser was very good maner help full thank you from mr bodhaniy uk \n"
     ]
    },
    {
     "name": "stderr",
     "output_type": "stream",
     "text": [
      "C:\\Users\\mosha\\anaconda3\\lib\\site-packages\\transformers\\models\\deberta_v2\\modeling_deberta_v2.py:539: DeprecationWarning: `np.int` is a deprecated alias for the builtin `int`. To silence this warning, use `int` by itself. Doing this will not modify any behavior and is safe. When replacing `np.int`, you may wish to use e.g. `np.int64` or `np.int32` to specify the precision. If you wish to review your current use, check the release note link for additional information.\n",
      "Deprecated in NumPy 1.20; for more details and guidance: https://numpy.org/devdocs/release/1.20.0-notes.html#deprecations\n",
      "  bucket_pos = np.where(abs_pos <= mid, relative_pos, log_pos * sign).astype(np.int)\n"
     ]
    },
    {
     "name": "stdout",
     "output_type": "stream",
     "text": [
      "Example 0:  it was good location \u001b[32m<staff:Positive(confidence:0.753, ref:Positive)>\u001b[0m are good maner help full clean the room everyday mr kareem andhe's \u001b[32m<staff:Positive(confidence:0.753, ref:Positive)>\u001b[0m mohamed koser was very good maner help full thank you from mr bodhaniy uk \n"
     ]
    },
    {
     "name": "stderr",
     "output_type": "stream",
     "text": [
      "C:\\Users\\mosha\\anaconda3\\lib\\site-packages\\transformers\\models\\deberta_v2\\modeling_deberta_v2.py:539: DeprecationWarning: `np.int` is a deprecated alias for the builtin `int`. To silence this warning, use `int` by itself. Doing this will not modify any behavior and is safe. When replacing `np.int`, you may wish to use e.g. `np.int64` or `np.int32` to specify the precision. If you wish to review your current use, check the release note link for additional information.\n",
      "Deprecated in NumPy 1.20; for more details and guidance: https://numpy.org/devdocs/release/1.20.0-notes.html#deprecations\n",
      "  bucket_pos = np.where(abs_pos <= mid, relative_pos, log_pos * sign).astype(np.int)\n"
     ]
    },
    {
     "name": "stdout",
     "output_type": "stream",
     "text": [
      "Example 0:  it was good location staff are good maner help full clean the \u001b[32m<room:Positive(confidence:0.537, ref:Positive)>\u001b[0m everyday mr kareem andhe's staff mohamed koser was very good maner help full thank you from mr bodhaniy uk \n"
     ]
    },
    {
     "name": "stderr",
     "output_type": "stream",
     "text": [
      "C:\\Users\\mosha\\anaconda3\\lib\\site-packages\\transformers\\models\\deberta_v2\\modeling_deberta_v2.py:539: DeprecationWarning: `np.int` is a deprecated alias for the builtin `int`. To silence this warning, use `int` by itself. Doing this will not modify any behavior and is safe. When replacing `np.int`, you may wish to use e.g. `np.int64` or `np.int32` to specify the precision. If you wish to review your current use, check the release note link for additional information.\n",
      "Deprecated in NumPy 1.20; for more details and guidance: https://numpy.org/devdocs/release/1.20.0-notes.html#deprecations\n",
      "  bucket_pos = np.where(abs_pos <= mid, relative_pos, log_pos * sign).astype(np.int)\n"
     ]
    },
    {
     "name": "stdout",
     "output_type": "stream",
     "text": [
      "Example 0:  it was good location \u001b[32m<staff:Positive(confidence:0.754, ref:Positive)>\u001b[0m are good maner help full clean the room everyday mr kareem andhe's \u001b[32m<staff:Positive(confidence:0.754, ref:Positive)>\u001b[0m mohamed koser was very good maner help full thank you from mr bodhaniy uk \n"
     ]
    },
    {
     "name": "stderr",
     "output_type": "stream",
     "text": [
      "C:\\Users\\mosha\\anaconda3\\lib\\site-packages\\transformers\\models\\deberta_v2\\modeling_deberta_v2.py:539: DeprecationWarning: `np.int` is a deprecated alias for the builtin `int`. To silence this warning, use `int` by itself. Doing this will not modify any behavior and is safe. When replacing `np.int`, you may wish to use e.g. `np.int64` or `np.int32` to specify the precision. If you wish to review your current use, check the release note link for additional information.\n",
      "Deprecated in NumPy 1.20; for more details and guidance: https://numpy.org/devdocs/release/1.20.0-notes.html#deprecations\n",
      "  bucket_pos = np.where(abs_pos <= mid, relative_pos, log_pos * sign).astype(np.int)\n"
     ]
    },
    {
     "name": "stdout",
     "output_type": "stream",
     "text": [
      "Example 0:  \u001b[31m<located:Positive(confidence:0.846, ref:Negative)>\u001b[0m in a suburban area which is far from amenities and restaurants price is a bit steep too \n"
     ]
    },
    {
     "name": "stderr",
     "output_type": "stream",
     "text": [
      "C:\\Users\\mosha\\anaconda3\\lib\\site-packages\\transformers\\models\\deberta_v2\\modeling_deberta_v2.py:539: DeprecationWarning: `np.int` is a deprecated alias for the builtin `int`. To silence this warning, use `int` by itself. Doing this will not modify any behavior and is safe. When replacing `np.int`, you may wish to use e.g. `np.int64` or `np.int32` to specify the precision. If you wish to review your current use, check the release note link for additional information.\n",
      "Deprecated in NumPy 1.20; for more details and guidance: https://numpy.org/devdocs/release/1.20.0-notes.html#deprecations\n",
      "  bucket_pos = np.where(abs_pos <= mid, relative_pos, log_pos * sign).astype(np.int)\n"
     ]
    },
    {
     "name": "stdout",
     "output_type": "stream",
     "text": [
      "Example 0:  located in a suburban area which is far from amenities and \u001b[31m<restaurants:Positive(confidence:0.904, ref:Negative)>\u001b[0m price is a bit steep too \n"
     ]
    },
    {
     "name": "stderr",
     "output_type": "stream",
     "text": [
      "C:\\Users\\mosha\\anaconda3\\lib\\site-packages\\transformers\\models\\deberta_v2\\modeling_deberta_v2.py:539: DeprecationWarning: `np.int` is a deprecated alias for the builtin `int`. To silence this warning, use `int` by itself. Doing this will not modify any behavior and is safe. When replacing `np.int`, you may wish to use e.g. `np.int64` or `np.int32` to specify the precision. If you wish to review your current use, check the release note link for additional information.\n",
      "Deprecated in NumPy 1.20; for more details and guidance: https://numpy.org/devdocs/release/1.20.0-notes.html#deprecations\n",
      "  bucket_pos = np.where(abs_pos <= mid, relative_pos, log_pos * sign).astype(np.int)\n"
     ]
    },
    {
     "name": "stdout",
     "output_type": "stream",
     "text": [
      "Example 0:  this is my secondtime, \u001b[32m<staff:Positive(confidence:0.796, ref:Positive)>\u001b[0m were sopolite, everything from cleanliness and comfort wereamazing, free parking space hotel location is near from most attractions \n"
     ]
    },
    {
     "name": "stderr",
     "output_type": "stream",
     "text": [
      "C:\\Users\\mosha\\anaconda3\\lib\\site-packages\\transformers\\models\\deberta_v2\\modeling_deberta_v2.py:539: DeprecationWarning: `np.int` is a deprecated alias for the builtin `int`. To silence this warning, use `int` by itself. Doing this will not modify any behavior and is safe. When replacing `np.int`, you may wish to use e.g. `np.int64` or `np.int32` to specify the precision. If you wish to review your current use, check the release note link for additional information.\n",
      "Deprecated in NumPy 1.20; for more details and guidance: https://numpy.org/devdocs/release/1.20.0-notes.html#deprecations\n",
      "  bucket_pos = np.where(abs_pos <= mid, relative_pos, log_pos * sign).astype(np.int)\n"
     ]
    },
    {
     "name": "stdout",
     "output_type": "stream",
     "text": [
      "Example 0:  this is my secondtime, staff were sopolite, everything from \u001b[32m<cleanliness:Positive(confidence:0.826, ref:Positive)>\u001b[0m and comfort wereamazing, free parking space hotel location is near from most attractions \n"
     ]
    },
    {
     "name": "stderr",
     "output_type": "stream",
     "text": [
      "C:\\Users\\mosha\\anaconda3\\lib\\site-packages\\transformers\\models\\deberta_v2\\modeling_deberta_v2.py:539: DeprecationWarning: `np.int` is a deprecated alias for the builtin `int`. To silence this warning, use `int` by itself. Doing this will not modify any behavior and is safe. When replacing `np.int`, you may wish to use e.g. `np.int64` or `np.int32` to specify the precision. If you wish to review your current use, check the release note link for additional information.\n",
      "Deprecated in NumPy 1.20; for more details and guidance: https://numpy.org/devdocs/release/1.20.0-notes.html#deprecations\n",
      "  bucket_pos = np.where(abs_pos <= mid, relative_pos, log_pos * sign).astype(np.int)\n"
     ]
    },
    {
     "name": "stdout",
     "output_type": "stream",
     "text": [
      "Example 0:  this is my secondtime, staff were sopolite, everything from cleanliness and comfort wereamazing, free \u001b[32m<parking:Positive(confidence:0.749, ref:Positive)>\u001b[0m space hotel location is near from most attractions \n"
     ]
    },
    {
     "name": "stderr",
     "output_type": "stream",
     "text": [
      "C:\\Users\\mosha\\anaconda3\\lib\\site-packages\\transformers\\models\\deberta_v2\\modeling_deberta_v2.py:539: DeprecationWarning: `np.int` is a deprecated alias for the builtin `int`. To silence this warning, use `int` by itself. Doing this will not modify any behavior and is safe. When replacing `np.int`, you may wish to use e.g. `np.int64` or `np.int32` to specify the precision. If you wish to review your current use, check the release note link for additional information.\n",
      "Deprecated in NumPy 1.20; for more details and guidance: https://numpy.org/devdocs/release/1.20.0-notes.html#deprecations\n",
      "  bucket_pos = np.where(abs_pos <= mid, relative_pos, log_pos * sign).astype(np.int)\n"
     ]
    },
    {
     "name": "stdout",
     "output_type": "stream",
     "text": [
      "Example 0:  this is my secondtime, staff were sopolite, everything from cleanliness and comfort wereamazing, free parking space hotel \u001b[32m<location:Positive(confidence:0.88, ref:Positive)>\u001b[0m is near from most attractions \n"
     ]
    },
    {
     "name": "stderr",
     "output_type": "stream",
     "text": [
      "C:\\Users\\mosha\\anaconda3\\lib\\site-packages\\transformers\\models\\deberta_v2\\modeling_deberta_v2.py:539: DeprecationWarning: `np.int` is a deprecated alias for the builtin `int`. To silence this warning, use `int` by itself. Doing this will not modify any behavior and is safe. When replacing `np.int`, you may wish to use e.g. `np.int64` or `np.int32` to specify the precision. If you wish to review your current use, check the release note link for additional information.\n",
      "Deprecated in NumPy 1.20; for more details and guidance: https://numpy.org/devdocs/release/1.20.0-notes.html#deprecations\n",
      "  bucket_pos = np.where(abs_pos <= mid, relative_pos, log_pos * sign).astype(np.int)\n"
     ]
    },
    {
     "name": "stdout",
     "output_type": "stream",
     "text": [
      "Example 0:  \u001b[32m<everything:Positive(confidence:0.963, ref:Positive)>\u001b[0m about the hotel wasgreat, location service and cleanliness this is area is being developed so nicely \n"
     ]
    },
    {
     "name": "stderr",
     "output_type": "stream",
     "text": [
      "C:\\Users\\mosha\\anaconda3\\lib\\site-packages\\transformers\\models\\deberta_v2\\modeling_deberta_v2.py:539: DeprecationWarning: `np.int` is a deprecated alias for the builtin `int`. To silence this warning, use `int` by itself. Doing this will not modify any behavior and is safe. When replacing `np.int`, you may wish to use e.g. `np.int64` or `np.int32` to specify the precision. If you wish to review your current use, check the release note link for additional information.\n",
      "Deprecated in NumPy 1.20; for more details and guidance: https://numpy.org/devdocs/release/1.20.0-notes.html#deprecations\n",
      "  bucket_pos = np.where(abs_pos <= mid, relative_pos, log_pos * sign).astype(np.int)\n"
     ]
    },
    {
     "name": "stdout",
     "output_type": "stream",
     "text": [
      "Example 0:  everything about the hotel wasgreat, \u001b[32m<location:Positive(confidence:0.807, ref:Positive)>\u001b[0m service and cleanliness this is area is being developed so nicely \n"
     ]
    },
    {
     "name": "stderr",
     "output_type": "stream",
     "text": [
      "C:\\Users\\mosha\\anaconda3\\lib\\site-packages\\transformers\\models\\deberta_v2\\modeling_deberta_v2.py:539: DeprecationWarning: `np.int` is a deprecated alias for the builtin `int`. To silence this warning, use `int` by itself. Doing this will not modify any behavior and is safe. When replacing `np.int`, you may wish to use e.g. `np.int64` or `np.int32` to specify the precision. If you wish to review your current use, check the release note link for additional information.\n",
      "Deprecated in NumPy 1.20; for more details and guidance: https://numpy.org/devdocs/release/1.20.0-notes.html#deprecations\n",
      "  bucket_pos = np.where(abs_pos <= mid, relative_pos, log_pos * sign).astype(np.int)\n"
     ]
    },
    {
     "name": "stdout",
     "output_type": "stream",
     "text": [
      "Example 0:  everything about the hotel wasgreat, location \u001b[32m<service:Positive(confidence:0.888, ref:Positive)>\u001b[0m and cleanliness this is area is being developed so nicely \n"
     ]
    },
    {
     "name": "stderr",
     "output_type": "stream",
     "text": [
      "C:\\Users\\mosha\\anaconda3\\lib\\site-packages\\transformers\\models\\deberta_v2\\modeling_deberta_v2.py:539: DeprecationWarning: `np.int` is a deprecated alias for the builtin `int`. To silence this warning, use `int` by itself. Doing this will not modify any behavior and is safe. When replacing `np.int`, you may wish to use e.g. `np.int64` or `np.int32` to specify the precision. If you wish to review your current use, check the release note link for additional information.\n",
      "Deprecated in NumPy 1.20; for more details and guidance: https://numpy.org/devdocs/release/1.20.0-notes.html#deprecations\n",
      "  bucket_pos = np.where(abs_pos <= mid, relative_pos, log_pos * sign).astype(np.int)\n"
     ]
    },
    {
     "name": "stdout",
     "output_type": "stream",
     "text": [
      "Example 0:  everything about the hotel wasgreat, location service and \u001b[32m<cleanliness:Positive(confidence:0.806, ref:Positive)>\u001b[0m this is area is being developed so nicely \n"
     ]
    },
    {
     "name": "stderr",
     "output_type": "stream",
     "text": [
      "C:\\Users\\mosha\\anaconda3\\lib\\site-packages\\transformers\\models\\deberta_v2\\modeling_deberta_v2.py:539: DeprecationWarning: `np.int` is a deprecated alias for the builtin `int`. To silence this warning, use `int` by itself. Doing this will not modify any behavior and is safe. When replacing `np.int`, you may wish to use e.g. `np.int64` or `np.int32` to specify the precision. If you wish to review your current use, check the release note link for additional information.\n",
      "Deprecated in NumPy 1.20; for more details and guidance: https://numpy.org/devdocs/release/1.20.0-notes.html#deprecations\n",
      "  bucket_pos = np.where(abs_pos <= mid, relative_pos, log_pos * sign).astype(np.int)\n"
     ]
    },
    {
     "name": "stdout",
     "output_type": "stream",
     "text": [
      "Example 0:  the \u001b[32m<staff:Positive(confidence:0.907, ref:Positive)>\u001b[0m was very welcoming and the hotel is super clean and the coffee shop was great specially albin he was very kind and helpful \n"
     ]
    },
    {
     "name": "stderr",
     "output_type": "stream",
     "text": [
      "C:\\Users\\mosha\\anaconda3\\lib\\site-packages\\transformers\\models\\deberta_v2\\modeling_deberta_v2.py:539: DeprecationWarning: `np.int` is a deprecated alias for the builtin `int`. To silence this warning, use `int` by itself. Doing this will not modify any behavior and is safe. When replacing `np.int`, you may wish to use e.g. `np.int64` or `np.int32` to specify the precision. If you wish to review your current use, check the release note link for additional information.\n",
      "Deprecated in NumPy 1.20; for more details and guidance: https://numpy.org/devdocs/release/1.20.0-notes.html#deprecations\n",
      "  bucket_pos = np.where(abs_pos <= mid, relative_pos, log_pos * sign).astype(np.int)\n"
     ]
    },
    {
     "name": "stdout",
     "output_type": "stream",
     "text": [
      "Example 0:  the staff was very welcoming and the \u001b[32m<hotel:Positive(confidence:0.935, ref:Positive)>\u001b[0m is super clean and the coffee shop was great specially albin he was very kind and helpful \n"
     ]
    },
    {
     "name": "stderr",
     "output_type": "stream",
     "text": [
      "C:\\Users\\mosha\\anaconda3\\lib\\site-packages\\transformers\\models\\deberta_v2\\modeling_deberta_v2.py:539: DeprecationWarning: `np.int` is a deprecated alias for the builtin `int`. To silence this warning, use `int` by itself. Doing this will not modify any behavior and is safe. When replacing `np.int`, you may wish to use e.g. `np.int64` or `np.int32` to specify the precision. If you wish to review your current use, check the release note link for additional information.\n",
      "Deprecated in NumPy 1.20; for more details and guidance: https://numpy.org/devdocs/release/1.20.0-notes.html#deprecations\n",
      "  bucket_pos = np.where(abs_pos <= mid, relative_pos, log_pos * sign).astype(np.int)\n"
     ]
    },
    {
     "name": "stdout",
     "output_type": "stream",
     "text": [
      "Example 0:  the staff was very welcoming and the hotel is super clean and the \u001b[32m<coffee shop:Positive(confidence:0.952, ref:Positive)>\u001b[0m was great specially albin he was very kind and helpful \n"
     ]
    },
    {
     "name": "stderr",
     "output_type": "stream",
     "text": [
      "C:\\Users\\mosha\\anaconda3\\lib\\site-packages\\transformers\\models\\deberta_v2\\modeling_deberta_v2.py:539: DeprecationWarning: `np.int` is a deprecated alias for the builtin `int`. To silence this warning, use `int` by itself. Doing this will not modify any behavior and is safe. When replacing `np.int`, you may wish to use e.g. `np.int64` or `np.int32` to specify the precision. If you wish to review your current use, check the release note link for additional information.\n",
      "Deprecated in NumPy 1.20; for more details and guidance: https://numpy.org/devdocs/release/1.20.0-notes.html#deprecations\n",
      "  bucket_pos = np.where(abs_pos <= mid, relative_pos, log_pos * sign).astype(np.int)\n"
     ]
    },
    {
     "name": "stdout",
     "output_type": "stream",
     "text": [
      "Example 0:  not allowing for another dior access \u001b[32m<card:Negative(confidence:0.888, ref:Negative)>\u001b[0m you always have to ask hard for having another towel \n"
     ]
    },
    {
     "name": "stderr",
     "output_type": "stream",
     "text": [
      "C:\\Users\\mosha\\anaconda3\\lib\\site-packages\\transformers\\models\\deberta_v2\\modeling_deberta_v2.py:539: DeprecationWarning: `np.int` is a deprecated alias for the builtin `int`. To silence this warning, use `int` by itself. Doing this will not modify any behavior and is safe. When replacing `np.int`, you may wish to use e.g. `np.int64` or `np.int32` to specify the precision. If you wish to review your current use, check the release note link for additional information.\n",
      "Deprecated in NumPy 1.20; for more details and guidance: https://numpy.org/devdocs/release/1.20.0-notes.html#deprecations\n",
      "  bucket_pos = np.where(abs_pos <= mid, relative_pos, log_pos * sign).astype(np.int)\n"
     ]
    },
    {
     "name": "stdout",
     "output_type": "stream",
     "text": [
      "Example 0:  not allowing for another dior access card you always have to ask hard for having another \u001b[32m<towel:Negative(confidence:0.897, ref:Negative)>\u001b[0m  \n"
     ]
    },
    {
     "name": "stderr",
     "output_type": "stream",
     "text": [
      "C:\\Users\\mosha\\anaconda3\\lib\\site-packages\\transformers\\models\\deberta_v2\\modeling_deberta_v2.py:539: DeprecationWarning: `np.int` is a deprecated alias for the builtin `int`. To silence this warning, use `int` by itself. Doing this will not modify any behavior and is safe. When replacing `np.int`, you may wish to use e.g. `np.int64` or `np.int32` to specify the precision. If you wish to review your current use, check the release note link for additional information.\n",
      "Deprecated in NumPy 1.20; for more details and guidance: https://numpy.org/devdocs/release/1.20.0-notes.html#deprecations\n",
      "  bucket_pos = np.where(abs_pos <= mid, relative_pos, log_pos * sign).astype(np.int)\n"
     ]
    },
    {
     "name": "stdout",
     "output_type": "stream",
     "text": [
      "Example 0:  no \u001b[31m<milk:Positive(confidence:0.673, ref:Negative)>\u001b[0m pouch for tea and far away from ladies gate \n"
     ]
    },
    {
     "name": "stderr",
     "output_type": "stream",
     "text": [
      "C:\\Users\\mosha\\anaconda3\\lib\\site-packages\\transformers\\models\\deberta_v2\\modeling_deberta_v2.py:539: DeprecationWarning: `np.int` is a deprecated alias for the builtin `int`. To silence this warning, use `int` by itself. Doing this will not modify any behavior and is safe. When replacing `np.int`, you may wish to use e.g. `np.int64` or `np.int32` to specify the precision. If you wish to review your current use, check the release note link for additional information.\n",
      "Deprecated in NumPy 1.20; for more details and guidance: https://numpy.org/devdocs/release/1.20.0-notes.html#deprecations\n",
      "  bucket_pos = np.where(abs_pos <= mid, relative_pos, log_pos * sign).astype(np.int)\n"
     ]
    },
    {
     "name": "stdout",
     "output_type": "stream",
     "text": [
      "Example 0:  \u001b[32m<security:Negative(confidence:0.945, ref:Negative)>\u001b[0m sometimes could bother you and let you park outside ot the entry untill confirmed they should let u in ones see the confirmation letter to the parkingdown! no big deal but could be organized better \n"
     ]
    },
    {
     "name": "stderr",
     "output_type": "stream",
     "text": [
      "C:\\Users\\mosha\\anaconda3\\lib\\site-packages\\transformers\\models\\deberta_v2\\modeling_deberta_v2.py:539: DeprecationWarning: `np.int` is a deprecated alias for the builtin `int`. To silence this warning, use `int` by itself. Doing this will not modify any behavior and is safe. When replacing `np.int`, you may wish to use e.g. `np.int64` or `np.int32` to specify the precision. If you wish to review your current use, check the release note link for additional information.\n",
      "Deprecated in NumPy 1.20; for more details and guidance: https://numpy.org/devdocs/release/1.20.0-notes.html#deprecations\n",
      "  bucket_pos = np.where(abs_pos <= mid, relative_pos, log_pos * sign).astype(np.int)\n"
     ]
    },
    {
     "name": "stdout",
     "output_type": "stream",
     "text": [
      "Example 0:  security sometimes could bother you and let you \u001b[32m<park:Negative(confidence:0.948, ref:Negative)>\u001b[0m outside ot the entry untill confirmed they should let u in ones see the confirmation letter to the \u001b[32m<park:Negative(confidence:0.948, ref:Negative)>\u001b[0mingdown! no big deal but could be organized better \n"
     ]
    },
    {
     "name": "stderr",
     "output_type": "stream",
     "text": [
      "C:\\Users\\mosha\\anaconda3\\lib\\site-packages\\transformers\\models\\deberta_v2\\modeling_deberta_v2.py:539: DeprecationWarning: `np.int` is a deprecated alias for the builtin `int`. To silence this warning, use `int` by itself. Doing this will not modify any behavior and is safe. When replacing `np.int`, you may wish to use e.g. `np.int64` or `np.int32` to specify the precision. If you wish to review your current use, check the release note link for additional information.\n",
      "Deprecated in NumPy 1.20; for more details and guidance: https://numpy.org/devdocs/release/1.20.0-notes.html#deprecations\n",
      "  bucket_pos = np.where(abs_pos <= mid, relative_pos, log_pos * sign).astype(np.int)\n"
     ]
    },
    {
     "name": "stdout",
     "output_type": "stream",
     "text": [
      "Example 0:  security sometimes could bother you and let you park outside ot the entry untill confirmed they should let u in ones see the confirmation letter to the \u001b[31m<parking:Negative(confidence:0.948, ref:Neutral)>\u001b[0m down! no big deal but could be organized better \n"
     ]
    },
    {
     "name": "stderr",
     "output_type": "stream",
     "text": [
      "C:\\Users\\mosha\\anaconda3\\lib\\site-packages\\transformers\\models\\deberta_v2\\modeling_deberta_v2.py:539: DeprecationWarning: `np.int` is a deprecated alias for the builtin `int`. To silence this warning, use `int` by itself. Doing this will not modify any behavior and is safe. When replacing `np.int`, you may wish to use e.g. `np.int64` or `np.int32` to specify the precision. If you wish to review your current use, check the release note link for additional information.\n",
      "Deprecated in NumPy 1.20; for more details and guidance: https://numpy.org/devdocs/release/1.20.0-notes.html#deprecations\n",
      "  bucket_pos = np.where(abs_pos <= mid, relative_pos, log_pos * sign).astype(np.int)\n"
     ]
    },
    {
     "name": "stdout",
     "output_type": "stream",
     "text": [
      "Example 0:  the \u001b[32m<staff:Positive(confidence:0.71, ref:Positive)>\u001b[0m was very friendly abdhelpful, especially mrhmed, the egyptian receptionist the breakfast was very tasty with many varieties \n"
     ]
    },
    {
     "name": "stderr",
     "output_type": "stream",
     "text": [
      "C:\\Users\\mosha\\anaconda3\\lib\\site-packages\\transformers\\models\\deberta_v2\\modeling_deberta_v2.py:539: DeprecationWarning: `np.int` is a deprecated alias for the builtin `int`. To silence this warning, use `int` by itself. Doing this will not modify any behavior and is safe. When replacing `np.int`, you may wish to use e.g. `np.int64` or `np.int32` to specify the precision. If you wish to review your current use, check the release note link for additional information.\n",
      "Deprecated in NumPy 1.20; for more details and guidance: https://numpy.org/devdocs/release/1.20.0-notes.html#deprecations\n",
      "  bucket_pos = np.where(abs_pos <= mid, relative_pos, log_pos * sign).astype(np.int)\n"
     ]
    },
    {
     "name": "stdout",
     "output_type": "stream",
     "text": [
      "Example 0:  the staff was very friendly abdhelpful, especially mrhmed, the egyptian receptionist the \u001b[32m<breakfast:Positive(confidence:0.875, ref:Positive)>\u001b[0m was very tasty with many varieties \n"
     ]
    },
    {
     "name": "stderr",
     "output_type": "stream",
     "text": [
      "C:\\Users\\mosha\\anaconda3\\lib\\site-packages\\transformers\\models\\deberta_v2\\modeling_deberta_v2.py:539: DeprecationWarning: `np.int` is a deprecated alias for the builtin `int`. To silence this warning, use `int` by itself. Doing this will not modify any behavior and is safe. When replacing `np.int`, you may wish to use e.g. `np.int64` or `np.int32` to specify the precision. If you wish to review your current use, check the release note link for additional information.\n",
      "Deprecated in NumPy 1.20; for more details and guidance: https://numpy.org/devdocs/release/1.20.0-notes.html#deprecations\n",
      "  bucket_pos = np.where(abs_pos <= mid, relative_pos, log_pos * sign).astype(np.int)\n"
     ]
    },
    {
     "name": "stdout",
     "output_type": "stream",
     "text": [
      "Example 0:  it is far from the holy mosque and the \u001b[32m<bus stop:Negative(confidence:0.855, ref:Negative)>\u001b[0m far from the mosque, so u have to walk for long distance to enter the holy mosque \n"
     ]
    },
    {
     "name": "stderr",
     "output_type": "stream",
     "text": [
      "C:\\Users\\mosha\\anaconda3\\lib\\site-packages\\transformers\\models\\deberta_v2\\modeling_deberta_v2.py:539: DeprecationWarning: `np.int` is a deprecated alias for the builtin `int`. To silence this warning, use `int` by itself. Doing this will not modify any behavior and is safe. When replacing `np.int`, you may wish to use e.g. `np.int64` or `np.int32` to specify the precision. If you wish to review your current use, check the release note link for additional information.\n",
      "Deprecated in NumPy 1.20; for more details and guidance: https://numpy.org/devdocs/release/1.20.0-notes.html#deprecations\n",
      "  bucket_pos = np.where(abs_pos <= mid, relative_pos, log_pos * sign).astype(np.int)\n"
     ]
    },
    {
     "name": "stdout",
     "output_type": "stream",
     "text": [
      "Example 0:  \u001b[32m<room:Positive(confidence:0.96, ref:Positive)>\u001b[0m size and hall and the good reception hall \n"
     ]
    },
    {
     "name": "stderr",
     "output_type": "stream",
     "text": [
      "C:\\Users\\mosha\\anaconda3\\lib\\site-packages\\transformers\\models\\deberta_v2\\modeling_deberta_v2.py:539: DeprecationWarning: `np.int` is a deprecated alias for the builtin `int`. To silence this warning, use `int` by itself. Doing this will not modify any behavior and is safe. When replacing `np.int`, you may wish to use e.g. `np.int64` or `np.int32` to specify the precision. If you wish to review your current use, check the release note link for additional information.\n",
      "Deprecated in NumPy 1.20; for more details and guidance: https://numpy.org/devdocs/release/1.20.0-notes.html#deprecations\n",
      "  bucket_pos = np.where(abs_pos <= mid, relative_pos, log_pos * sign).astype(np.int)\n"
     ]
    },
    {
     "name": "stdout",
     "output_type": "stream",
     "text": [
      "Example 0:  room size and \u001b[32m<hall:Positive(confidence:0.97, ref:Positive)>\u001b[0m and the good reception \u001b[32m<hall:Positive(confidence:0.97, ref:Positive)>\u001b[0m \n"
     ]
    },
    {
     "name": "stderr",
     "output_type": "stream",
     "text": [
      "C:\\Users\\mosha\\anaconda3\\lib\\site-packages\\transformers\\models\\deberta_v2\\modeling_deberta_v2.py:539: DeprecationWarning: `np.int` is a deprecated alias for the builtin `int`. To silence this warning, use `int` by itself. Doing this will not modify any behavior and is safe. When replacing `np.int`, you may wish to use e.g. `np.int64` or `np.int32` to specify the precision. If you wish to review your current use, check the release note link for additional information.\n",
      "Deprecated in NumPy 1.20; for more details and guidance: https://numpy.org/devdocs/release/1.20.0-notes.html#deprecations\n",
      "  bucket_pos = np.where(abs_pos <= mid, relative_pos, log_pos * sign).astype(np.int)\n"
     ]
    },
    {
     "name": "stdout",
     "output_type": "stream",
     "text": [
      "Example 0:  room size and hall and the good \u001b[32m<reception:Positive(confidence:0.799, ref:Positive)>\u001b[0m hall \n"
     ]
    },
    {
     "name": "stderr",
     "output_type": "stream",
     "text": [
      "C:\\Users\\mosha\\anaconda3\\lib\\site-packages\\transformers\\models\\deberta_v2\\modeling_deberta_v2.py:539: DeprecationWarning: `np.int` is a deprecated alias for the builtin `int`. To silence this warning, use `int` by itself. Doing this will not modify any behavior and is safe. When replacing `np.int`, you may wish to use e.g. `np.int64` or `np.int32` to specify the precision. If you wish to review your current use, check the release note link for additional information.\n",
      "Deprecated in NumPy 1.20; for more details and guidance: https://numpy.org/devdocs/release/1.20.0-notes.html#deprecations\n",
      "  bucket_pos = np.where(abs_pos <= mid, relative_pos, log_pos * sign).astype(np.int)\n"
     ]
    },
    {
     "name": "stdout",
     "output_type": "stream",
     "text": [
      "Example 0:  it is expensive and i expected the \u001b[31m<price:Positive(confidence:0.918, ref:Negative)>\u001b[0m will be reasonable especially i came in a low season \n"
     ]
    },
    {
     "name": "stderr",
     "output_type": "stream",
     "text": [
      "C:\\Users\\mosha\\anaconda3\\lib\\site-packages\\transformers\\models\\deberta_v2\\modeling_deberta_v2.py:539: DeprecationWarning: `np.int` is a deprecated alias for the builtin `int`. To silence this warning, use `int` by itself. Doing this will not modify any behavior and is safe. When replacing `np.int`, you may wish to use e.g. `np.int64` or `np.int32` to specify the precision. If you wish to review your current use, check the release note link for additional information.\n",
      "Deprecated in NumPy 1.20; for more details and guidance: https://numpy.org/devdocs/release/1.20.0-notes.html#deprecations\n",
      "  bucket_pos = np.where(abs_pos <= mid, relative_pos, log_pos * sign).astype(np.int)\n"
     ]
    },
    {
     "name": "stdout",
     "output_type": "stream",
     "text": [
      "Example 0:  long ques at the \u001b[32m<reception:Negative(confidence:0.92, ref:Negative)>\u001b[0m forcheck in, only one staff member was attending the crowd there was no crowd management at the \u001b[32m<reception:Negative(confidence:0.92, ref:Negative)>\u001b[0m by security as well \n"
     ]
    },
    {
     "name": "stderr",
     "output_type": "stream",
     "text": [
      "C:\\Users\\mosha\\anaconda3\\lib\\site-packages\\transformers\\models\\deberta_v2\\modeling_deberta_v2.py:539: DeprecationWarning: `np.int` is a deprecated alias for the builtin `int`. To silence this warning, use `int` by itself. Doing this will not modify any behavior and is safe. When replacing `np.int`, you may wish to use e.g. `np.int64` or `np.int32` to specify the precision. If you wish to review your current use, check the release note link for additional information.\n",
      "Deprecated in NumPy 1.20; for more details and guidance: https://numpy.org/devdocs/release/1.20.0-notes.html#deprecations\n",
      "  bucket_pos = np.where(abs_pos <= mid, relative_pos, log_pos * sign).astype(np.int)\n"
     ]
    },
    {
     "name": "stdout",
     "output_type": "stream",
     "text": [
      "Example 0:  long ques at the reception for \u001b[32m<check in,:Negative(confidence:0.828, ref:Negative)>\u001b[0m only one staff member was attending the crowd there was no crowd management at the reception by security as well \n"
     ]
    },
    {
     "name": "stderr",
     "output_type": "stream",
     "text": [
      "C:\\Users\\mosha\\anaconda3\\lib\\site-packages\\transformers\\models\\deberta_v2\\modeling_deberta_v2.py:539: DeprecationWarning: `np.int` is a deprecated alias for the builtin `int`. To silence this warning, use `int` by itself. Doing this will not modify any behavior and is safe. When replacing `np.int`, you may wish to use e.g. `np.int64` or `np.int32` to specify the precision. If you wish to review your current use, check the release note link for additional information.\n",
      "Deprecated in NumPy 1.20; for more details and guidance: https://numpy.org/devdocs/release/1.20.0-notes.html#deprecations\n",
      "  bucket_pos = np.where(abs_pos <= mid, relative_pos, log_pos * sign).astype(np.int)\n"
     ]
    },
    {
     "name": "stdout",
     "output_type": "stream",
     "text": [
      "Example 0:  long ques at the reception forcheck in, only one \u001b[32m<staff:Negative(confidence:0.94, ref:Negative)>\u001b[0m member was attending the crowd there was no crowd management at the reception by security as well \n"
     ]
    },
    {
     "name": "stderr",
     "output_type": "stream",
     "text": [
      "C:\\Users\\mosha\\anaconda3\\lib\\site-packages\\transformers\\models\\deberta_v2\\modeling_deberta_v2.py:539: DeprecationWarning: `np.int` is a deprecated alias for the builtin `int`. To silence this warning, use `int` by itself. Doing this will not modify any behavior and is safe. When replacing `np.int`, you may wish to use e.g. `np.int64` or `np.int32` to specify the precision. If you wish to review your current use, check the release note link for additional information.\n",
      "Deprecated in NumPy 1.20; for more details and guidance: https://numpy.org/devdocs/release/1.20.0-notes.html#deprecations\n",
      "  bucket_pos = np.where(abs_pos <= mid, relative_pos, log_pos * sign).astype(np.int)\n"
     ]
    },
    {
     "name": "stdout",
     "output_type": "stream",
     "text": [
      "Example 0:  long ques at the reception forcheck in, only one staff member was attending the crowd there was no \u001b[32m<crowd management:Negative(confidence:0.959, ref:Negative)>\u001b[0m at the reception by security as well \n"
     ]
    },
    {
     "name": "stderr",
     "output_type": "stream",
     "text": [
      "C:\\Users\\mosha\\anaconda3\\lib\\site-packages\\transformers\\models\\deberta_v2\\modeling_deberta_v2.py:539: DeprecationWarning: `np.int` is a deprecated alias for the builtin `int`. To silence this warning, use `int` by itself. Doing this will not modify any behavior and is safe. When replacing `np.int`, you may wish to use e.g. `np.int64` or `np.int32` to specify the precision. If you wish to review your current use, check the release note link for additional information.\n",
      "Deprecated in NumPy 1.20; for more details and guidance: https://numpy.org/devdocs/release/1.20.0-notes.html#deprecations\n",
      "  bucket_pos = np.where(abs_pos <= mid, relative_pos, log_pos * sign).astype(np.int)\n"
     ]
    },
    {
     "name": "stdout",
     "output_type": "stream",
     "text": [
      "Example 0:  long ques at the reception forcheck in, only one staff member was attending the crowd there was no crowd management at the reception by \u001b[32m<security:Negative(confidence:0.944, ref:Negative)>\u001b[0m as well \n"
     ]
    },
    {
     "name": "stderr",
     "output_type": "stream",
     "text": [
      "C:\\Users\\mosha\\anaconda3\\lib\\site-packages\\transformers\\models\\deberta_v2\\modeling_deberta_v2.py:539: DeprecationWarning: `np.int` is a deprecated alias for the builtin `int`. To silence this warning, use `int` by itself. Doing this will not modify any behavior and is safe. When replacing `np.int`, you may wish to use e.g. `np.int64` or `np.int32` to specify the precision. If you wish to review your current use, check the release note link for additional information.\n",
      "Deprecated in NumPy 1.20; for more details and guidance: https://numpy.org/devdocs/release/1.20.0-notes.html#deprecations\n",
      "  bucket_pos = np.where(abs_pos <= mid, relative_pos, log_pos * sign).astype(np.int)\n"
     ]
    },
    {
     "name": "stdout",
     "output_type": "stream",
     "text": [
      "Example 0:  booking \u001b[31m<price:Positive(confidence:0.888, ref:Negative)>\u001b[0m is high vs hotel \u001b[31m<price:Positive(confidence:0.888, ref:Negative)>\u001b[0ms very old not clean \n"
     ]
    },
    {
     "name": "stderr",
     "output_type": "stream",
     "text": [
      "C:\\Users\\mosha\\anaconda3\\lib\\site-packages\\transformers\\models\\deberta_v2\\modeling_deberta_v2.py:539: DeprecationWarning: `np.int` is a deprecated alias for the builtin `int`. To silence this warning, use `int` by itself. Doing this will not modify any behavior and is safe. When replacing `np.int`, you may wish to use e.g. `np.int64` or `np.int32` to specify the precision. If you wish to review your current use, check the release note link for additional information.\n",
      "Deprecated in NumPy 1.20; for more details and guidance: https://numpy.org/devdocs/release/1.20.0-notes.html#deprecations\n",
      "  bucket_pos = np.where(abs_pos <= mid, relative_pos, log_pos * sign).astype(np.int)\n"
     ]
    },
    {
     "name": "stdout",
     "output_type": "stream",
     "text": [
      "Example 0:  booking price is high vs \u001b[31m<hotel:Positive(confidence:0.781, ref:Negative)>\u001b[0m prices very old not clean \n"
     ]
    },
    {
     "name": "stderr",
     "output_type": "stream",
     "text": [
      "C:\\Users\\mosha\\anaconda3\\lib\\site-packages\\transformers\\models\\deberta_v2\\modeling_deberta_v2.py:539: DeprecationWarning: `np.int` is a deprecated alias for the builtin `int`. To silence this warning, use `int` by itself. Doing this will not modify any behavior and is safe. When replacing `np.int`, you may wish to use e.g. `np.int64` or `np.int32` to specify the precision. If you wish to review your current use, check the release note link for additional information.\n",
      "Deprecated in NumPy 1.20; for more details and guidance: https://numpy.org/devdocs/release/1.20.0-notes.html#deprecations\n",
      "  bucket_pos = np.where(abs_pos <= mid, relative_pos, log_pos * sign).astype(np.int)\n"
     ]
    },
    {
     "name": "stdout",
     "output_type": "stream",
     "text": [
      "Example 0:  great \u001b[32m<location,:Positive(confidence:0.532, ref:Positive)>\u001b[0m it's very close to nice restaurants and i could see the jeddah fountain from my room excellent privacy too \n"
     ]
    },
    {
     "name": "stderr",
     "output_type": "stream",
     "text": [
      "C:\\Users\\mosha\\anaconda3\\lib\\site-packages\\transformers\\models\\deberta_v2\\modeling_deberta_v2.py:539: DeprecationWarning: `np.int` is a deprecated alias for the builtin `int`. To silence this warning, use `int` by itself. Doing this will not modify any behavior and is safe. When replacing `np.int`, you may wish to use e.g. `np.int64` or `np.int32` to specify the precision. If you wish to review your current use, check the release note link for additional information.\n",
      "Deprecated in NumPy 1.20; for more details and guidance: https://numpy.org/devdocs/release/1.20.0-notes.html#deprecations\n",
      "  bucket_pos = np.where(abs_pos <= mid, relative_pos, log_pos * sign).astype(np.int)\n"
     ]
    },
    {
     "name": "stdout",
     "output_type": "stream",
     "text": [
      "Example 0:  greatlocation,it's very close to nice restaurants and i could see the jeddah fountain from my room excellent \u001b[32m<privacy:Positive(confidence:0.921, ref:Positive)>\u001b[0m too \n"
     ]
    },
    {
     "name": "stderr",
     "output_type": "stream",
     "text": [
      "C:\\Users\\mosha\\anaconda3\\lib\\site-packages\\transformers\\models\\deberta_v2\\modeling_deberta_v2.py:539: DeprecationWarning: `np.int` is a deprecated alias for the builtin `int`. To silence this warning, use `int` by itself. Doing this will not modify any behavior and is safe. When replacing `np.int`, you may wish to use e.g. `np.int64` or `np.int32` to specify the precision. If you wish to review your current use, check the release note link for additional information.\n",
      "Deprecated in NumPy 1.20; for more details and guidance: https://numpy.org/devdocs/release/1.20.0-notes.html#deprecations\n",
      "  bucket_pos = np.where(abs_pos <= mid, relative_pos, log_pos * sign).astype(np.int)\n"
     ]
    },
    {
     "name": "stdout",
     "output_type": "stream",
     "text": [
      "Example 0:  it was slightly further away from winter park but there is nothing not to like about this \u001b[32m<property:Positive(confidence:0.704, ref:Positive)>\u001b[0m  \n"
     ]
    },
    {
     "name": "stderr",
     "output_type": "stream",
     "text": [
      "C:\\Users\\mosha\\anaconda3\\lib\\site-packages\\transformers\\models\\deberta_v2\\modeling_deberta_v2.py:539: DeprecationWarning: `np.int` is a deprecated alias for the builtin `int`. To silence this warning, use `int` by itself. Doing this will not modify any behavior and is safe. When replacing `np.int`, you may wish to use e.g. `np.int64` or `np.int32` to specify the precision. If you wish to review your current use, check the release note link for additional information.\n",
      "Deprecated in NumPy 1.20; for more details and guidance: https://numpy.org/devdocs/release/1.20.0-notes.html#deprecations\n",
      "  bucket_pos = np.where(abs_pos <= mid, relative_pos, log_pos * sign).astype(np.int)\n"
     ]
    },
    {
     "name": "stdout",
     "output_type": "stream",
     "text": [
      "Example 0:  the \u001b[32m<staff:Positive(confidence:0.919, ref:Positive)>\u001b[0m are so friendly and helpful the lobby is so calming and quit i really liked it \n"
     ]
    },
    {
     "name": "stderr",
     "output_type": "stream",
     "text": [
      "C:\\Users\\mosha\\anaconda3\\lib\\site-packages\\transformers\\models\\deberta_v2\\modeling_deberta_v2.py:539: DeprecationWarning: `np.int` is a deprecated alias for the builtin `int`. To silence this warning, use `int` by itself. Doing this will not modify any behavior and is safe. When replacing `np.int`, you may wish to use e.g. `np.int64` or `np.int32` to specify the precision. If you wish to review your current use, check the release note link for additional information.\n",
      "Deprecated in NumPy 1.20; for more details and guidance: https://numpy.org/devdocs/release/1.20.0-notes.html#deprecations\n",
      "  bucket_pos = np.where(abs_pos <= mid, relative_pos, log_pos * sign).astype(np.int)\n"
     ]
    },
    {
     "name": "stdout",
     "output_type": "stream",
     "text": [
      "Example 0:  the staff are so friendly and helpful the \u001b[32m<lobby:Positive(confidence:0.958, ref:Positive)>\u001b[0m is so calming and quit i really liked it \n"
     ]
    },
    {
     "name": "stderr",
     "output_type": "stream",
     "text": [
      "C:\\Users\\mosha\\anaconda3\\lib\\site-packages\\transformers\\models\\deberta_v2\\modeling_deberta_v2.py:539: DeprecationWarning: `np.int` is a deprecated alias for the builtin `int`. To silence this warning, use `int` by itself. Doing this will not modify any behavior and is safe. When replacing `np.int`, you may wish to use e.g. `np.int64` or `np.int32` to specify the precision. If you wish to review your current use, check the release note link for additional information.\n",
      "Deprecated in NumPy 1.20; for more details and guidance: https://numpy.org/devdocs/release/1.20.0-notes.html#deprecations\n",
      "  bucket_pos = np.where(abs_pos <= mid, relative_pos, log_pos * sign).astype(np.int)\n"
     ]
    },
    {
     "name": "stdout",
     "output_type": "stream",
     "text": [
      "Example 0:  \u001b[32m<cleanliness,:Negative(confidence:0.847, ref:Negative)>\u001b[0m utilities, functional white fungus on shower door smell of paint in the bathroom faucet are too old full with rust female hairs found on my towels toiletry tray very dirty carpet of the room need stain wash and cleaning barefoot walking in room not recommended iron is available but beware of the electric sockets \n"
     ]
    },
    {
     "name": "stderr",
     "output_type": "stream",
     "text": [
      "C:\\Users\\mosha\\anaconda3\\lib\\site-packages\\transformers\\models\\deberta_v2\\modeling_deberta_v2.py:539: DeprecationWarning: `np.int` is a deprecated alias for the builtin `int`. To silence this warning, use `int` by itself. Doing this will not modify any behavior and is safe. When replacing `np.int`, you may wish to use e.g. `np.int64` or `np.int32` to specify the precision. If you wish to review your current use, check the release note link for additional information.\n",
      "Deprecated in NumPy 1.20; for more details and guidance: https://numpy.org/devdocs/release/1.20.0-notes.html#deprecations\n",
      "  bucket_pos = np.where(abs_pos <= mid, relative_pos, log_pos * sign).astype(np.int)\n"
     ]
    },
    {
     "name": "stdout",
     "output_type": "stream",
     "text": [
      "Example 0:  cleanliness, \u001b[32m<utilities,:Negative(confidence:0.848, ref:Negative)>\u001b[0m functional white fungus on shower door smell of paint in the bathroom faucet are too old full with rust female hairs found on my towels toiletry tray very dirty carpet of the room need stain wash and cleaning barefoot walking in room not recommended iron is available but beware of the electric sockets \n"
     ]
    },
    {
     "name": "stderr",
     "output_type": "stream",
     "text": [
      "C:\\Users\\mosha\\anaconda3\\lib\\site-packages\\transformers\\models\\deberta_v2\\modeling_deberta_v2.py:539: DeprecationWarning: `np.int` is a deprecated alias for the builtin `int`. To silence this warning, use `int` by itself. Doing this will not modify any behavior and is safe. When replacing `np.int`, you may wish to use e.g. `np.int64` or `np.int32` to specify the precision. If you wish to review your current use, check the release note link for additional information.\n",
      "Deprecated in NumPy 1.20; for more details and guidance: https://numpy.org/devdocs/release/1.20.0-notes.html#deprecations\n",
      "  bucket_pos = np.where(abs_pos <= mid, relative_pos, log_pos * sign).astype(np.int)\n"
     ]
    },
    {
     "name": "stdout",
     "output_type": "stream",
     "text": [
      "Example 0:  cleanliness,utilities, functional white fungus on \u001b[32m<shower door:Negative(confidence:0.922, ref:Negative)>\u001b[0m smell of paint in the bathroom faucet are too old full with rust female hairs found on my towels toiletry tray very dirty carpet of the room need stain wash and cleaning barefoot walking in room not recommended iron is available but beware of the electric sockets \n"
     ]
    },
    {
     "name": "stderr",
     "output_type": "stream",
     "text": [
      "C:\\Users\\mosha\\anaconda3\\lib\\site-packages\\transformers\\models\\deberta_v2\\modeling_deberta_v2.py:539: DeprecationWarning: `np.int` is a deprecated alias for the builtin `int`. To silence this warning, use `int` by itself. Doing this will not modify any behavior and is safe. When replacing `np.int`, you may wish to use e.g. `np.int64` or `np.int32` to specify the precision. If you wish to review your current use, check the release note link for additional information.\n",
      "Deprecated in NumPy 1.20; for more details and guidance: https://numpy.org/devdocs/release/1.20.0-notes.html#deprecations\n",
      "  bucket_pos = np.where(abs_pos <= mid, relative_pos, log_pos * sign).astype(np.int)\n"
     ]
    },
    {
     "name": "stdout",
     "output_type": "stream",
     "text": [
      "Example 0:  cleanliness,utilities, functional white fungus on shower door smell of paint in the \u001b[32m<bathroom:Negative(confidence:0.919, ref:Negative)>\u001b[0m faucet are too old full with rust female hairs found on my towels toiletry tray very dirty carpet of the room need stain wash and cleaning barefoot walking in room not recommended iron is available but beware of the electric sockets \n"
     ]
    },
    {
     "name": "stderr",
     "output_type": "stream",
     "text": [
      "C:\\Users\\mosha\\anaconda3\\lib\\site-packages\\transformers\\models\\deberta_v2\\modeling_deberta_v2.py:539: DeprecationWarning: `np.int` is a deprecated alias for the builtin `int`. To silence this warning, use `int` by itself. Doing this will not modify any behavior and is safe. When replacing `np.int`, you may wish to use e.g. `np.int64` or `np.int32` to specify the precision. If you wish to review your current use, check the release note link for additional information.\n",
      "Deprecated in NumPy 1.20; for more details and guidance: https://numpy.org/devdocs/release/1.20.0-notes.html#deprecations\n",
      "  bucket_pos = np.where(abs_pos <= mid, relative_pos, log_pos * sign).astype(np.int)\n"
     ]
    },
    {
     "name": "stdout",
     "output_type": "stream",
     "text": [
      "Example 0:  cleanliness,utilities, functional white fungus on shower door smell of paint in the bathroom \u001b[32m<faucet:Negative(confidence:0.914, ref:Negative)>\u001b[0m are too old full with rust female hairs found on my towels toiletry tray very dirty carpet of the room need stain wash and cleaning barefoot walking in room not recommended iron is available but beware of the electric sockets \n"
     ]
    },
    {
     "name": "stderr",
     "output_type": "stream",
     "text": [
      "C:\\Users\\mosha\\anaconda3\\lib\\site-packages\\transformers\\models\\deberta_v2\\modeling_deberta_v2.py:539: DeprecationWarning: `np.int` is a deprecated alias for the builtin `int`. To silence this warning, use `int` by itself. Doing this will not modify any behavior and is safe. When replacing `np.int`, you may wish to use e.g. `np.int64` or `np.int32` to specify the precision. If you wish to review your current use, check the release note link for additional information.\n",
      "Deprecated in NumPy 1.20; for more details and guidance: https://numpy.org/devdocs/release/1.20.0-notes.html#deprecations\n",
      "  bucket_pos = np.where(abs_pos <= mid, relative_pos, log_pos * sign).astype(np.int)\n"
     ]
    },
    {
     "name": "stdout",
     "output_type": "stream",
     "text": [
      "Example 0:  cleanliness,utilities, functional white fungus on shower door smell of paint in the bathroom faucet are too old full with rust female hairs found on my \u001b[32m<towels:Negative(confidence:0.909, ref:Negative)>\u001b[0m toiletry tray very dirty carpet of the room need stain wash and cleaning barefoot walking in room not recommended iron is available but beware of the electric sockets \n"
     ]
    },
    {
     "name": "stderr",
     "output_type": "stream",
     "text": [
      "C:\\Users\\mosha\\anaconda3\\lib\\site-packages\\transformers\\models\\deberta_v2\\modeling_deberta_v2.py:539: DeprecationWarning: `np.int` is a deprecated alias for the builtin `int`. To silence this warning, use `int` by itself. Doing this will not modify any behavior and is safe. When replacing `np.int`, you may wish to use e.g. `np.int64` or `np.int32` to specify the precision. If you wish to review your current use, check the release note link for additional information.\n",
      "Deprecated in NumPy 1.20; for more details and guidance: https://numpy.org/devdocs/release/1.20.0-notes.html#deprecations\n",
      "  bucket_pos = np.where(abs_pos <= mid, relative_pos, log_pos * sign).astype(np.int)\n"
     ]
    },
    {
     "name": "stdout",
     "output_type": "stream",
     "text": [
      "Example 0:  cleanliness,utilities, functional white fungus on shower door smell of paint in the bathroom faucet are too old full with rust female hairs found on my towels \u001b[32m<toiletry tray:Negative(confidence:0.948, ref:Negative)>\u001b[0m very dirty carpet of the room need stain wash and cleaning barefoot walking in room not recommended iron is available but beware of the electric sockets \n"
     ]
    },
    {
     "name": "stderr",
     "output_type": "stream",
     "text": [
      "C:\\Users\\mosha\\anaconda3\\lib\\site-packages\\transformers\\models\\deberta_v2\\modeling_deberta_v2.py:539: DeprecationWarning: `np.int` is a deprecated alias for the builtin `int`. To silence this warning, use `int` by itself. Doing this will not modify any behavior and is safe. When replacing `np.int`, you may wish to use e.g. `np.int64` or `np.int32` to specify the precision. If you wish to review your current use, check the release note link for additional information.\n",
      "Deprecated in NumPy 1.20; for more details and guidance: https://numpy.org/devdocs/release/1.20.0-notes.html#deprecations\n",
      "  bucket_pos = np.where(abs_pos <= mid, relative_pos, log_pos * sign).astype(np.int)\n"
     ]
    },
    {
     "name": "stdout",
     "output_type": "stream",
     "text": [
      "Example 0:  cleanliness,utilities, functional white fungus on shower door smell of paint in the bathroom faucet are too old full with rust female hairs found on my towels toiletry tray very dirty \u001b[32m<carpet:Negative(confidence:0.945, ref:Negative)>\u001b[0m of the room need stain wash and cleaning barefoot walking in room not recommended iron is available but beware of the electric sockets \n"
     ]
    },
    {
     "name": "stderr",
     "output_type": "stream",
     "text": [
      "C:\\Users\\mosha\\anaconda3\\lib\\site-packages\\transformers\\models\\deberta_v2\\modeling_deberta_v2.py:539: DeprecationWarning: `np.int` is a deprecated alias for the builtin `int`. To silence this warning, use `int` by itself. Doing this will not modify any behavior and is safe. When replacing `np.int`, you may wish to use e.g. `np.int64` or `np.int32` to specify the precision. If you wish to review your current use, check the release note link for additional information.\n",
      "Deprecated in NumPy 1.20; for more details and guidance: https://numpy.org/devdocs/release/1.20.0-notes.html#deprecations\n",
      "  bucket_pos = np.where(abs_pos <= mid, relative_pos, log_pos * sign).astype(np.int)\n"
     ]
    },
    {
     "name": "stdout",
     "output_type": "stream",
     "text": [
      "Example 0:  cleanliness,utilities, functional white fungus on shower door smell of paint in the bathroom faucet are too old full with rust female hairs found on my towels toiletry tray very dirty carpet of the room need stain wash and cleaning barefoot walking in room not recommended \u001b[31m<iron:Negative(confidence:0.937, ref:Neutral)>\u001b[0m is available but beware of the electric sockets \n"
     ]
    },
    {
     "name": "stderr",
     "output_type": "stream",
     "text": [
      "C:\\Users\\mosha\\anaconda3\\lib\\site-packages\\transformers\\models\\deberta_v2\\modeling_deberta_v2.py:539: DeprecationWarning: `np.int` is a deprecated alias for the builtin `int`. To silence this warning, use `int` by itself. Doing this will not modify any behavior and is safe. When replacing `np.int`, you may wish to use e.g. `np.int64` or `np.int32` to specify the precision. If you wish to review your current use, check the release note link for additional information.\n",
      "Deprecated in NumPy 1.20; for more details and guidance: https://numpy.org/devdocs/release/1.20.0-notes.html#deprecations\n",
      "  bucket_pos = np.where(abs_pos <= mid, relative_pos, log_pos * sign).astype(np.int)\n"
     ]
    },
    {
     "name": "stdout",
     "output_type": "stream",
     "text": [
      "Example 0:  cleanliness,utilities, functional white fungus on shower door smell of paint in the bathroom faucet are too old full with rust female hairs found on my towels toiletry tray very dirty carpet of the room need stain wash and cleaning barefoot walking in room not recommended iron is available but beware of the \u001b[32m<electric sockets:Negative(confidence:0.919, ref:Negative)>\u001b[0m  \n"
     ]
    },
    {
     "name": "stderr",
     "output_type": "stream",
     "text": [
      "C:\\Users\\mosha\\anaconda3\\lib\\site-packages\\transformers\\models\\deberta_v2\\modeling_deberta_v2.py:539: DeprecationWarning: `np.int` is a deprecated alias for the builtin `int`. To silence this warning, use `int` by itself. Doing this will not modify any behavior and is safe. When replacing `np.int`, you may wish to use e.g. `np.int64` or `np.int32` to specify the precision. If you wish to review your current use, check the release note link for additional information.\n",
      "Deprecated in NumPy 1.20; for more details and guidance: https://numpy.org/devdocs/release/1.20.0-notes.html#deprecations\n",
      "  bucket_pos = np.where(abs_pos <= mid, relative_pos, log_pos * sign).astype(np.int)\n"
     ]
    },
    {
     "name": "stdout",
     "output_type": "stream",
     "text": [
      "Example 0:  very supportive \u001b[32m<staffs:Positive(confidence:0.945, ref:Positive)>\u001b[0m and friendly room is clean and service is good location is excellent and the room provided was comfortable& clean free parking was also available \n"
     ]
    },
    {
     "name": "stderr",
     "output_type": "stream",
     "text": [
      "C:\\Users\\mosha\\anaconda3\\lib\\site-packages\\transformers\\models\\deberta_v2\\modeling_deberta_v2.py:539: DeprecationWarning: `np.int` is a deprecated alias for the builtin `int`. To silence this warning, use `int` by itself. Doing this will not modify any behavior and is safe. When replacing `np.int`, you may wish to use e.g. `np.int64` or `np.int32` to specify the precision. If you wish to review your current use, check the release note link for additional information.\n",
      "Deprecated in NumPy 1.20; for more details and guidance: https://numpy.org/devdocs/release/1.20.0-notes.html#deprecations\n",
      "  bucket_pos = np.where(abs_pos <= mid, relative_pos, log_pos * sign).astype(np.int)\n"
     ]
    },
    {
     "name": "stdout",
     "output_type": "stream",
     "text": [
      "Example 0:  very supportive staffs and friendly \u001b[32m<room:Positive(confidence:0.922, ref:Positive)>\u001b[0m is clean and service is good location is excellent and the \u001b[32m<room:Positive(confidence:0.922, ref:Positive)>\u001b[0m provided was comfortable& clean free parking was also available \n"
     ]
    },
    {
     "name": "stderr",
     "output_type": "stream",
     "text": [
      "C:\\Users\\mosha\\anaconda3\\lib\\site-packages\\transformers\\models\\deberta_v2\\modeling_deberta_v2.py:539: DeprecationWarning: `np.int` is a deprecated alias for the builtin `int`. To silence this warning, use `int` by itself. Doing this will not modify any behavior and is safe. When replacing `np.int`, you may wish to use e.g. `np.int64` or `np.int32` to specify the precision. If you wish to review your current use, check the release note link for additional information.\n",
      "Deprecated in NumPy 1.20; for more details and guidance: https://numpy.org/devdocs/release/1.20.0-notes.html#deprecations\n",
      "  bucket_pos = np.where(abs_pos <= mid, relative_pos, log_pos * sign).astype(np.int)\n"
     ]
    },
    {
     "name": "stdout",
     "output_type": "stream",
     "text": [
      "Example 0:  very supportive staffs and friendly room is clean and \u001b[32m<service:Positive(confidence:0.938, ref:Positive)>\u001b[0m is good location is excellent and the room provided was comfortable& clean free parking was also available \n"
     ]
    },
    {
     "name": "stderr",
     "output_type": "stream",
     "text": [
      "C:\\Users\\mosha\\anaconda3\\lib\\site-packages\\transformers\\models\\deberta_v2\\modeling_deberta_v2.py:539: DeprecationWarning: `np.int` is a deprecated alias for the builtin `int`. To silence this warning, use `int` by itself. Doing this will not modify any behavior and is safe. When replacing `np.int`, you may wish to use e.g. `np.int64` or `np.int32` to specify the precision. If you wish to review your current use, check the release note link for additional information.\n",
      "Deprecated in NumPy 1.20; for more details and guidance: https://numpy.org/devdocs/release/1.20.0-notes.html#deprecations\n",
      "  bucket_pos = np.where(abs_pos <= mid, relative_pos, log_pos * sign).astype(np.int)\n"
     ]
    },
    {
     "name": "stdout",
     "output_type": "stream",
     "text": [
      "Example 0:  very supportive staffs and friendly room is clean and service is good \u001b[32m<location:Positive(confidence:0.963, ref:Positive)>\u001b[0m is excellent and the room provided was comfortable& clean free parking was also available \n"
     ]
    },
    {
     "name": "stderr",
     "output_type": "stream",
     "text": [
      "C:\\Users\\mosha\\anaconda3\\lib\\site-packages\\transformers\\models\\deberta_v2\\modeling_deberta_v2.py:539: DeprecationWarning: `np.int` is a deprecated alias for the builtin `int`. To silence this warning, use `int` by itself. Doing this will not modify any behavior and is safe. When replacing `np.int`, you may wish to use e.g. `np.int64` or `np.int32` to specify the precision. If you wish to review your current use, check the release note link for additional information.\n",
      "Deprecated in NumPy 1.20; for more details and guidance: https://numpy.org/devdocs/release/1.20.0-notes.html#deprecations\n",
      "  bucket_pos = np.where(abs_pos <= mid, relative_pos, log_pos * sign).astype(np.int)\n"
     ]
    },
    {
     "name": "stdout",
     "output_type": "stream",
     "text": [
      "Example 0:  very supportive staffs and friendly room is clean and service is good location is excellent and the room provided was comfortable& clean free \u001b[32m<parking:Positive(confidence:0.936, ref:Positive)>\u001b[0m was also available \n"
     ]
    },
    {
     "name": "stderr",
     "output_type": "stream",
     "text": [
      "C:\\Users\\mosha\\anaconda3\\lib\\site-packages\\transformers\\models\\deberta_v2\\modeling_deberta_v2.py:539: DeprecationWarning: `np.int` is a deprecated alias for the builtin `int`. To silence this warning, use `int` by itself. Doing this will not modify any behavior and is safe. When replacing `np.int`, you may wish to use e.g. `np.int64` or `np.int32` to specify the precision. If you wish to review your current use, check the release note link for additional information.\n",
      "Deprecated in NumPy 1.20; for more details and guidance: https://numpy.org/devdocs/release/1.20.0-notes.html#deprecations\n",
      "  bucket_pos = np.where(abs_pos <= mid, relative_pos, log_pos * sign).astype(np.int)\n"
     ]
    },
    {
     "name": "stdout",
     "output_type": "stream",
     "text": [
      "Example 0:  i paid for \u001b[31m<breakfast:Positive(confidence:0.57, ref:Neutral)>\u001b[0m as ididn't opt inclusive option whilebooking, and very limited option \n"
     ]
    },
    {
     "name": "stderr",
     "output_type": "stream",
     "text": [
      "C:\\Users\\mosha\\anaconda3\\lib\\site-packages\\transformers\\models\\deberta_v2\\modeling_deberta_v2.py:539: DeprecationWarning: `np.int` is a deprecated alias for the builtin `int`. To silence this warning, use `int` by itself. Doing this will not modify any behavior and is safe. When replacing `np.int`, you may wish to use e.g. `np.int64` or `np.int32` to specify the precision. If you wish to review your current use, check the release note link for additional information.\n",
      "Deprecated in NumPy 1.20; for more details and guidance: https://numpy.org/devdocs/release/1.20.0-notes.html#deprecations\n",
      "  bucket_pos = np.where(abs_pos <= mid, relative_pos, log_pos * sign).astype(np.int)\n"
     ]
    },
    {
     "name": "stdout",
     "output_type": "stream",
     "text": [
      "Example 0:  the \u001b[32m<room:Negative(confidence:0.952, ref:Negative)>\u001b[0m is so dim not enough light eg the computer table no table lamp wardrobe no internal light surprise to view lcd tv for a well known hotel no welcome either fruit basket or drinks the breakfast not worth the amount paying fruits selection limited and the pancake not warm unfortunately the next \u001b[32m<room:Negative(confidence:0.952, ref:Negative)>\u001b[0m with childs cannot get good night sleep \n"
     ]
    },
    {
     "name": "stderr",
     "output_type": "stream",
     "text": [
      "C:\\Users\\mosha\\anaconda3\\lib\\site-packages\\transformers\\models\\deberta_v2\\modeling_deberta_v2.py:539: DeprecationWarning: `np.int` is a deprecated alias for the builtin `int`. To silence this warning, use `int` by itself. Doing this will not modify any behavior and is safe. When replacing `np.int`, you may wish to use e.g. `np.int64` or `np.int32` to specify the precision. If you wish to review your current use, check the release note link for additional information.\n",
      "Deprecated in NumPy 1.20; for more details and guidance: https://numpy.org/devdocs/release/1.20.0-notes.html#deprecations\n",
      "  bucket_pos = np.where(abs_pos <= mid, relative_pos, log_pos * sign).astype(np.int)\n"
     ]
    },
    {
     "name": "stdout",
     "output_type": "stream",
     "text": [
      "Example 0:  the room is so dim not enough light eg the \u001b[32m<computer table:Negative(confidence:0.85, ref:Negative)>\u001b[0m no table lamp wardrobe no internal light surprise to view lcd tv for a well known hotel no welcome either fruit basket or drinks the breakfast not worth the amount paying fruits selection limited and the pancake not warm unfortunately the next room with childs cannot get good night sleep \n"
     ]
    },
    {
     "name": "stderr",
     "output_type": "stream",
     "text": [
      "C:\\Users\\mosha\\anaconda3\\lib\\site-packages\\transformers\\models\\deberta_v2\\modeling_deberta_v2.py:539: DeprecationWarning: `np.int` is a deprecated alias for the builtin `int`. To silence this warning, use `int` by itself. Doing this will not modify any behavior and is safe. When replacing `np.int`, you may wish to use e.g. `np.int64` or `np.int32` to specify the precision. If you wish to review your current use, check the release note link for additional information.\n",
      "Deprecated in NumPy 1.20; for more details and guidance: https://numpy.org/devdocs/release/1.20.0-notes.html#deprecations\n",
      "  bucket_pos = np.where(abs_pos <= mid, relative_pos, log_pos * sign).astype(np.int)\n"
     ]
    },
    {
     "name": "stdout",
     "output_type": "stream",
     "text": [
      "Example 0:  the room is so dim not enough light eg the computer table no \u001b[32m<table lamp:Negative(confidence:0.946, ref:Negative)>\u001b[0m wardrobe no internal light surprise to view lcd tv for a well known hotel no welcome either fruit basket or drinks the breakfast not worth the amount paying fruits selection limited and the pancake not warm unfortunately the next room with childs cannot get good night sleep \n"
     ]
    },
    {
     "name": "stderr",
     "output_type": "stream",
     "text": [
      "C:\\Users\\mosha\\anaconda3\\lib\\site-packages\\transformers\\models\\deberta_v2\\modeling_deberta_v2.py:539: DeprecationWarning: `np.int` is a deprecated alias for the builtin `int`. To silence this warning, use `int` by itself. Doing this will not modify any behavior and is safe. When replacing `np.int`, you may wish to use e.g. `np.int64` or `np.int32` to specify the precision. If you wish to review your current use, check the release note link for additional information.\n",
      "Deprecated in NumPy 1.20; for more details and guidance: https://numpy.org/devdocs/release/1.20.0-notes.html#deprecations\n",
      "  bucket_pos = np.where(abs_pos <= mid, relative_pos, log_pos * sign).astype(np.int)\n"
     ]
    },
    {
     "name": "stdout",
     "output_type": "stream",
     "text": [
      "Example 0:  the room is so dim not enough light eg the computer table no table lamp \u001b[32m<wardrobe:Negative(confidence:0.958, ref:Negative)>\u001b[0m no internal light surprise to view lcd tv for a well known hotel no welcome either fruit basket or drinks the breakfast not worth the amount paying fruits selection limited and the pancake not warm unfortunately the next room with childs cannot get good night sleep \n"
     ]
    },
    {
     "name": "stderr",
     "output_type": "stream",
     "text": [
      "C:\\Users\\mosha\\anaconda3\\lib\\site-packages\\transformers\\models\\deberta_v2\\modeling_deberta_v2.py:539: DeprecationWarning: `np.int` is a deprecated alias for the builtin `int`. To silence this warning, use `int` by itself. Doing this will not modify any behavior and is safe. When replacing `np.int`, you may wish to use e.g. `np.int64` or `np.int32` to specify the precision. If you wish to review your current use, check the release note link for additional information.\n",
      "Deprecated in NumPy 1.20; for more details and guidance: https://numpy.org/devdocs/release/1.20.0-notes.html#deprecations\n",
      "  bucket_pos = np.where(abs_pos <= mid, relative_pos, log_pos * sign).astype(np.int)\n"
     ]
    },
    {
     "name": "stdout",
     "output_type": "stream",
     "text": [
      "Example 0:  the room is so dim not enough light eg the computer table no table lamp wardrobe no internal light surprise to view lcd tv for a well known hotel no welcome either \u001b[32m<fruit basket:Negative(confidence:0.947, ref:Negative)>\u001b[0m or drinks the breakfast not worth the amount paying fruits selection limited and the pancake not warm unfortunately the next room with childs cannot get good night sleep \n"
     ]
    },
    {
     "name": "stderr",
     "output_type": "stream",
     "text": [
      "C:\\Users\\mosha\\anaconda3\\lib\\site-packages\\transformers\\models\\deberta_v2\\modeling_deberta_v2.py:539: DeprecationWarning: `np.int` is a deprecated alias for the builtin `int`. To silence this warning, use `int` by itself. Doing this will not modify any behavior and is safe. When replacing `np.int`, you may wish to use e.g. `np.int64` or `np.int32` to specify the precision. If you wish to review your current use, check the release note link for additional information.\n",
      "Deprecated in NumPy 1.20; for more details and guidance: https://numpy.org/devdocs/release/1.20.0-notes.html#deprecations\n",
      "  bucket_pos = np.where(abs_pos <= mid, relative_pos, log_pos * sign).astype(np.int)\n"
     ]
    },
    {
     "name": "stdout",
     "output_type": "stream",
     "text": [
      "Example 0:  the room is so dim not enough light eg the computer table no table lamp wardrobe no internal light surprise to view lcd tv for a well known hotel no welcome either fruit basket or \u001b[32m<drinks:Negative(confidence:0.944, ref:Negative)>\u001b[0m the breakfast not worth the amount paying fruits selection limited and the pancake not warm unfortunately the next room with childs cannot get good night sleep \n"
     ]
    },
    {
     "name": "stderr",
     "output_type": "stream",
     "text": [
      "C:\\Users\\mosha\\anaconda3\\lib\\site-packages\\transformers\\models\\deberta_v2\\modeling_deberta_v2.py:539: DeprecationWarning: `np.int` is a deprecated alias for the builtin `int`. To silence this warning, use `int` by itself. Doing this will not modify any behavior and is safe. When replacing `np.int`, you may wish to use e.g. `np.int64` or `np.int32` to specify the precision. If you wish to review your current use, check the release note link for additional information.\n",
      "Deprecated in NumPy 1.20; for more details and guidance: https://numpy.org/devdocs/release/1.20.0-notes.html#deprecations\n",
      "  bucket_pos = np.where(abs_pos <= mid, relative_pos, log_pos * sign).astype(np.int)\n"
     ]
    },
    {
     "name": "stdout",
     "output_type": "stream",
     "text": [
      "Example 0:  the room is so dim not enough light eg the computer table no table lamp wardrobe no internal light surprise to view lcd tv for a well known hotel no welcome either fruit basket or drinks the \u001b[32m<breakfast:Negative(confidence:0.95, ref:Negative)>\u001b[0m not worth the amount paying fruits selection limited and the pancake not warm unfortunately the next room with childs cannot get good night sleep \n"
     ]
    },
    {
     "name": "stderr",
     "output_type": "stream",
     "text": [
      "C:\\Users\\mosha\\anaconda3\\lib\\site-packages\\transformers\\models\\deberta_v2\\modeling_deberta_v2.py:539: DeprecationWarning: `np.int` is a deprecated alias for the builtin `int`. To silence this warning, use `int` by itself. Doing this will not modify any behavior and is safe. When replacing `np.int`, you may wish to use e.g. `np.int64` or `np.int32` to specify the precision. If you wish to review your current use, check the release note link for additional information.\n",
      "Deprecated in NumPy 1.20; for more details and guidance: https://numpy.org/devdocs/release/1.20.0-notes.html#deprecations\n",
      "  bucket_pos = np.where(abs_pos <= mid, relative_pos, log_pos * sign).astype(np.int)\n"
     ]
    },
    {
     "name": "stdout",
     "output_type": "stream",
     "text": [
      "Example 0:  the \u001b[32m<laundromat:Negative(confidence:0.865, ref:Negative)>\u001b[0m is not working and i had to go out and buy new clothes because icouldn't find a close \u001b[32m<laundromat:Negative(confidence:0.865, ref:Negative)>\u001b[0m \n"
     ]
    },
    {
     "name": "stderr",
     "output_type": "stream",
     "text": [
      "C:\\Users\\mosha\\anaconda3\\lib\\site-packages\\transformers\\models\\deberta_v2\\modeling_deberta_v2.py:539: DeprecationWarning: `np.int` is a deprecated alias for the builtin `int`. To silence this warning, use `int` by itself. Doing this will not modify any behavior and is safe. When replacing `np.int`, you may wish to use e.g. `np.int64` or `np.int32` to specify the precision. If you wish to review your current use, check the release note link for additional information.\n",
      "Deprecated in NumPy 1.20; for more details and guidance: https://numpy.org/devdocs/release/1.20.0-notes.html#deprecations\n",
      "  bucket_pos = np.where(abs_pos <= mid, relative_pos, log_pos * sign).astype(np.int)\n"
     ]
    },
    {
     "name": "stdout",
     "output_type": "stream",
     "text": [
      "Example 0:  some minor \u001b[32m<services:Negative(confidence:0.8, ref:Negative)>\u001b[0m was not working properly in the room like some function in thetv, wifi speed was slow \n"
     ]
    },
    {
     "name": "stderr",
     "output_type": "stream",
     "text": [
      "C:\\Users\\mosha\\anaconda3\\lib\\site-packages\\transformers\\models\\deberta_v2\\modeling_deberta_v2.py:539: DeprecationWarning: `np.int` is a deprecated alias for the builtin `int`. To silence this warning, use `int` by itself. Doing this will not modify any behavior and is safe. When replacing `np.int`, you may wish to use e.g. `np.int64` or `np.int32` to specify the precision. If you wish to review your current use, check the release note link for additional information.\n",
      "Deprecated in NumPy 1.20; for more details and guidance: https://numpy.org/devdocs/release/1.20.0-notes.html#deprecations\n",
      "  bucket_pos = np.where(abs_pos <= mid, relative_pos, log_pos * sign).astype(np.int)\n"
     ]
    },
    {
     "name": "stdout",
     "output_type": "stream",
     "text": [
      "Example 0:  some minor services was not working properly in the room like some function in the \u001b[32m<tv,:Negative(confidence:0.815, ref:Negative)>\u001b[0m wifi speed was slow \n"
     ]
    },
    {
     "name": "stderr",
     "output_type": "stream",
     "text": [
      "C:\\Users\\mosha\\anaconda3\\lib\\site-packages\\transformers\\models\\deberta_v2\\modeling_deberta_v2.py:539: DeprecationWarning: `np.int` is a deprecated alias for the builtin `int`. To silence this warning, use `int` by itself. Doing this will not modify any behavior and is safe. When replacing `np.int`, you may wish to use e.g. `np.int64` or `np.int32` to specify the precision. If you wish to review your current use, check the release note link for additional information.\n",
      "Deprecated in NumPy 1.20; for more details and guidance: https://numpy.org/devdocs/release/1.20.0-notes.html#deprecations\n",
      "  bucket_pos = np.where(abs_pos <= mid, relative_pos, log_pos * sign).astype(np.int)\n"
     ]
    },
    {
     "name": "stdout",
     "output_type": "stream",
     "text": [
      "Example 0:  some minor services was not working properly in the room like some function in thetv, \u001b[32m<wifi:Negative(confidence:0.817, ref:Negative)>\u001b[0m speed was slow \n"
     ]
    },
    {
     "name": "stderr",
     "output_type": "stream",
     "text": [
      "C:\\Users\\mosha\\anaconda3\\lib\\site-packages\\transformers\\models\\deberta_v2\\modeling_deberta_v2.py:539: DeprecationWarning: `np.int` is a deprecated alias for the builtin `int`. To silence this warning, use `int` by itself. Doing this will not modify any behavior and is safe. When replacing `np.int`, you may wish to use e.g. `np.int64` or `np.int32` to specify the precision. If you wish to review your current use, check the release note link for additional information.\n",
      "Deprecated in NumPy 1.20; for more details and guidance: https://numpy.org/devdocs/release/1.20.0-notes.html#deprecations\n",
      "  bucket_pos = np.where(abs_pos <= mid, relative_pos, log_pos * sign).astype(np.int)\n"
     ]
    },
    {
     "name": "stdout",
     "output_type": "stream",
     "text": [
      "Example 0:  the behavior of the \u001b[32m<staff:Negative(confidence:0.748, ref:Negative)>\u001b[0m and facilities, and the pictures are not the same as shown in the website \n"
     ]
    },
    {
     "name": "stderr",
     "output_type": "stream",
     "text": [
      "C:\\Users\\mosha\\anaconda3\\lib\\site-packages\\transformers\\models\\deberta_v2\\modeling_deberta_v2.py:539: DeprecationWarning: `np.int` is a deprecated alias for the builtin `int`. To silence this warning, use `int` by itself. Doing this will not modify any behavior and is safe. When replacing `np.int`, you may wish to use e.g. `np.int64` or `np.int32` to specify the precision. If you wish to review your current use, check the release note link for additional information.\n",
      "Deprecated in NumPy 1.20; for more details and guidance: https://numpy.org/devdocs/release/1.20.0-notes.html#deprecations\n",
      "  bucket_pos = np.where(abs_pos <= mid, relative_pos, log_pos * sign).astype(np.int)\n"
     ]
    },
    {
     "name": "stdout",
     "output_type": "stream",
     "text": [
      "Example 0:  the behavior of the staff and \u001b[32m<facilities:Negative(confidence:0.633, ref:Negative)>\u001b[0m , and the pictures are not the same as shown in the website \n"
     ]
    },
    {
     "name": "stderr",
     "output_type": "stream",
     "text": [
      "C:\\Users\\mosha\\anaconda3\\lib\\site-packages\\transformers\\models\\deberta_v2\\modeling_deberta_v2.py:539: DeprecationWarning: `np.int` is a deprecated alias for the builtin `int`. To silence this warning, use `int` by itself. Doing this will not modify any behavior and is safe. When replacing `np.int`, you may wish to use e.g. `np.int64` or `np.int32` to specify the precision. If you wish to review your current use, check the release note link for additional information.\n",
      "Deprecated in NumPy 1.20; for more details and guidance: https://numpy.org/devdocs/release/1.20.0-notes.html#deprecations\n",
      "  bucket_pos = np.where(abs_pos <= mid, relative_pos, log_pos * sign).astype(np.int)\n"
     ]
    },
    {
     "name": "stdout",
     "output_type": "stream",
     "text": [
      "Example 0:  the behavior of the staff and facilities, and the pictures are not the same as shown in the \u001b[32m<website:Negative(confidence:0.774, ref:Negative)>\u001b[0m  \n"
     ]
    },
    {
     "name": "stderr",
     "output_type": "stream",
     "text": [
      "C:\\Users\\mosha\\anaconda3\\lib\\site-packages\\transformers\\models\\deberta_v2\\modeling_deberta_v2.py:539: DeprecationWarning: `np.int` is a deprecated alias for the builtin `int`. To silence this warning, use `int` by itself. Doing this will not modify any behavior and is safe. When replacing `np.int`, you may wish to use e.g. `np.int64` or `np.int32` to specify the precision. If you wish to review your current use, check the release note link for additional information.\n",
      "Deprecated in NumPy 1.20; for more details and guidance: https://numpy.org/devdocs/release/1.20.0-notes.html#deprecations\n",
      "  bucket_pos = np.where(abs_pos <= mid, relative_pos, log_pos * sign).astype(np.int)\n"
     ]
    },
    {
     "name": "stdout",
     "output_type": "stream",
     "text": [
      "Example 0:  two out of four \u001b[32m<beds:Negative(confidence:0.936, ref:Negative)>\u001b[0m are not proper property charging full for four \u001b[32m<beds:Negative(confidence:0.936, ref:Negative)>\u001b[0m \u001b[32m<beds:Negative(confidence:0.936, ref:Negative)>\u001b[0m provided two uncomfortable \u001b[32m<beds:Negative(confidence:0.936, ref:Negative)>\u001b[0m out of four corridors are full of cigarette smell even the first room provided was full of cigarette smell and we had to request for a change next day alhamdulillah the reception listened to our request and changed the room \n"
     ]
    },
    {
     "name": "stderr",
     "output_type": "stream",
     "text": [
      "C:\\Users\\mosha\\anaconda3\\lib\\site-packages\\transformers\\models\\deberta_v2\\modeling_deberta_v2.py:539: DeprecationWarning: `np.int` is a deprecated alias for the builtin `int`. To silence this warning, use `int` by itself. Doing this will not modify any behavior and is safe. When replacing `np.int`, you may wish to use e.g. `np.int64` or `np.int32` to specify the precision. If you wish to review your current use, check the release note link for additional information.\n",
      "Deprecated in NumPy 1.20; for more details and guidance: https://numpy.org/devdocs/release/1.20.0-notes.html#deprecations\n",
      "  bucket_pos = np.where(abs_pos <= mid, relative_pos, log_pos * sign).astype(np.int)\n"
     ]
    },
    {
     "name": "stdout",
     "output_type": "stream",
     "text": [
      "Example 0:  two out of four beds are not proper property charging full for four beds beds provided two uncomfortable beds out of four \u001b[32m<corridors:Negative(confidence:0.945, ref:Negative)>\u001b[0m are full of cigarette smell even the first room provided was full of cigarette smell and we had to request for a change next day alhamdulillah the reception listened to our request and changed the room \n"
     ]
    },
    {
     "name": "stderr",
     "output_type": "stream",
     "text": [
      "C:\\Users\\mosha\\anaconda3\\lib\\site-packages\\transformers\\models\\deberta_v2\\modeling_deberta_v2.py:539: DeprecationWarning: `np.int` is a deprecated alias for the builtin `int`. To silence this warning, use `int` by itself. Doing this will not modify any behavior and is safe. When replacing `np.int`, you may wish to use e.g. `np.int64` or `np.int32` to specify the precision. If you wish to review your current use, check the release note link for additional information.\n",
      "Deprecated in NumPy 1.20; for more details and guidance: https://numpy.org/devdocs/release/1.20.0-notes.html#deprecations\n",
      "  bucket_pos = np.where(abs_pos <= mid, relative_pos, log_pos * sign).astype(np.int)\n"
     ]
    },
    {
     "name": "stdout",
     "output_type": "stream",
     "text": [
      "Example 0:  two out of four beds are not proper property charging full for four beds beds provided two uncomfortable beds out of four corridors are full of cigarette \u001b[32m<smell:Negative(confidence:0.94, ref:Negative)>\u001b[0m even the first room provided was full of cigarette \u001b[32m<smell:Negative(confidence:0.94, ref:Negative)>\u001b[0m and we had to request for a change next day alhamdulillah the reception listened to our request and changed the room \n"
     ]
    },
    {
     "name": "stderr",
     "output_type": "stream",
     "text": [
      "C:\\Users\\mosha\\anaconda3\\lib\\site-packages\\transformers\\models\\deberta_v2\\modeling_deberta_v2.py:539: DeprecationWarning: `np.int` is a deprecated alias for the builtin `int`. To silence this warning, use `int` by itself. Doing this will not modify any behavior and is safe. When replacing `np.int`, you may wish to use e.g. `np.int64` or `np.int32` to specify the precision. If you wish to review your current use, check the release note link for additional information.\n",
      "Deprecated in NumPy 1.20; for more details and guidance: https://numpy.org/devdocs/release/1.20.0-notes.html#deprecations\n",
      "  bucket_pos = np.where(abs_pos <= mid, relative_pos, log_pos * sign).astype(np.int)\n"
     ]
    },
    {
     "name": "stdout",
     "output_type": "stream",
     "text": [
      "Example 0:  two out of four beds are not proper property charging full for four beds beds provided two uncomfortable beds out of four corridors are full of cigarette smell even the first \u001b[32m<room:Negative(confidence:0.954, ref:Negative)>\u001b[0m provided was full of cigarette smell and we had to request for a change next day alhamdulillah the reception listened to our request and changed the \u001b[32m<room:Negative(confidence:0.954, ref:Negative)>\u001b[0m \n"
     ]
    },
    {
     "name": "stderr",
     "output_type": "stream",
     "text": [
      "C:\\Users\\mosha\\anaconda3\\lib\\site-packages\\transformers\\models\\deberta_v2\\modeling_deberta_v2.py:539: DeprecationWarning: `np.int` is a deprecated alias for the builtin `int`. To silence this warning, use `int` by itself. Doing this will not modify any behavior and is safe. When replacing `np.int`, you may wish to use e.g. `np.int64` or `np.int32` to specify the precision. If you wish to review your current use, check the release note link for additional information.\n",
      "Deprecated in NumPy 1.20; for more details and guidance: https://numpy.org/devdocs/release/1.20.0-notes.html#deprecations\n",
      "  bucket_pos = np.where(abs_pos <= mid, relative_pos, log_pos * sign).astype(np.int)\n"
     ]
    },
    {
     "name": "stdout",
     "output_type": "stream",
     "text": [
      "Example 0:  two out of four beds are not proper property charging full for four beds beds provided two uncomfortable beds out of four corridors are full of cigarette smell even the first room provided was full of cigarette smell and we had to request for a change next day alhamdulillah the \u001b[31m<reception:Negative(confidence:0.958, ref:Positive)>\u001b[0m listened to our request and changed the room \n"
     ]
    },
    {
     "name": "stderr",
     "output_type": "stream",
     "text": [
      "C:\\Users\\mosha\\anaconda3\\lib\\site-packages\\transformers\\models\\deberta_v2\\modeling_deberta_v2.py:539: DeprecationWarning: `np.int` is a deprecated alias for the builtin `int`. To silence this warning, use `int` by itself. Doing this will not modify any behavior and is safe. When replacing `np.int`, you may wish to use e.g. `np.int64` or `np.int32` to specify the precision. If you wish to review your current use, check the release note link for additional information.\n",
      "Deprecated in NumPy 1.20; for more details and guidance: https://numpy.org/devdocs/release/1.20.0-notes.html#deprecations\n",
      "  bucket_pos = np.where(abs_pos <= mid, relative_pos, log_pos * sign).astype(np.int)\n"
     ]
    },
    {
     "name": "stdout",
     "output_type": "stream",
     "text": [
      "Example 0:  \u001b[31m<sound proof:Positive(confidence:0.888, ref:Negative)>\u001b[0m is horrible i heard everything in the neighbors room which is very inconvenient \n"
     ]
    },
    {
     "name": "stderr",
     "output_type": "stream",
     "text": [
      "C:\\Users\\mosha\\anaconda3\\lib\\site-packages\\transformers\\models\\deberta_v2\\modeling_deberta_v2.py:539: DeprecationWarning: `np.int` is a deprecated alias for the builtin `int`. To silence this warning, use `int` by itself. Doing this will not modify any behavior and is safe. When replacing `np.int`, you may wish to use e.g. `np.int64` or `np.int32` to specify the precision. If you wish to review your current use, check the release note link for additional information.\n",
      "Deprecated in NumPy 1.20; for more details and guidance: https://numpy.org/devdocs/release/1.20.0-notes.html#deprecations\n",
      "  bucket_pos = np.where(abs_pos <= mid, relative_pos, log_pos * sign).astype(np.int)\n"
     ]
    },
    {
     "name": "stdout",
     "output_type": "stream",
     "text": [
      "Example 0:  sound proof is horrible i heard everything in the neighbors \u001b[31m<room:Positive(confidence:0.844, ref:Negative)>\u001b[0m which is very inconvenient \n"
     ]
    },
    {
     "name": "stderr",
     "output_type": "stream",
     "text": [
      "C:\\Users\\mosha\\anaconda3\\lib\\site-packages\\transformers\\models\\deberta_v2\\modeling_deberta_v2.py:539: DeprecationWarning: `np.int` is a deprecated alias for the builtin `int`. To silence this warning, use `int` by itself. Doing this will not modify any behavior and is safe. When replacing `np.int`, you may wish to use e.g. `np.int64` or `np.int32` to specify the precision. If you wish to review your current use, check the release note link for additional information.\n",
      "Deprecated in NumPy 1.20; for more details and guidance: https://numpy.org/devdocs/release/1.20.0-notes.html#deprecations\n",
      "  bucket_pos = np.where(abs_pos <= mid, relative_pos, log_pos * sign).astype(np.int)\n"
     ]
    },
    {
     "name": "stdout",
     "output_type": "stream",
     "text": [
      "Example 0:  ididn't like the \u001b[32m<staff,:Negative(confidence:0.826, ref:Negative)>\u001b[0m room cleanliness and the tv was very poor anddoesn't work well there was no water heater in the bathroom there is constant nuisance all the time \n"
     ]
    },
    {
     "name": "stderr",
     "output_type": "stream",
     "text": [
      "C:\\Users\\mosha\\anaconda3\\lib\\site-packages\\transformers\\models\\deberta_v2\\modeling_deberta_v2.py:539: DeprecationWarning: `np.int` is a deprecated alias for the builtin `int`. To silence this warning, use `int` by itself. Doing this will not modify any behavior and is safe. When replacing `np.int`, you may wish to use e.g. `np.int64` or `np.int32` to specify the precision. If you wish to review your current use, check the release note link for additional information.\n",
      "Deprecated in NumPy 1.20; for more details and guidance: https://numpy.org/devdocs/release/1.20.0-notes.html#deprecations\n",
      "  bucket_pos = np.where(abs_pos <= mid, relative_pos, log_pos * sign).astype(np.int)\n"
     ]
    },
    {
     "name": "stdout",
     "output_type": "stream",
     "text": [
      "Example 0:  ididn't like thestaff, \u001b[32m<room:Negative(confidence:0.9, ref:Negative)>\u001b[0m cleanliness and the tv was very poor anddoesn't work well there was no water heater in the bath\u001b[32m<room:Negative(confidence:0.9, ref:Negative)>\u001b[0m there is constant nuisance all the time \n"
     ]
    },
    {
     "name": "stderr",
     "output_type": "stream",
     "text": [
      "C:\\Users\\mosha\\anaconda3\\lib\\site-packages\\transformers\\models\\deberta_v2\\modeling_deberta_v2.py:539: DeprecationWarning: `np.int` is a deprecated alias for the builtin `int`. To silence this warning, use `int` by itself. Doing this will not modify any behavior and is safe. When replacing `np.int`, you may wish to use e.g. `np.int64` or `np.int32` to specify the precision. If you wish to review your current use, check the release note link for additional information.\n",
      "Deprecated in NumPy 1.20; for more details and guidance: https://numpy.org/devdocs/release/1.20.0-notes.html#deprecations\n",
      "  bucket_pos = np.where(abs_pos <= mid, relative_pos, log_pos * sign).astype(np.int)\n"
     ]
    },
    {
     "name": "stdout",
     "output_type": "stream",
     "text": [
      "Example 0:  ididn't like thestaff, room \u001b[32m<cleanliness:Negative(confidence:0.914, ref:Negative)>\u001b[0m and the tv was very poor anddoesn't work well there was no water heater in the bathroom there is constant nuisance all the time \n"
     ]
    },
    {
     "name": "stderr",
     "output_type": "stream",
     "text": [
      "C:\\Users\\mosha\\anaconda3\\lib\\site-packages\\transformers\\models\\deberta_v2\\modeling_deberta_v2.py:539: DeprecationWarning: `np.int` is a deprecated alias for the builtin `int`. To silence this warning, use `int` by itself. Doing this will not modify any behavior and is safe. When replacing `np.int`, you may wish to use e.g. `np.int64` or `np.int32` to specify the precision. If you wish to review your current use, check the release note link for additional information.\n",
      "Deprecated in NumPy 1.20; for more details and guidance: https://numpy.org/devdocs/release/1.20.0-notes.html#deprecations\n",
      "  bucket_pos = np.where(abs_pos <= mid, relative_pos, log_pos * sign).astype(np.int)\n"
     ]
    },
    {
     "name": "stdout",
     "output_type": "stream",
     "text": [
      "Example 0:  ididn't like thestaff, room cleanliness and the \u001b[32m<tv:Negative(confidence:0.899, ref:Negative)>\u001b[0m was very poor anddoesn't work well there was no water heater in the bathroom there is constant nuisance all the time \n"
     ]
    },
    {
     "name": "stderr",
     "output_type": "stream",
     "text": [
      "C:\\Users\\mosha\\anaconda3\\lib\\site-packages\\transformers\\models\\deberta_v2\\modeling_deberta_v2.py:539: DeprecationWarning: `np.int` is a deprecated alias for the builtin `int`. To silence this warning, use `int` by itself. Doing this will not modify any behavior and is safe. When replacing `np.int`, you may wish to use e.g. `np.int64` or `np.int32` to specify the precision. If you wish to review your current use, check the release note link for additional information.\n",
      "Deprecated in NumPy 1.20; for more details and guidance: https://numpy.org/devdocs/release/1.20.0-notes.html#deprecations\n",
      "  bucket_pos = np.where(abs_pos <= mid, relative_pos, log_pos * sign).astype(np.int)\n"
     ]
    },
    {
     "name": "stdout",
     "output_type": "stream",
     "text": [
      "Example 0:  ididn't like thestaff, room cleanliness and the tv was very poor anddoesn't work well there was no \u001b[32m<water heater:Negative(confidence:0.924, ref:Negative)>\u001b[0m in the bathroom there is constant nuisance all the time \n"
     ]
    },
    {
     "name": "stderr",
     "output_type": "stream",
     "text": [
      "C:\\Users\\mosha\\anaconda3\\lib\\site-packages\\transformers\\models\\deberta_v2\\modeling_deberta_v2.py:539: DeprecationWarning: `np.int` is a deprecated alias for the builtin `int`. To silence this warning, use `int` by itself. Doing this will not modify any behavior and is safe. When replacing `np.int`, you may wish to use e.g. `np.int64` or `np.int32` to specify the precision. If you wish to review your current use, check the release note link for additional information.\n",
      "Deprecated in NumPy 1.20; for more details and guidance: https://numpy.org/devdocs/release/1.20.0-notes.html#deprecations\n",
      "  bucket_pos = np.where(abs_pos <= mid, relative_pos, log_pos * sign).astype(np.int)\n"
     ]
    },
    {
     "name": "stdout",
     "output_type": "stream",
     "text": [
      "Example 0:  upon arrival the \u001b[31m<room:Positive(confidence:0.862, ref:Negative)>\u001b[0m didn't meet my expectation and the manager fahad made sure to change the \u001b[31m<room:Positive(confidence:0.862, ref:Negative)>\u001b[0m to myfamily's liking the cleaning stuff were very helpful and often asked us if we needed anything \n"
     ]
    },
    {
     "name": "stderr",
     "output_type": "stream",
     "text": [
      "C:\\Users\\mosha\\anaconda3\\lib\\site-packages\\transformers\\models\\deberta_v2\\modeling_deberta_v2.py:539: DeprecationWarning: `np.int` is a deprecated alias for the builtin `int`. To silence this warning, use `int` by itself. Doing this will not modify any behavior and is safe. When replacing `np.int`, you may wish to use e.g. `np.int64` or `np.int32` to specify the precision. If you wish to review your current use, check the release note link for additional information.\n",
      "Deprecated in NumPy 1.20; for more details and guidance: https://numpy.org/devdocs/release/1.20.0-notes.html#deprecations\n",
      "  bucket_pos = np.where(abs_pos <= mid, relative_pos, log_pos * sign).astype(np.int)\n"
     ]
    },
    {
     "name": "stdout",
     "output_type": "stream",
     "text": [
      "Example 0:  i actually likedeverything, infact, one of the best \u001b[32m<hotels:Positive(confidence:0.92, ref:Positive)>\u001b[0m i've ever checked in ï¿½ï¿½ï¿½ï¿½ \n"
     ]
    },
    {
     "name": "stderr",
     "output_type": "stream",
     "text": [
      "C:\\Users\\mosha\\anaconda3\\lib\\site-packages\\transformers\\models\\deberta_v2\\modeling_deberta_v2.py:539: DeprecationWarning: `np.int` is a deprecated alias for the builtin `int`. To silence this warning, use `int` by itself. Doing this will not modify any behavior and is safe. When replacing `np.int`, you may wish to use e.g. `np.int64` or `np.int32` to specify the precision. If you wish to review your current use, check the release note link for additional information.\n",
      "Deprecated in NumPy 1.20; for more details and guidance: https://numpy.org/devdocs/release/1.20.0-notes.html#deprecations\n",
      "  bucket_pos = np.where(abs_pos <= mid, relative_pos, log_pos * sign).astype(np.int)\n"
     ]
    },
    {
     "name": "stdout",
     "output_type": "stream",
     "text": [
      "Example 0:  the lady at the \u001b[32m<reception:Negative(confidence:0.621, ref:Negative)>\u001b[0m is very rude and do not know actually how to meet the guests she kept us wqiting for 20 mins outside in the car i asked 4 times to send the luggage boy for our luggage i booked city view room we were given patio room with politeness \n"
     ]
    },
    {
     "name": "stderr",
     "output_type": "stream",
     "text": [
      "C:\\Users\\mosha\\anaconda3\\lib\\site-packages\\transformers\\models\\deberta_v2\\modeling_deberta_v2.py:539: DeprecationWarning: `np.int` is a deprecated alias for the builtin `int`. To silence this warning, use `int` by itself. Doing this will not modify any behavior and is safe. When replacing `np.int`, you may wish to use e.g. `np.int64` or `np.int32` to specify the precision. If you wish to review your current use, check the release note link for additional information.\n",
      "Deprecated in NumPy 1.20; for more details and guidance: https://numpy.org/devdocs/release/1.20.0-notes.html#deprecations\n",
      "  bucket_pos = np.where(abs_pos <= mid, relative_pos, log_pos * sign).astype(np.int)\n"
     ]
    },
    {
     "name": "stdout",
     "output_type": "stream",
     "text": [
      "Example 0:  the lady at the reception is very rude and do not know actually how to meet the guests she kept us wqiting for 20 mins outside in the car i asked 4 times to send the \u001b[32m<luggage boy:Negative(confidence:0.578, ref:Negative)>\u001b[0m for our luggage i booked city view room we were given patio room with politeness \n"
     ]
    },
    {
     "name": "stderr",
     "output_type": "stream",
     "text": [
      "C:\\Users\\mosha\\anaconda3\\lib\\site-packages\\transformers\\models\\deberta_v2\\modeling_deberta_v2.py:539: DeprecationWarning: `np.int` is a deprecated alias for the builtin `int`. To silence this warning, use `int` by itself. Doing this will not modify any behavior and is safe. When replacing `np.int`, you may wish to use e.g. `np.int64` or `np.int32` to specify the precision. If you wish to review your current use, check the release note link for additional information.\n",
      "Deprecated in NumPy 1.20; for more details and guidance: https://numpy.org/devdocs/release/1.20.0-notes.html#deprecations\n",
      "  bucket_pos = np.where(abs_pos <= mid, relative_pos, log_pos * sign).astype(np.int)\n"
     ]
    },
    {
     "name": "stdout",
     "output_type": "stream",
     "text": [
      "Example 0:  very poor \u001b[31m<breakfast:Positive(confidence:0.947, ref:Negative)>\u001b[0m menu, and the very same menu throughout my 5 days stay at the hotel with absolute no change \n"
     ]
    },
    {
     "name": "stderr",
     "output_type": "stream",
     "text": [
      "C:\\Users\\mosha\\anaconda3\\lib\\site-packages\\transformers\\models\\deberta_v2\\modeling_deberta_v2.py:539: DeprecationWarning: `np.int` is a deprecated alias for the builtin `int`. To silence this warning, use `int` by itself. Doing this will not modify any behavior and is safe. When replacing `np.int`, you may wish to use e.g. `np.int64` or `np.int32` to specify the precision. If you wish to review your current use, check the release note link for additional information.\n",
      "Deprecated in NumPy 1.20; for more details and guidance: https://numpy.org/devdocs/release/1.20.0-notes.html#deprecations\n",
      "  bucket_pos = np.where(abs_pos <= mid, relative_pos, log_pos * sign).astype(np.int)\n"
     ]
    },
    {
     "name": "stdout",
     "output_type": "stream",
     "text": [
      "Example 0:  very poor breakfast\u001b[31m<menu:Positive(confidence:0.945, ref:Negative)>\u001b[0m, and the very same \u001b[31m<menu:Positive(confidence:0.945, ref:Negative)>\u001b[0m throughout my 5 days stay at the hotel with absolute no change \n"
     ]
    },
    {
     "name": "stderr",
     "output_type": "stream",
     "text": [
      "C:\\Users\\mosha\\anaconda3\\lib\\site-packages\\transformers\\models\\deberta_v2\\modeling_deberta_v2.py:539: DeprecationWarning: `np.int` is a deprecated alias for the builtin `int`. To silence this warning, use `int` by itself. Doing this will not modify any behavior and is safe. When replacing `np.int`, you may wish to use e.g. `np.int64` or `np.int32` to specify the precision. If you wish to review your current use, check the release note link for additional information.\n",
      "Deprecated in NumPy 1.20; for more details and guidance: https://numpy.org/devdocs/release/1.20.0-notes.html#deprecations\n",
      "  bucket_pos = np.where(abs_pos <= mid, relative_pos, log_pos * sign).astype(np.int)\n"
     ]
    },
    {
     "name": "stdout",
     "output_type": "stream",
     "text": [
      "Example 0:  the \u001b[32m<hotel location:Positive(confidence:0.851, ref:Positive)>\u001b[0m was excellent with car parking and the room was very spacious and all the hotel staffs were very cooperative and had a comfortable stayreally enjoyed andit's value for money will highly recommend \n"
     ]
    },
    {
     "name": "stderr",
     "output_type": "stream",
     "text": [
      "C:\\Users\\mosha\\anaconda3\\lib\\site-packages\\transformers\\models\\deberta_v2\\modeling_deberta_v2.py:539: DeprecationWarning: `np.int` is a deprecated alias for the builtin `int`. To silence this warning, use `int` by itself. Doing this will not modify any behavior and is safe. When replacing `np.int`, you may wish to use e.g. `np.int64` or `np.int32` to specify the precision. If you wish to review your current use, check the release note link for additional information.\n",
      "Deprecated in NumPy 1.20; for more details and guidance: https://numpy.org/devdocs/release/1.20.0-notes.html#deprecations\n",
      "  bucket_pos = np.where(abs_pos <= mid, relative_pos, log_pos * sign).astype(np.int)\n"
     ]
    },
    {
     "name": "stdout",
     "output_type": "stream",
     "text": [
      "Example 0:  the hotel location was excellent with car \u001b[32m<parking:Positive(confidence:0.809, ref:Positive)>\u001b[0m and the room was very spacious and all the hotel staffs were very cooperative and had a comfortable stayreally enjoyed andit's value for money will highly recommend \n"
     ]
    },
    {
     "name": "stderr",
     "output_type": "stream",
     "text": [
      "C:\\Users\\mosha\\anaconda3\\lib\\site-packages\\transformers\\models\\deberta_v2\\modeling_deberta_v2.py:539: DeprecationWarning: `np.int` is a deprecated alias for the builtin `int`. To silence this warning, use `int` by itself. Doing this will not modify any behavior and is safe. When replacing `np.int`, you may wish to use e.g. `np.int64` or `np.int32` to specify the precision. If you wish to review your current use, check the release note link for additional information.\n",
      "Deprecated in NumPy 1.20; for more details and guidance: https://numpy.org/devdocs/release/1.20.0-notes.html#deprecations\n",
      "  bucket_pos = np.where(abs_pos <= mid, relative_pos, log_pos * sign).astype(np.int)\n"
     ]
    },
    {
     "name": "stdout",
     "output_type": "stream",
     "text": [
      "Example 0:  the hotel location was excellent with car parking and the \u001b[32m<room:Positive(confidence:0.785, ref:Positive)>\u001b[0m was very spacious and all the hotel staffs were very cooperative and had a comfortable stayreally enjoyed andit's value for money will highly recommend \n"
     ]
    },
    {
     "name": "stderr",
     "output_type": "stream",
     "text": [
      "C:\\Users\\mosha\\anaconda3\\lib\\site-packages\\transformers\\models\\deberta_v2\\modeling_deberta_v2.py:539: DeprecationWarning: `np.int` is a deprecated alias for the builtin `int`. To silence this warning, use `int` by itself. Doing this will not modify any behavior and is safe. When replacing `np.int`, you may wish to use e.g. `np.int64` or `np.int32` to specify the precision. If you wish to review your current use, check the release note link for additional information.\n",
      "Deprecated in NumPy 1.20; for more details and guidance: https://numpy.org/devdocs/release/1.20.0-notes.html#deprecations\n",
      "  bucket_pos = np.where(abs_pos <= mid, relative_pos, log_pos * sign).astype(np.int)\n"
     ]
    },
    {
     "name": "stdout",
     "output_type": "stream",
     "text": [
      "Example 0:  the hotel location was excellent with car parking and the room was very spacious and all the hotel \u001b[32m<staffs:Positive(confidence:0.898, ref:Positive)>\u001b[0m were very cooperative and had a comfortable stayreally enjoyed andit's value for money will highly recommend \n"
     ]
    },
    {
     "name": "stderr",
     "output_type": "stream",
     "text": [
      "C:\\Users\\mosha\\anaconda3\\lib\\site-packages\\transformers\\models\\deberta_v2\\modeling_deberta_v2.py:539: DeprecationWarning: `np.int` is a deprecated alias for the builtin `int`. To silence this warning, use `int` by itself. Doing this will not modify any behavior and is safe. When replacing `np.int`, you may wish to use e.g. `np.int64` or `np.int32` to specify the precision. If you wish to review your current use, check the release note link for additional information.\n",
      "Deprecated in NumPy 1.20; for more details and guidance: https://numpy.org/devdocs/release/1.20.0-notes.html#deprecations\n",
      "  bucket_pos = np.where(abs_pos <= mid, relative_pos, log_pos * sign).astype(np.int)\n"
     ]
    },
    {
     "name": "stdout",
     "output_type": "stream",
     "text": [
      "Example 0:  the hotel location was excellent with car parking and the room was very spacious and all the hotel staffs were very cooperative and had a comfortable stayreally enjoyed andit's \u001b[32m<value:Positive(confidence:0.838, ref:Positive)>\u001b[0m for money will highly recommend \n"
     ]
    },
    {
     "name": "stderr",
     "output_type": "stream",
     "text": [
      "C:\\Users\\mosha\\anaconda3\\lib\\site-packages\\transformers\\models\\deberta_v2\\modeling_deberta_v2.py:539: DeprecationWarning: `np.int` is a deprecated alias for the builtin `int`. To silence this warning, use `int` by itself. Doing this will not modify any behavior and is safe. When replacing `np.int`, you may wish to use e.g. `np.int64` or `np.int32` to specify the precision. If you wish to review your current use, check the release note link for additional information.\n",
      "Deprecated in NumPy 1.20; for more details and guidance: https://numpy.org/devdocs/release/1.20.0-notes.html#deprecations\n",
      "  bucket_pos = np.where(abs_pos <= mid, relative_pos, log_pos * sign).astype(np.int)\n"
     ]
    },
    {
     "name": "stdout",
     "output_type": "stream",
     "text": [
      "Example 0:  \u001b[32m<location:Positive(confidence:0.973, ref:Positive)>\u001b[0m very good, safe for family, rooms are large, prices are good, resturants are near by \n"
     ]
    },
    {
     "name": "stderr",
     "output_type": "stream",
     "text": [
      "C:\\Users\\mosha\\anaconda3\\lib\\site-packages\\transformers\\models\\deberta_v2\\modeling_deberta_v2.py:539: DeprecationWarning: `np.int` is a deprecated alias for the builtin `int`. To silence this warning, use `int` by itself. Doing this will not modify any behavior and is safe. When replacing `np.int`, you may wish to use e.g. `np.int64` or `np.int32` to specify the precision. If you wish to review your current use, check the release note link for additional information.\n",
      "Deprecated in NumPy 1.20; for more details and guidance: https://numpy.org/devdocs/release/1.20.0-notes.html#deprecations\n",
      "  bucket_pos = np.where(abs_pos <= mid, relative_pos, log_pos * sign).astype(np.int)\n"
     ]
    },
    {
     "name": "stdout",
     "output_type": "stream",
     "text": [
      "Example 0:  location very good, \u001b[32m<safe:Positive(confidence:0.804, ref:Positive)>\u001b[0m for family, rooms are large, prices are good, resturants are near by \n"
     ]
    },
    {
     "name": "stderr",
     "output_type": "stream",
     "text": [
      "C:\\Users\\mosha\\anaconda3\\lib\\site-packages\\transformers\\models\\deberta_v2\\modeling_deberta_v2.py:539: DeprecationWarning: `np.int` is a deprecated alias for the builtin `int`. To silence this warning, use `int` by itself. Doing this will not modify any behavior and is safe. When replacing `np.int`, you may wish to use e.g. `np.int64` or `np.int32` to specify the precision. If you wish to review your current use, check the release note link for additional information.\n",
      "Deprecated in NumPy 1.20; for more details and guidance: https://numpy.org/devdocs/release/1.20.0-notes.html#deprecations\n",
      "  bucket_pos = np.where(abs_pos <= mid, relative_pos, log_pos * sign).astype(np.int)\n"
     ]
    },
    {
     "name": "stdout",
     "output_type": "stream",
     "text": [
      "Example 0:  location very good, safe for family, \u001b[32m<rooms:Positive(confidence:0.88, ref:Positive)>\u001b[0m are large, prices are good, resturants are near by \n"
     ]
    },
    {
     "name": "stderr",
     "output_type": "stream",
     "text": [
      "C:\\Users\\mosha\\anaconda3\\lib\\site-packages\\transformers\\models\\deberta_v2\\modeling_deberta_v2.py:539: DeprecationWarning: `np.int` is a deprecated alias for the builtin `int`. To silence this warning, use `int` by itself. Doing this will not modify any behavior and is safe. When replacing `np.int`, you may wish to use e.g. `np.int64` or `np.int32` to specify the precision. If you wish to review your current use, check the release note link for additional information.\n",
      "Deprecated in NumPy 1.20; for more details and guidance: https://numpy.org/devdocs/release/1.20.0-notes.html#deprecations\n",
      "  bucket_pos = np.where(abs_pos <= mid, relative_pos, log_pos * sign).astype(np.int)\n"
     ]
    },
    {
     "name": "stdout",
     "output_type": "stream",
     "text": [
      "Example 0:  location very good, safe for family, rooms are large, \u001b[32m<prices:Positive(confidence:0.806, ref:Positive)>\u001b[0m are good, resturants are near by \n"
     ]
    },
    {
     "name": "stderr",
     "output_type": "stream",
     "text": [
      "C:\\Users\\mosha\\anaconda3\\lib\\site-packages\\transformers\\models\\deberta_v2\\modeling_deberta_v2.py:539: DeprecationWarning: `np.int` is a deprecated alias for the builtin `int`. To silence this warning, use `int` by itself. Doing this will not modify any behavior and is safe. When replacing `np.int`, you may wish to use e.g. `np.int64` or `np.int32` to specify the precision. If you wish to review your current use, check the release note link for additional information.\n",
      "Deprecated in NumPy 1.20; for more details and guidance: https://numpy.org/devdocs/release/1.20.0-notes.html#deprecations\n",
      "  bucket_pos = np.where(abs_pos <= mid, relative_pos, log_pos * sign).astype(np.int)\n"
     ]
    },
    {
     "name": "stdout",
     "output_type": "stream",
     "text": [
      "Example 0:  \u001b[32m<parking:Negative(confidence:0.915, ref:Negative)>\u001b[0m lot notsufficient, should provide more for the guests and not providing glass or papercup, also no tea or coffe inside the room \n"
     ]
    },
    {
     "name": "stderr",
     "output_type": "stream",
     "text": [
      "C:\\Users\\mosha\\anaconda3\\lib\\site-packages\\transformers\\models\\deberta_v2\\modeling_deberta_v2.py:539: DeprecationWarning: `np.int` is a deprecated alias for the builtin `int`. To silence this warning, use `int` by itself. Doing this will not modify any behavior and is safe. When replacing `np.int`, you may wish to use e.g. `np.int64` or `np.int32` to specify the precision. If you wish to review your current use, check the release note link for additional information.\n",
      "Deprecated in NumPy 1.20; for more details and guidance: https://numpy.org/devdocs/release/1.20.0-notes.html#deprecations\n",
      "  bucket_pos = np.where(abs_pos <= mid, relative_pos, log_pos * sign).astype(np.int)\n"
     ]
    },
    {
     "name": "stdout",
     "output_type": "stream",
     "text": [
      "Example 0:  parking lot notsufficient, should provide more for the guests and not providing glass or papercup, also no \u001b[32m<tea:Negative(confidence:0.934, ref:Negative)>\u001b[0m or coffe inside the room \n"
     ]
    },
    {
     "name": "stderr",
     "output_type": "stream",
     "text": [
      "C:\\Users\\mosha\\anaconda3\\lib\\site-packages\\transformers\\models\\deberta_v2\\modeling_deberta_v2.py:539: DeprecationWarning: `np.int` is a deprecated alias for the builtin `int`. To silence this warning, use `int` by itself. Doing this will not modify any behavior and is safe. When replacing `np.int`, you may wish to use e.g. `np.int64` or `np.int32` to specify the precision. If you wish to review your current use, check the release note link for additional information.\n",
      "Deprecated in NumPy 1.20; for more details and guidance: https://numpy.org/devdocs/release/1.20.0-notes.html#deprecations\n",
      "  bucket_pos = np.where(abs_pos <= mid, relative_pos, log_pos * sign).astype(np.int)\n"
     ]
    },
    {
     "name": "stdout",
     "output_type": "stream",
     "text": [
      "Example 0:  parking lot notsufficient, should provide more for the guests and not providing glass or papercup, also no tea or \u001b[32m<coffe:Negative(confidence:0.912, ref:Negative)>\u001b[0m inside the room \n"
     ]
    },
    {
     "name": "stderr",
     "output_type": "stream",
     "text": [
      "C:\\Users\\mosha\\anaconda3\\lib\\site-packages\\transformers\\models\\deberta_v2\\modeling_deberta_v2.py:539: DeprecationWarning: `np.int` is a deprecated alias for the builtin `int`. To silence this warning, use `int` by itself. Doing this will not modify any behavior and is safe. When replacing `np.int`, you may wish to use e.g. `np.int64` or `np.int32` to specify the precision. If you wish to review your current use, check the release note link for additional information.\n",
      "Deprecated in NumPy 1.20; for more details and guidance: https://numpy.org/devdocs/release/1.20.0-notes.html#deprecations\n",
      "  bucket_pos = np.where(abs_pos <= mid, relative_pos, log_pos * sign).astype(np.int)\n"
     ]
    },
    {
     "name": "stdout",
     "output_type": "stream",
     "text": [
      "Example 0:  \u001b[31m<cleanliness:Positive(confidence:0.93, ref:Negative)>\u001b[0m lacking, furniture dusty toilet amenities were unsatisfactory carpet were not clean properly \n"
     ]
    },
    {
     "name": "stderr",
     "output_type": "stream",
     "text": [
      "C:\\Users\\mosha\\anaconda3\\lib\\site-packages\\transformers\\models\\deberta_v2\\modeling_deberta_v2.py:539: DeprecationWarning: `np.int` is a deprecated alias for the builtin `int`. To silence this warning, use `int` by itself. Doing this will not modify any behavior and is safe. When replacing `np.int`, you may wish to use e.g. `np.int64` or `np.int32` to specify the precision. If you wish to review your current use, check the release note link for additional information.\n",
      "Deprecated in NumPy 1.20; for more details and guidance: https://numpy.org/devdocs/release/1.20.0-notes.html#deprecations\n",
      "  bucket_pos = np.where(abs_pos <= mid, relative_pos, log_pos * sign).astype(np.int)\n"
     ]
    },
    {
     "name": "stdout",
     "output_type": "stream",
     "text": [
      "Example 0:  cleanlinesslacking, \u001b[32m<furniture:Negative(confidence:0.569, ref:Negative)>\u001b[0m dusty toilet amenities were unsatisfactory carpet were not clean properly \n"
     ]
    },
    {
     "name": "stderr",
     "output_type": "stream",
     "text": [
      "C:\\Users\\mosha\\anaconda3\\lib\\site-packages\\transformers\\models\\deberta_v2\\modeling_deberta_v2.py:539: DeprecationWarning: `np.int` is a deprecated alias for the builtin `int`. To silence this warning, use `int` by itself. Doing this will not modify any behavior and is safe. When replacing `np.int`, you may wish to use e.g. `np.int64` or `np.int32` to specify the precision. If you wish to review your current use, check the release note link for additional information.\n",
      "Deprecated in NumPy 1.20; for more details and guidance: https://numpy.org/devdocs/release/1.20.0-notes.html#deprecations\n",
      "  bucket_pos = np.where(abs_pos <= mid, relative_pos, log_pos * sign).astype(np.int)\n"
     ]
    },
    {
     "name": "stdout",
     "output_type": "stream",
     "text": [
      "Example 0:  cleanlinesslacking, furniture dusty \u001b[31m<toilet amenities:Positive(confidence:0.565, ref:Negative)>\u001b[0m were unsatisfactory carpet were not clean properly \n"
     ]
    },
    {
     "name": "stderr",
     "output_type": "stream",
     "text": [
      "C:\\Users\\mosha\\anaconda3\\lib\\site-packages\\transformers\\models\\deberta_v2\\modeling_deberta_v2.py:539: DeprecationWarning: `np.int` is a deprecated alias for the builtin `int`. To silence this warning, use `int` by itself. Doing this will not modify any behavior and is safe. When replacing `np.int`, you may wish to use e.g. `np.int64` or `np.int32` to specify the precision. If you wish to review your current use, check the release note link for additional information.\n",
      "Deprecated in NumPy 1.20; for more details and guidance: https://numpy.org/devdocs/release/1.20.0-notes.html#deprecations\n",
      "  bucket_pos = np.where(abs_pos <= mid, relative_pos, log_pos * sign).astype(np.int)\n"
     ]
    },
    {
     "name": "stdout",
     "output_type": "stream",
     "text": [
      "Example 0:  cleanlinesslacking, furniture dusty toilet amenities were unsatisfactory \u001b[31m<carpet:Positive(confidence:0.589, ref:Negative)>\u001b[0m were not clean properly \n"
     ]
    },
    {
     "name": "stderr",
     "output_type": "stream",
     "text": [
      "C:\\Users\\mosha\\anaconda3\\lib\\site-packages\\transformers\\models\\deberta_v2\\modeling_deberta_v2.py:539: DeprecationWarning: `np.int` is a deprecated alias for the builtin `int`. To silence this warning, use `int` by itself. Doing this will not modify any behavior and is safe. When replacing `np.int`, you may wish to use e.g. `np.int64` or `np.int32` to specify the precision. If you wish to review your current use, check the release note link for additional information.\n",
      "Deprecated in NumPy 1.20; for more details and guidance: https://numpy.org/devdocs/release/1.20.0-notes.html#deprecations\n",
      "  bucket_pos = np.where(abs_pos <= mid, relative_pos, log_pos * sign).astype(np.int)\n"
     ]
    },
    {
     "name": "stdout",
     "output_type": "stream",
     "text": [
      "Example 0:  the \u001b[32m<staff:Negative(confidence:0.901, ref:Negative)>\u001b[0m housekeeping parking swimming not allowed for kids high noise music in the lobby not comfortable for family at all \n"
     ]
    },
    {
     "name": "stderr",
     "output_type": "stream",
     "text": [
      "C:\\Users\\mosha\\anaconda3\\lib\\site-packages\\transformers\\models\\deberta_v2\\modeling_deberta_v2.py:539: DeprecationWarning: `np.int` is a deprecated alias for the builtin `int`. To silence this warning, use `int` by itself. Doing this will not modify any behavior and is safe. When replacing `np.int`, you may wish to use e.g. `np.int64` or `np.int32` to specify the precision. If you wish to review your current use, check the release note link for additional information.\n",
      "Deprecated in NumPy 1.20; for more details and guidance: https://numpy.org/devdocs/release/1.20.0-notes.html#deprecations\n",
      "  bucket_pos = np.where(abs_pos <= mid, relative_pos, log_pos * sign).astype(np.int)\n"
     ]
    },
    {
     "name": "stdout",
     "output_type": "stream",
     "text": [
      "Example 0:  the staff housekeeping \u001b[32m<parking:Negative(confidence:0.928, ref:Negative)>\u001b[0m swimming not allowed for kids high noise music in the lobby not comfortable for family at all \n"
     ]
    },
    {
     "name": "stderr",
     "output_type": "stream",
     "text": [
      "C:\\Users\\mosha\\anaconda3\\lib\\site-packages\\transformers\\models\\deberta_v2\\modeling_deberta_v2.py:539: DeprecationWarning: `np.int` is a deprecated alias for the builtin `int`. To silence this warning, use `int` by itself. Doing this will not modify any behavior and is safe. When replacing `np.int`, you may wish to use e.g. `np.int64` or `np.int32` to specify the precision. If you wish to review your current use, check the release note link for additional information.\n",
      "Deprecated in NumPy 1.20; for more details and guidance: https://numpy.org/devdocs/release/1.20.0-notes.html#deprecations\n",
      "  bucket_pos = np.where(abs_pos <= mid, relative_pos, log_pos * sign).astype(np.int)\n"
     ]
    },
    {
     "name": "stdout",
     "output_type": "stream",
     "text": [
      "Example 0:  the staff housekeeping parking \u001b[32m<swimming:Negative(confidence:0.939, ref:Negative)>\u001b[0m not allowed for kids high noise music in the lobby not comfortable for family at all \n"
     ]
    },
    {
     "name": "stderr",
     "output_type": "stream",
     "text": [
      "C:\\Users\\mosha\\anaconda3\\lib\\site-packages\\transformers\\models\\deberta_v2\\modeling_deberta_v2.py:539: DeprecationWarning: `np.int` is a deprecated alias for the builtin `int`. To silence this warning, use `int` by itself. Doing this will not modify any behavior and is safe. When replacing `np.int`, you may wish to use e.g. `np.int64` or `np.int32` to specify the precision. If you wish to review your current use, check the release note link for additional information.\n",
      "Deprecated in NumPy 1.20; for more details and guidance: https://numpy.org/devdocs/release/1.20.0-notes.html#deprecations\n",
      "  bucket_pos = np.where(abs_pos <= mid, relative_pos, log_pos * sign).astype(np.int)\n"
     ]
    },
    {
     "name": "stdout",
     "output_type": "stream",
     "text": [
      "Example 0:  the staff housekeeping parking swimming not allowed for kids high noise music in the \u001b[32m<lobby:Negative(confidence:0.933, ref:Negative)>\u001b[0m not comfortable for family at all \n"
     ]
    },
    {
     "name": "stderr",
     "output_type": "stream",
     "text": [
      "C:\\Users\\mosha\\anaconda3\\lib\\site-packages\\transformers\\models\\deberta_v2\\modeling_deberta_v2.py:539: DeprecationWarning: `np.int` is a deprecated alias for the builtin `int`. To silence this warning, use `int` by itself. Doing this will not modify any behavior and is safe. When replacing `np.int`, you may wish to use e.g. `np.int64` or `np.int32` to specify the precision. If you wish to review your current use, check the release note link for additional information.\n",
      "Deprecated in NumPy 1.20; for more details and guidance: https://numpy.org/devdocs/release/1.20.0-notes.html#deprecations\n",
      "  bucket_pos = np.where(abs_pos <= mid, relative_pos, log_pos * sign).astype(np.int)\n"
     ]
    },
    {
     "name": "stdout",
     "output_type": "stream",
     "text": [
      "Example 0:  \u001b[32m<staff:Positive(confidence:0.884, ref:Positive)>\u001b[0m very pleasant and attentive to our needs \n"
     ]
    },
    {
     "name": "stderr",
     "output_type": "stream",
     "text": [
      "C:\\Users\\mosha\\anaconda3\\lib\\site-packages\\transformers\\models\\deberta_v2\\modeling_deberta_v2.py:539: DeprecationWarning: `np.int` is a deprecated alias for the builtin `int`. To silence this warning, use `int` by itself. Doing this will not modify any behavior and is safe. When replacing `np.int`, you may wish to use e.g. `np.int64` or `np.int32` to specify the precision. If you wish to review your current use, check the release note link for additional information.\n",
      "Deprecated in NumPy 1.20; for more details and guidance: https://numpy.org/devdocs/release/1.20.0-notes.html#deprecations\n",
      "  bucket_pos = np.where(abs_pos <= mid, relative_pos, log_pos * sign).astype(np.int)\n"
     ]
    },
    {
     "name": "stdout",
     "output_type": "stream",
     "text": [
      "Example 0:  the \u001b[32m<quality:Positive(confidence:0.966, ref:Positive)>\u001b[0m check after the guest during stay and after checkout very polite and proffiaional lady \n"
     ]
    },
    {
     "name": "stderr",
     "output_type": "stream",
     "text": [
      "C:\\Users\\mosha\\anaconda3\\lib\\site-packages\\transformers\\models\\deberta_v2\\modeling_deberta_v2.py:539: DeprecationWarning: `np.int` is a deprecated alias for the builtin `int`. To silence this warning, use `int` by itself. Doing this will not modify any behavior and is safe. When replacing `np.int`, you may wish to use e.g. `np.int64` or `np.int32` to specify the precision. If you wish to review your current use, check the release note link for additional information.\n",
      "Deprecated in NumPy 1.20; for more details and guidance: https://numpy.org/devdocs/release/1.20.0-notes.html#deprecations\n",
      "  bucket_pos = np.where(abs_pos <= mid, relative_pos, log_pos * sign).astype(np.int)\n"
     ]
    },
    {
     "name": "stdout",
     "output_type": "stream",
     "text": [
      "Example 0:  the quality check after the guest during stay and after \u001b[32m<checkout:Positive(confidence:0.922, ref:Positive)>\u001b[0m very polite and proffiaional lady \n"
     ]
    },
    {
     "name": "stderr",
     "output_type": "stream",
     "text": [
      "C:\\Users\\mosha\\anaconda3\\lib\\site-packages\\transformers\\models\\deberta_v2\\modeling_deberta_v2.py:539: DeprecationWarning: `np.int` is a deprecated alias for the builtin `int`. To silence this warning, use `int` by itself. Doing this will not modify any behavior and is safe. When replacing `np.int`, you may wish to use e.g. `np.int64` or `np.int32` to specify the precision. If you wish to review your current use, check the release note link for additional information.\n",
      "Deprecated in NumPy 1.20; for more details and guidance: https://numpy.org/devdocs/release/1.20.0-notes.html#deprecations\n",
      "  bucket_pos = np.where(abs_pos <= mid, relative_pos, log_pos * sign).astype(np.int)\n"
     ]
    },
    {
     "name": "stdout",
     "output_type": "stream",
     "text": [
      "Example 0:  the suit was veryspacious, \u001b[32m<clean:Positive(confidence:0.979, ref:Positive)>\u001b[0m and all necessities were available \n"
     ]
    },
    {
     "name": "stderr",
     "output_type": "stream",
     "text": [
      "C:\\Users\\mosha\\anaconda3\\lib\\site-packages\\transformers\\models\\deberta_v2\\modeling_deberta_v2.py:539: DeprecationWarning: `np.int` is a deprecated alias for the builtin `int`. To silence this warning, use `int` by itself. Doing this will not modify any behavior and is safe. When replacing `np.int`, you may wish to use e.g. `np.int64` or `np.int32` to specify the precision. If you wish to review your current use, check the release note link for additional information.\n",
      "Deprecated in NumPy 1.20; for more details and guidance: https://numpy.org/devdocs/release/1.20.0-notes.html#deprecations\n",
      "  bucket_pos = np.where(abs_pos <= mid, relative_pos, log_pos * sign).astype(np.int)\n"
     ]
    },
    {
     "name": "stdout",
     "output_type": "stream",
     "text": [
      "Example 0:  the suit was veryspacious, clean and all \u001b[32m<necessities:Positive(confidence:0.879, ref:Positive)>\u001b[0m were available \n"
     ]
    },
    {
     "name": "stderr",
     "output_type": "stream",
     "text": [
      "C:\\Users\\mosha\\anaconda3\\lib\\site-packages\\transformers\\models\\deberta_v2\\modeling_deberta_v2.py:539: DeprecationWarning: `np.int` is a deprecated alias for the builtin `int`. To silence this warning, use `int` by itself. Doing this will not modify any behavior and is safe. When replacing `np.int`, you may wish to use e.g. `np.int64` or `np.int32` to specify the precision. If you wish to review your current use, check the release note link for additional information.\n",
      "Deprecated in NumPy 1.20; for more details and guidance: https://numpy.org/devdocs/release/1.20.0-notes.html#deprecations\n",
      "  bucket_pos = np.where(abs_pos <= mid, relative_pos, log_pos * sign).astype(np.int)\n"
     ]
    },
    {
     "name": "stdout",
     "output_type": "stream",
     "text": [
      "Example 0:  should provide masks and hand sanitizer for everyroom, iftar needs to be arranged properly to handle \u001b[32m<crowdedness:Negative(confidence:0.813, ref:Negative)>\u001b[0m  \n"
     ]
    },
    {
     "name": "stderr",
     "output_type": "stream",
     "text": [
      "C:\\Users\\mosha\\anaconda3\\lib\\site-packages\\transformers\\models\\deberta_v2\\modeling_deberta_v2.py:539: DeprecationWarning: `np.int` is a deprecated alias for the builtin `int`. To silence this warning, use `int` by itself. Doing this will not modify any behavior and is safe. When replacing `np.int`, you may wish to use e.g. `np.int64` or `np.int32` to specify the precision. If you wish to review your current use, check the release note link for additional information.\n",
      "Deprecated in NumPy 1.20; for more details and guidance: https://numpy.org/devdocs/release/1.20.0-notes.html#deprecations\n",
      "  bucket_pos = np.where(abs_pos <= mid, relative_pos, log_pos * sign).astype(np.int)\n"
     ]
    },
    {
     "name": "stdout",
     "output_type": "stream",
     "text": [
      "Example 0:  not enough \u001b[32m<elevators:Negative(confidence:0.92, ref:Negative)>\u001b[0m only have 5 active \u001b[32m<elevators:Negative(confidence:0.92, ref:Negative)>\u001b[0m for the entire building had to wait more than 20 mins to get an elevator every time i do not recommend the hotel to anyone who cannot take stairs \n"
     ]
    },
    {
     "name": "stderr",
     "output_type": "stream",
     "text": [
      "C:\\Users\\mosha\\anaconda3\\lib\\site-packages\\transformers\\models\\deberta_v2\\modeling_deberta_v2.py:539: DeprecationWarning: `np.int` is a deprecated alias for the builtin `int`. To silence this warning, use `int` by itself. Doing this will not modify any behavior and is safe. When replacing `np.int`, you may wish to use e.g. `np.int64` or `np.int32` to specify the precision. If you wish to review your current use, check the release note link for additional information.\n",
      "Deprecated in NumPy 1.20; for more details and guidance: https://numpy.org/devdocs/release/1.20.0-notes.html#deprecations\n",
      "  bucket_pos = np.where(abs_pos <= mid, relative_pos, log_pos * sign).astype(np.int)\n"
     ]
    },
    {
     "name": "stdout",
     "output_type": "stream",
     "text": [
      "Example 0:  not enough elevators only have 5 active elevators for the entire building had to wait more than 20 mins to get an elevator every time i do not recommend the \u001b[32m<hotel:Negative(confidence:0.933, ref:Negative)>\u001b[0m to anyone who cannot take stairs \n"
     ]
    },
    {
     "name": "stderr",
     "output_type": "stream",
     "text": [
      "C:\\Users\\mosha\\anaconda3\\lib\\site-packages\\transformers\\models\\deberta_v2\\modeling_deberta_v2.py:539: DeprecationWarning: `np.int` is a deprecated alias for the builtin `int`. To silence this warning, use `int` by itself. Doing this will not modify any behavior and is safe. When replacing `np.int`, you may wish to use e.g. `np.int64` or `np.int32` to specify the precision. If you wish to review your current use, check the release note link for additional information.\n",
      "Deprecated in NumPy 1.20; for more details and guidance: https://numpy.org/devdocs/release/1.20.0-notes.html#deprecations\n",
      "  bucket_pos = np.where(abs_pos <= mid, relative_pos, log_pos * sign).astype(np.int)\n"
     ]
    },
    {
     "name": "stdout",
     "output_type": "stream",
     "text": [
      "Example 0:  the \u001b[31m<food:Positive(confidence:0.866, ref:Negative)>\u001b[0m was very expensive a little sandwich from the cafeteria has the price of a fullmeal! \n"
     ]
    },
    {
     "name": "stderr",
     "output_type": "stream",
     "text": [
      "C:\\Users\\mosha\\anaconda3\\lib\\site-packages\\transformers\\models\\deberta_v2\\modeling_deberta_v2.py:539: DeprecationWarning: `np.int` is a deprecated alias for the builtin `int`. To silence this warning, use `int` by itself. Doing this will not modify any behavior and is safe. When replacing `np.int`, you may wish to use e.g. `np.int64` or `np.int32` to specify the precision. If you wish to review your current use, check the release note link for additional information.\n",
      "Deprecated in NumPy 1.20; for more details and guidance: https://numpy.org/devdocs/release/1.20.0-notes.html#deprecations\n",
      "  bucket_pos = np.where(abs_pos <= mid, relative_pos, log_pos * sign).astype(np.int)\n"
     ]
    },
    {
     "name": "stdout",
     "output_type": "stream",
     "text": [
      "Example 0:  the food was very expensive a little sandwich from the cafeteria has the \u001b[31m<price:Positive(confidence:0.929, ref:Negative)>\u001b[0m of a fullmeal! \n"
     ]
    },
    {
     "name": "stderr",
     "output_type": "stream",
     "text": [
      "C:\\Users\\mosha\\anaconda3\\lib\\site-packages\\transformers\\models\\deberta_v2\\modeling_deberta_v2.py:539: DeprecationWarning: `np.int` is a deprecated alias for the builtin `int`. To silence this warning, use `int` by itself. Doing this will not modify any behavior and is safe. When replacing `np.int`, you may wish to use e.g. `np.int64` or `np.int32` to specify the precision. If you wish to review your current use, check the release note link for additional information.\n",
      "Deprecated in NumPy 1.20; for more details and guidance: https://numpy.org/devdocs/release/1.20.0-notes.html#deprecations\n",
      "  bucket_pos = np.where(abs_pos <= mid, relative_pos, log_pos * sign).astype(np.int)\n"
     ]
    },
    {
     "name": "stdout",
     "output_type": "stream",
     "text": [
      "Example 0:  the \u001b[32m<breakfast:Positive(confidence:0.928, ref:Positive)>\u001b[0m wasgood, we loved that they switched it up a bit every day the room we eventually got was great because of the view and it was bigger and cleaner than where we were the staff was very friendly and helpful \n"
     ]
    },
    {
     "name": "stderr",
     "output_type": "stream",
     "text": [
      "C:\\Users\\mosha\\anaconda3\\lib\\site-packages\\transformers\\models\\deberta_v2\\modeling_deberta_v2.py:539: DeprecationWarning: `np.int` is a deprecated alias for the builtin `int`. To silence this warning, use `int` by itself. Doing this will not modify any behavior and is safe. When replacing `np.int`, you may wish to use e.g. `np.int64` or `np.int32` to specify the precision. If you wish to review your current use, check the release note link for additional information.\n",
      "Deprecated in NumPy 1.20; for more details and guidance: https://numpy.org/devdocs/release/1.20.0-notes.html#deprecations\n",
      "  bucket_pos = np.where(abs_pos <= mid, relative_pos, log_pos * sign).astype(np.int)\n"
     ]
    },
    {
     "name": "stdout",
     "output_type": "stream",
     "text": [
      "Example 0:  the breakfast wasgood, we loved that they switched it up a bit every day the \u001b[32m<room:Positive(confidence:0.945, ref:Positive)>\u001b[0m we eventually got was great because of the view and it was bigger and cleaner than where we were the staff was very friendly and helpful \n"
     ]
    },
    {
     "name": "stderr",
     "output_type": "stream",
     "text": [
      "C:\\Users\\mosha\\anaconda3\\lib\\site-packages\\transformers\\models\\deberta_v2\\modeling_deberta_v2.py:539: DeprecationWarning: `np.int` is a deprecated alias for the builtin `int`. To silence this warning, use `int` by itself. Doing this will not modify any behavior and is safe. When replacing `np.int`, you may wish to use e.g. `np.int64` or `np.int32` to specify the precision. If you wish to review your current use, check the release note link for additional information.\n",
      "Deprecated in NumPy 1.20; for more details and guidance: https://numpy.org/devdocs/release/1.20.0-notes.html#deprecations\n",
      "  bucket_pos = np.where(abs_pos <= mid, relative_pos, log_pos * sign).astype(np.int)\n"
     ]
    },
    {
     "name": "stdout",
     "output_type": "stream",
     "text": [
      "Example 0:  the breakfast wasgood, we loved that they switched it up a bit every day the room we eventually got was great because of the \u001b[32m<view:Positive(confidence:0.921, ref:Positive)>\u001b[0m and it was bigger and cleaner than where we were the staff was very friendly and helpful \n"
     ]
    },
    {
     "name": "stderr",
     "output_type": "stream",
     "text": [
      "C:\\Users\\mosha\\anaconda3\\lib\\site-packages\\transformers\\models\\deberta_v2\\modeling_deberta_v2.py:539: DeprecationWarning: `np.int` is a deprecated alias for the builtin `int`. To silence this warning, use `int` by itself. Doing this will not modify any behavior and is safe. When replacing `np.int`, you may wish to use e.g. `np.int64` or `np.int32` to specify the precision. If you wish to review your current use, check the release note link for additional information.\n",
      "Deprecated in NumPy 1.20; for more details and guidance: https://numpy.org/devdocs/release/1.20.0-notes.html#deprecations\n",
      "  bucket_pos = np.where(abs_pos <= mid, relative_pos, log_pos * sign).astype(np.int)\n"
     ]
    },
    {
     "name": "stdout",
     "output_type": "stream",
     "text": [
      "Example 0:  the breakfast wasgood, we loved that they switched it up a bit every day the room we eventually got was great because of the view and it was \u001b[32m<bigger:Positive(confidence:0.959, ref:Positive)>\u001b[0m and cleaner than where we were the staff was very friendly and helpful \n"
     ]
    },
    {
     "name": "stderr",
     "output_type": "stream",
     "text": [
      "C:\\Users\\mosha\\anaconda3\\lib\\site-packages\\transformers\\models\\deberta_v2\\modeling_deberta_v2.py:539: DeprecationWarning: `np.int` is a deprecated alias for the builtin `int`. To silence this warning, use `int` by itself. Doing this will not modify any behavior and is safe. When replacing `np.int`, you may wish to use e.g. `np.int64` or `np.int32` to specify the precision. If you wish to review your current use, check the release note link for additional information.\n",
      "Deprecated in NumPy 1.20; for more details and guidance: https://numpy.org/devdocs/release/1.20.0-notes.html#deprecations\n",
      "  bucket_pos = np.where(abs_pos <= mid, relative_pos, log_pos * sign).astype(np.int)\n"
     ]
    },
    {
     "name": "stdout",
     "output_type": "stream",
     "text": [
      "Example 0:  the breakfast wasgood, we loved that they switched it up a bit every day the room we eventually got was great because of the view and it was bigger and \u001b[32m<cleaner:Positive(confidence:0.949, ref:Positive)>\u001b[0m than where we were the staff was very friendly and helpful \n"
     ]
    },
    {
     "name": "stderr",
     "output_type": "stream",
     "text": [
      "C:\\Users\\mosha\\anaconda3\\lib\\site-packages\\transformers\\models\\deberta_v2\\modeling_deberta_v2.py:539: DeprecationWarning: `np.int` is a deprecated alias for the builtin `int`. To silence this warning, use `int` by itself. Doing this will not modify any behavior and is safe. When replacing `np.int`, you may wish to use e.g. `np.int64` or `np.int32` to specify the precision. If you wish to review your current use, check the release note link for additional information.\n",
      "Deprecated in NumPy 1.20; for more details and guidance: https://numpy.org/devdocs/release/1.20.0-notes.html#deprecations\n",
      "  bucket_pos = np.where(abs_pos <= mid, relative_pos, log_pos * sign).astype(np.int)\n"
     ]
    },
    {
     "name": "stdout",
     "output_type": "stream",
     "text": [
      "Example 0:  the breakfast wasgood, we loved that they switched it up a bit every day the room we eventually got was great because of the view and it was bigger and cleaner than where we were the \u001b[32m<staff:Positive(confidence:0.895, ref:Positive)>\u001b[0m was very friendly and helpful \n"
     ]
    },
    {
     "name": "stderr",
     "output_type": "stream",
     "text": [
      "C:\\Users\\mosha\\anaconda3\\lib\\site-packages\\transformers\\models\\deberta_v2\\modeling_deberta_v2.py:539: DeprecationWarning: `np.int` is a deprecated alias for the builtin `int`. To silence this warning, use `int` by itself. Doing this will not modify any behavior and is safe. When replacing `np.int`, you may wish to use e.g. `np.int64` or `np.int32` to specify the precision. If you wish to review your current use, check the release note link for additional information.\n",
      "Deprecated in NumPy 1.20; for more details and guidance: https://numpy.org/devdocs/release/1.20.0-notes.html#deprecations\n",
      "  bucket_pos = np.where(abs_pos <= mid, relative_pos, log_pos * sign).astype(np.int)\n"
     ]
    },
    {
     "name": "stdout",
     "output_type": "stream",
     "text": [
      "Example 0:  the \u001b[32m<area:Negative(confidence:0.684, ref:Negative)>\u001b[0m and the property from outside is very old and there was a bad smell in the entrance of the building butit's not affecting the stay \n"
     ]
    },
    {
     "name": "stderr",
     "output_type": "stream",
     "text": [
      "C:\\Users\\mosha\\anaconda3\\lib\\site-packages\\transformers\\models\\deberta_v2\\modeling_deberta_v2.py:539: DeprecationWarning: `np.int` is a deprecated alias for the builtin `int`. To silence this warning, use `int` by itself. Doing this will not modify any behavior and is safe. When replacing `np.int`, you may wish to use e.g. `np.int64` or `np.int32` to specify the precision. If you wish to review your current use, check the release note link for additional information.\n",
      "Deprecated in NumPy 1.20; for more details and guidance: https://numpy.org/devdocs/release/1.20.0-notes.html#deprecations\n",
      "  bucket_pos = np.where(abs_pos <= mid, relative_pos, log_pos * sign).astype(np.int)\n"
     ]
    },
    {
     "name": "stdout",
     "output_type": "stream",
     "text": [
      "Example 0:  the area and the \u001b[32m<property:Negative(confidence:0.696, ref:Negative)>\u001b[0m from outside is very old and there was a bad smell in the entrance of the building butit's not affecting the stay \n"
     ]
    },
    {
     "name": "stderr",
     "output_type": "stream",
     "text": [
      "C:\\Users\\mosha\\anaconda3\\lib\\site-packages\\transformers\\models\\deberta_v2\\modeling_deberta_v2.py:539: DeprecationWarning: `np.int` is a deprecated alias for the builtin `int`. To silence this warning, use `int` by itself. Doing this will not modify any behavior and is safe. When replacing `np.int`, you may wish to use e.g. `np.int64` or `np.int32` to specify the precision. If you wish to review your current use, check the release note link for additional information.\n",
      "Deprecated in NumPy 1.20; for more details and guidance: https://numpy.org/devdocs/release/1.20.0-notes.html#deprecations\n",
      "  bucket_pos = np.where(abs_pos <= mid, relative_pos, log_pos * sign).astype(np.int)\n"
     ]
    },
    {
     "name": "stdout",
     "output_type": "stream",
     "text": [
      "Example 0:  the area and the property from outside is very old and there was a bad smell in the \u001b[32m<entrance:Negative(confidence:0.636, ref:Negative)>\u001b[0m of the building butit's not affecting the stay \n"
     ]
    },
    {
     "name": "stderr",
     "output_type": "stream",
     "text": [
      "C:\\Users\\mosha\\anaconda3\\lib\\site-packages\\transformers\\models\\deberta_v2\\modeling_deberta_v2.py:539: DeprecationWarning: `np.int` is a deprecated alias for the builtin `int`. To silence this warning, use `int` by itself. Doing this will not modify any behavior and is safe. When replacing `np.int`, you may wish to use e.g. `np.int64` or `np.int32` to specify the precision. If you wish to review your current use, check the release note link for additional information.\n",
      "Deprecated in NumPy 1.20; for more details and guidance: https://numpy.org/devdocs/release/1.20.0-notes.html#deprecations\n",
      "  bucket_pos = np.where(abs_pos <= mid, relative_pos, log_pos * sign).astype(np.int)\n"
     ]
    },
    {
     "name": "stdout",
     "output_type": "stream",
     "text": [
      "Example 0:  the whole \u001b[31m<hotel:Positive(confidence:0.882, ref:Negative)>\u001b[0m was verysmelly, bed sheets and room was so dusty that all my family start itching as soon we checked in our rooms \n"
     ]
    },
    {
     "name": "stderr",
     "output_type": "stream",
     "text": [
      "C:\\Users\\mosha\\anaconda3\\lib\\site-packages\\transformers\\models\\deberta_v2\\modeling_deberta_v2.py:539: DeprecationWarning: `np.int` is a deprecated alias for the builtin `int`. To silence this warning, use `int` by itself. Doing this will not modify any behavior and is safe. When replacing `np.int`, you may wish to use e.g. `np.int64` or `np.int32` to specify the precision. If you wish to review your current use, check the release note link for additional information.\n",
      "Deprecated in NumPy 1.20; for more details and guidance: https://numpy.org/devdocs/release/1.20.0-notes.html#deprecations\n",
      "  bucket_pos = np.where(abs_pos <= mid, relative_pos, log_pos * sign).astype(np.int)\n"
     ]
    },
    {
     "name": "stdout",
     "output_type": "stream",
     "text": [
      "Example 0:  the whole hotel was verysmelly, \u001b[31m<bed sheets:Positive(confidence:0.882, ref:Negative)>\u001b[0m and room was so dusty that all my family start itching as soon we checked in our rooms \n"
     ]
    },
    {
     "name": "stderr",
     "output_type": "stream",
     "text": [
      "C:\\Users\\mosha\\anaconda3\\lib\\site-packages\\transformers\\models\\deberta_v2\\modeling_deberta_v2.py:539: DeprecationWarning: `np.int` is a deprecated alias for the builtin `int`. To silence this warning, use `int` by itself. Doing this will not modify any behavior and is safe. When replacing `np.int`, you may wish to use e.g. `np.int64` or `np.int32` to specify the precision. If you wish to review your current use, check the release note link for additional information.\n",
      "Deprecated in NumPy 1.20; for more details and guidance: https://numpy.org/devdocs/release/1.20.0-notes.html#deprecations\n",
      "  bucket_pos = np.where(abs_pos <= mid, relative_pos, log_pos * sign).astype(np.int)\n"
     ]
    },
    {
     "name": "stdout",
     "output_type": "stream",
     "text": [
      "Example 0:  the whole hotel was verysmelly, bed sheets and \u001b[31m<room:Positive(confidence:0.86, ref:Negative)>\u001b[0m was so dusty that all my family start itching as soon we checked in our \u001b[31m<room:Positive(confidence:0.86, ref:Negative)>\u001b[0ms \n"
     ]
    },
    {
     "name": "stderr",
     "output_type": "stream",
     "text": [
      "C:\\Users\\mosha\\anaconda3\\lib\\site-packages\\transformers\\models\\deberta_v2\\modeling_deberta_v2.py:539: DeprecationWarning: `np.int` is a deprecated alias for the builtin `int`. To silence this warning, use `int` by itself. Doing this will not modify any behavior and is safe. When replacing `np.int`, you may wish to use e.g. `np.int64` or `np.int32` to specify the precision. If you wish to review your current use, check the release note link for additional information.\n",
      "Deprecated in NumPy 1.20; for more details and guidance: https://numpy.org/devdocs/release/1.20.0-notes.html#deprecations\n",
      "  bucket_pos = np.where(abs_pos <= mid, relative_pos, log_pos * sign).astype(np.int)\n"
     ]
    },
    {
     "name": "stdout",
     "output_type": "stream",
     "text": [
      "Example 0:  proximity to masjid alharam, very convenient for shopping and eating out decent \u001b[32m<breakfast,:Positive(confidence:0.538, ref:Positive)>\u001b[0m and very good and professional staff \n"
     ]
    },
    {
     "name": "stderr",
     "output_type": "stream",
     "text": [
      "C:\\Users\\mosha\\anaconda3\\lib\\site-packages\\transformers\\models\\deberta_v2\\modeling_deberta_v2.py:539: DeprecationWarning: `np.int` is a deprecated alias for the builtin `int`. To silence this warning, use `int` by itself. Doing this will not modify any behavior and is safe. When replacing `np.int`, you may wish to use e.g. `np.int64` or `np.int32` to specify the precision. If you wish to review your current use, check the release note link for additional information.\n",
      "Deprecated in NumPy 1.20; for more details and guidance: https://numpy.org/devdocs/release/1.20.0-notes.html#deprecations\n",
      "  bucket_pos = np.where(abs_pos <= mid, relative_pos, log_pos * sign).astype(np.int)\n"
     ]
    },
    {
     "name": "stdout",
     "output_type": "stream",
     "text": [
      "Example 0:  proximity to masjid alharam, very convenient for shopping and eating out decentbreakfast, and very good and professional \u001b[32m<staff:Positive(confidence:0.798, ref:Positive)>\u001b[0m  \n"
     ]
    },
    {
     "name": "stderr",
     "output_type": "stream",
     "text": [
      "C:\\Users\\mosha\\anaconda3\\lib\\site-packages\\transformers\\models\\deberta_v2\\modeling_deberta_v2.py:539: DeprecationWarning: `np.int` is a deprecated alias for the builtin `int`. To silence this warning, use `int` by itself. Doing this will not modify any behavior and is safe. When replacing `np.int`, you may wish to use e.g. `np.int64` or `np.int32` to specify the precision. If you wish to review your current use, check the release note link for additional information.\n",
      "Deprecated in NumPy 1.20; for more details and guidance: https://numpy.org/devdocs/release/1.20.0-notes.html#deprecations\n",
      "  bucket_pos = np.where(abs_pos <= mid, relative_pos, log_pos * sign).astype(np.int)\n"
     ]
    },
    {
     "name": "stdout",
     "output_type": "stream",
     "text": [
      "Example 0:  old \u001b[32m<furniture:Negative(confidence:0.937, ref:Negative)>\u001b[0m need to be replace one of the bed was broken and they fix it with tape only!! the complimentary water not enough they put only one small water for triple room! no parking available \n"
     ]
    },
    {
     "name": "stderr",
     "output_type": "stream",
     "text": [
      "C:\\Users\\mosha\\anaconda3\\lib\\site-packages\\transformers\\models\\deberta_v2\\modeling_deberta_v2.py:539: DeprecationWarning: `np.int` is a deprecated alias for the builtin `int`. To silence this warning, use `int` by itself. Doing this will not modify any behavior and is safe. When replacing `np.int`, you may wish to use e.g. `np.int64` or `np.int32` to specify the precision. If you wish to review your current use, check the release note link for additional information.\n",
      "Deprecated in NumPy 1.20; for more details and guidance: https://numpy.org/devdocs/release/1.20.0-notes.html#deprecations\n",
      "  bucket_pos = np.where(abs_pos <= mid, relative_pos, log_pos * sign).astype(np.int)\n"
     ]
    },
    {
     "name": "stdout",
     "output_type": "stream",
     "text": [
      "Example 0:  old furniture need to be replace one of the bed was broken and they fix it with tape only!! the complimentary \u001b[32m<water:Negative(confidence:0.966, ref:Negative)>\u001b[0m not enough they put only one small \u001b[32m<water:Negative(confidence:0.966, ref:Negative)>\u001b[0m for triple room! no parking available \n"
     ]
    },
    {
     "name": "stderr",
     "output_type": "stream",
     "text": [
      "C:\\Users\\mosha\\anaconda3\\lib\\site-packages\\transformers\\models\\deberta_v2\\modeling_deberta_v2.py:539: DeprecationWarning: `np.int` is a deprecated alias for the builtin `int`. To silence this warning, use `int` by itself. Doing this will not modify any behavior and is safe. When replacing `np.int`, you may wish to use e.g. `np.int64` or `np.int32` to specify the precision. If you wish to review your current use, check the release note link for additional information.\n",
      "Deprecated in NumPy 1.20; for more details and guidance: https://numpy.org/devdocs/release/1.20.0-notes.html#deprecations\n",
      "  bucket_pos = np.where(abs_pos <= mid, relative_pos, log_pos * sign).astype(np.int)\n"
     ]
    },
    {
     "name": "stdout",
     "output_type": "stream",
     "text": [
      "Example 0:  old furniture need to be replace one of the bed was broken and they fix it with tape only!! the complimentary water not enough they put only one small water for triple room! no \u001b[32m<parking:Negative(confidence:0.967, ref:Negative)>\u001b[0m available \n"
     ]
    },
    {
     "name": "stderr",
     "output_type": "stream",
     "text": [
      "C:\\Users\\mosha\\anaconda3\\lib\\site-packages\\transformers\\models\\deberta_v2\\modeling_deberta_v2.py:539: DeprecationWarning: `np.int` is a deprecated alias for the builtin `int`. To silence this warning, use `int` by itself. Doing this will not modify any behavior and is safe. When replacing `np.int`, you may wish to use e.g. `np.int64` or `np.int32` to specify the precision. If you wish to review your current use, check the release note link for additional information.\n",
      "Deprecated in NumPy 1.20; for more details and guidance: https://numpy.org/devdocs/release/1.20.0-notes.html#deprecations\n",
      "  bucket_pos = np.where(abs_pos <= mid, relative_pos, log_pos * sign).astype(np.int)\n"
     ]
    },
    {
     "name": "stdout",
     "output_type": "stream",
     "text": [
      "Example 0:  \u001b[32m<reception:Positive(confidence:0.773, ref:Positive)>\u001b[0m guy was very friendly and very professional at the sametime, very nice experience which exceeded my expectations \n"
     ]
    },
    {
     "name": "stderr",
     "output_type": "stream",
     "text": [
      "C:\\Users\\mosha\\anaconda3\\lib\\site-packages\\transformers\\models\\deberta_v2\\modeling_deberta_v2.py:539: DeprecationWarning: `np.int` is a deprecated alias for the builtin `int`. To silence this warning, use `int` by itself. Doing this will not modify any behavior and is safe. When replacing `np.int`, you may wish to use e.g. `np.int64` or `np.int32` to specify the precision. If you wish to review your current use, check the release note link for additional information.\n",
      "Deprecated in NumPy 1.20; for more details and guidance: https://numpy.org/devdocs/release/1.20.0-notes.html#deprecations\n",
      "  bucket_pos = np.where(abs_pos <= mid, relative_pos, log_pos * sign).astype(np.int)\n"
     ]
    },
    {
     "name": "stdout",
     "output_type": "stream",
     "text": [
      "Example 0:  clean sterile and comfortable \u001b[32m<rooms:Positive(confidence:0.978, ref:Positive)>\u001b[0m great location near to attractions nice rooftop lounge professional staff \n"
     ]
    },
    {
     "name": "stderr",
     "output_type": "stream",
     "text": [
      "C:\\Users\\mosha\\anaconda3\\lib\\site-packages\\transformers\\models\\deberta_v2\\modeling_deberta_v2.py:539: DeprecationWarning: `np.int` is a deprecated alias for the builtin `int`. To silence this warning, use `int` by itself. Doing this will not modify any behavior and is safe. When replacing `np.int`, you may wish to use e.g. `np.int64` or `np.int32` to specify the precision. If you wish to review your current use, check the release note link for additional information.\n",
      "Deprecated in NumPy 1.20; for more details and guidance: https://numpy.org/devdocs/release/1.20.0-notes.html#deprecations\n",
      "  bucket_pos = np.where(abs_pos <= mid, relative_pos, log_pos * sign).astype(np.int)\n"
     ]
    },
    {
     "name": "stdout",
     "output_type": "stream",
     "text": [
      "Example 0:  clean sterile and comfortable rooms great \u001b[32m<location:Positive(confidence:0.966, ref:Positive)>\u001b[0m near to attractions nice rooftop lounge professional staff \n"
     ]
    },
    {
     "name": "stderr",
     "output_type": "stream",
     "text": [
      "C:\\Users\\mosha\\anaconda3\\lib\\site-packages\\transformers\\models\\deberta_v2\\modeling_deberta_v2.py:539: DeprecationWarning: `np.int` is a deprecated alias for the builtin `int`. To silence this warning, use `int` by itself. Doing this will not modify any behavior and is safe. When replacing `np.int`, you may wish to use e.g. `np.int64` or `np.int32` to specify the precision. If you wish to review your current use, check the release note link for additional information.\n",
      "Deprecated in NumPy 1.20; for more details and guidance: https://numpy.org/devdocs/release/1.20.0-notes.html#deprecations\n",
      "  bucket_pos = np.where(abs_pos <= mid, relative_pos, log_pos * sign).astype(np.int)\n"
     ]
    },
    {
     "name": "stdout",
     "output_type": "stream",
     "text": [
      "Example 0:  clean sterile and comfortable rooms great location near to attractions nice \u001b[32m<rooftop lounge:Positive(confidence:0.895, ref:Positive)>\u001b[0m professional staff \n"
     ]
    },
    {
     "name": "stderr",
     "output_type": "stream",
     "text": [
      "C:\\Users\\mosha\\anaconda3\\lib\\site-packages\\transformers\\models\\deberta_v2\\modeling_deberta_v2.py:539: DeprecationWarning: `np.int` is a deprecated alias for the builtin `int`. To silence this warning, use `int` by itself. Doing this will not modify any behavior and is safe. When replacing `np.int`, you may wish to use e.g. `np.int64` or `np.int32` to specify the precision. If you wish to review your current use, check the release note link for additional information.\n",
      "Deprecated in NumPy 1.20; for more details and guidance: https://numpy.org/devdocs/release/1.20.0-notes.html#deprecations\n",
      "  bucket_pos = np.where(abs_pos <= mid, relative_pos, log_pos * sign).astype(np.int)\n"
     ]
    },
    {
     "name": "stdout",
     "output_type": "stream",
     "text": [
      "Example 0:  clean sterile and comfortable rooms great location near to attractions nice rooftop lounge professional \u001b[32m<staff:Positive(confidence:0.96, ref:Positive)>\u001b[0m  \n"
     ]
    },
    {
     "name": "stderr",
     "output_type": "stream",
     "text": [
      "C:\\Users\\mosha\\anaconda3\\lib\\site-packages\\transformers\\models\\deberta_v2\\modeling_deberta_v2.py:539: DeprecationWarning: `np.int` is a deprecated alias for the builtin `int`. To silence this warning, use `int` by itself. Doing this will not modify any behavior and is safe. When replacing `np.int`, you may wish to use e.g. `np.int64` or `np.int32` to specify the precision. If you wish to review your current use, check the release note link for additional information.\n",
      "Deprecated in NumPy 1.20; for more details and guidance: https://numpy.org/devdocs/release/1.20.0-notes.html#deprecations\n",
      "  bucket_pos = np.where(abs_pos <= mid, relative_pos, log_pos * sign).astype(np.int)\n"
     ]
    },
    {
     "name": "stdout",
     "output_type": "stream",
     "text": [
      "Example 0:  the \u001b[32m<room:Negative(confidence:0.787, ref:Negative)>\u001b[0m smelled of smoke but was clean we arrived from our flight late sowe're too tired to complain the window view was awful when we opened curtains it looked onto a side building and lots of empty plastic bottles laying outside the window however we got good price so we only went to sleep there after long flight \n"
     ]
    },
    {
     "name": "stderr",
     "output_type": "stream",
     "text": [
      "C:\\Users\\mosha\\anaconda3\\lib\\site-packages\\transformers\\models\\deberta_v2\\modeling_deberta_v2.py:539: DeprecationWarning: `np.int` is a deprecated alias for the builtin `int`. To silence this warning, use `int` by itself. Doing this will not modify any behavior and is safe. When replacing `np.int`, you may wish to use e.g. `np.int64` or `np.int32` to specify the precision. If you wish to review your current use, check the release note link for additional information.\n",
      "Deprecated in NumPy 1.20; for more details and guidance: https://numpy.org/devdocs/release/1.20.0-notes.html#deprecations\n",
      "  bucket_pos = np.where(abs_pos <= mid, relative_pos, log_pos * sign).astype(np.int)\n"
     ]
    },
    {
     "name": "stdout",
     "output_type": "stream",
     "text": [
      "Example 0:  the room smelled of smoke but was clean we arrived from our flight late sowe're too tired to complain the window \u001b[32m<view:Negative(confidence:0.709, ref:Negative)>\u001b[0m was awful when we opened curtains it looked onto a side building and lots of empty plastic bottles laying outside the window however we got good price so we only went to sleep there after long flight \n"
     ]
    },
    {
     "name": "stderr",
     "output_type": "stream",
     "text": [
      "C:\\Users\\mosha\\anaconda3\\lib\\site-packages\\transformers\\models\\deberta_v2\\modeling_deberta_v2.py:539: DeprecationWarning: `np.int` is a deprecated alias for the builtin `int`. To silence this warning, use `int` by itself. Doing this will not modify any behavior and is safe. When replacing `np.int`, you may wish to use e.g. `np.int64` or `np.int32` to specify the precision. If you wish to review your current use, check the release note link for additional information.\n",
      "Deprecated in NumPy 1.20; for more details and guidance: https://numpy.org/devdocs/release/1.20.0-notes.html#deprecations\n",
      "  bucket_pos = np.where(abs_pos <= mid, relative_pos, log_pos * sign).astype(np.int)\n"
     ]
    },
    {
     "name": "stdout",
     "output_type": "stream",
     "text": [
      "Example 0:  the room smelled of smoke but was clean we arrived from our flight late sowe're too tired to complain the window view was awful when we opened curtains it looked onto a side building and lots of empty plastic bottles laying outside the window however we got good \u001b[31m<price:Negative(confidence:0.739, ref:Positive)>\u001b[0m so we only went to sleep there after long flight \n"
     ]
    },
    {
     "name": "stderr",
     "output_type": "stream",
     "text": [
      "C:\\Users\\mosha\\anaconda3\\lib\\site-packages\\transformers\\models\\deberta_v2\\modeling_deberta_v2.py:539: DeprecationWarning: `np.int` is a deprecated alias for the builtin `int`. To silence this warning, use `int` by itself. Doing this will not modify any behavior and is safe. When replacing `np.int`, you may wish to use e.g. `np.int64` or `np.int32` to specify the precision. If you wish to review your current use, check the release note link for additional information.\n",
      "Deprecated in NumPy 1.20; for more details and guidance: https://numpy.org/devdocs/release/1.20.0-notes.html#deprecations\n",
      "  bucket_pos = np.where(abs_pos <= mid, relative_pos, log_pos * sign).astype(np.int)\n"
     ]
    },
    {
     "name": "stdout",
     "output_type": "stream",
     "text": [
      "Example 0:  the \u001b[31m<rug:Positive(confidence:0.928, ref:Negative)>\u001b[0m and the two chairs had bleach marks the lamp cover is falling off the entire establishment had a smoke smellalso, the hotel was a bit stuffy \n"
     ]
    },
    {
     "name": "stderr",
     "output_type": "stream",
     "text": [
      "C:\\Users\\mosha\\anaconda3\\lib\\site-packages\\transformers\\models\\deberta_v2\\modeling_deberta_v2.py:539: DeprecationWarning: `np.int` is a deprecated alias for the builtin `int`. To silence this warning, use `int` by itself. Doing this will not modify any behavior and is safe. When replacing `np.int`, you may wish to use e.g. `np.int64` or `np.int32` to specify the precision. If you wish to review your current use, check the release note link for additional information.\n",
      "Deprecated in NumPy 1.20; for more details and guidance: https://numpy.org/devdocs/release/1.20.0-notes.html#deprecations\n",
      "  bucket_pos = np.where(abs_pos <= mid, relative_pos, log_pos * sign).astype(np.int)\n"
     ]
    },
    {
     "name": "stdout",
     "output_type": "stream",
     "text": [
      "Example 0:  the rug and the two \u001b[31m<chairs:Positive(confidence:0.844, ref:Negative)>\u001b[0m had bleach marks the lamp cover is falling off the entire establishment had a smoke smellalso, the hotel was a bit stuffy \n"
     ]
    },
    {
     "name": "stderr",
     "output_type": "stream",
     "text": [
      "C:\\Users\\mosha\\anaconda3\\lib\\site-packages\\transformers\\models\\deberta_v2\\modeling_deberta_v2.py:539: DeprecationWarning: `np.int` is a deprecated alias for the builtin `int`. To silence this warning, use `int` by itself. Doing this will not modify any behavior and is safe. When replacing `np.int`, you may wish to use e.g. `np.int64` or `np.int32` to specify the precision. If you wish to review your current use, check the release note link for additional information.\n",
      "Deprecated in NumPy 1.20; for more details and guidance: https://numpy.org/devdocs/release/1.20.0-notes.html#deprecations\n",
      "  bucket_pos = np.where(abs_pos <= mid, relative_pos, log_pos * sign).astype(np.int)\n"
     ]
    },
    {
     "name": "stdout",
     "output_type": "stream",
     "text": [
      "Example 0:  the rug and the two chairs had bleach marks the lamp cover is falling off the entire \u001b[31m<establishment:Positive(confidence:0.85, ref:Negative)>\u001b[0m had a smoke smellalso, the hotel was a bit stuffy \n"
     ]
    },
    {
     "name": "stderr",
     "output_type": "stream",
     "text": [
      "C:\\Users\\mosha\\anaconda3\\lib\\site-packages\\transformers\\models\\deberta_v2\\modeling_deberta_v2.py:539: DeprecationWarning: `np.int` is a deprecated alias for the builtin `int`. To silence this warning, use `int` by itself. Doing this will not modify any behavior and is safe. When replacing `np.int`, you may wish to use e.g. `np.int64` or `np.int32` to specify the precision. If you wish to review your current use, check the release note link for additional information.\n",
      "Deprecated in NumPy 1.20; for more details and guidance: https://numpy.org/devdocs/release/1.20.0-notes.html#deprecations\n",
      "  bucket_pos = np.where(abs_pos <= mid, relative_pos, log_pos * sign).astype(np.int)\n"
     ]
    },
    {
     "name": "stdout",
     "output_type": "stream",
     "text": [
      "Example 0:  the rug and the two chairs had bleach marks the lamp cover is falling off the entire establishment had a smoke smellalso, the \u001b[31m<hotel:Positive(confidence:0.905, ref:Negative)>\u001b[0m was a bit stuffy \n"
     ]
    },
    {
     "name": "stderr",
     "output_type": "stream",
     "text": [
      "C:\\Users\\mosha\\anaconda3\\lib\\site-packages\\transformers\\models\\deberta_v2\\modeling_deberta_v2.py:539: DeprecationWarning: `np.int` is a deprecated alias for the builtin `int`. To silence this warning, use `int` by itself. Doing this will not modify any behavior and is safe. When replacing `np.int`, you may wish to use e.g. `np.int64` or `np.int32` to specify the precision. If you wish to review your current use, check the release note link for additional information.\n",
      "Deprecated in NumPy 1.20; for more details and guidance: https://numpy.org/devdocs/release/1.20.0-notes.html#deprecations\n",
      "  bucket_pos = np.where(abs_pos <= mid, relative_pos, log_pos * sign).astype(np.int)\n"
     ]
    },
    {
     "name": "stdout",
     "output_type": "stream",
     "text": [
      "Example 0:  charged me 400 riyals saying they do not have change \u001b[32m<reception staff:Negative(confidence:0.954, ref:Negative)>\u001b[0m was not friendly second card for door not working room air conditioning was set up on 23c you can not change manually room long and narrow \n"
     ]
    },
    {
     "name": "stderr",
     "output_type": "stream",
     "text": [
      "C:\\Users\\mosha\\anaconda3\\lib\\site-packages\\transformers\\models\\deberta_v2\\modeling_deberta_v2.py:539: DeprecationWarning: `np.int` is a deprecated alias for the builtin `int`. To silence this warning, use `int` by itself. Doing this will not modify any behavior and is safe. When replacing `np.int`, you may wish to use e.g. `np.int64` or `np.int32` to specify the precision. If you wish to review your current use, check the release note link for additional information.\n",
      "Deprecated in NumPy 1.20; for more details and guidance: https://numpy.org/devdocs/release/1.20.0-notes.html#deprecations\n",
      "  bucket_pos = np.where(abs_pos <= mid, relative_pos, log_pos * sign).astype(np.int)\n"
     ]
    },
    {
     "name": "stdout",
     "output_type": "stream",
     "text": [
      "Example 0:  charged me 400 riyals saying they do not have change reception staff was not friendly second \u001b[32m<card:Negative(confidence:0.958, ref:Negative)>\u001b[0m for door not working room air conditioning was set up on 23c you can not change manually room long and narrow \n"
     ]
    },
    {
     "name": "stderr",
     "output_type": "stream",
     "text": [
      "C:\\Users\\mosha\\anaconda3\\lib\\site-packages\\transformers\\models\\deberta_v2\\modeling_deberta_v2.py:539: DeprecationWarning: `np.int` is a deprecated alias for the builtin `int`. To silence this warning, use `int` by itself. Doing this will not modify any behavior and is safe. When replacing `np.int`, you may wish to use e.g. `np.int64` or `np.int32` to specify the precision. If you wish to review your current use, check the release note link for additional information.\n",
      "Deprecated in NumPy 1.20; for more details and guidance: https://numpy.org/devdocs/release/1.20.0-notes.html#deprecations\n",
      "  bucket_pos = np.where(abs_pos <= mid, relative_pos, log_pos * sign).astype(np.int)\n"
     ]
    },
    {
     "name": "stdout",
     "output_type": "stream",
     "text": [
      "Example 0:  charged me 400 riyals saying they do not have change reception staff was not friendly second card for door not working room \u001b[32m<air conditioning:Negative(confidence:0.957, ref:Negative)>\u001b[0m was set up on 23c you can not change manually room long and narrow \n"
     ]
    },
    {
     "name": "stderr",
     "output_type": "stream",
     "text": [
      "C:\\Users\\mosha\\anaconda3\\lib\\site-packages\\transformers\\models\\deberta_v2\\modeling_deberta_v2.py:539: DeprecationWarning: `np.int` is a deprecated alias for the builtin `int`. To silence this warning, use `int` by itself. Doing this will not modify any behavior and is safe. When replacing `np.int`, you may wish to use e.g. `np.int64` or `np.int32` to specify the precision. If you wish to review your current use, check the release note link for additional information.\n",
      "Deprecated in NumPy 1.20; for more details and guidance: https://numpy.org/devdocs/release/1.20.0-notes.html#deprecations\n",
      "  bucket_pos = np.where(abs_pos <= mid, relative_pos, log_pos * sign).astype(np.int)\n"
     ]
    },
    {
     "name": "stdout",
     "output_type": "stream",
     "text": [
      "Example 0:  charged me 400 riyals saying they do not have change reception staff was not friendly second card for door not working \u001b[32m<room:Negative(confidence:0.951, ref:Negative)>\u001b[0m air conditioning was set up on 23c you can not change manually \u001b[32m<room:Negative(confidence:0.951, ref:Negative)>\u001b[0m long and narrow \n"
     ]
    },
    {
     "name": "stderr",
     "output_type": "stream",
     "text": [
      "C:\\Users\\mosha\\anaconda3\\lib\\site-packages\\transformers\\models\\deberta_v2\\modeling_deberta_v2.py:539: DeprecationWarning: `np.int` is a deprecated alias for the builtin `int`. To silence this warning, use `int` by itself. Doing this will not modify any behavior and is safe. When replacing `np.int`, you may wish to use e.g. `np.int64` or `np.int32` to specify the precision. If you wish to review your current use, check the release note link for additional information.\n",
      "Deprecated in NumPy 1.20; for more details and guidance: https://numpy.org/devdocs/release/1.20.0-notes.html#deprecations\n",
      "  bucket_pos = np.where(abs_pos <= mid, relative_pos, log_pos * sign).astype(np.int)\n"
     ]
    },
    {
     "name": "stdout",
     "output_type": "stream",
     "text": [
      "Example 0:  no hygenic and not cleaned \u001b[32m<carpet:Negative(confidence:0.885, ref:Negative)>\u001b[0m are dirty and main door not closingproperly, you have to fight \n"
     ]
    },
    {
     "name": "stderr",
     "output_type": "stream",
     "text": [
      "C:\\Users\\mosha\\anaconda3\\lib\\site-packages\\transformers\\models\\deberta_v2\\modeling_deberta_v2.py:539: DeprecationWarning: `np.int` is a deprecated alias for the builtin `int`. To silence this warning, use `int` by itself. Doing this will not modify any behavior and is safe. When replacing `np.int`, you may wish to use e.g. `np.int64` or `np.int32` to specify the precision. If you wish to review your current use, check the release note link for additional information.\n",
      "Deprecated in NumPy 1.20; for more details and guidance: https://numpy.org/devdocs/release/1.20.0-notes.html#deprecations\n",
      "  bucket_pos = np.where(abs_pos <= mid, relative_pos, log_pos * sign).astype(np.int)\n"
     ]
    },
    {
     "name": "stdout",
     "output_type": "stream",
     "text": [
      "Example 0:  no hygenic and not cleaned carpet are dirty and main \u001b[32m<door:Negative(confidence:0.904, ref:Negative)>\u001b[0m not closingproperly, you have to fight \n"
     ]
    },
    {
     "name": "stderr",
     "output_type": "stream",
     "text": [
      "C:\\Users\\mosha\\anaconda3\\lib\\site-packages\\transformers\\models\\deberta_v2\\modeling_deberta_v2.py:539: DeprecationWarning: `np.int` is a deprecated alias for the builtin `int`. To silence this warning, use `int` by itself. Doing this will not modify any behavior and is safe. When replacing `np.int`, you may wish to use e.g. `np.int64` or `np.int32` to specify the precision. If you wish to review your current use, check the release note link for additional information.\n",
      "Deprecated in NumPy 1.20; for more details and guidance: https://numpy.org/devdocs/release/1.20.0-notes.html#deprecations\n",
      "  bucket_pos = np.where(abs_pos <= mid, relative_pos, log_pos * sign).astype(np.int)\n"
     ]
    },
    {
     "name": "stdout",
     "output_type": "stream",
     "text": [
      "Example 0:  \u001b[32m<staff:Negative(confidence:0.961, ref:Negative)>\u001b[0m wasrude, hotel lift waiting time is ajoke! foodwasn't great if you can afford it book raffles or something a lot cheaper would be the same only thing good about the hotel is the location other thanthat'sit's a big waste of money paidï¿½8,000 for last 10 days of ramadan to also have no wifi at all in therooms, shocking to behonest! \n"
     ]
    },
    {
     "name": "stderr",
     "output_type": "stream",
     "text": [
      "C:\\Users\\mosha\\anaconda3\\lib\\site-packages\\transformers\\models\\deberta_v2\\modeling_deberta_v2.py:539: DeprecationWarning: `np.int` is a deprecated alias for the builtin `int`. To silence this warning, use `int` by itself. Doing this will not modify any behavior and is safe. When replacing `np.int`, you may wish to use e.g. `np.int64` or `np.int32` to specify the precision. If you wish to review your current use, check the release note link for additional information.\n",
      "Deprecated in NumPy 1.20; for more details and guidance: https://numpy.org/devdocs/release/1.20.0-notes.html#deprecations\n",
      "  bucket_pos = np.where(abs_pos <= mid, relative_pos, log_pos * sign).astype(np.int)\n"
     ]
    },
    {
     "name": "stdout",
     "output_type": "stream",
     "text": [
      "Example 0:  staff wasrude, hotel \u001b[32m<lift:Negative(confidence:0.955, ref:Negative)>\u001b[0m waiting time is ajoke! foodwasn't great if you can afford it book raffles or something a lot cheaper would be the same only thing good about the hotel is the location other thanthat'sit's a big waste of money paidï¿½8,000 for last 10 days of ramadan to also have no wifi at all in therooms, shocking to behonest! \n"
     ]
    },
    {
     "name": "stderr",
     "output_type": "stream",
     "text": [
      "C:\\Users\\mosha\\anaconda3\\lib\\site-packages\\transformers\\models\\deberta_v2\\modeling_deberta_v2.py:539: DeprecationWarning: `np.int` is a deprecated alias for the builtin `int`. To silence this warning, use `int` by itself. Doing this will not modify any behavior and is safe. When replacing `np.int`, you may wish to use e.g. `np.int64` or `np.int32` to specify the precision. If you wish to review your current use, check the release note link for additional information.\n",
      "Deprecated in NumPy 1.20; for more details and guidance: https://numpy.org/devdocs/release/1.20.0-notes.html#deprecations\n",
      "  bucket_pos = np.where(abs_pos <= mid, relative_pos, log_pos * sign).astype(np.int)\n"
     ]
    },
    {
     "name": "stdout",
     "output_type": "stream",
     "text": [
      "Example 0:  staff wasrude, hotel lift waiting time is ajoke! \u001b[32m<food:Negative(confidence:0.934, ref:Negative)>\u001b[0m wasn't great if you can afford it book raffles or something a lot cheaper would be the same only thing good about the hotel is the location other thanthat'sit's a big waste of money paidï¿½8,000 for last 10 days of ramadan to also have no wifi at all in therooms, shocking to behonest! \n"
     ]
    },
    {
     "name": "stderr",
     "output_type": "stream",
     "text": [
      "C:\\Users\\mosha\\anaconda3\\lib\\site-packages\\transformers\\models\\deberta_v2\\modeling_deberta_v2.py:539: DeprecationWarning: `np.int` is a deprecated alias for the builtin `int`. To silence this warning, use `int` by itself. Doing this will not modify any behavior and is safe. When replacing `np.int`, you may wish to use e.g. `np.int64` or `np.int32` to specify the precision. If you wish to review your current use, check the release note link for additional information.\n",
      "Deprecated in NumPy 1.20; for more details and guidance: https://numpy.org/devdocs/release/1.20.0-notes.html#deprecations\n",
      "  bucket_pos = np.where(abs_pos <= mid, relative_pos, log_pos * sign).astype(np.int)\n"
     ]
    },
    {
     "name": "stdout",
     "output_type": "stream",
     "text": [
      "Example 0:  staff wasrude, hotel lift waiting time is ajoke! foodwasn't great if you can afford it book raffles or something a lot cheaper would be the same only thing good about the hotel is the \u001b[31m<location:Negative(confidence:0.888, ref:Positive)>\u001b[0m other thanthat'sit's a big waste of money paidï¿½8,000 for last 10 days of ramadan to also have no wifi at all in therooms, shocking to behonest! \n"
     ]
    },
    {
     "name": "stderr",
     "output_type": "stream",
     "text": [
      "C:\\Users\\mosha\\anaconda3\\lib\\site-packages\\transformers\\models\\deberta_v2\\modeling_deberta_v2.py:539: DeprecationWarning: `np.int` is a deprecated alias for the builtin `int`. To silence this warning, use `int` by itself. Doing this will not modify any behavior and is safe. When replacing `np.int`, you may wish to use e.g. `np.int64` or `np.int32` to specify the precision. If you wish to review your current use, check the release note link for additional information.\n",
      "Deprecated in NumPy 1.20; for more details and guidance: https://numpy.org/devdocs/release/1.20.0-notes.html#deprecations\n",
      "  bucket_pos = np.where(abs_pos <= mid, relative_pos, log_pos * sign).astype(np.int)\n"
     ]
    },
    {
     "name": "stdout",
     "output_type": "stream",
     "text": [
      "Example 0:  staff wasrude, hotel lift waiting time is ajoke! foodwasn't great if you can afford it book raffles or something a lot cheaper would be the same only thing good about the hotel is the location other thanthat'sit's a big waste of money paidï¿½8,000 for last 10 days of ramadan to also have no \u001b[32m<wifi:Negative(confidence:0.892, ref:Negative)>\u001b[0m at all in therooms, shocking to behonest! \n"
     ]
    },
    {
     "name": "stderr",
     "output_type": "stream",
     "text": [
      "C:\\Users\\mosha\\anaconda3\\lib\\site-packages\\transformers\\models\\deberta_v2\\modeling_deberta_v2.py:539: DeprecationWarning: `np.int` is a deprecated alias for the builtin `int`. To silence this warning, use `int` by itself. Doing this will not modify any behavior and is safe. When replacing `np.int`, you may wish to use e.g. `np.int64` or `np.int32` to specify the precision. If you wish to review your current use, check the release note link for additional information.\n",
      "Deprecated in NumPy 1.20; for more details and guidance: https://numpy.org/devdocs/release/1.20.0-notes.html#deprecations\n",
      "  bucket_pos = np.where(abs_pos <= mid, relative_pos, log_pos * sign).astype(np.int)\n"
     ]
    },
    {
     "name": "stdout",
     "output_type": "stream",
     "text": [
      "Example 0:  no business center \u001b[32m<services:Negative(confidence:0.555, ref:Negative)>\u001b[0m despite its city center facility and most of guests are coming for work relatedtravels! i have made same comment 1 year back but unfortunately no action taken \n"
     ]
    },
    {
     "name": "stderr",
     "output_type": "stream",
     "text": [
      "C:\\Users\\mosha\\anaconda3\\lib\\site-packages\\transformers\\models\\deberta_v2\\modeling_deberta_v2.py:539: DeprecationWarning: `np.int` is a deprecated alias for the builtin `int`. To silence this warning, use `int` by itself. Doing this will not modify any behavior and is safe. When replacing `np.int`, you may wish to use e.g. `np.int64` or `np.int32` to specify the precision. If you wish to review your current use, check the release note link for additional information.\n",
      "Deprecated in NumPy 1.20; for more details and guidance: https://numpy.org/devdocs/release/1.20.0-notes.html#deprecations\n",
      "  bucket_pos = np.where(abs_pos <= mid, relative_pos, log_pos * sign).astype(np.int)\n"
     ]
    },
    {
     "name": "stdout",
     "output_type": "stream",
     "text": [
      "Example 0:  the \u001b[32m<place:Positive(confidence:0.846, ref:Positive)>\u001b[0m is great got treated really well specially the staff were really friendly nice and helpful thanks to mohmmed alshahrani and amerah alshehri \n"
     ]
    },
    {
     "name": "stderr",
     "output_type": "stream",
     "text": [
      "C:\\Users\\mosha\\anaconda3\\lib\\site-packages\\transformers\\models\\deberta_v2\\modeling_deberta_v2.py:539: DeprecationWarning: `np.int` is a deprecated alias for the builtin `int`. To silence this warning, use `int` by itself. Doing this will not modify any behavior and is safe. When replacing `np.int`, you may wish to use e.g. `np.int64` or `np.int32` to specify the precision. If you wish to review your current use, check the release note link for additional information.\n",
      "Deprecated in NumPy 1.20; for more details and guidance: https://numpy.org/devdocs/release/1.20.0-notes.html#deprecations\n",
      "  bucket_pos = np.where(abs_pos <= mid, relative_pos, log_pos * sign).astype(np.int)\n"
     ]
    },
    {
     "name": "stdout",
     "output_type": "stream",
     "text": [
      "Example 0:  the place is great got treated really well specially the \u001b[32m<staff:Positive(confidence:0.918, ref:Positive)>\u001b[0m were really friendly nice and helpful thanks to mohmmed alshahrani and amerah alshehri \n"
     ]
    }
   ],
   "source": [
    "\n",
    "with open('./apc_datasets/100.CustomDataset/custom.train.txt.inference', 'r') as f:\n",
    "    while True:\n",
    "        ex = f.readline()\n",
    "        if not ex:\n",
    "            break\n",
    "        result = sent_classifier.infer(ex, print_result = True)\n",
    "        all_result.at[i, 'aspect'] = result['aspect']\n",
    "        all_result.at[i, 'sentiment'] = result['sentiment']\n",
    "        all_result.at[i, 'ref_sentiment'] = ['' if ref == '-999' else ref for ref in result['ref_sentiment']]\n",
    "        all_result.at[i, 'is_correct'] = result['ref_check']\n",
    "        i+=1\n"
   ]
  },
  {
   "cell_type": "code",
   "execution_count": 33,
   "id": "9cc1b45c",
   "metadata": {},
   "outputs": [
    {
     "data": {
      "text/html": [
       "<div>\n",
       "<style scoped>\n",
       "    .dataframe tbody tr th:only-of-type {\n",
       "        vertical-align: middle;\n",
       "    }\n",
       "\n",
       "    .dataframe tbody tr th {\n",
       "        vertical-align: top;\n",
       "    }\n",
       "\n",
       "    .dataframe thead th {\n",
       "        text-align: right;\n",
       "    }\n",
       "</style>\n",
       "<table border=\"1\" class=\"dataframe\">\n",
       "  <thead>\n",
       "    <tr style=\"text-align: right;\">\n",
       "      <th></th>\n",
       "      <th>aspect</th>\n",
       "      <th>sentiment</th>\n",
       "      <th>ref_sentiment</th>\n",
       "      <th>is_correct</th>\n",
       "    </tr>\n",
       "  </thead>\n",
       "  <tbody>\n",
       "    <tr>\n",
       "      <th>0</th>\n",
       "      <td>[staff]</td>\n",
       "      <td>[Positive]</td>\n",
       "      <td>[Positive]</td>\n",
       "      <td>[Correct]</td>\n",
       "    </tr>\n",
       "    <tr>\n",
       "      <th>1</th>\n",
       "      <td>[shuttle service]</td>\n",
       "      <td>[Positive]</td>\n",
       "      <td>[Positive]</td>\n",
       "      <td>[Correct]</td>\n",
       "    </tr>\n",
       "    <tr>\n",
       "      <th>2</th>\n",
       "      <td>[breakfast]</td>\n",
       "      <td>[Positive]</td>\n",
       "      <td>[Positive]</td>\n",
       "      <td>[Correct]</td>\n",
       "    </tr>\n",
       "    <tr>\n",
       "      <th>3</th>\n",
       "      <td>[room]</td>\n",
       "      <td>[Positive]</td>\n",
       "      <td>[Positive]</td>\n",
       "      <td>[Correct]</td>\n",
       "    </tr>\n",
       "    <tr>\n",
       "      <th>4</th>\n",
       "      <td>[toilets]</td>\n",
       "      <td>[Positive]</td>\n",
       "      <td>[Negative]</td>\n",
       "      <td>[Wrong]</td>\n",
       "    </tr>\n",
       "    <tr>\n",
       "      <th>...</th>\n",
       "      <td>...</td>\n",
       "      <td>...</td>\n",
       "      <td>...</td>\n",
       "      <td>...</td>\n",
       "    </tr>\n",
       "    <tr>\n",
       "      <th>272</th>\n",
       "      <td>[location]</td>\n",
       "      <td>[Negative]</td>\n",
       "      <td>[Positive]</td>\n",
       "      <td>[Wrong]</td>\n",
       "    </tr>\n",
       "    <tr>\n",
       "      <th>273</th>\n",
       "      <td>[wifi]</td>\n",
       "      <td>[Negative]</td>\n",
       "      <td>[Negative]</td>\n",
       "      <td>[Correct]</td>\n",
       "    </tr>\n",
       "    <tr>\n",
       "      <th>274</th>\n",
       "      <td>[services]</td>\n",
       "      <td>[Negative]</td>\n",
       "      <td>[Negative]</td>\n",
       "      <td>[Correct]</td>\n",
       "    </tr>\n",
       "    <tr>\n",
       "      <th>275</th>\n",
       "      <td>[place]</td>\n",
       "      <td>[Positive]</td>\n",
       "      <td>[Positive]</td>\n",
       "      <td>[Correct]</td>\n",
       "    </tr>\n",
       "    <tr>\n",
       "      <th>276</th>\n",
       "      <td>[staff]</td>\n",
       "      <td>[Positive]</td>\n",
       "      <td>[Positive]</td>\n",
       "      <td>[Correct]</td>\n",
       "    </tr>\n",
       "  </tbody>\n",
       "</table>\n",
       "<p>277 rows × 4 columns</p>\n",
       "</div>"
      ],
      "text/plain": [
       "                aspect   sentiment ref_sentiment is_correct\n",
       "0              [staff]  [Positive]    [Positive]  [Correct]\n",
       "1    [shuttle service]  [Positive]    [Positive]  [Correct]\n",
       "2          [breakfast]  [Positive]    [Positive]  [Correct]\n",
       "3               [room]  [Positive]    [Positive]  [Correct]\n",
       "4            [toilets]  [Positive]    [Negative]    [Wrong]\n",
       "..                 ...         ...           ...        ...\n",
       "272         [location]  [Negative]    [Positive]    [Wrong]\n",
       "273             [wifi]  [Negative]    [Negative]  [Correct]\n",
       "274         [services]  [Negative]    [Negative]  [Correct]\n",
       "275            [place]  [Positive]    [Positive]  [Correct]\n",
       "276            [staff]  [Positive]    [Positive]  [Correct]\n",
       "\n",
       "[277 rows x 4 columns]"
      ]
     },
     "execution_count": 33,
     "metadata": {},
     "output_type": "execute_result"
    }
   ],
   "source": [
    "all_result"
   ]
  }
 ],
 "metadata": {
  "colab": {
   "collapsed_sections": [],
   "provenance": []
  },
  "kernelspec": {
   "display_name": "Python 3 (ipykernel)",
   "language": "python",
   "name": "python3"
  },
  "language_info": {
   "codemirror_mode": {
    "name": "ipython",
    "version": 3
   },
   "file_extension": ".py",
   "mimetype": "text/x-python",
   "name": "python",
   "nbconvert_exporter": "python",
   "pygments_lexer": "ipython3",
   "version": "3.9.12"
  }
 },
 "nbformat": 4,
 "nbformat_minor": 5
}
